{
 "cells": [
  {
   "cell_type": "markdown",
   "metadata": {
    "id": "pR75B1eunA-g",
    "tags": []
   },
   "source": [
    "# Python: pandas DataFrames"
   ]
  },
  {
   "cell_type": "markdown",
   "metadata": {
    "id": "JfEGslpNnA-h"
   },
   "source": [
    "## The pandas DataFrame"
   ]
  },
  {
   "cell_type": "markdown",
   "metadata": {
    "id": "GeLt0BNGnA-i"
   },
   "source": [
    "In data analysis, `DataFrames` are used most frequently. These are available via the `pandas` library.  \n",
    "**Task:** Execute the following cells and observe the result."
   ]
  },
  {
   "cell_type": "code",
   "execution_count": 1,
   "metadata": {
    "id": "6aV9IxFYnA-i"
   },
   "outputs": [
    {
     "data": {
      "application/vnd.microsoft.datawrangler.viewer.v0+json": {
       "columns": [
        {
         "name": "index",
         "rawType": "int64",
         "type": "integer"
        },
        {
         "name": "zeroth_column",
         "rawType": "int64",
         "type": "integer"
        },
        {
         "name": "first_column",
         "rawType": "int64",
         "type": "integer"
        },
        {
         "name": "second_column",
         "rawType": "int64",
         "type": "integer"
        },
        {
         "name": "third_column",
         "rawType": "int64",
         "type": "integer"
        }
       ],
       "ref": "4c74757c-d6eb-4933-a190-106b76de6d45",
       "rows": [
        [
         "0",
         "0",
         "1",
         "2",
         "3"
        ],
        [
         "1",
         "4",
         "5",
         "6",
         "7"
        ],
        [
         "2",
         "8",
         "9",
         "10",
         "11"
        ]
       ],
       "shape": {
        "columns": 4,
        "rows": 3
       }
      },
      "text/html": [
       "<div>\n",
       "<style scoped>\n",
       "    .dataframe tbody tr th:only-of-type {\n",
       "        vertical-align: middle;\n",
       "    }\n",
       "\n",
       "    .dataframe tbody tr th {\n",
       "        vertical-align: top;\n",
       "    }\n",
       "\n",
       "    .dataframe thead th {\n",
       "        text-align: right;\n",
       "    }\n",
       "</style>\n",
       "<table border=\"1\" class=\"dataframe\">\n",
       "  <thead>\n",
       "    <tr style=\"text-align: right;\">\n",
       "      <th></th>\n",
       "      <th>zeroth_column</th>\n",
       "      <th>first_column</th>\n",
       "      <th>second_column</th>\n",
       "      <th>third_column</th>\n",
       "    </tr>\n",
       "  </thead>\n",
       "  <tbody>\n",
       "    <tr>\n",
       "      <th>0</th>\n",
       "      <td>0</td>\n",
       "      <td>1</td>\n",
       "      <td>2</td>\n",
       "      <td>3</td>\n",
       "    </tr>\n",
       "    <tr>\n",
       "      <th>1</th>\n",
       "      <td>4</td>\n",
       "      <td>5</td>\n",
       "      <td>6</td>\n",
       "      <td>7</td>\n",
       "    </tr>\n",
       "    <tr>\n",
       "      <th>2</th>\n",
       "      <td>8</td>\n",
       "      <td>9</td>\n",
       "      <td>10</td>\n",
       "      <td>11</td>\n",
       "    </tr>\n",
       "  </tbody>\n",
       "</table>\n",
       "</div>"
      ],
      "text/plain": [
       "   zeroth_column  first_column  second_column  third_column\n",
       "0              0             1              2             3\n",
       "1              4             5              6             7\n",
       "2              8             9             10            11"
      ]
     },
     "execution_count": 1,
     "metadata": {},
     "output_type": "execute_result"
    }
   ],
   "source": [
    "# First, pandas is imported and renamed to 'pd'. This is common to save typing.\n",
    "import pandas as pd\n",
    "\n",
    "# Then a two-dimensional list is created and assigned to the variable X\n",
    "X = [[0, 1, 2, 3], [4, 5, 6, 7], [8, 9, 10, 11]]\n",
    "\n",
    "# Finally, the two-dimensional list is converted into a DataFrame.\n",
    "df = pd.DataFrame(X, columns=['zeroth_column', 'first_column', 'second_column', 'third_column'])\n",
    "\n",
    "df"
   ]
  },
  {
   "cell_type": "markdown",
   "metadata": {
    "id": "JYUhkVCvnA-j"
   },
   "source": [
    "We can also add a new row or a new column to the DataFrame:"
   ]
  },
  {
   "cell_type": "code",
   "execution_count": 2,
   "metadata": {
    "id": "LSDFlQaRnA-j"
   },
   "outputs": [
    {
     "data": {
      "application/vnd.microsoft.datawrangler.viewer.v0+json": {
       "columns": [
        {
         "name": "index",
         "rawType": "int64",
         "type": "integer"
        },
        {
         "name": "zeroth_column",
         "rawType": "int64",
         "type": "integer"
        },
        {
         "name": "first_column",
         "rawType": "int64",
         "type": "integer"
        },
        {
         "name": "second_column",
         "rawType": "int64",
         "type": "integer"
        },
        {
         "name": "third_column",
         "rawType": "int64",
         "type": "integer"
        }
       ],
       "ref": "47f9c752-24b8-4ba4-851c-0d69dc879a07",
       "rows": [
        [
         "0",
         "0",
         "1",
         "2",
         "3"
        ],
        [
         "1",
         "4",
         "5",
         "6",
         "7"
        ],
        [
         "2",
         "8",
         "9",
         "10",
         "11"
        ],
        [
         "3",
         "12",
         "13",
         "14",
         "15"
        ]
       ],
       "shape": {
        "columns": 4,
        "rows": 4
       }
      },
      "text/html": [
       "<div>\n",
       "<style scoped>\n",
       "    .dataframe tbody tr th:only-of-type {\n",
       "        vertical-align: middle;\n",
       "    }\n",
       "\n",
       "    .dataframe tbody tr th {\n",
       "        vertical-align: top;\n",
       "    }\n",
       "\n",
       "    .dataframe thead th {\n",
       "        text-align: right;\n",
       "    }\n",
       "</style>\n",
       "<table border=\"1\" class=\"dataframe\">\n",
       "  <thead>\n",
       "    <tr style=\"text-align: right;\">\n",
       "      <th></th>\n",
       "      <th>zeroth_column</th>\n",
       "      <th>first_column</th>\n",
       "      <th>second_column</th>\n",
       "      <th>third_column</th>\n",
       "    </tr>\n",
       "  </thead>\n",
       "  <tbody>\n",
       "    <tr>\n",
       "      <th>0</th>\n",
       "      <td>0</td>\n",
       "      <td>1</td>\n",
       "      <td>2</td>\n",
       "      <td>3</td>\n",
       "    </tr>\n",
       "    <tr>\n",
       "      <th>1</th>\n",
       "      <td>4</td>\n",
       "      <td>5</td>\n",
       "      <td>6</td>\n",
       "      <td>7</td>\n",
       "    </tr>\n",
       "    <tr>\n",
       "      <th>2</th>\n",
       "      <td>8</td>\n",
       "      <td>9</td>\n",
       "      <td>10</td>\n",
       "      <td>11</td>\n",
       "    </tr>\n",
       "    <tr>\n",
       "      <th>3</th>\n",
       "      <td>12</td>\n",
       "      <td>13</td>\n",
       "      <td>14</td>\n",
       "      <td>15</td>\n",
       "    </tr>\n",
       "  </tbody>\n",
       "</table>\n",
       "</div>"
      ],
      "text/plain": [
       "   zeroth_column  first_column  second_column  third_column\n",
       "0              0             1              2             3\n",
       "1              4             5              6             7\n",
       "2              8             9             10            11\n",
       "3             12            13             14            15"
      ]
     },
     "execution_count": 2,
     "metadata": {},
     "output_type": "execute_result"
    }
   ],
   "source": [
    "# insert new row with index '3'\n",
    "df.loc[3] = [12, 13, 14, 15]\n",
    "df"
   ]
  },
  {
   "cell_type": "code",
   "execution_count": 3,
   "metadata": {
    "id": "GasUAWHrnA-j"
   },
   "outputs": [
    {
     "data": {
      "application/vnd.microsoft.datawrangler.viewer.v0+json": {
       "columns": [
        {
         "name": "index",
         "rawType": "int64",
         "type": "integer"
        },
        {
         "name": "zeroth_column",
         "rawType": "int64",
         "type": "integer"
        },
        {
         "name": "first_column",
         "rawType": "int64",
         "type": "integer"
        },
        {
         "name": "second_column",
         "rawType": "int64",
         "type": "integer"
        },
        {
         "name": "third_column",
         "rawType": "int64",
         "type": "integer"
        },
        {
         "name": "fourth_column",
         "rawType": "int64",
         "type": "integer"
        }
       ],
       "ref": "29e69275-af09-45d3-9b1d-061adf4afdc0",
       "rows": [
        [
         "0",
         "0",
         "1",
         "2",
         "3",
         "16"
        ],
        [
         "1",
         "4",
         "5",
         "6",
         "7",
         "17"
        ],
        [
         "2",
         "8",
         "9",
         "10",
         "11",
         "18"
        ],
        [
         "3",
         "12",
         "13",
         "14",
         "15",
         "19"
        ]
       ],
       "shape": {
        "columns": 5,
        "rows": 4
       }
      },
      "text/html": [
       "<div>\n",
       "<style scoped>\n",
       "    .dataframe tbody tr th:only-of-type {\n",
       "        vertical-align: middle;\n",
       "    }\n",
       "\n",
       "    .dataframe tbody tr th {\n",
       "        vertical-align: top;\n",
       "    }\n",
       "\n",
       "    .dataframe thead th {\n",
       "        text-align: right;\n",
       "    }\n",
       "</style>\n",
       "<table border=\"1\" class=\"dataframe\">\n",
       "  <thead>\n",
       "    <tr style=\"text-align: right;\">\n",
       "      <th></th>\n",
       "      <th>zeroth_column</th>\n",
       "      <th>first_column</th>\n",
       "      <th>second_column</th>\n",
       "      <th>third_column</th>\n",
       "      <th>fourth_column</th>\n",
       "    </tr>\n",
       "  </thead>\n",
       "  <tbody>\n",
       "    <tr>\n",
       "      <th>0</th>\n",
       "      <td>0</td>\n",
       "      <td>1</td>\n",
       "      <td>2</td>\n",
       "      <td>3</td>\n",
       "      <td>16</td>\n",
       "    </tr>\n",
       "    <tr>\n",
       "      <th>1</th>\n",
       "      <td>4</td>\n",
       "      <td>5</td>\n",
       "      <td>6</td>\n",
       "      <td>7</td>\n",
       "      <td>17</td>\n",
       "    </tr>\n",
       "    <tr>\n",
       "      <th>2</th>\n",
       "      <td>8</td>\n",
       "      <td>9</td>\n",
       "      <td>10</td>\n",
       "      <td>11</td>\n",
       "      <td>18</td>\n",
       "    </tr>\n",
       "    <tr>\n",
       "      <th>3</th>\n",
       "      <td>12</td>\n",
       "      <td>13</td>\n",
       "      <td>14</td>\n",
       "      <td>15</td>\n",
       "      <td>19</td>\n",
       "    </tr>\n",
       "  </tbody>\n",
       "</table>\n",
       "</div>"
      ],
      "text/plain": [
       "   zeroth_column  first_column  second_column  third_column  fourth_column\n",
       "0              0             1              2             3             16\n",
       "1              4             5              6             7             17\n",
       "2              8             9             10            11             18\n",
       "3             12            13             14            15             19"
      ]
     },
     "execution_count": 3,
     "metadata": {},
     "output_type": "execute_result"
    }
   ],
   "source": [
    "# insert new column with name 'fourth_column'\n",
    "df['fourth_column'] = [16, 17, 18, 19]\n",
    "df"
   ]
  },
  {
   "cell_type": "markdown",
   "metadata": {
    "id": "BBDBCt6qnA-j"
   },
   "source": [
    "**Task:**"
   ]
  },
  {
   "cell_type": "markdown",
   "metadata": {
    "id": "IDI2kpO1nA-j"
   },
   "source": [
    "1. Add another row to the DataFrame `df` with the numbers 20 to 24 as values. Display the resulting DataFrame afterwards."
   ]
  },
  {
   "cell_type": "code",
   "execution_count": 4,
   "metadata": {},
   "outputs": [
    {
     "data": {
      "application/vnd.microsoft.datawrangler.viewer.v0+json": {
       "columns": [
        {
         "name": "index",
         "rawType": "int64",
         "type": "integer"
        },
        {
         "name": "zeroth_column",
         "rawType": "int64",
         "type": "integer"
        },
        {
         "name": "first_column",
         "rawType": "int64",
         "type": "integer"
        },
        {
         "name": "second_column",
         "rawType": "int64",
         "type": "integer"
        },
        {
         "name": "third_column",
         "rawType": "int64",
         "type": "integer"
        },
        {
         "name": "fourth_column",
         "rawType": "int64",
         "type": "integer"
        }
       ],
       "ref": "9b10ca59-bc12-42b3-894c-c1c5745e4108",
       "rows": [
        [
         "0",
         "0",
         "1",
         "2",
         "3",
         "16"
        ],
        [
         "1",
         "4",
         "5",
         "6",
         "7",
         "17"
        ],
        [
         "2",
         "8",
         "9",
         "10",
         "11",
         "18"
        ],
        [
         "3",
         "12",
         "13",
         "14",
         "15",
         "19"
        ],
        [
         "4",
         "20",
         "21",
         "22",
         "23",
         "24"
        ]
       ],
       "shape": {
        "columns": 5,
        "rows": 5
       }
      },
      "text/html": [
       "<div>\n",
       "<style scoped>\n",
       "    .dataframe tbody tr th:only-of-type {\n",
       "        vertical-align: middle;\n",
       "    }\n",
       "\n",
       "    .dataframe tbody tr th {\n",
       "        vertical-align: top;\n",
       "    }\n",
       "\n",
       "    .dataframe thead th {\n",
       "        text-align: right;\n",
       "    }\n",
       "</style>\n",
       "<table border=\"1\" class=\"dataframe\">\n",
       "  <thead>\n",
       "    <tr style=\"text-align: right;\">\n",
       "      <th></th>\n",
       "      <th>zeroth_column</th>\n",
       "      <th>first_column</th>\n",
       "      <th>second_column</th>\n",
       "      <th>third_column</th>\n",
       "      <th>fourth_column</th>\n",
       "    </tr>\n",
       "  </thead>\n",
       "  <tbody>\n",
       "    <tr>\n",
       "      <th>0</th>\n",
       "      <td>0</td>\n",
       "      <td>1</td>\n",
       "      <td>2</td>\n",
       "      <td>3</td>\n",
       "      <td>16</td>\n",
       "    </tr>\n",
       "    <tr>\n",
       "      <th>1</th>\n",
       "      <td>4</td>\n",
       "      <td>5</td>\n",
       "      <td>6</td>\n",
       "      <td>7</td>\n",
       "      <td>17</td>\n",
       "    </tr>\n",
       "    <tr>\n",
       "      <th>2</th>\n",
       "      <td>8</td>\n",
       "      <td>9</td>\n",
       "      <td>10</td>\n",
       "      <td>11</td>\n",
       "      <td>18</td>\n",
       "    </tr>\n",
       "    <tr>\n",
       "      <th>3</th>\n",
       "      <td>12</td>\n",
       "      <td>13</td>\n",
       "      <td>14</td>\n",
       "      <td>15</td>\n",
       "      <td>19</td>\n",
       "    </tr>\n",
       "    <tr>\n",
       "      <th>4</th>\n",
       "      <td>20</td>\n",
       "      <td>21</td>\n",
       "      <td>22</td>\n",
       "      <td>23</td>\n",
       "      <td>24</td>\n",
       "    </tr>\n",
       "  </tbody>\n",
       "</table>\n",
       "</div>"
      ],
      "text/plain": [
       "   zeroth_column  first_column  second_column  third_column  fourth_column\n",
       "0              0             1              2             3             16\n",
       "1              4             5              6             7             17\n",
       "2              8             9             10            11             18\n",
       "3             12            13             14            15             19\n",
       "4             20            21             22            23             24"
      ]
     },
     "execution_count": 4,
     "metadata": {},
     "output_type": "execute_result"
    }
   ],
   "source": [
    "df.loc[4] = [20, 21, 22 ,23 ,24]\n",
    "df"
   ]
  },
  {
   "cell_type": "markdown",
   "metadata": {
    "id": "n4xc9iQDnA-k"
   },
   "source": [
    "2. Add another column to the DataFrame `df` with the numbers 25 to 29 as values. Display the resulting DataFrame afterwards."
   ]
  },
  {
   "cell_type": "code",
   "execution_count": 5,
   "metadata": {},
   "outputs": [
    {
     "data": {
      "application/vnd.microsoft.datawrangler.viewer.v0+json": {
       "columns": [
        {
         "name": "index",
         "rawType": "int64",
         "type": "integer"
        },
        {
         "name": "zeroth_column",
         "rawType": "int64",
         "type": "integer"
        },
        {
         "name": "first_column",
         "rawType": "int64",
         "type": "integer"
        },
        {
         "name": "second_column",
         "rawType": "int64",
         "type": "integer"
        },
        {
         "name": "third_column",
         "rawType": "int64",
         "type": "integer"
        },
        {
         "name": "fourth_column",
         "rawType": "int64",
         "type": "integer"
        },
        {
         "name": "fifth_column",
         "rawType": "int64",
         "type": "integer"
        }
       ],
       "ref": "22c1ba15-d886-471b-9f99-bd9753210efb",
       "rows": [
        [
         "0",
         "0",
         "1",
         "2",
         "3",
         "16",
         "25"
        ],
        [
         "1",
         "4",
         "5",
         "6",
         "7",
         "17",
         "26"
        ],
        [
         "2",
         "8",
         "9",
         "10",
         "11",
         "18",
         "27"
        ],
        [
         "3",
         "12",
         "13",
         "14",
         "15",
         "19",
         "28"
        ],
        [
         "4",
         "20",
         "21",
         "22",
         "23",
         "24",
         "29"
        ]
       ],
       "shape": {
        "columns": 6,
        "rows": 5
       }
      },
      "text/html": [
       "<div>\n",
       "<style scoped>\n",
       "    .dataframe tbody tr th:only-of-type {\n",
       "        vertical-align: middle;\n",
       "    }\n",
       "\n",
       "    .dataframe tbody tr th {\n",
       "        vertical-align: top;\n",
       "    }\n",
       "\n",
       "    .dataframe thead th {\n",
       "        text-align: right;\n",
       "    }\n",
       "</style>\n",
       "<table border=\"1\" class=\"dataframe\">\n",
       "  <thead>\n",
       "    <tr style=\"text-align: right;\">\n",
       "      <th></th>\n",
       "      <th>zeroth_column</th>\n",
       "      <th>first_column</th>\n",
       "      <th>second_column</th>\n",
       "      <th>third_column</th>\n",
       "      <th>fourth_column</th>\n",
       "      <th>fifth_column</th>\n",
       "    </tr>\n",
       "  </thead>\n",
       "  <tbody>\n",
       "    <tr>\n",
       "      <th>0</th>\n",
       "      <td>0</td>\n",
       "      <td>1</td>\n",
       "      <td>2</td>\n",
       "      <td>3</td>\n",
       "      <td>16</td>\n",
       "      <td>25</td>\n",
       "    </tr>\n",
       "    <tr>\n",
       "      <th>1</th>\n",
       "      <td>4</td>\n",
       "      <td>5</td>\n",
       "      <td>6</td>\n",
       "      <td>7</td>\n",
       "      <td>17</td>\n",
       "      <td>26</td>\n",
       "    </tr>\n",
       "    <tr>\n",
       "      <th>2</th>\n",
       "      <td>8</td>\n",
       "      <td>9</td>\n",
       "      <td>10</td>\n",
       "      <td>11</td>\n",
       "      <td>18</td>\n",
       "      <td>27</td>\n",
       "    </tr>\n",
       "    <tr>\n",
       "      <th>3</th>\n",
       "      <td>12</td>\n",
       "      <td>13</td>\n",
       "      <td>14</td>\n",
       "      <td>15</td>\n",
       "      <td>19</td>\n",
       "      <td>28</td>\n",
       "    </tr>\n",
       "    <tr>\n",
       "      <th>4</th>\n",
       "      <td>20</td>\n",
       "      <td>21</td>\n",
       "      <td>22</td>\n",
       "      <td>23</td>\n",
       "      <td>24</td>\n",
       "      <td>29</td>\n",
       "    </tr>\n",
       "  </tbody>\n",
       "</table>\n",
       "</div>"
      ],
      "text/plain": [
       "   zeroth_column  first_column  second_column  third_column  fourth_column  \\\n",
       "0              0             1              2             3             16   \n",
       "1              4             5              6             7             17   \n",
       "2              8             9             10            11             18   \n",
       "3             12            13             14            15             19   \n",
       "4             20            21             22            23             24   \n",
       "\n",
       "   fifth_column  \n",
       "0            25  \n",
       "1            26  \n",
       "2            27  \n",
       "3            28  \n",
       "4            29  "
      ]
     },
     "execution_count": 5,
     "metadata": {},
     "output_type": "execute_result"
    }
   ],
   "source": [
    "df['fifth_column'] = [25, 26, 27, 28,29]\n",
    "df"
   ]
  },
  {
   "cell_type": "markdown",
   "metadata": {
    "id": "bMXSMcZ8nA-k"
   },
   "source": [
    "## The .loc[...] property"
   ]
  },
  {
   "cell_type": "markdown",
   "metadata": {
    "id": "7WvT0Ij1nA-k"
   },
   "source": [
    "The `.loc[...]` property is a highly useful tool to access specific parts of a DataFrame. We use it all the time!\n",
    "\n",
    "`.loc[...]` has two parts: `.loc[row_selection, column_selection]`, where the second part is optional. `row_selection` and `column_selection` can be all kinds of different ways of telling python which rows or columns we want to select.\n",
    "\n",
    "**Tasks:**\n",
    "1. Read through the `pandas.DataFrame.loc` documentation to understand how `.loc` works:  \n",
    "   https://pandas.pydata.org/docs/reference/api/pandas.DataFrame.loc.html"
   ]
  },
  {
   "cell_type": "markdown",
   "metadata": {
    "id": "0mG4bBcenA-k"
   },
   "source": [
    "2. Use `.loc[start_index:end_index]` to display row number 1 until (including) row number 3 of the DataFrame.  \n",
    "   *Careful:* When slicing a `list` the `end_index` is not included in the result. When slicing a `DataFrame` it is."
   ]
  },
  {
   "cell_type": "code",
   "execution_count": 6,
   "metadata": {},
   "outputs": [
    {
     "data": {
      "application/vnd.microsoft.datawrangler.viewer.v0+json": {
       "columns": [
        {
         "name": "index",
         "rawType": "int64",
         "type": "integer"
        },
        {
         "name": "zeroth_column",
         "rawType": "int64",
         "type": "integer"
        },
        {
         "name": "first_column",
         "rawType": "int64",
         "type": "integer"
        },
        {
         "name": "second_column",
         "rawType": "int64",
         "type": "integer"
        },
        {
         "name": "third_column",
         "rawType": "int64",
         "type": "integer"
        },
        {
         "name": "fourth_column",
         "rawType": "int64",
         "type": "integer"
        },
        {
         "name": "fifth_column",
         "rawType": "int64",
         "type": "integer"
        }
       ],
       "ref": "43b71e8c-ca64-4e24-a7bf-6cf033317c0f",
       "rows": [
        [
         "1",
         "4",
         "5",
         "6",
         "7",
         "17",
         "26"
        ],
        [
         "3",
         "12",
         "13",
         "14",
         "15",
         "19",
         "28"
        ]
       ],
       "shape": {
        "columns": 6,
        "rows": 2
       }
      },
      "text/html": [
       "<div>\n",
       "<style scoped>\n",
       "    .dataframe tbody tr th:only-of-type {\n",
       "        vertical-align: middle;\n",
       "    }\n",
       "\n",
       "    .dataframe tbody tr th {\n",
       "        vertical-align: top;\n",
       "    }\n",
       "\n",
       "    .dataframe thead th {\n",
       "        text-align: right;\n",
       "    }\n",
       "</style>\n",
       "<table border=\"1\" class=\"dataframe\">\n",
       "  <thead>\n",
       "    <tr style=\"text-align: right;\">\n",
       "      <th></th>\n",
       "      <th>zeroth_column</th>\n",
       "      <th>first_column</th>\n",
       "      <th>second_column</th>\n",
       "      <th>third_column</th>\n",
       "      <th>fourth_column</th>\n",
       "      <th>fifth_column</th>\n",
       "    </tr>\n",
       "  </thead>\n",
       "  <tbody>\n",
       "    <tr>\n",
       "      <th>1</th>\n",
       "      <td>4</td>\n",
       "      <td>5</td>\n",
       "      <td>6</td>\n",
       "      <td>7</td>\n",
       "      <td>17</td>\n",
       "      <td>26</td>\n",
       "    </tr>\n",
       "    <tr>\n",
       "      <th>3</th>\n",
       "      <td>12</td>\n",
       "      <td>13</td>\n",
       "      <td>14</td>\n",
       "      <td>15</td>\n",
       "      <td>19</td>\n",
       "      <td>28</td>\n",
       "    </tr>\n",
       "  </tbody>\n",
       "</table>\n",
       "</div>"
      ],
      "text/plain": [
       "   zeroth_column  first_column  second_column  third_column  fourth_column  \\\n",
       "1              4             5              6             7             17   \n",
       "3             12            13             14            15             19   \n",
       "\n",
       "   fifth_column  \n",
       "1            26  \n",
       "3            28  "
      ]
     },
     "execution_count": 6,
     "metadata": {},
     "output_type": "execute_result"
    }
   ],
   "source": [
    "df.loc[[1,3]]\n"
   ]
  },
  {
   "cell_type": "markdown",
   "metadata": {
    "id": "pLvpJDAKnA-k"
   },
   "source": [
    "3. Use `.loc[start_index:]` to display row number 2 until the last row number of the DataFrame."
   ]
  },
  {
   "cell_type": "code",
   "execution_count": 7,
   "metadata": {},
   "outputs": [
    {
     "data": {
      "application/vnd.microsoft.datawrangler.viewer.v0+json": {
       "columns": [
        {
         "name": "index",
         "rawType": "int64",
         "type": "integer"
        },
        {
         "name": "zeroth_column",
         "rawType": "int64",
         "type": "integer"
        },
        {
         "name": "first_column",
         "rawType": "int64",
         "type": "integer"
        },
        {
         "name": "second_column",
         "rawType": "int64",
         "type": "integer"
        },
        {
         "name": "third_column",
         "rawType": "int64",
         "type": "integer"
        },
        {
         "name": "fourth_column",
         "rawType": "int64",
         "type": "integer"
        },
        {
         "name": "fifth_column",
         "rawType": "int64",
         "type": "integer"
        }
       ],
       "ref": "193de6fa-2021-47db-ba40-5d00a60aa316",
       "rows": [
        [
         "2",
         "8",
         "9",
         "10",
         "11",
         "18",
         "27"
        ],
        [
         "3",
         "12",
         "13",
         "14",
         "15",
         "19",
         "28"
        ],
        [
         "4",
         "20",
         "21",
         "22",
         "23",
         "24",
         "29"
        ]
       ],
       "shape": {
        "columns": 6,
        "rows": 3
       }
      },
      "text/html": [
       "<div>\n",
       "<style scoped>\n",
       "    .dataframe tbody tr th:only-of-type {\n",
       "        vertical-align: middle;\n",
       "    }\n",
       "\n",
       "    .dataframe tbody tr th {\n",
       "        vertical-align: top;\n",
       "    }\n",
       "\n",
       "    .dataframe thead th {\n",
       "        text-align: right;\n",
       "    }\n",
       "</style>\n",
       "<table border=\"1\" class=\"dataframe\">\n",
       "  <thead>\n",
       "    <tr style=\"text-align: right;\">\n",
       "      <th></th>\n",
       "      <th>zeroth_column</th>\n",
       "      <th>first_column</th>\n",
       "      <th>second_column</th>\n",
       "      <th>third_column</th>\n",
       "      <th>fourth_column</th>\n",
       "      <th>fifth_column</th>\n",
       "    </tr>\n",
       "  </thead>\n",
       "  <tbody>\n",
       "    <tr>\n",
       "      <th>2</th>\n",
       "      <td>8</td>\n",
       "      <td>9</td>\n",
       "      <td>10</td>\n",
       "      <td>11</td>\n",
       "      <td>18</td>\n",
       "      <td>27</td>\n",
       "    </tr>\n",
       "    <tr>\n",
       "      <th>3</th>\n",
       "      <td>12</td>\n",
       "      <td>13</td>\n",
       "      <td>14</td>\n",
       "      <td>15</td>\n",
       "      <td>19</td>\n",
       "      <td>28</td>\n",
       "    </tr>\n",
       "    <tr>\n",
       "      <th>4</th>\n",
       "      <td>20</td>\n",
       "      <td>21</td>\n",
       "      <td>22</td>\n",
       "      <td>23</td>\n",
       "      <td>24</td>\n",
       "      <td>29</td>\n",
       "    </tr>\n",
       "  </tbody>\n",
       "</table>\n",
       "</div>"
      ],
      "text/plain": [
       "   zeroth_column  first_column  second_column  third_column  fourth_column  \\\n",
       "2              8             9             10            11             18   \n",
       "3             12            13             14            15             19   \n",
       "4             20            21             22            23             24   \n",
       "\n",
       "   fifth_column  \n",
       "2            27  \n",
       "3            28  \n",
       "4            29  "
      ]
     },
     "execution_count": 7,
     "metadata": {},
     "output_type": "execute_result"
    }
   ],
   "source": [
    "df.loc[2:]"
   ]
  },
  {
   "cell_type": "markdown",
   "metadata": {
    "id": "rmpGojW-nA-k"
   },
   "source": [
    "4. Use `.loc[:end_index]` to display all rows until (including) row number 3 of the DataFrame"
   ]
  },
  {
   "cell_type": "code",
   "execution_count": 8,
   "metadata": {},
   "outputs": [
    {
     "data": {
      "application/vnd.microsoft.datawrangler.viewer.v0+json": {
       "columns": [
        {
         "name": "index",
         "rawType": "int64",
         "type": "integer"
        },
        {
         "name": "zeroth_column",
         "rawType": "int64",
         "type": "integer"
        },
        {
         "name": "first_column",
         "rawType": "int64",
         "type": "integer"
        },
        {
         "name": "second_column",
         "rawType": "int64",
         "type": "integer"
        },
        {
         "name": "third_column",
         "rawType": "int64",
         "type": "integer"
        },
        {
         "name": "fourth_column",
         "rawType": "int64",
         "type": "integer"
        },
        {
         "name": "fifth_column",
         "rawType": "int64",
         "type": "integer"
        }
       ],
       "ref": "a850c5a7-f155-43d3-9a27-0a25d8b54e1c",
       "rows": [
        [
         "0",
         "0",
         "1",
         "2",
         "3",
         "16",
         "25"
        ],
        [
         "1",
         "4",
         "5",
         "6",
         "7",
         "17",
         "26"
        ],
        [
         "2",
         "8",
         "9",
         "10",
         "11",
         "18",
         "27"
        ],
        [
         "3",
         "12",
         "13",
         "14",
         "15",
         "19",
         "28"
        ]
       ],
       "shape": {
        "columns": 6,
        "rows": 4
       }
      },
      "text/html": [
       "<div>\n",
       "<style scoped>\n",
       "    .dataframe tbody tr th:only-of-type {\n",
       "        vertical-align: middle;\n",
       "    }\n",
       "\n",
       "    .dataframe tbody tr th {\n",
       "        vertical-align: top;\n",
       "    }\n",
       "\n",
       "    .dataframe thead th {\n",
       "        text-align: right;\n",
       "    }\n",
       "</style>\n",
       "<table border=\"1\" class=\"dataframe\">\n",
       "  <thead>\n",
       "    <tr style=\"text-align: right;\">\n",
       "      <th></th>\n",
       "      <th>zeroth_column</th>\n",
       "      <th>first_column</th>\n",
       "      <th>second_column</th>\n",
       "      <th>third_column</th>\n",
       "      <th>fourth_column</th>\n",
       "      <th>fifth_column</th>\n",
       "    </tr>\n",
       "  </thead>\n",
       "  <tbody>\n",
       "    <tr>\n",
       "      <th>0</th>\n",
       "      <td>0</td>\n",
       "      <td>1</td>\n",
       "      <td>2</td>\n",
       "      <td>3</td>\n",
       "      <td>16</td>\n",
       "      <td>25</td>\n",
       "    </tr>\n",
       "    <tr>\n",
       "      <th>1</th>\n",
       "      <td>4</td>\n",
       "      <td>5</td>\n",
       "      <td>6</td>\n",
       "      <td>7</td>\n",
       "      <td>17</td>\n",
       "      <td>26</td>\n",
       "    </tr>\n",
       "    <tr>\n",
       "      <th>2</th>\n",
       "      <td>8</td>\n",
       "      <td>9</td>\n",
       "      <td>10</td>\n",
       "      <td>11</td>\n",
       "      <td>18</td>\n",
       "      <td>27</td>\n",
       "    </tr>\n",
       "    <tr>\n",
       "      <th>3</th>\n",
       "      <td>12</td>\n",
       "      <td>13</td>\n",
       "      <td>14</td>\n",
       "      <td>15</td>\n",
       "      <td>19</td>\n",
       "      <td>28</td>\n",
       "    </tr>\n",
       "  </tbody>\n",
       "</table>\n",
       "</div>"
      ],
      "text/plain": [
       "   zeroth_column  first_column  second_column  third_column  fourth_column  \\\n",
       "0              0             1              2             3             16   \n",
       "1              4             5              6             7             17   \n",
       "2              8             9             10            11             18   \n",
       "3             12            13             14            15             19   \n",
       "\n",
       "   fifth_column  \n",
       "0            25  \n",
       "1            26  \n",
       "2            27  \n",
       "3            28  "
      ]
     },
     "execution_count": 8,
     "metadata": {},
     "output_type": "execute_result"
    }
   ],
   "source": [
    "df.loc[:3]"
   ]
  },
  {
   "cell_type": "markdown",
   "metadata": {
    "id": "mGbaBAejnA-k"
   },
   "source": [
    "5. Use `.loc[[row_index_1, row_index_2, ...]]` to display rows number 0, 3 and 4 of the DataFrame"
   ]
  },
  {
   "cell_type": "code",
   "execution_count": 9,
   "metadata": {},
   "outputs": [
    {
     "data": {
      "application/vnd.microsoft.datawrangler.viewer.v0+json": {
       "columns": [
        {
         "name": "index",
         "rawType": "int64",
         "type": "integer"
        },
        {
         "name": "zeroth_column",
         "rawType": "int64",
         "type": "integer"
        },
        {
         "name": "first_column",
         "rawType": "int64",
         "type": "integer"
        },
        {
         "name": "second_column",
         "rawType": "int64",
         "type": "integer"
        },
        {
         "name": "third_column",
         "rawType": "int64",
         "type": "integer"
        },
        {
         "name": "fourth_column",
         "rawType": "int64",
         "type": "integer"
        },
        {
         "name": "fifth_column",
         "rawType": "int64",
         "type": "integer"
        }
       ],
       "ref": "71b912ca-0c46-45c2-9d7d-478dbee395ee",
       "rows": [
        [
         "0",
         "0",
         "1",
         "2",
         "3",
         "16",
         "25"
        ],
        [
         "3",
         "12",
         "13",
         "14",
         "15",
         "19",
         "28"
        ],
        [
         "4",
         "20",
         "21",
         "22",
         "23",
         "24",
         "29"
        ]
       ],
       "shape": {
        "columns": 6,
        "rows": 3
       }
      },
      "text/html": [
       "<div>\n",
       "<style scoped>\n",
       "    .dataframe tbody tr th:only-of-type {\n",
       "        vertical-align: middle;\n",
       "    }\n",
       "\n",
       "    .dataframe tbody tr th {\n",
       "        vertical-align: top;\n",
       "    }\n",
       "\n",
       "    .dataframe thead th {\n",
       "        text-align: right;\n",
       "    }\n",
       "</style>\n",
       "<table border=\"1\" class=\"dataframe\">\n",
       "  <thead>\n",
       "    <tr style=\"text-align: right;\">\n",
       "      <th></th>\n",
       "      <th>zeroth_column</th>\n",
       "      <th>first_column</th>\n",
       "      <th>second_column</th>\n",
       "      <th>third_column</th>\n",
       "      <th>fourth_column</th>\n",
       "      <th>fifth_column</th>\n",
       "    </tr>\n",
       "  </thead>\n",
       "  <tbody>\n",
       "    <tr>\n",
       "      <th>0</th>\n",
       "      <td>0</td>\n",
       "      <td>1</td>\n",
       "      <td>2</td>\n",
       "      <td>3</td>\n",
       "      <td>16</td>\n",
       "      <td>25</td>\n",
       "    </tr>\n",
       "    <tr>\n",
       "      <th>3</th>\n",
       "      <td>12</td>\n",
       "      <td>13</td>\n",
       "      <td>14</td>\n",
       "      <td>15</td>\n",
       "      <td>19</td>\n",
       "      <td>28</td>\n",
       "    </tr>\n",
       "    <tr>\n",
       "      <th>4</th>\n",
       "      <td>20</td>\n",
       "      <td>21</td>\n",
       "      <td>22</td>\n",
       "      <td>23</td>\n",
       "      <td>24</td>\n",
       "      <td>29</td>\n",
       "    </tr>\n",
       "  </tbody>\n",
       "</table>\n",
       "</div>"
      ],
      "text/plain": [
       "   zeroth_column  first_column  second_column  third_column  fourth_column  \\\n",
       "0              0             1              2             3             16   \n",
       "3             12            13             14            15             19   \n",
       "4             20            21             22            23             24   \n",
       "\n",
       "   fifth_column  \n",
       "0            25  \n",
       "3            28  \n",
       "4            29  "
      ]
     },
     "execution_count": 9,
     "metadata": {},
     "output_type": "execute_result"
    }
   ],
   "source": [
    "df.loc[[0,3,4]]"
   ]
  },
  {
   "cell_type": "markdown",
   "metadata": {
    "id": "-MeMcdRlnA-k"
   },
   "source": [
    "6. Use `.loc[:, start_column:end_column]` to display all rows of the second_column to fourth_column of the DataFrame.  \n",
    "   *Note:* Column names are given as strings and hence must be written in quotation marks."
   ]
  },
  {
   "cell_type": "code",
   "execution_count": 10,
   "metadata": {},
   "outputs": [
    {
     "data": {
      "application/vnd.microsoft.datawrangler.viewer.v0+json": {
       "columns": [
        {
         "name": "index",
         "rawType": "int64",
         "type": "integer"
        },
        {
         "name": "second_column",
         "rawType": "int64",
         "type": "integer"
        },
        {
         "name": "third_column",
         "rawType": "int64",
         "type": "integer"
        },
        {
         "name": "fourth_column",
         "rawType": "int64",
         "type": "integer"
        }
       ],
       "ref": "74a23927-0191-416f-9c03-e6e12d55eaa2",
       "rows": [
        [
         "0",
         "2",
         "3",
         "16"
        ],
        [
         "1",
         "6",
         "7",
         "17"
        ],
        [
         "2",
         "10",
         "11",
         "18"
        ],
        [
         "3",
         "14",
         "15",
         "19"
        ],
        [
         "4",
         "22",
         "23",
         "24"
        ]
       ],
       "shape": {
        "columns": 3,
        "rows": 5
       }
      },
      "text/html": [
       "<div>\n",
       "<style scoped>\n",
       "    .dataframe tbody tr th:only-of-type {\n",
       "        vertical-align: middle;\n",
       "    }\n",
       "\n",
       "    .dataframe tbody tr th {\n",
       "        vertical-align: top;\n",
       "    }\n",
       "\n",
       "    .dataframe thead th {\n",
       "        text-align: right;\n",
       "    }\n",
       "</style>\n",
       "<table border=\"1\" class=\"dataframe\">\n",
       "  <thead>\n",
       "    <tr style=\"text-align: right;\">\n",
       "      <th></th>\n",
       "      <th>second_column</th>\n",
       "      <th>third_column</th>\n",
       "      <th>fourth_column</th>\n",
       "    </tr>\n",
       "  </thead>\n",
       "  <tbody>\n",
       "    <tr>\n",
       "      <th>0</th>\n",
       "      <td>2</td>\n",
       "      <td>3</td>\n",
       "      <td>16</td>\n",
       "    </tr>\n",
       "    <tr>\n",
       "      <th>1</th>\n",
       "      <td>6</td>\n",
       "      <td>7</td>\n",
       "      <td>17</td>\n",
       "    </tr>\n",
       "    <tr>\n",
       "      <th>2</th>\n",
       "      <td>10</td>\n",
       "      <td>11</td>\n",
       "      <td>18</td>\n",
       "    </tr>\n",
       "    <tr>\n",
       "      <th>3</th>\n",
       "      <td>14</td>\n",
       "      <td>15</td>\n",
       "      <td>19</td>\n",
       "    </tr>\n",
       "    <tr>\n",
       "      <th>4</th>\n",
       "      <td>22</td>\n",
       "      <td>23</td>\n",
       "      <td>24</td>\n",
       "    </tr>\n",
       "  </tbody>\n",
       "</table>\n",
       "</div>"
      ],
      "text/plain": [
       "   second_column  third_column  fourth_column\n",
       "0              2             3             16\n",
       "1              6             7             17\n",
       "2             10            11             18\n",
       "3             14            15             19\n",
       "4             22            23             24"
      ]
     },
     "execution_count": 10,
     "metadata": {},
     "output_type": "execute_result"
    }
   ],
   "source": [
    "df.loc[:,\"second_column\":\"fourth_column\"]"
   ]
  },
  {
   "cell_type": "markdown",
   "metadata": {
    "id": "KFnXXQ9hnA-k"
   },
   "source": [
    "7. Use `.iloc[:, start_column_index:end_column_index]` to do the same giving not the column names but column indices as numbers.  \n",
    "   *Note:* `.loc` is for using column names, `.iloc` is for using column indices.  \n",
    "   *Careful:* Slicing in `.iloc[...]` works differently from slicing in `.loc[...]`: like in `lists` the `end_index` is not included."
   ]
  },
  {
   "cell_type": "code",
   "execution_count": 11,
   "metadata": {},
   "outputs": [
    {
     "data": {
      "application/vnd.microsoft.datawrangler.viewer.v0+json": {
       "columns": [
        {
         "name": "index",
         "rawType": "int64",
         "type": "integer"
        },
        {
         "name": "third_column",
         "rawType": "int64",
         "type": "integer"
        },
        {
         "name": "fourth_column",
         "rawType": "int64",
         "type": "integer"
        }
       ],
       "ref": "151548be-a286-4dab-9356-972639e80f17",
       "rows": [
        [
         "0",
         "3",
         "16"
        ],
        [
         "1",
         "7",
         "17"
        ],
        [
         "2",
         "11",
         "18"
        ],
        [
         "3",
         "15",
         "19"
        ],
        [
         "4",
         "23",
         "24"
        ]
       ],
       "shape": {
        "columns": 2,
        "rows": 5
       }
      },
      "text/html": [
       "<div>\n",
       "<style scoped>\n",
       "    .dataframe tbody tr th:only-of-type {\n",
       "        vertical-align: middle;\n",
       "    }\n",
       "\n",
       "    .dataframe tbody tr th {\n",
       "        vertical-align: top;\n",
       "    }\n",
       "\n",
       "    .dataframe thead th {\n",
       "        text-align: right;\n",
       "    }\n",
       "</style>\n",
       "<table border=\"1\" class=\"dataframe\">\n",
       "  <thead>\n",
       "    <tr style=\"text-align: right;\">\n",
       "      <th></th>\n",
       "      <th>third_column</th>\n",
       "      <th>fourth_column</th>\n",
       "    </tr>\n",
       "  </thead>\n",
       "  <tbody>\n",
       "    <tr>\n",
       "      <th>0</th>\n",
       "      <td>3</td>\n",
       "      <td>16</td>\n",
       "    </tr>\n",
       "    <tr>\n",
       "      <th>1</th>\n",
       "      <td>7</td>\n",
       "      <td>17</td>\n",
       "    </tr>\n",
       "    <tr>\n",
       "      <th>2</th>\n",
       "      <td>11</td>\n",
       "      <td>18</td>\n",
       "    </tr>\n",
       "    <tr>\n",
       "      <th>3</th>\n",
       "      <td>15</td>\n",
       "      <td>19</td>\n",
       "    </tr>\n",
       "    <tr>\n",
       "      <th>4</th>\n",
       "      <td>23</td>\n",
       "      <td>24</td>\n",
       "    </tr>\n",
       "  </tbody>\n",
       "</table>\n",
       "</div>"
      ],
      "text/plain": [
       "   third_column  fourth_column\n",
       "0             3             16\n",
       "1             7             17\n",
       "2            11             18\n",
       "3            15             19\n",
       "4            23             24"
      ]
     },
     "execution_count": 11,
     "metadata": {},
     "output_type": "execute_result"
    }
   ],
   "source": [
    "# info\n",
    "df.iloc[:,3:5]"
   ]
  },
  {
   "cell_type": "code",
   "execution_count": 12,
   "metadata": {},
   "outputs": [
    {
     "data": {
      "application/vnd.microsoft.datawrangler.viewer.v0+json": {
       "columns": [
        {
         "name": "index",
         "rawType": "int64",
         "type": "integer"
        },
        {
         "name": "zeroth_column",
         "rawType": "int64",
         "type": "integer"
        },
        {
         "name": "first_column",
         "rawType": "int64",
         "type": "integer"
        },
        {
         "name": "second_column",
         "rawType": "int64",
         "type": "integer"
        },
        {
         "name": "third_column",
         "rawType": "int64",
         "type": "integer"
        },
        {
         "name": "fourth_column",
         "rawType": "int64",
         "type": "integer"
        },
        {
         "name": "fifth_column",
         "rawType": "int64",
         "type": "integer"
        }
       ],
       "ref": "f3133acb-f9d7-4be0-bb0e-1fa71340e7ca",
       "rows": [
        [
         "0",
         "0",
         "1",
         "2",
         "3",
         "16",
         "25"
        ],
        [
         "1",
         "4",
         "5",
         "6",
         "7",
         "17",
         "26"
        ],
        [
         "2",
         "8",
         "9",
         "10",
         "11",
         "18",
         "27"
        ],
        [
         "3",
         "12",
         "13",
         "14",
         "15",
         "19",
         "28"
        ],
        [
         "4",
         "20",
         "21",
         "22",
         "23",
         "24",
         "29"
        ]
       ],
       "shape": {
        "columns": 6,
        "rows": 5
       }
      },
      "text/html": [
       "<div>\n",
       "<style scoped>\n",
       "    .dataframe tbody tr th:only-of-type {\n",
       "        vertical-align: middle;\n",
       "    }\n",
       "\n",
       "    .dataframe tbody tr th {\n",
       "        vertical-align: top;\n",
       "    }\n",
       "\n",
       "    .dataframe thead th {\n",
       "        text-align: right;\n",
       "    }\n",
       "</style>\n",
       "<table border=\"1\" class=\"dataframe\">\n",
       "  <thead>\n",
       "    <tr style=\"text-align: right;\">\n",
       "      <th></th>\n",
       "      <th>zeroth_column</th>\n",
       "      <th>first_column</th>\n",
       "      <th>second_column</th>\n",
       "      <th>third_column</th>\n",
       "      <th>fourth_column</th>\n",
       "      <th>fifth_column</th>\n",
       "    </tr>\n",
       "  </thead>\n",
       "  <tbody>\n",
       "    <tr>\n",
       "      <th>0</th>\n",
       "      <td>0</td>\n",
       "      <td>1</td>\n",
       "      <td>2</td>\n",
       "      <td>3</td>\n",
       "      <td>16</td>\n",
       "      <td>25</td>\n",
       "    </tr>\n",
       "    <tr>\n",
       "      <th>1</th>\n",
       "      <td>4</td>\n",
       "      <td>5</td>\n",
       "      <td>6</td>\n",
       "      <td>7</td>\n",
       "      <td>17</td>\n",
       "      <td>26</td>\n",
       "    </tr>\n",
       "    <tr>\n",
       "      <th>2</th>\n",
       "      <td>8</td>\n",
       "      <td>9</td>\n",
       "      <td>10</td>\n",
       "      <td>11</td>\n",
       "      <td>18</td>\n",
       "      <td>27</td>\n",
       "    </tr>\n",
       "    <tr>\n",
       "      <th>3</th>\n",
       "      <td>12</td>\n",
       "      <td>13</td>\n",
       "      <td>14</td>\n",
       "      <td>15</td>\n",
       "      <td>19</td>\n",
       "      <td>28</td>\n",
       "    </tr>\n",
       "    <tr>\n",
       "      <th>4</th>\n",
       "      <td>20</td>\n",
       "      <td>21</td>\n",
       "      <td>22</td>\n",
       "      <td>23</td>\n",
       "      <td>24</td>\n",
       "      <td>29</td>\n",
       "    </tr>\n",
       "  </tbody>\n",
       "</table>\n",
       "</div>"
      ],
      "text/plain": [
       "   zeroth_column  first_column  second_column  third_column  fourth_column  \\\n",
       "0              0             1              2             3             16   \n",
       "1              4             5              6             7             17   \n",
       "2              8             9             10            11             18   \n",
       "3             12            13             14            15             19   \n",
       "4             20            21             22            23             24   \n",
       "\n",
       "   fifth_column  \n",
       "0            25  \n",
       "1            26  \n",
       "2            27  \n",
       "3            28  \n",
       "4            29  "
      ]
     },
     "execution_count": 12,
     "metadata": {},
     "output_type": "execute_result"
    }
   ],
   "source": [
    "df.iloc[:]"
   ]
  },
  {
   "cell_type": "markdown",
   "metadata": {
    "id": "3uj7xCyjnA-k"
   },
   "source": [
    "8. Use `.loc[...]` and `.iloc[...]` to display from the third_column until the last column of the DataFrame."
   ]
  },
  {
   "cell_type": "code",
   "execution_count": 13,
   "metadata": {},
   "outputs": [
    {
     "data": {
      "application/vnd.microsoft.datawrangler.viewer.v0+json": {
       "columns": [
        {
         "name": "index",
         "rawType": "int64",
         "type": "integer"
        },
        {
         "name": "third_column",
         "rawType": "int64",
         "type": "integer"
        },
        {
         "name": "fourth_column",
         "rawType": "int64",
         "type": "integer"
        },
        {
         "name": "fifth_column",
         "rawType": "int64",
         "type": "integer"
        }
       ],
       "ref": "bce53fe3-0a31-408f-be4b-a81f49f3925f",
       "rows": [
        [
         "0",
         "3",
         "16",
         "25"
        ],
        [
         "1",
         "7",
         "17",
         "26"
        ],
        [
         "2",
         "11",
         "18",
         "27"
        ],
        [
         "3",
         "15",
         "19",
         "28"
        ],
        [
         "4",
         "23",
         "24",
         "29"
        ]
       ],
       "shape": {
        "columns": 3,
        "rows": 5
       }
      },
      "text/html": [
       "<div>\n",
       "<style scoped>\n",
       "    .dataframe tbody tr th:only-of-type {\n",
       "        vertical-align: middle;\n",
       "    }\n",
       "\n",
       "    .dataframe tbody tr th {\n",
       "        vertical-align: top;\n",
       "    }\n",
       "\n",
       "    .dataframe thead th {\n",
       "        text-align: right;\n",
       "    }\n",
       "</style>\n",
       "<table border=\"1\" class=\"dataframe\">\n",
       "  <thead>\n",
       "    <tr style=\"text-align: right;\">\n",
       "      <th></th>\n",
       "      <th>third_column</th>\n",
       "      <th>fourth_column</th>\n",
       "      <th>fifth_column</th>\n",
       "    </tr>\n",
       "  </thead>\n",
       "  <tbody>\n",
       "    <tr>\n",
       "      <th>0</th>\n",
       "      <td>3</td>\n",
       "      <td>16</td>\n",
       "      <td>25</td>\n",
       "    </tr>\n",
       "    <tr>\n",
       "      <th>1</th>\n",
       "      <td>7</td>\n",
       "      <td>17</td>\n",
       "      <td>26</td>\n",
       "    </tr>\n",
       "    <tr>\n",
       "      <th>2</th>\n",
       "      <td>11</td>\n",
       "      <td>18</td>\n",
       "      <td>27</td>\n",
       "    </tr>\n",
       "    <tr>\n",
       "      <th>3</th>\n",
       "      <td>15</td>\n",
       "      <td>19</td>\n",
       "      <td>28</td>\n",
       "    </tr>\n",
       "    <tr>\n",
       "      <th>4</th>\n",
       "      <td>23</td>\n",
       "      <td>24</td>\n",
       "      <td>29</td>\n",
       "    </tr>\n",
       "  </tbody>\n",
       "</table>\n",
       "</div>"
      ],
      "text/plain": [
       "   third_column  fourth_column  fifth_column\n",
       "0             3             16            25\n",
       "1             7             17            26\n",
       "2            11             18            27\n",
       "3            15             19            28\n",
       "4            23             24            29"
      ]
     },
     "execution_count": 13,
     "metadata": {},
     "output_type": "execute_result"
    }
   ],
   "source": [
    "df.loc[:,\"third_column\":]"
   ]
  },
  {
   "cell_type": "code",
   "execution_count": 14,
   "metadata": {},
   "outputs": [
    {
     "data": {
      "application/vnd.microsoft.datawrangler.viewer.v0+json": {
       "columns": [
        {
         "name": "index",
         "rawType": "int64",
         "type": "integer"
        },
        {
         "name": "zeroth_column",
         "rawType": "int64",
         "type": "integer"
        },
        {
         "name": "first_column",
         "rawType": "int64",
         "type": "integer"
        },
        {
         "name": "second_column",
         "rawType": "int64",
         "type": "integer"
        }
       ],
       "ref": "31bc0483-1ad4-4d14-aeec-f16da5cf33a6",
       "rows": [
        [
         "0",
         "0",
         "1",
         "2"
        ],
        [
         "1",
         "4",
         "5",
         "6"
        ],
        [
         "2",
         "8",
         "9",
         "10"
        ],
        [
         "3",
         "12",
         "13",
         "14"
        ],
        [
         "4",
         "20",
         "21",
         "22"
        ]
       ],
       "shape": {
        "columns": 3,
        "rows": 5
       }
      },
      "text/html": [
       "<div>\n",
       "<style scoped>\n",
       "    .dataframe tbody tr th:only-of-type {\n",
       "        vertical-align: middle;\n",
       "    }\n",
       "\n",
       "    .dataframe tbody tr th {\n",
       "        vertical-align: top;\n",
       "    }\n",
       "\n",
       "    .dataframe thead th {\n",
       "        text-align: right;\n",
       "    }\n",
       "</style>\n",
       "<table border=\"1\" class=\"dataframe\">\n",
       "  <thead>\n",
       "    <tr style=\"text-align: right;\">\n",
       "      <th></th>\n",
       "      <th>zeroth_column</th>\n",
       "      <th>first_column</th>\n",
       "      <th>second_column</th>\n",
       "    </tr>\n",
       "  </thead>\n",
       "  <tbody>\n",
       "    <tr>\n",
       "      <th>0</th>\n",
       "      <td>0</td>\n",
       "      <td>1</td>\n",
       "      <td>2</td>\n",
       "    </tr>\n",
       "    <tr>\n",
       "      <th>1</th>\n",
       "      <td>4</td>\n",
       "      <td>5</td>\n",
       "      <td>6</td>\n",
       "    </tr>\n",
       "    <tr>\n",
       "      <th>2</th>\n",
       "      <td>8</td>\n",
       "      <td>9</td>\n",
       "      <td>10</td>\n",
       "    </tr>\n",
       "    <tr>\n",
       "      <th>3</th>\n",
       "      <td>12</td>\n",
       "      <td>13</td>\n",
       "      <td>14</td>\n",
       "    </tr>\n",
       "    <tr>\n",
       "      <th>4</th>\n",
       "      <td>20</td>\n",
       "      <td>21</td>\n",
       "      <td>22</td>\n",
       "    </tr>\n",
       "  </tbody>\n",
       "</table>\n",
       "</div>"
      ],
      "text/plain": [
       "   zeroth_column  first_column  second_column\n",
       "0              0             1              2\n",
       "1              4             5              6\n",
       "2              8             9             10\n",
       "3             12            13             14\n",
       "4             20            21             22"
      ]
     },
     "execution_count": 14,
     "metadata": {},
     "output_type": "execute_result"
    }
   ],
   "source": [
    "df.iloc[:,:3]"
   ]
  },
  {
   "cell_type": "markdown",
   "metadata": {
    "id": "Rvavz4xbnA-k"
   },
   "source": [
    "9. Use `.loc[...]` and `.iloc[...]` to display all columns until (including) the fourth_column of the DataFrame."
   ]
  },
  {
   "cell_type": "code",
   "execution_count": 15,
   "metadata": {},
   "outputs": [
    {
     "data": {
      "application/vnd.microsoft.datawrangler.viewer.v0+json": {
       "columns": [
        {
         "name": "index",
         "rawType": "int64",
         "type": "integer"
        },
        {
         "name": "zeroth_column",
         "rawType": "int64",
         "type": "integer"
        },
        {
         "name": "first_column",
         "rawType": "int64",
         "type": "integer"
        },
        {
         "name": "second_column",
         "rawType": "int64",
         "type": "integer"
        },
        {
         "name": "third_column",
         "rawType": "int64",
         "type": "integer"
        },
        {
         "name": "fourth_column",
         "rawType": "int64",
         "type": "integer"
        },
        {
         "name": "fifth_column",
         "rawType": "int64",
         "type": "integer"
        }
       ],
       "ref": "1c662e88-6b97-4f04-9335-9b760286344e",
       "rows": [
        [
         "0",
         "0",
         "1",
         "2",
         "3",
         "16",
         "25"
        ],
        [
         "1",
         "4",
         "5",
         "6",
         "7",
         "17",
         "26"
        ],
        [
         "2",
         "8",
         "9",
         "10",
         "11",
         "18",
         "27"
        ],
        [
         "3",
         "12",
         "13",
         "14",
         "15",
         "19",
         "28"
        ],
        [
         "4",
         "20",
         "21",
         "22",
         "23",
         "24",
         "29"
        ]
       ],
       "shape": {
        "columns": 6,
        "rows": 5
       }
      },
      "text/html": [
       "<div>\n",
       "<style scoped>\n",
       "    .dataframe tbody tr th:only-of-type {\n",
       "        vertical-align: middle;\n",
       "    }\n",
       "\n",
       "    .dataframe tbody tr th {\n",
       "        vertical-align: top;\n",
       "    }\n",
       "\n",
       "    .dataframe thead th {\n",
       "        text-align: right;\n",
       "    }\n",
       "</style>\n",
       "<table border=\"1\" class=\"dataframe\">\n",
       "  <thead>\n",
       "    <tr style=\"text-align: right;\">\n",
       "      <th></th>\n",
       "      <th>zeroth_column</th>\n",
       "      <th>first_column</th>\n",
       "      <th>second_column</th>\n",
       "      <th>third_column</th>\n",
       "      <th>fourth_column</th>\n",
       "      <th>fifth_column</th>\n",
       "    </tr>\n",
       "  </thead>\n",
       "  <tbody>\n",
       "    <tr>\n",
       "      <th>0</th>\n",
       "      <td>0</td>\n",
       "      <td>1</td>\n",
       "      <td>2</td>\n",
       "      <td>3</td>\n",
       "      <td>16</td>\n",
       "      <td>25</td>\n",
       "    </tr>\n",
       "    <tr>\n",
       "      <th>1</th>\n",
       "      <td>4</td>\n",
       "      <td>5</td>\n",
       "      <td>6</td>\n",
       "      <td>7</td>\n",
       "      <td>17</td>\n",
       "      <td>26</td>\n",
       "    </tr>\n",
       "    <tr>\n",
       "      <th>2</th>\n",
       "      <td>8</td>\n",
       "      <td>9</td>\n",
       "      <td>10</td>\n",
       "      <td>11</td>\n",
       "      <td>18</td>\n",
       "      <td>27</td>\n",
       "    </tr>\n",
       "    <tr>\n",
       "      <th>3</th>\n",
       "      <td>12</td>\n",
       "      <td>13</td>\n",
       "      <td>14</td>\n",
       "      <td>15</td>\n",
       "      <td>19</td>\n",
       "      <td>28</td>\n",
       "    </tr>\n",
       "    <tr>\n",
       "      <th>4</th>\n",
       "      <td>20</td>\n",
       "      <td>21</td>\n",
       "      <td>22</td>\n",
       "      <td>23</td>\n",
       "      <td>24</td>\n",
       "      <td>29</td>\n",
       "    </tr>\n",
       "  </tbody>\n",
       "</table>\n",
       "</div>"
      ],
      "text/plain": [
       "   zeroth_column  first_column  second_column  third_column  fourth_column  \\\n",
       "0              0             1              2             3             16   \n",
       "1              4             5              6             7             17   \n",
       "2              8             9             10            11             18   \n",
       "3             12            13             14            15             19   \n",
       "4             20            21             22            23             24   \n",
       "\n",
       "   fifth_column  \n",
       "0            25  \n",
       "1            26  \n",
       "2            27  \n",
       "3            28  \n",
       "4            29  "
      ]
     },
     "execution_count": 15,
     "metadata": {},
     "output_type": "execute_result"
    }
   ],
   "source": [
    "df.loc[:,:\"fifth_column\"]"
   ]
  },
  {
   "cell_type": "code",
   "execution_count": 16,
   "metadata": {},
   "outputs": [
    {
     "data": {
      "application/vnd.microsoft.datawrangler.viewer.v0+json": {
       "columns": [
        {
         "name": "index",
         "rawType": "int64",
         "type": "integer"
        },
        {
         "name": "zeroth_column",
         "rawType": "int64",
         "type": "integer"
        },
        {
         "name": "first_column",
         "rawType": "int64",
         "type": "integer"
        },
        {
         "name": "second_column",
         "rawType": "int64",
         "type": "integer"
        },
        {
         "name": "third_column",
         "rawType": "int64",
         "type": "integer"
        },
        {
         "name": "fourth_column",
         "rawType": "int64",
         "type": "integer"
        }
       ],
       "ref": "471a83d4-bd6a-47e6-aa5c-7cf735bcce9d",
       "rows": [
        [
         "0",
         "0",
         "1",
         "2",
         "3",
         "16"
        ],
        [
         "1",
         "4",
         "5",
         "6",
         "7",
         "17"
        ],
        [
         "2",
         "8",
         "9",
         "10",
         "11",
         "18"
        ],
        [
         "3",
         "12",
         "13",
         "14",
         "15",
         "19"
        ],
        [
         "4",
         "20",
         "21",
         "22",
         "23",
         "24"
        ]
       ],
       "shape": {
        "columns": 5,
        "rows": 5
       }
      },
      "text/html": [
       "<div>\n",
       "<style scoped>\n",
       "    .dataframe tbody tr th:only-of-type {\n",
       "        vertical-align: middle;\n",
       "    }\n",
       "\n",
       "    .dataframe tbody tr th {\n",
       "        vertical-align: top;\n",
       "    }\n",
       "\n",
       "    .dataframe thead th {\n",
       "        text-align: right;\n",
       "    }\n",
       "</style>\n",
       "<table border=\"1\" class=\"dataframe\">\n",
       "  <thead>\n",
       "    <tr style=\"text-align: right;\">\n",
       "      <th></th>\n",
       "      <th>zeroth_column</th>\n",
       "      <th>first_column</th>\n",
       "      <th>second_column</th>\n",
       "      <th>third_column</th>\n",
       "      <th>fourth_column</th>\n",
       "    </tr>\n",
       "  </thead>\n",
       "  <tbody>\n",
       "    <tr>\n",
       "      <th>0</th>\n",
       "      <td>0</td>\n",
       "      <td>1</td>\n",
       "      <td>2</td>\n",
       "      <td>3</td>\n",
       "      <td>16</td>\n",
       "    </tr>\n",
       "    <tr>\n",
       "      <th>1</th>\n",
       "      <td>4</td>\n",
       "      <td>5</td>\n",
       "      <td>6</td>\n",
       "      <td>7</td>\n",
       "      <td>17</td>\n",
       "    </tr>\n",
       "    <tr>\n",
       "      <th>2</th>\n",
       "      <td>8</td>\n",
       "      <td>9</td>\n",
       "      <td>10</td>\n",
       "      <td>11</td>\n",
       "      <td>18</td>\n",
       "    </tr>\n",
       "    <tr>\n",
       "      <th>3</th>\n",
       "      <td>12</td>\n",
       "      <td>13</td>\n",
       "      <td>14</td>\n",
       "      <td>15</td>\n",
       "      <td>19</td>\n",
       "    </tr>\n",
       "    <tr>\n",
       "      <th>4</th>\n",
       "      <td>20</td>\n",
       "      <td>21</td>\n",
       "      <td>22</td>\n",
       "      <td>23</td>\n",
       "      <td>24</td>\n",
       "    </tr>\n",
       "  </tbody>\n",
       "</table>\n",
       "</div>"
      ],
      "text/plain": [
       "   zeroth_column  first_column  second_column  third_column  fourth_column\n",
       "0              0             1              2             3             16\n",
       "1              4             5              6             7             17\n",
       "2              8             9             10            11             18\n",
       "3             12            13             14            15             19\n",
       "4             20            21             22            23             24"
      ]
     },
     "execution_count": 16,
     "metadata": {},
     "output_type": "execute_result"
    }
   ],
   "source": [
    "df.iloc[:,:5]"
   ]
  },
  {
   "cell_type": "markdown",
   "metadata": {
    "id": "9oFEqAt5nA-k"
   },
   "source": [
    "10. Use `.loc[...]` and `.iloc[...]` to display the zeroth_column, the third_column and the fourth_column of the DataFrame."
   ]
  },
  {
   "cell_type": "code",
   "execution_count": 17,
   "metadata": {},
   "outputs": [
    {
     "data": {
      "application/vnd.microsoft.datawrangler.viewer.v0+json": {
       "columns": [
        {
         "name": "index",
         "rawType": "int64",
         "type": "integer"
        },
        {
         "name": "zeroth_column",
         "rawType": "int64",
         "type": "integer"
        },
        {
         "name": "third_column",
         "rawType": "int64",
         "type": "integer"
        },
        {
         "name": "fourth_column",
         "rawType": "int64",
         "type": "integer"
        }
       ],
       "ref": "0425e613-3be4-486c-a423-f44b142c7176",
       "rows": [
        [
         "0",
         "0",
         "3",
         "16"
        ],
        [
         "1",
         "4",
         "7",
         "17"
        ],
        [
         "2",
         "8",
         "11",
         "18"
        ],
        [
         "3",
         "12",
         "15",
         "19"
        ],
        [
         "4",
         "20",
         "23",
         "24"
        ]
       ],
       "shape": {
        "columns": 3,
        "rows": 5
       }
      },
      "text/html": [
       "<div>\n",
       "<style scoped>\n",
       "    .dataframe tbody tr th:only-of-type {\n",
       "        vertical-align: middle;\n",
       "    }\n",
       "\n",
       "    .dataframe tbody tr th {\n",
       "        vertical-align: top;\n",
       "    }\n",
       "\n",
       "    .dataframe thead th {\n",
       "        text-align: right;\n",
       "    }\n",
       "</style>\n",
       "<table border=\"1\" class=\"dataframe\">\n",
       "  <thead>\n",
       "    <tr style=\"text-align: right;\">\n",
       "      <th></th>\n",
       "      <th>zeroth_column</th>\n",
       "      <th>third_column</th>\n",
       "      <th>fourth_column</th>\n",
       "    </tr>\n",
       "  </thead>\n",
       "  <tbody>\n",
       "    <tr>\n",
       "      <th>0</th>\n",
       "      <td>0</td>\n",
       "      <td>3</td>\n",
       "      <td>16</td>\n",
       "    </tr>\n",
       "    <tr>\n",
       "      <th>1</th>\n",
       "      <td>4</td>\n",
       "      <td>7</td>\n",
       "      <td>17</td>\n",
       "    </tr>\n",
       "    <tr>\n",
       "      <th>2</th>\n",
       "      <td>8</td>\n",
       "      <td>11</td>\n",
       "      <td>18</td>\n",
       "    </tr>\n",
       "    <tr>\n",
       "      <th>3</th>\n",
       "      <td>12</td>\n",
       "      <td>15</td>\n",
       "      <td>19</td>\n",
       "    </tr>\n",
       "    <tr>\n",
       "      <th>4</th>\n",
       "      <td>20</td>\n",
       "      <td>23</td>\n",
       "      <td>24</td>\n",
       "    </tr>\n",
       "  </tbody>\n",
       "</table>\n",
       "</div>"
      ],
      "text/plain": [
       "   zeroth_column  third_column  fourth_column\n",
       "0              0             3             16\n",
       "1              4             7             17\n",
       "2              8            11             18\n",
       "3             12            15             19\n",
       "4             20            23             24"
      ]
     },
     "execution_count": 17,
     "metadata": {},
     "output_type": "execute_result"
    }
   ],
   "source": [
    "df.loc[:, [\"zeroth_column\", \"third_column\", \"fourth_column\"]]"
   ]
  },
  {
   "cell_type": "code",
   "execution_count": 18,
   "metadata": {},
   "outputs": [
    {
     "data": {
      "application/vnd.microsoft.datawrangler.viewer.v0+json": {
       "columns": [
        {
         "name": "index",
         "rawType": "int64",
         "type": "integer"
        },
        {
         "name": "first_column",
         "rawType": "int64",
         "type": "integer"
        },
        {
         "name": "fourth_column",
         "rawType": "int64",
         "type": "integer"
        },
        {
         "name": "fifth_column",
         "rawType": "int64",
         "type": "integer"
        }
       ],
       "ref": "d1fb6f30-52d9-4a21-addf-cee8c4558dac",
       "rows": [
        [
         "0",
         "1",
         "16",
         "25"
        ],
        [
         "1",
         "5",
         "17",
         "26"
        ],
        [
         "2",
         "9",
         "18",
         "27"
        ],
        [
         "3",
         "13",
         "19",
         "28"
        ],
        [
         "4",
         "21",
         "24",
         "29"
        ]
       ],
       "shape": {
        "columns": 3,
        "rows": 5
       }
      },
      "text/html": [
       "<div>\n",
       "<style scoped>\n",
       "    .dataframe tbody tr th:only-of-type {\n",
       "        vertical-align: middle;\n",
       "    }\n",
       "\n",
       "    .dataframe tbody tr th {\n",
       "        vertical-align: top;\n",
       "    }\n",
       "\n",
       "    .dataframe thead th {\n",
       "        text-align: right;\n",
       "    }\n",
       "</style>\n",
       "<table border=\"1\" class=\"dataframe\">\n",
       "  <thead>\n",
       "    <tr style=\"text-align: right;\">\n",
       "      <th></th>\n",
       "      <th>first_column</th>\n",
       "      <th>fourth_column</th>\n",
       "      <th>fifth_column</th>\n",
       "    </tr>\n",
       "  </thead>\n",
       "  <tbody>\n",
       "    <tr>\n",
       "      <th>0</th>\n",
       "      <td>1</td>\n",
       "      <td>16</td>\n",
       "      <td>25</td>\n",
       "    </tr>\n",
       "    <tr>\n",
       "      <th>1</th>\n",
       "      <td>5</td>\n",
       "      <td>17</td>\n",
       "      <td>26</td>\n",
       "    </tr>\n",
       "    <tr>\n",
       "      <th>2</th>\n",
       "      <td>9</td>\n",
       "      <td>18</td>\n",
       "      <td>27</td>\n",
       "    </tr>\n",
       "    <tr>\n",
       "      <th>3</th>\n",
       "      <td>13</td>\n",
       "      <td>19</td>\n",
       "      <td>28</td>\n",
       "    </tr>\n",
       "    <tr>\n",
       "      <th>4</th>\n",
       "      <td>21</td>\n",
       "      <td>24</td>\n",
       "      <td>29</td>\n",
       "    </tr>\n",
       "  </tbody>\n",
       "</table>\n",
       "</div>"
      ],
      "text/plain": [
       "   first_column  fourth_column  fifth_column\n",
       "0             1             16            25\n",
       "1             5             17            26\n",
       "2             9             18            27\n",
       "3            13             19            28\n",
       "4            21             24            29"
      ]
     },
     "execution_count": 18,
     "metadata": {},
     "output_type": "execute_result"
    }
   ],
   "source": [
    "df.iloc[:,[1,4,5]]"
   ]
  },
  {
   "cell_type": "markdown",
   "metadata": {
    "id": "Ckb3hPuFnA-l"
   },
   "source": [
    "11. Use `.loc[...]` to display row number 2 to 4 of the first_column and fourth_column of the DataFrame"
   ]
  },
  {
   "cell_type": "code",
   "execution_count": 19,
   "metadata": {},
   "outputs": [
    {
     "data": {
      "application/vnd.microsoft.datawrangler.viewer.v0+json": {
       "columns": [
        {
         "name": "index",
         "rawType": "int64",
         "type": "integer"
        },
        {
         "name": "first_column",
         "rawType": "int64",
         "type": "integer"
        },
        {
         "name": "fourth_column",
         "rawType": "int64",
         "type": "integer"
        }
       ],
       "ref": "def096d1-4730-4482-922d-6d4d0155001b",
       "rows": [
        [
         "2",
         "9",
         "18"
        ],
        [
         "3",
         "13",
         "19"
        ],
        [
         "4",
         "21",
         "24"
        ]
       ],
       "shape": {
        "columns": 2,
        "rows": 3
       }
      },
      "text/html": [
       "<div>\n",
       "<style scoped>\n",
       "    .dataframe tbody tr th:only-of-type {\n",
       "        vertical-align: middle;\n",
       "    }\n",
       "\n",
       "    .dataframe tbody tr th {\n",
       "        vertical-align: top;\n",
       "    }\n",
       "\n",
       "    .dataframe thead th {\n",
       "        text-align: right;\n",
       "    }\n",
       "</style>\n",
       "<table border=\"1\" class=\"dataframe\">\n",
       "  <thead>\n",
       "    <tr style=\"text-align: right;\">\n",
       "      <th></th>\n",
       "      <th>first_column</th>\n",
       "      <th>fourth_column</th>\n",
       "    </tr>\n",
       "  </thead>\n",
       "  <tbody>\n",
       "    <tr>\n",
       "      <th>2</th>\n",
       "      <td>9</td>\n",
       "      <td>18</td>\n",
       "    </tr>\n",
       "    <tr>\n",
       "      <th>3</th>\n",
       "      <td>13</td>\n",
       "      <td>19</td>\n",
       "    </tr>\n",
       "    <tr>\n",
       "      <th>4</th>\n",
       "      <td>21</td>\n",
       "      <td>24</td>\n",
       "    </tr>\n",
       "  </tbody>\n",
       "</table>\n",
       "</div>"
      ],
      "text/plain": [
       "   first_column  fourth_column\n",
       "2             9             18\n",
       "3            13             19\n",
       "4            21             24"
      ]
     },
     "execution_count": 19,
     "metadata": {},
     "output_type": "execute_result"
    }
   ],
   "source": [
    "df.loc[2:4,[\"first_column\",\"fourth_column\"]]"
   ]
  },
  {
   "cell_type": "markdown",
   "metadata": {
    "id": "0TRWZ9_tnA-l"
   },
   "source": [
    "## A First Real Dataset"
   ]
  },
  {
   "cell_type": "markdown",
   "metadata": {
    "id": "KhSZeWhYnA-l"
   },
   "source": [
    "Using test data is a bit boring. Let's use a real-world dataset to explore!  \n",
    "We'll be looking at the 'Annual working hours vs. productivity, 2019' from https://ourworldindata.org/grapher/productivity-vs-annual-hours-worked.  \n"
   ]
  },
  {
   "cell_type": "markdown",
   "metadata": {
    "id": "mA-ms8NWnA-l"
   },
   "source": [
    "**Task**:\n",
    "To load the data directly into pandas, click on the 'Download' button below the chart, then on the 'Data' tab and scroll down to the 'Code examples' to find 'Python with Pandas'. Copy and execute the code to load the data into a DataFrame. If this produces an error (e.g., because the host is unreachable), download the data manually, upload the csv file here and use `df = pd.read_csv(...)` to load the data into a DataFrame. Afterwards display the DataFrame `df`."
   ]
  },
  {
   "cell_type": "code",
   "execution_count": 20,
   "metadata": {},
   "outputs": [],
   "source": [
    "import pandas as pd\n",
    "import requests\n",
    "\n",
    "# Fetch the data.\n",
    "df = pd.read_csv(\"https://ourworldindata.org/grapher/productivity-vs-annual-hours-worked.csv?v=1&csvType=full&useColumnShortNames=true\", storage_options = {'User-Agent': 'Our World In Data data fetch/1.0'})\n",
    "\n",
    "# Fetch the metadata\n",
    "metadata = requests.get(\"https://ourworldindata.org/grapher/productivity-vs-annual-hours-worked.metadata.json?v=1&csvType=full&useColumnShortNames=true\").json()"
   ]
  },
  {
   "cell_type": "code",
   "execution_count": 21,
   "metadata": {},
   "outputs": [
    {
     "data": {
      "application/vnd.microsoft.datawrangler.viewer.v0+json": {
       "columns": [
        {
         "name": "index",
         "rawType": "int64",
         "type": "integer"
        },
        {
         "name": "Entity",
         "rawType": "object",
         "type": "string"
        },
        {
         "name": "Code",
         "rawType": "object",
         "type": "unknown"
        },
        {
         "name": "Year",
         "rawType": "int64",
         "type": "integer"
        },
        {
         "name": "avh",
         "rawType": "float64",
         "type": "float"
        },
        {
         "name": "productivity",
         "rawType": "float64",
         "type": "float"
        },
        {
         "name": "population_historical",
         "rawType": "float64",
         "type": "float"
        },
        {
         "name": "owid_region",
         "rawType": "object",
         "type": "unknown"
        }
       ],
       "ref": "fc97f5e7-e51d-494e-9ef5-9bb606b270fd",
       "rows": [
        [
         "0",
         "Afghanistan",
         "AFG",
         "-10000",
         null,
         null,
         "14737.0",
         null
        ],
        [
         "1",
         "Afghanistan",
         "AFG",
         "-9000",
         null,
         null,
         "20405.0",
         null
        ],
        [
         "2",
         "Afghanistan",
         "AFG",
         "-8000",
         null,
         null,
         "28253.0",
         null
        ],
        [
         "3",
         "Afghanistan",
         "AFG",
         "-7000",
         null,
         null,
         "39120.0",
         null
        ],
        [
         "4",
         "Afghanistan",
         "AFG",
         "-6000",
         null,
         null,
         "54166.0",
         null
        ],
        [
         "5",
         "Afghanistan",
         "AFG",
         "-5000",
         null,
         null,
         "75000.0",
         null
        ],
        [
         "6",
         "Afghanistan",
         "AFG",
         "-4000",
         null,
         null,
         "306250.0",
         null
        ],
        [
         "7",
         "Afghanistan",
         "AFG",
         "-3000",
         null,
         null,
         "537500.0",
         null
        ],
        [
         "8",
         "Afghanistan",
         "AFG",
         "-2000",
         null,
         null,
         "768750.0",
         null
        ],
        [
         "9",
         "Afghanistan",
         "AFG",
         "-1000",
         null,
         null,
         "1000000.0",
         null
        ],
        [
         "10",
         "Afghanistan",
         "AFG",
         "0",
         null,
         null,
         "2000000.0",
         null
        ],
        [
         "11",
         "Afghanistan",
         "AFG",
         "100",
         null,
         null,
         "2250000.0",
         null
        ],
        [
         "12",
         "Afghanistan",
         "AFG",
         "200",
         null,
         null,
         "2500000.0",
         null
        ],
        [
         "13",
         "Afghanistan",
         "AFG",
         "300",
         null,
         null,
         "2500000.0",
         null
        ],
        [
         "14",
         "Afghanistan",
         "AFG",
         "400",
         null,
         null,
         "2500000.0",
         null
        ],
        [
         "15",
         "Afghanistan",
         "AFG",
         "500",
         null,
         null,
         "2500000.0",
         null
        ],
        [
         "16",
         "Afghanistan",
         "AFG",
         "600",
         null,
         null,
         "2500000.0",
         null
        ],
        [
         "17",
         "Afghanistan",
         "AFG",
         "700",
         null,
         null,
         "2425000.0",
         null
        ],
        [
         "18",
         "Afghanistan",
         "AFG",
         "800",
         null,
         null,
         "2350000.0",
         null
        ],
        [
         "19",
         "Afghanistan",
         "AFG",
         "900",
         null,
         null,
         "2300000.0",
         null
        ],
        [
         "20",
         "Afghanistan",
         "AFG",
         "1000",
         null,
         null,
         "2250000.0",
         null
        ],
        [
         "21",
         "Afghanistan",
         "AFG",
         "1100",
         null,
         null,
         "2375000.0",
         null
        ],
        [
         "22",
         "Afghanistan",
         "AFG",
         "1200",
         null,
         null,
         "2500000.0",
         null
        ],
        [
         "23",
         "Afghanistan",
         "AFG",
         "1300",
         null,
         null,
         "1750000.0",
         null
        ],
        [
         "24",
         "Afghanistan",
         "AFG",
         "1400",
         null,
         null,
         "1875000.0",
         null
        ],
        [
         "25",
         "Afghanistan",
         "AFG",
         "1500",
         null,
         null,
         "2000000.0",
         null
        ],
        [
         "26",
         "Afghanistan",
         "AFG",
         "1600",
         null,
         null,
         "2500000.0",
         null
        ],
        [
         "27",
         "Afghanistan",
         "AFG",
         "1700",
         null,
         null,
         "2500000.0",
         null
        ],
        [
         "28",
         "Afghanistan",
         "AFG",
         "1710",
         null,
         null,
         "2561625.0",
         null
        ],
        [
         "29",
         "Afghanistan",
         "AFG",
         "1720",
         null,
         null,
         "2619844.0",
         null
        ],
        [
         "30",
         "Afghanistan",
         "AFG",
         "1730",
         null,
         null,
         "2679386.0",
         null
        ],
        [
         "31",
         "Afghanistan",
         "AFG",
         "1740",
         null,
         null,
         "2740281.0",
         null
        ],
        [
         "32",
         "Afghanistan",
         "AFG",
         "1750",
         null,
         null,
         "2802560.0",
         null
        ],
        [
         "33",
         "Afghanistan",
         "AFG",
         "1760",
         null,
         null,
         "2866255.0",
         null
        ],
        [
         "34",
         "Afghanistan",
         "AFG",
         "1770",
         null,
         null,
         "2931397.0",
         null
        ],
        [
         "35",
         "Afghanistan",
         "AFG",
         "1780",
         null,
         null,
         "2998019.0",
         null
        ],
        [
         "36",
         "Afghanistan",
         "AFG",
         "1790",
         null,
         null,
         "3066156.0",
         null
        ],
        [
         "37",
         "Afghanistan",
         "AFG",
         "1800",
         null,
         null,
         "3280000.0",
         null
        ],
        [
         "38",
         "Afghanistan",
         "AFG",
         "1801",
         null,
         null,
         "3280000.0",
         null
        ],
        [
         "39",
         "Afghanistan",
         "AFG",
         "1802",
         null,
         null,
         "3280000.0",
         null
        ],
        [
         "40",
         "Afghanistan",
         "AFG",
         "1803",
         null,
         null,
         "3280000.0",
         null
        ],
        [
         "41",
         "Afghanistan",
         "AFG",
         "1804",
         null,
         null,
         "3280000.0",
         null
        ],
        [
         "42",
         "Afghanistan",
         "AFG",
         "1805",
         null,
         null,
         "3280000.0",
         null
        ],
        [
         "43",
         "Afghanistan",
         "AFG",
         "1806",
         null,
         null,
         "3280000.0",
         null
        ],
        [
         "44",
         "Afghanistan",
         "AFG",
         "1807",
         null,
         null,
         "3280000.0",
         null
        ],
        [
         "45",
         "Afghanistan",
         "AFG",
         "1808",
         null,
         null,
         "3280000.0",
         null
        ],
        [
         "46",
         "Afghanistan",
         "AFG",
         "1809",
         null,
         null,
         "3280000.0",
         null
        ],
        [
         "47",
         "Afghanistan",
         "AFG",
         "1810",
         null,
         null,
         "3280000.0",
         null
        ],
        [
         "48",
         "Afghanistan",
         "AFG",
         "1811",
         null,
         null,
         "3280000.0",
         null
        ],
        [
         "49",
         "Afghanistan",
         "AFG",
         "1812",
         null,
         null,
         "3280000.0",
         null
        ]
       ],
       "shape": {
        "columns": 7,
        "rows": 58859
       }
      },
      "text/html": [
       "<div>\n",
       "<style scoped>\n",
       "    .dataframe tbody tr th:only-of-type {\n",
       "        vertical-align: middle;\n",
       "    }\n",
       "\n",
       "    .dataframe tbody tr th {\n",
       "        vertical-align: top;\n",
       "    }\n",
       "\n",
       "    .dataframe thead th {\n",
       "        text-align: right;\n",
       "    }\n",
       "</style>\n",
       "<table border=\"1\" class=\"dataframe\">\n",
       "  <thead>\n",
       "    <tr style=\"text-align: right;\">\n",
       "      <th></th>\n",
       "      <th>Entity</th>\n",
       "      <th>Code</th>\n",
       "      <th>Year</th>\n",
       "      <th>avh</th>\n",
       "      <th>productivity</th>\n",
       "      <th>population_historical</th>\n",
       "      <th>owid_region</th>\n",
       "    </tr>\n",
       "  </thead>\n",
       "  <tbody>\n",
       "    <tr>\n",
       "      <th>0</th>\n",
       "      <td>Afghanistan</td>\n",
       "      <td>AFG</td>\n",
       "      <td>-10000</td>\n",
       "      <td>NaN</td>\n",
       "      <td>NaN</td>\n",
       "      <td>14737.0</td>\n",
       "      <td>NaN</td>\n",
       "    </tr>\n",
       "    <tr>\n",
       "      <th>1</th>\n",
       "      <td>Afghanistan</td>\n",
       "      <td>AFG</td>\n",
       "      <td>-9000</td>\n",
       "      <td>NaN</td>\n",
       "      <td>NaN</td>\n",
       "      <td>20405.0</td>\n",
       "      <td>NaN</td>\n",
       "    </tr>\n",
       "    <tr>\n",
       "      <th>2</th>\n",
       "      <td>Afghanistan</td>\n",
       "      <td>AFG</td>\n",
       "      <td>-8000</td>\n",
       "      <td>NaN</td>\n",
       "      <td>NaN</td>\n",
       "      <td>28253.0</td>\n",
       "      <td>NaN</td>\n",
       "    </tr>\n",
       "    <tr>\n",
       "      <th>3</th>\n",
       "      <td>Afghanistan</td>\n",
       "      <td>AFG</td>\n",
       "      <td>-7000</td>\n",
       "      <td>NaN</td>\n",
       "      <td>NaN</td>\n",
       "      <td>39120.0</td>\n",
       "      <td>NaN</td>\n",
       "    </tr>\n",
       "    <tr>\n",
       "      <th>4</th>\n",
       "      <td>Afghanistan</td>\n",
       "      <td>AFG</td>\n",
       "      <td>-6000</td>\n",
       "      <td>NaN</td>\n",
       "      <td>NaN</td>\n",
       "      <td>54166.0</td>\n",
       "      <td>NaN</td>\n",
       "    </tr>\n",
       "    <tr>\n",
       "      <th>...</th>\n",
       "      <td>...</td>\n",
       "      <td>...</td>\n",
       "      <td>...</td>\n",
       "      <td>...</td>\n",
       "      <td>...</td>\n",
       "      <td>...</td>\n",
       "      <td>...</td>\n",
       "    </tr>\n",
       "    <tr>\n",
       "      <th>58854</th>\n",
       "      <td>Zimbabwe</td>\n",
       "      <td>ZWE</td>\n",
       "      <td>2000</td>\n",
       "      <td>NaN</td>\n",
       "      <td>NaN</td>\n",
       "      <td>11892055.0</td>\n",
       "      <td>NaN</td>\n",
       "    </tr>\n",
       "    <tr>\n",
       "      <th>58855</th>\n",
       "      <td>Zimbabwe</td>\n",
       "      <td>ZWE</td>\n",
       "      <td>2001</td>\n",
       "      <td>NaN</td>\n",
       "      <td>NaN</td>\n",
       "      <td>11971904.0</td>\n",
       "      <td>NaN</td>\n",
       "    </tr>\n",
       "    <tr>\n",
       "      <th>58856</th>\n",
       "      <td>Zimbabwe</td>\n",
       "      <td>ZWE</td>\n",
       "      <td>2002</td>\n",
       "      <td>NaN</td>\n",
       "      <td>NaN</td>\n",
       "      <td>12087661.0</td>\n",
       "      <td>NaN</td>\n",
       "    </tr>\n",
       "    <tr>\n",
       "      <th>58857</th>\n",
       "      <td>Zimbabwe</td>\n",
       "      <td>ZWE</td>\n",
       "      <td>2003</td>\n",
       "      <td>NaN</td>\n",
       "      <td>NaN</td>\n",
       "      <td>12232324.0</td>\n",
       "      <td>NaN</td>\n",
       "    </tr>\n",
       "    <tr>\n",
       "      <th>58858</th>\n",
       "      <td>Zimbabwe</td>\n",
       "      <td>ZWE</td>\n",
       "      <td>2004</td>\n",
       "      <td>NaN</td>\n",
       "      <td>NaN</td>\n",
       "      <td>12365901.0</td>\n",
       "      <td>NaN</td>\n",
       "    </tr>\n",
       "  </tbody>\n",
       "</table>\n",
       "<p>58859 rows × 7 columns</p>\n",
       "</div>"
      ],
      "text/plain": [
       "            Entity Code   Year  avh  productivity  population_historical  \\\n",
       "0      Afghanistan  AFG -10000  NaN           NaN                14737.0   \n",
       "1      Afghanistan  AFG  -9000  NaN           NaN                20405.0   \n",
       "2      Afghanistan  AFG  -8000  NaN           NaN                28253.0   \n",
       "3      Afghanistan  AFG  -7000  NaN           NaN                39120.0   \n",
       "4      Afghanistan  AFG  -6000  NaN           NaN                54166.0   \n",
       "...            ...  ...    ...  ...           ...                    ...   \n",
       "58854     Zimbabwe  ZWE   2000  NaN           NaN             11892055.0   \n",
       "58855     Zimbabwe  ZWE   2001  NaN           NaN             11971904.0   \n",
       "58856     Zimbabwe  ZWE   2002  NaN           NaN             12087661.0   \n",
       "58857     Zimbabwe  ZWE   2003  NaN           NaN             12232324.0   \n",
       "58858     Zimbabwe  ZWE   2004  NaN           NaN             12365901.0   \n",
       "\n",
       "      owid_region  \n",
       "0             NaN  \n",
       "1             NaN  \n",
       "2             NaN  \n",
       "3             NaN  \n",
       "4             NaN  \n",
       "...           ...  \n",
       "58854         NaN  \n",
       "58855         NaN  \n",
       "58856         NaN  \n",
       "58857         NaN  \n",
       "58858         NaN  \n",
       "\n",
       "[58859 rows x 7 columns]"
      ]
     },
     "execution_count": 21,
     "metadata": {},
     "output_type": "execute_result"
    }
   ],
   "source": [
    "df"
   ]
  },
  {
   "cell_type": "markdown",
   "metadata": {
    "id": "tll6pX_OnA-l"
   },
   "source": [
    "## Check Data Types"
   ]
  },
  {
   "cell_type": "markdown",
   "metadata": {
    "id": "5QQ1tX5PnA-l"
   },
   "source": [
    "Different columns can have different data types. We most commonly have `int64` for whole numbers, `float64` for floating point numbers and `object` for texts, but other data types are possible as well.\n",
    "\n",
    "**Task:** Check the data types of the columns by using `df.dtypes`."
   ]
  },
  {
   "cell_type": "code",
   "execution_count": 22,
   "metadata": {},
   "outputs": [
    {
     "data": {
      "application/vnd.microsoft.datawrangler.viewer.v0+json": {
       "columns": [
        {
         "name": "index",
         "rawType": "object",
         "type": "string"
        },
        {
         "name": "0",
         "rawType": "object",
         "type": "unknown"
        }
       ],
       "ref": "138597c6-e007-486b-ab60-ca168e4d5268",
       "rows": [
        [
         "Entity",
         "object"
        ],
        [
         "Code",
         "object"
        ],
        [
         "Year",
         "int64"
        ],
        [
         "avh",
         "float64"
        ],
        [
         "productivity",
         "float64"
        ],
        [
         "population_historical",
         "float64"
        ],
        [
         "owid_region",
         "object"
        ]
       ],
       "shape": {
        "columns": 1,
        "rows": 7
       }
      },
      "text/plain": [
       "Entity                    object\n",
       "Code                      object\n",
       "Year                       int64\n",
       "avh                      float64\n",
       "productivity             float64\n",
       "population_historical    float64\n",
       "owid_region               object\n",
       "dtype: object"
      ]
     },
     "execution_count": 22,
     "metadata": {},
     "output_type": "execute_result"
    }
   ],
   "source": [
    "df.dtypes"
   ]
  },
  {
   "cell_type": "markdown",
   "metadata": {
    "id": "PKuNkurmnA-l"
   },
   "source": [
    "## Check for Missing Values and Duplicates"
   ]
  },
  {
   "cell_type": "markdown",
   "metadata": {
    "id": "5ZW26RXknA-l"
   },
   "source": [
    "Especially with real-world data, we often have missing or duplicated values, that we should check for before further investigating the data."
   ]
  },
  {
   "cell_type": "markdown",
   "metadata": {
    "id": "AjHBIpEBnA-l"
   },
   "source": [
    "**Tasks:**  \n",
    "1. Check for missing values using first `df.isnull()` and then `df.isnull().sum()`. What do you think the `.sum()` is summing up?"
   ]
  },
  {
   "cell_type": "code",
   "execution_count": 23,
   "metadata": {},
   "outputs": [
    {
     "data": {
      "application/vnd.microsoft.datawrangler.viewer.v0+json": {
       "columns": [
        {
         "name": "index",
         "rawType": "int64",
         "type": "integer"
        },
        {
         "name": "Entity",
         "rawType": "bool",
         "type": "boolean"
        },
        {
         "name": "Code",
         "rawType": "bool",
         "type": "boolean"
        },
        {
         "name": "Year",
         "rawType": "bool",
         "type": "boolean"
        },
        {
         "name": "avh",
         "rawType": "bool",
         "type": "boolean"
        },
        {
         "name": "productivity",
         "rawType": "bool",
         "type": "boolean"
        },
        {
         "name": "population_historical",
         "rawType": "bool",
         "type": "boolean"
        },
        {
         "name": "owid_region",
         "rawType": "bool",
         "type": "boolean"
        }
       ],
       "ref": "ff614418-89a5-4084-b2c6-92cd76609ee6",
       "rows": [
        [
         "0",
         "False",
         "False",
         "False",
         "True",
         "True",
         "False",
         "True"
        ],
        [
         "1",
         "False",
         "False",
         "False",
         "True",
         "True",
         "False",
         "True"
        ],
        [
         "2",
         "False",
         "False",
         "False",
         "True",
         "True",
         "False",
         "True"
        ],
        [
         "3",
         "False",
         "False",
         "False",
         "True",
         "True",
         "False",
         "True"
        ],
        [
         "4",
         "False",
         "False",
         "False",
         "True",
         "True",
         "False",
         "True"
        ],
        [
         "5",
         "False",
         "False",
         "False",
         "True",
         "True",
         "False",
         "True"
        ],
        [
         "6",
         "False",
         "False",
         "False",
         "True",
         "True",
         "False",
         "True"
        ],
        [
         "7",
         "False",
         "False",
         "False",
         "True",
         "True",
         "False",
         "True"
        ],
        [
         "8",
         "False",
         "False",
         "False",
         "True",
         "True",
         "False",
         "True"
        ],
        [
         "9",
         "False",
         "False",
         "False",
         "True",
         "True",
         "False",
         "True"
        ],
        [
         "10",
         "False",
         "False",
         "False",
         "True",
         "True",
         "False",
         "True"
        ],
        [
         "11",
         "False",
         "False",
         "False",
         "True",
         "True",
         "False",
         "True"
        ],
        [
         "12",
         "False",
         "False",
         "False",
         "True",
         "True",
         "False",
         "True"
        ],
        [
         "13",
         "False",
         "False",
         "False",
         "True",
         "True",
         "False",
         "True"
        ],
        [
         "14",
         "False",
         "False",
         "False",
         "True",
         "True",
         "False",
         "True"
        ],
        [
         "15",
         "False",
         "False",
         "False",
         "True",
         "True",
         "False",
         "True"
        ],
        [
         "16",
         "False",
         "False",
         "False",
         "True",
         "True",
         "False",
         "True"
        ],
        [
         "17",
         "False",
         "False",
         "False",
         "True",
         "True",
         "False",
         "True"
        ],
        [
         "18",
         "False",
         "False",
         "False",
         "True",
         "True",
         "False",
         "True"
        ],
        [
         "19",
         "False",
         "False",
         "False",
         "True",
         "True",
         "False",
         "True"
        ],
        [
         "20",
         "False",
         "False",
         "False",
         "True",
         "True",
         "False",
         "True"
        ],
        [
         "21",
         "False",
         "False",
         "False",
         "True",
         "True",
         "False",
         "True"
        ],
        [
         "22",
         "False",
         "False",
         "False",
         "True",
         "True",
         "False",
         "True"
        ],
        [
         "23",
         "False",
         "False",
         "False",
         "True",
         "True",
         "False",
         "True"
        ],
        [
         "24",
         "False",
         "False",
         "False",
         "True",
         "True",
         "False",
         "True"
        ],
        [
         "25",
         "False",
         "False",
         "False",
         "True",
         "True",
         "False",
         "True"
        ],
        [
         "26",
         "False",
         "False",
         "False",
         "True",
         "True",
         "False",
         "True"
        ],
        [
         "27",
         "False",
         "False",
         "False",
         "True",
         "True",
         "False",
         "True"
        ],
        [
         "28",
         "False",
         "False",
         "False",
         "True",
         "True",
         "False",
         "True"
        ],
        [
         "29",
         "False",
         "False",
         "False",
         "True",
         "True",
         "False",
         "True"
        ],
        [
         "30",
         "False",
         "False",
         "False",
         "True",
         "True",
         "False",
         "True"
        ],
        [
         "31",
         "False",
         "False",
         "False",
         "True",
         "True",
         "False",
         "True"
        ],
        [
         "32",
         "False",
         "False",
         "False",
         "True",
         "True",
         "False",
         "True"
        ],
        [
         "33",
         "False",
         "False",
         "False",
         "True",
         "True",
         "False",
         "True"
        ],
        [
         "34",
         "False",
         "False",
         "False",
         "True",
         "True",
         "False",
         "True"
        ],
        [
         "35",
         "False",
         "False",
         "False",
         "True",
         "True",
         "False",
         "True"
        ],
        [
         "36",
         "False",
         "False",
         "False",
         "True",
         "True",
         "False",
         "True"
        ],
        [
         "37",
         "False",
         "False",
         "False",
         "True",
         "True",
         "False",
         "True"
        ],
        [
         "38",
         "False",
         "False",
         "False",
         "True",
         "True",
         "False",
         "True"
        ],
        [
         "39",
         "False",
         "False",
         "False",
         "True",
         "True",
         "False",
         "True"
        ],
        [
         "40",
         "False",
         "False",
         "False",
         "True",
         "True",
         "False",
         "True"
        ],
        [
         "41",
         "False",
         "False",
         "False",
         "True",
         "True",
         "False",
         "True"
        ],
        [
         "42",
         "False",
         "False",
         "False",
         "True",
         "True",
         "False",
         "True"
        ],
        [
         "43",
         "False",
         "False",
         "False",
         "True",
         "True",
         "False",
         "True"
        ],
        [
         "44",
         "False",
         "False",
         "False",
         "True",
         "True",
         "False",
         "True"
        ],
        [
         "45",
         "False",
         "False",
         "False",
         "True",
         "True",
         "False",
         "True"
        ],
        [
         "46",
         "False",
         "False",
         "False",
         "True",
         "True",
         "False",
         "True"
        ],
        [
         "47",
         "False",
         "False",
         "False",
         "True",
         "True",
         "False",
         "True"
        ],
        [
         "48",
         "False",
         "False",
         "False",
         "True",
         "True",
         "False",
         "True"
        ],
        [
         "49",
         "False",
         "False",
         "False",
         "True",
         "True",
         "False",
         "True"
        ]
       ],
       "shape": {
        "columns": 7,
        "rows": 58859
       }
      },
      "text/html": [
       "<div>\n",
       "<style scoped>\n",
       "    .dataframe tbody tr th:only-of-type {\n",
       "        vertical-align: middle;\n",
       "    }\n",
       "\n",
       "    .dataframe tbody tr th {\n",
       "        vertical-align: top;\n",
       "    }\n",
       "\n",
       "    .dataframe thead th {\n",
       "        text-align: right;\n",
       "    }\n",
       "</style>\n",
       "<table border=\"1\" class=\"dataframe\">\n",
       "  <thead>\n",
       "    <tr style=\"text-align: right;\">\n",
       "      <th></th>\n",
       "      <th>Entity</th>\n",
       "      <th>Code</th>\n",
       "      <th>Year</th>\n",
       "      <th>avh</th>\n",
       "      <th>productivity</th>\n",
       "      <th>population_historical</th>\n",
       "      <th>owid_region</th>\n",
       "    </tr>\n",
       "  </thead>\n",
       "  <tbody>\n",
       "    <tr>\n",
       "      <th>0</th>\n",
       "      <td>False</td>\n",
       "      <td>False</td>\n",
       "      <td>False</td>\n",
       "      <td>True</td>\n",
       "      <td>True</td>\n",
       "      <td>False</td>\n",
       "      <td>True</td>\n",
       "    </tr>\n",
       "    <tr>\n",
       "      <th>1</th>\n",
       "      <td>False</td>\n",
       "      <td>False</td>\n",
       "      <td>False</td>\n",
       "      <td>True</td>\n",
       "      <td>True</td>\n",
       "      <td>False</td>\n",
       "      <td>True</td>\n",
       "    </tr>\n",
       "    <tr>\n",
       "      <th>2</th>\n",
       "      <td>False</td>\n",
       "      <td>False</td>\n",
       "      <td>False</td>\n",
       "      <td>True</td>\n",
       "      <td>True</td>\n",
       "      <td>False</td>\n",
       "      <td>True</td>\n",
       "    </tr>\n",
       "    <tr>\n",
       "      <th>3</th>\n",
       "      <td>False</td>\n",
       "      <td>False</td>\n",
       "      <td>False</td>\n",
       "      <td>True</td>\n",
       "      <td>True</td>\n",
       "      <td>False</td>\n",
       "      <td>True</td>\n",
       "    </tr>\n",
       "    <tr>\n",
       "      <th>4</th>\n",
       "      <td>False</td>\n",
       "      <td>False</td>\n",
       "      <td>False</td>\n",
       "      <td>True</td>\n",
       "      <td>True</td>\n",
       "      <td>False</td>\n",
       "      <td>True</td>\n",
       "    </tr>\n",
       "    <tr>\n",
       "      <th>...</th>\n",
       "      <td>...</td>\n",
       "      <td>...</td>\n",
       "      <td>...</td>\n",
       "      <td>...</td>\n",
       "      <td>...</td>\n",
       "      <td>...</td>\n",
       "      <td>...</td>\n",
       "    </tr>\n",
       "    <tr>\n",
       "      <th>58854</th>\n",
       "      <td>False</td>\n",
       "      <td>False</td>\n",
       "      <td>False</td>\n",
       "      <td>True</td>\n",
       "      <td>True</td>\n",
       "      <td>False</td>\n",
       "      <td>True</td>\n",
       "    </tr>\n",
       "    <tr>\n",
       "      <th>58855</th>\n",
       "      <td>False</td>\n",
       "      <td>False</td>\n",
       "      <td>False</td>\n",
       "      <td>True</td>\n",
       "      <td>True</td>\n",
       "      <td>False</td>\n",
       "      <td>True</td>\n",
       "    </tr>\n",
       "    <tr>\n",
       "      <th>58856</th>\n",
       "      <td>False</td>\n",
       "      <td>False</td>\n",
       "      <td>False</td>\n",
       "      <td>True</td>\n",
       "      <td>True</td>\n",
       "      <td>False</td>\n",
       "      <td>True</td>\n",
       "    </tr>\n",
       "    <tr>\n",
       "      <th>58857</th>\n",
       "      <td>False</td>\n",
       "      <td>False</td>\n",
       "      <td>False</td>\n",
       "      <td>True</td>\n",
       "      <td>True</td>\n",
       "      <td>False</td>\n",
       "      <td>True</td>\n",
       "    </tr>\n",
       "    <tr>\n",
       "      <th>58858</th>\n",
       "      <td>False</td>\n",
       "      <td>False</td>\n",
       "      <td>False</td>\n",
       "      <td>True</td>\n",
       "      <td>True</td>\n",
       "      <td>False</td>\n",
       "      <td>True</td>\n",
       "    </tr>\n",
       "  </tbody>\n",
       "</table>\n",
       "<p>58859 rows × 7 columns</p>\n",
       "</div>"
      ],
      "text/plain": [
       "       Entity   Code   Year   avh  productivity  population_historical  \\\n",
       "0       False  False  False  True          True                  False   \n",
       "1       False  False  False  True          True                  False   \n",
       "2       False  False  False  True          True                  False   \n",
       "3       False  False  False  True          True                  False   \n",
       "4       False  False  False  True          True                  False   \n",
       "...       ...    ...    ...   ...           ...                    ...   \n",
       "58854   False  False  False  True          True                  False   \n",
       "58855   False  False  False  True          True                  False   \n",
       "58856   False  False  False  True          True                  False   \n",
       "58857   False  False  False  True          True                  False   \n",
       "58858   False  False  False  True          True                  False   \n",
       "\n",
       "       owid_region  \n",
       "0             True  \n",
       "1             True  \n",
       "2             True  \n",
       "3             True  \n",
       "4             True  \n",
       "...            ...  \n",
       "58854         True  \n",
       "58855         True  \n",
       "58856         True  \n",
       "58857         True  \n",
       "58858         True  \n",
       "\n",
       "[58859 rows x 7 columns]"
      ]
     },
     "execution_count": 23,
     "metadata": {},
     "output_type": "execute_result"
    }
   ],
   "source": [
    "df.isnull()"
   ]
  },
  {
   "cell_type": "code",
   "execution_count": 24,
   "metadata": {},
   "outputs": [
    {
     "data": {
      "application/vnd.microsoft.datawrangler.viewer.v0+json": {
       "columns": [
        {
         "name": "index",
         "rawType": "object",
         "type": "string"
        },
        {
         "name": "0",
         "rawType": "int64",
         "type": "integer"
        }
       ],
       "ref": "926644e3-4c24-4a37-b615-eada4cb5e187",
       "rows": [
        [
         "Entity",
         "0"
        ],
        [
         "Code",
         "3525"
        ],
        [
         "Year",
         "0"
        ],
        [
         "avh",
         "53894"
        ],
        [
         "productivity",
         "53894"
        ],
        [
         "population_historical",
         "35"
        ],
        [
         "owid_region",
         "58587"
        ]
       ],
       "shape": {
        "columns": 1,
        "rows": 7
       }
      },
      "text/plain": [
       "Entity                       0\n",
       "Code                      3525\n",
       "Year                         0\n",
       "avh                      53894\n",
       "productivity             53894\n",
       "population_historical       35\n",
       "owid_region              58587\n",
       "dtype: int64"
      ]
     },
     "execution_count": 24,
     "metadata": {},
     "output_type": "execute_result"
    }
   ],
   "source": [
    "df.isnull().sum()\n",
    "#  is summing up the header values"
   ]
  },
  {
   "cell_type": "markdown",
   "metadata": {
    "id": "qzeivDDLnA-l"
   },
   "source": [
    "2. Use `df.info()` to display both the data types and the missing value counts at once."
   ]
  },
  {
   "cell_type": "code",
   "execution_count": 25,
   "metadata": {},
   "outputs": [
    {
     "name": "stdout",
     "output_type": "stream",
     "text": [
      "<class 'pandas.core.frame.DataFrame'>\n",
      "RangeIndex: 58859 entries, 0 to 58858\n",
      "Data columns (total 7 columns):\n",
      " #   Column                 Non-Null Count  Dtype  \n",
      "---  ------                 --------------  -----  \n",
      " 0   Entity                 58859 non-null  object \n",
      " 1   Code                   55334 non-null  object \n",
      " 2   Year                   58859 non-null  int64  \n",
      " 3   avh                    4965 non-null   float64\n",
      " 4   productivity           4965 non-null   float64\n",
      " 5   population_historical  58824 non-null  float64\n",
      " 6   owid_region            272 non-null    object \n",
      "dtypes: float64(3), int64(1), object(3)\n",
      "memory usage: 3.1+ MB\n"
     ]
    }
   ],
   "source": [
    "df.info()"
   ]
  },
  {
   "cell_type": "markdown",
   "metadata": {
    "id": "Ph4L4Gb7nA-l"
   },
   "source": [
    "3. Check if there are duplicated rows using `df[df.duplicated(keep=False)]`."
   ]
  },
  {
   "cell_type": "code",
   "execution_count": 26,
   "metadata": {},
   "outputs": [
    {
     "data": {
      "application/vnd.microsoft.datawrangler.viewer.v0+json": {
       "columns": [
        {
         "name": "index",
         "rawType": "int64",
         "type": "integer"
        },
        {
         "name": "Entity",
         "rawType": "object",
         "type": "string"
        },
        {
         "name": "Code",
         "rawType": "object",
         "type": "string"
        },
        {
         "name": "Year",
         "rawType": "int64",
         "type": "integer"
        },
        {
         "name": "avh",
         "rawType": "float64",
         "type": "float"
        },
        {
         "name": "productivity",
         "rawType": "float64",
         "type": "float"
        },
        {
         "name": "population_historical",
         "rawType": "float64",
         "type": "float"
        },
        {
         "name": "owid_region",
         "rawType": "object",
         "type": "string"
        }
       ],
       "ref": "e0f1b6c0-1d94-42f8-a4e0-959c89813061",
       "rows": [],
       "shape": {
        "columns": 7,
        "rows": 0
       }
      },
      "text/html": [
       "<div>\n",
       "<style scoped>\n",
       "    .dataframe tbody tr th:only-of-type {\n",
       "        vertical-align: middle;\n",
       "    }\n",
       "\n",
       "    .dataframe tbody tr th {\n",
       "        vertical-align: top;\n",
       "    }\n",
       "\n",
       "    .dataframe thead th {\n",
       "        text-align: right;\n",
       "    }\n",
       "</style>\n",
       "<table border=\"1\" class=\"dataframe\">\n",
       "  <thead>\n",
       "    <tr style=\"text-align: right;\">\n",
       "      <th></th>\n",
       "      <th>Entity</th>\n",
       "      <th>Code</th>\n",
       "      <th>Year</th>\n",
       "      <th>avh</th>\n",
       "      <th>productivity</th>\n",
       "      <th>population_historical</th>\n",
       "      <th>owid_region</th>\n",
       "    </tr>\n",
       "  </thead>\n",
       "  <tbody>\n",
       "  </tbody>\n",
       "</table>\n",
       "</div>"
      ],
      "text/plain": [
       "Empty DataFrame\n",
       "Columns: [Entity, Code, Year, avh, productivity, population_historical, owid_region]\n",
       "Index: []"
      ]
     },
     "execution_count": 26,
     "metadata": {},
     "output_type": "execute_result"
    }
   ],
   "source": [
    "df[df.duplicated(keep=False)]"
   ]
  },
  {
   "cell_type": "markdown",
   "metadata": {
    "id": "40OJUhgenA-m"
   },
   "source": [
    "4. Check if you have more than one entry per entity using `df[df.duplicated(subset=[\"column1\", \"column2\", ...], keep=False)]`."
   ]
  },
  {
   "cell_type": "code",
   "execution_count": 27,
   "metadata": {},
   "outputs": [
    {
     "data": {
      "application/vnd.microsoft.datawrangler.viewer.v0+json": {
       "columns": [
        {
         "name": "index",
         "rawType": "int64",
         "type": "integer"
        },
        {
         "name": "Entity",
         "rawType": "object",
         "type": "string"
        },
        {
         "name": "Code",
         "rawType": "object",
         "type": "string"
        },
        {
         "name": "Year",
         "rawType": "int64",
         "type": "integer"
        },
        {
         "name": "avh",
         "rawType": "float64",
         "type": "float"
        },
        {
         "name": "productivity",
         "rawType": "float64",
         "type": "float"
        },
        {
         "name": "population_historical",
         "rawType": "float64",
         "type": "float"
        },
        {
         "name": "owid_region",
         "rawType": "object",
         "type": "string"
        }
       ],
       "ref": "b101593b-2cec-48a3-b14f-b011711cfb3c",
       "rows": [],
       "shape": {
        "columns": 7,
        "rows": 0
       }
      },
      "text/html": [
       "<div>\n",
       "<style scoped>\n",
       "    .dataframe tbody tr th:only-of-type {\n",
       "        vertical-align: middle;\n",
       "    }\n",
       "\n",
       "    .dataframe tbody tr th {\n",
       "        vertical-align: top;\n",
       "    }\n",
       "\n",
       "    .dataframe thead th {\n",
       "        text-align: right;\n",
       "    }\n",
       "</style>\n",
       "<table border=\"1\" class=\"dataframe\">\n",
       "  <thead>\n",
       "    <tr style=\"text-align: right;\">\n",
       "      <th></th>\n",
       "      <th>Entity</th>\n",
       "      <th>Code</th>\n",
       "      <th>Year</th>\n",
       "      <th>avh</th>\n",
       "      <th>productivity</th>\n",
       "      <th>population_historical</th>\n",
       "      <th>owid_region</th>\n",
       "    </tr>\n",
       "  </thead>\n",
       "  <tbody>\n",
       "  </tbody>\n",
       "</table>\n",
       "</div>"
      ],
      "text/plain": [
       "Empty DataFrame\n",
       "Columns: [Entity, Code, Year, avh, productivity, population_historical, owid_region]\n",
       "Index: []"
      ]
     },
     "execution_count": 27,
     "metadata": {},
     "output_type": "execute_result"
    }
   ],
   "source": [
    "df[df.duplicated(subset=[\"Entity\",\"Code\",\"Year\",\"avh\",\"productivity\",\"population_historical\",\"owid_region\"], keep=False)]"
   ]
  },
  {
   "cell_type": "markdown",
   "metadata": {
    "id": "foz4x6KLnA-m"
   },
   "source": [
    "5. Check if you have more than one entry per entity per year."
   ]
  },
  {
   "cell_type": "code",
   "execution_count": 28,
   "metadata": {},
   "outputs": [
    {
     "data": {
      "application/vnd.microsoft.datawrangler.viewer.v0+json": {
       "columns": [
        {
         "name": "index",
         "rawType": "int64",
         "type": "integer"
        },
        {
         "name": "Entity",
         "rawType": "object",
         "type": "string"
        },
        {
         "name": "Code",
         "rawType": "object",
         "type": "unknown"
        },
        {
         "name": "Year",
         "rawType": "int64",
         "type": "integer"
        },
        {
         "name": "avh",
         "rawType": "float64",
         "type": "float"
        },
        {
         "name": "productivity",
         "rawType": "float64",
         "type": "float"
        },
        {
         "name": "population_historical",
         "rawType": "float64",
         "type": "float"
        },
        {
         "name": "owid_region",
         "rawType": "object",
         "type": "unknown"
        }
       ],
       "ref": "2559b70d-9f43-4af6-aa56-d29e01c28b88",
       "rows": [
        [
         "0",
         "Afghanistan",
         "AFG",
         "-10000",
         null,
         null,
         "14737.0",
         null
        ],
        [
         "1",
         "Afghanistan",
         "AFG",
         "-9000",
         null,
         null,
         "20405.0",
         null
        ],
        [
         "2",
         "Afghanistan",
         "AFG",
         "-8000",
         null,
         null,
         "28253.0",
         null
        ],
        [
         "3",
         "Afghanistan",
         "AFG",
         "-7000",
         null,
         null,
         "39120.0",
         null
        ],
        [
         "4",
         "Afghanistan",
         "AFG",
         "-6000",
         null,
         null,
         "54166.0",
         null
        ],
        [
         "5",
         "Afghanistan",
         "AFG",
         "-5000",
         null,
         null,
         "75000.0",
         null
        ],
        [
         "6",
         "Afghanistan",
         "AFG",
         "-4000",
         null,
         null,
         "306250.0",
         null
        ],
        [
         "7",
         "Afghanistan",
         "AFG",
         "-3000",
         null,
         null,
         "537500.0",
         null
        ],
        [
         "8",
         "Afghanistan",
         "AFG",
         "-2000",
         null,
         null,
         "768750.0",
         null
        ],
        [
         "9",
         "Afghanistan",
         "AFG",
         "-1000",
         null,
         null,
         "1000000.0",
         null
        ],
        [
         "10",
         "Afghanistan",
         "AFG",
         "0",
         null,
         null,
         "2000000.0",
         null
        ],
        [
         "11",
         "Afghanistan",
         "AFG",
         "100",
         null,
         null,
         "2250000.0",
         null
        ],
        [
         "12",
         "Afghanistan",
         "AFG",
         "200",
         null,
         null,
         "2500000.0",
         null
        ],
        [
         "13",
         "Afghanistan",
         "AFG",
         "300",
         null,
         null,
         "2500000.0",
         null
        ],
        [
         "14",
         "Afghanistan",
         "AFG",
         "400",
         null,
         null,
         "2500000.0",
         null
        ],
        [
         "15",
         "Afghanistan",
         "AFG",
         "500",
         null,
         null,
         "2500000.0",
         null
        ],
        [
         "16",
         "Afghanistan",
         "AFG",
         "600",
         null,
         null,
         "2500000.0",
         null
        ],
        [
         "17",
         "Afghanistan",
         "AFG",
         "700",
         null,
         null,
         "2425000.0",
         null
        ],
        [
         "18",
         "Afghanistan",
         "AFG",
         "800",
         null,
         null,
         "2350000.0",
         null
        ],
        [
         "19",
         "Afghanistan",
         "AFG",
         "900",
         null,
         null,
         "2300000.0",
         null
        ],
        [
         "20",
         "Afghanistan",
         "AFG",
         "1000",
         null,
         null,
         "2250000.0",
         null
        ],
        [
         "21",
         "Afghanistan",
         "AFG",
         "1100",
         null,
         null,
         "2375000.0",
         null
        ],
        [
         "22",
         "Afghanistan",
         "AFG",
         "1200",
         null,
         null,
         "2500000.0",
         null
        ],
        [
         "23",
         "Afghanistan",
         "AFG",
         "1300",
         null,
         null,
         "1750000.0",
         null
        ],
        [
         "24",
         "Afghanistan",
         "AFG",
         "1400",
         null,
         null,
         "1875000.0",
         null
        ],
        [
         "25",
         "Afghanistan",
         "AFG",
         "1500",
         null,
         null,
         "2000000.0",
         null
        ],
        [
         "26",
         "Afghanistan",
         "AFG",
         "1600",
         null,
         null,
         "2500000.0",
         null
        ],
        [
         "27",
         "Afghanistan",
         "AFG",
         "1700",
         null,
         null,
         "2500000.0",
         null
        ],
        [
         "28",
         "Afghanistan",
         "AFG",
         "1710",
         null,
         null,
         "2561625.0",
         null
        ],
        [
         "29",
         "Afghanistan",
         "AFG",
         "1720",
         null,
         null,
         "2619844.0",
         null
        ],
        [
         "30",
         "Afghanistan",
         "AFG",
         "1730",
         null,
         null,
         "2679386.0",
         null
        ],
        [
         "31",
         "Afghanistan",
         "AFG",
         "1740",
         null,
         null,
         "2740281.0",
         null
        ],
        [
         "32",
         "Afghanistan",
         "AFG",
         "1750",
         null,
         null,
         "2802560.0",
         null
        ],
        [
         "33",
         "Afghanistan",
         "AFG",
         "1760",
         null,
         null,
         "2866255.0",
         null
        ],
        [
         "34",
         "Afghanistan",
         "AFG",
         "1770",
         null,
         null,
         "2931397.0",
         null
        ],
        [
         "35",
         "Afghanistan",
         "AFG",
         "1780",
         null,
         null,
         "2998019.0",
         null
        ],
        [
         "36",
         "Afghanistan",
         "AFG",
         "1790",
         null,
         null,
         "3066156.0",
         null
        ],
        [
         "37",
         "Afghanistan",
         "AFG",
         "1800",
         null,
         null,
         "3280000.0",
         null
        ],
        [
         "38",
         "Afghanistan",
         "AFG",
         "1801",
         null,
         null,
         "3280000.0",
         null
        ],
        [
         "39",
         "Afghanistan",
         "AFG",
         "1802",
         null,
         null,
         "3280000.0",
         null
        ],
        [
         "40",
         "Afghanistan",
         "AFG",
         "1803",
         null,
         null,
         "3280000.0",
         null
        ],
        [
         "41",
         "Afghanistan",
         "AFG",
         "1804",
         null,
         null,
         "3280000.0",
         null
        ],
        [
         "42",
         "Afghanistan",
         "AFG",
         "1805",
         null,
         null,
         "3280000.0",
         null
        ],
        [
         "43",
         "Afghanistan",
         "AFG",
         "1806",
         null,
         null,
         "3280000.0",
         null
        ],
        [
         "44",
         "Afghanistan",
         "AFG",
         "1807",
         null,
         null,
         "3280000.0",
         null
        ],
        [
         "45",
         "Afghanistan",
         "AFG",
         "1808",
         null,
         null,
         "3280000.0",
         null
        ],
        [
         "46",
         "Afghanistan",
         "AFG",
         "1809",
         null,
         null,
         "3280000.0",
         null
        ],
        [
         "47",
         "Afghanistan",
         "AFG",
         "1810",
         null,
         null,
         "3280000.0",
         null
        ],
        [
         "48",
         "Afghanistan",
         "AFG",
         "1811",
         null,
         null,
         "3280000.0",
         null
        ],
        [
         "49",
         "Afghanistan",
         "AFG",
         "1812",
         null,
         null,
         "3280000.0",
         null
        ]
       ],
       "shape": {
        "columns": 7,
        "rows": 58855
       }
      },
      "text/html": [
       "<div>\n",
       "<style scoped>\n",
       "    .dataframe tbody tr th:only-of-type {\n",
       "        vertical-align: middle;\n",
       "    }\n",
       "\n",
       "    .dataframe tbody tr th {\n",
       "        vertical-align: top;\n",
       "    }\n",
       "\n",
       "    .dataframe thead th {\n",
       "        text-align: right;\n",
       "    }\n",
       "</style>\n",
       "<table border=\"1\" class=\"dataframe\">\n",
       "  <thead>\n",
       "    <tr style=\"text-align: right;\">\n",
       "      <th></th>\n",
       "      <th>Entity</th>\n",
       "      <th>Code</th>\n",
       "      <th>Year</th>\n",
       "      <th>avh</th>\n",
       "      <th>productivity</th>\n",
       "      <th>population_historical</th>\n",
       "      <th>owid_region</th>\n",
       "    </tr>\n",
       "  </thead>\n",
       "  <tbody>\n",
       "    <tr>\n",
       "      <th>0</th>\n",
       "      <td>Afghanistan</td>\n",
       "      <td>AFG</td>\n",
       "      <td>-10000</td>\n",
       "      <td>NaN</td>\n",
       "      <td>NaN</td>\n",
       "      <td>14737.0</td>\n",
       "      <td>NaN</td>\n",
       "    </tr>\n",
       "    <tr>\n",
       "      <th>1</th>\n",
       "      <td>Afghanistan</td>\n",
       "      <td>AFG</td>\n",
       "      <td>-9000</td>\n",
       "      <td>NaN</td>\n",
       "      <td>NaN</td>\n",
       "      <td>20405.0</td>\n",
       "      <td>NaN</td>\n",
       "    </tr>\n",
       "    <tr>\n",
       "      <th>2</th>\n",
       "      <td>Afghanistan</td>\n",
       "      <td>AFG</td>\n",
       "      <td>-8000</td>\n",
       "      <td>NaN</td>\n",
       "      <td>NaN</td>\n",
       "      <td>28253.0</td>\n",
       "      <td>NaN</td>\n",
       "    </tr>\n",
       "    <tr>\n",
       "      <th>3</th>\n",
       "      <td>Afghanistan</td>\n",
       "      <td>AFG</td>\n",
       "      <td>-7000</td>\n",
       "      <td>NaN</td>\n",
       "      <td>NaN</td>\n",
       "      <td>39120.0</td>\n",
       "      <td>NaN</td>\n",
       "    </tr>\n",
       "    <tr>\n",
       "      <th>4</th>\n",
       "      <td>Afghanistan</td>\n",
       "      <td>AFG</td>\n",
       "      <td>-6000</td>\n",
       "      <td>NaN</td>\n",
       "      <td>NaN</td>\n",
       "      <td>54166.0</td>\n",
       "      <td>NaN</td>\n",
       "    </tr>\n",
       "    <tr>\n",
       "      <th>...</th>\n",
       "      <td>...</td>\n",
       "      <td>...</td>\n",
       "      <td>...</td>\n",
       "      <td>...</td>\n",
       "      <td>...</td>\n",
       "      <td>...</td>\n",
       "      <td>...</td>\n",
       "    </tr>\n",
       "    <tr>\n",
       "      <th>58854</th>\n",
       "      <td>Zimbabwe</td>\n",
       "      <td>ZWE</td>\n",
       "      <td>2000</td>\n",
       "      <td>NaN</td>\n",
       "      <td>NaN</td>\n",
       "      <td>11892055.0</td>\n",
       "      <td>NaN</td>\n",
       "    </tr>\n",
       "    <tr>\n",
       "      <th>58855</th>\n",
       "      <td>Zimbabwe</td>\n",
       "      <td>ZWE</td>\n",
       "      <td>2001</td>\n",
       "      <td>NaN</td>\n",
       "      <td>NaN</td>\n",
       "      <td>11971904.0</td>\n",
       "      <td>NaN</td>\n",
       "    </tr>\n",
       "    <tr>\n",
       "      <th>58856</th>\n",
       "      <td>Zimbabwe</td>\n",
       "      <td>ZWE</td>\n",
       "      <td>2002</td>\n",
       "      <td>NaN</td>\n",
       "      <td>NaN</td>\n",
       "      <td>12087661.0</td>\n",
       "      <td>NaN</td>\n",
       "    </tr>\n",
       "    <tr>\n",
       "      <th>58857</th>\n",
       "      <td>Zimbabwe</td>\n",
       "      <td>ZWE</td>\n",
       "      <td>2003</td>\n",
       "      <td>NaN</td>\n",
       "      <td>NaN</td>\n",
       "      <td>12232324.0</td>\n",
       "      <td>NaN</td>\n",
       "    </tr>\n",
       "    <tr>\n",
       "      <th>58858</th>\n",
       "      <td>Zimbabwe</td>\n",
       "      <td>ZWE</td>\n",
       "      <td>2004</td>\n",
       "      <td>NaN</td>\n",
       "      <td>NaN</td>\n",
       "      <td>12365901.0</td>\n",
       "      <td>NaN</td>\n",
       "    </tr>\n",
       "  </tbody>\n",
       "</table>\n",
       "<p>58855 rows × 7 columns</p>\n",
       "</div>"
      ],
      "text/plain": [
       "            Entity Code   Year  avh  productivity  population_historical  \\\n",
       "0      Afghanistan  AFG -10000  NaN           NaN                14737.0   \n",
       "1      Afghanistan  AFG  -9000  NaN           NaN                20405.0   \n",
       "2      Afghanistan  AFG  -8000  NaN           NaN                28253.0   \n",
       "3      Afghanistan  AFG  -7000  NaN           NaN                39120.0   \n",
       "4      Afghanistan  AFG  -6000  NaN           NaN                54166.0   \n",
       "...            ...  ...    ...  ...           ...                    ...   \n",
       "58854     Zimbabwe  ZWE   2000  NaN           NaN             11892055.0   \n",
       "58855     Zimbabwe  ZWE   2001  NaN           NaN             11971904.0   \n",
       "58856     Zimbabwe  ZWE   2002  NaN           NaN             12087661.0   \n",
       "58857     Zimbabwe  ZWE   2003  NaN           NaN             12232324.0   \n",
       "58858     Zimbabwe  ZWE   2004  NaN           NaN             12365901.0   \n",
       "\n",
       "      owid_region  \n",
       "0             NaN  \n",
       "1             NaN  \n",
       "2             NaN  \n",
       "3             NaN  \n",
       "4             NaN  \n",
       "...           ...  \n",
       "58854         NaN  \n",
       "58855         NaN  \n",
       "58856         NaN  \n",
       "58857         NaN  \n",
       "58858         NaN  \n",
       "\n",
       "[58855 rows x 7 columns]"
      ]
     },
     "execution_count": 28,
     "metadata": {},
     "output_type": "execute_result"
    }
   ],
   "source": [
    "df[df.duplicated(subset=[\"Year\"],keep=False)]"
   ]
  },
  {
   "cell_type": "markdown",
   "metadata": {
    "id": "stQ4i_H_nA-m"
   },
   "source": [
    "## Filtering"
   ]
  },
  {
   "cell_type": "markdown",
   "metadata": {
    "id": "6DgL2sJPnA-m"
   },
   "source": [
    "Often times we want to filter a DataFrame to only display rows and columns with specific values. This is done by using masks consisting of `True` and `False` for each entry in the DataFrame, as e.g. produced by `df.isnull()`, `df.duplicated()` or by using comparison operators `<`, `<=`, `==`, `>=`, `>`."
   ]
  },
  {
   "cell_type": "markdown",
   "metadata": {
    "id": "W3n_5kcMnA-m"
   },
   "source": [
    "**Tasks:**  \n",
    "1. There are some records in `Population (historical)` column missing. Use `df[df['column'].isnull()]` to display only rows with missing values in that column. Check which years these missing values are from.  "
   ]
  },
  {
   "cell_type": "code",
   "execution_count": 29,
   "metadata": {},
   "outputs": [
    {
     "data": {
      "application/vnd.microsoft.datawrangler.viewer.v0+json": {
       "columns": [
        {
         "name": "index",
         "rawType": "int64",
         "type": "integer"
        },
        {
         "name": "Entity",
         "rawType": "object",
         "type": "string"
        },
        {
         "name": "Code",
         "rawType": "object",
         "type": "unknown"
        },
        {
         "name": "Year",
         "rawType": "int64",
         "type": "integer"
        },
        {
         "name": "avh",
         "rawType": "float64",
         "type": "float"
        },
        {
         "name": "productivity",
         "rawType": "float64",
         "type": "float"
        },
        {
         "name": "population_historical",
         "rawType": "float64",
         "type": "float"
        },
        {
         "name": "owid_region",
         "rawType": "object",
         "type": "string"
        }
       ],
       "ref": "f795fa89-a0b4-479f-a7d4-f63e11f3c7b5",
       "rows": [
        [
         "599",
         "Aland Islands",
         "ALA",
         "2023",
         null,
         null,
         null,
         "Europe"
        ],
        [
         "3705",
         "Austria-Hungary",
         "OWID_AUH",
         "2023",
         null,
         null,
         null,
         "Europe"
        ],
        [
         "7515",
         "British Indian Ocean Territory",
         "IOT",
         "2023",
         null,
         null,
         null,
         "Asia"
        ],
        [
         "10785",
         "Christmas Island",
         "CXR",
         "2023",
         null,
         null,
         null,
         "Asia"
        ],
        [
         "10786",
         "Cocos Islands",
         "CCK",
         "2023",
         null,
         null,
         null,
         "Asia"
        ],
        [
         "13362",
         "Czechoslovakia",
         "OWID_CZS",
         "2023",
         null,
         null,
         null,
         "Europe"
        ],
        [
         "13624",
         "Democratic Republic of Vietnam",
         null,
         "2023",
         null,
         null,
         null,
         "Asia"
        ],
        [
         "14664",
         "Duchy of Modena and Reggio",
         null,
         "2023",
         null,
         null,
         null,
         "Europe"
        ],
        [
         "14665",
         "Duchy of Parma and Piacenza",
         null,
         "2023",
         null,
         null,
         null,
         "Europe"
        ],
        [
         "14674",
         "East Germany",
         "OWID_GDR",
         "2023",
         null,
         null,
         null,
         "Europe"
        ],
        [
         "17072",
         "Ethiopia (former)",
         "OWID_ERE",
         "2023",
         null,
         null,
         null,
         "Africa"
        ],
        [
         "17896",
         "Federal Republic of Central America",
         null,
         "2023",
         null,
         null,
         null,
         "North America"
        ],
        [
         "20259",
         "Grand Duchy of Baden",
         null,
         "2023",
         null,
         null,
         null,
         "Europe"
        ],
        [
         "20260",
         "Grand Duchy of Tuscany",
         null,
         "2023",
         null,
         null,
         null,
         "Europe"
        ],
        [
         "20261",
         "Great Colombia",
         null,
         "2023",
         null,
         null,
         null,
         "South America"
        ],
        [
         "26994",
         "Kingdom of Bavaria",
         null,
         "2023",
         null,
         null,
         null,
         "Europe"
        ],
        [
         "26995",
         "Kingdom of Sardinia",
         null,
         "2023",
         null,
         null,
         null,
         "Europe"
        ],
        [
         "26996",
         "Kingdom of Saxony",
         null,
         "2023",
         null,
         null,
         null,
         "Europe"
        ],
        [
         "26997",
         "Kingdom of Wurttemberg",
         null,
         "2023",
         null,
         null,
         null,
         "Europe"
        ],
        [
         "26998",
         "Kingdom of the Two Sicilies",
         null,
         "2023",
         null,
         null,
         null,
         "Europe"
        ],
        [
         "27223",
         "Korea (former)",
         "OWID_KRU",
         "2023",
         null,
         null,
         null,
         "Asia"
        ],
        [
         "36768",
         "Netherlands Antilles",
         "ANT",
         "2023",
         null,
         null,
         null,
         "North America"
        ],
        [
         "37991",
         "Norfolk Island",
         "NFK",
         "2023",
         null,
         null,
         null,
         "Oceania"
        ],
        [
         "39782",
         "Orange Free State",
         null,
         "2023",
         null,
         null,
         null,
         "Africa"
        ],
        [
         "40044",
         "Pakistan (former)",
         null,
         "2023",
         null,
         null,
         null,
         "Asia"
        ],
        [
         "41798",
         "Pitcairn",
         "PCN",
         "2023",
         null,
         null,
         null,
         "Oceania"
        ],
        [
         "42701",
         "Republic of Vietnam",
         "OWID_RVN",
         "2023",
         null,
         null,
         null,
         "Asia"
        ],
        [
         "46282",
         "Serbia and Montenegro",
         "OWID_SRM",
         "2023",
         null,
         null,
         null,
         "Europe"
        ],
        [
         "48654",
         "South Georgia and the South Sandwich Islands",
         "SGS",
         "2023",
         null,
         null,
         null,
         "South America"
        ],
        [
         "49925",
         "Sudan (former)",
         null,
         "2023",
         null,
         null,
         null,
         "Africa"
        ],
        [
         "54292",
         "USSR",
         "OWID_USS",
         "2023",
         null,
         null,
         null,
         "Europe"
        ],
        [
         "57573",
         "West Germany",
         "OWID_GFR",
         "2023",
         null,
         null,
         null,
         "Europe"
        ],
        [
         "58234",
         "Yemen Arab Republic",
         "OWID_YAR",
         "2023",
         null,
         null,
         null,
         "Asia"
        ],
        [
         "58258",
         "Yemen People's Republic",
         "OWID_YPR",
         "2023",
         null,
         null,
         null,
         "Asia"
        ],
        [
         "58336",
         "Yugoslavia",
         "OWID_YGS",
         "2023",
         null,
         null,
         null,
         "Europe"
        ]
       ],
       "shape": {
        "columns": 7,
        "rows": 35
       }
      },
      "text/html": [
       "<div>\n",
       "<style scoped>\n",
       "    .dataframe tbody tr th:only-of-type {\n",
       "        vertical-align: middle;\n",
       "    }\n",
       "\n",
       "    .dataframe tbody tr th {\n",
       "        vertical-align: top;\n",
       "    }\n",
       "\n",
       "    .dataframe thead th {\n",
       "        text-align: right;\n",
       "    }\n",
       "</style>\n",
       "<table border=\"1\" class=\"dataframe\">\n",
       "  <thead>\n",
       "    <tr style=\"text-align: right;\">\n",
       "      <th></th>\n",
       "      <th>Entity</th>\n",
       "      <th>Code</th>\n",
       "      <th>Year</th>\n",
       "      <th>avh</th>\n",
       "      <th>productivity</th>\n",
       "      <th>population_historical</th>\n",
       "      <th>owid_region</th>\n",
       "    </tr>\n",
       "  </thead>\n",
       "  <tbody>\n",
       "    <tr>\n",
       "      <th>599</th>\n",
       "      <td>Aland Islands</td>\n",
       "      <td>ALA</td>\n",
       "      <td>2023</td>\n",
       "      <td>NaN</td>\n",
       "      <td>NaN</td>\n",
       "      <td>NaN</td>\n",
       "      <td>Europe</td>\n",
       "    </tr>\n",
       "    <tr>\n",
       "      <th>3705</th>\n",
       "      <td>Austria-Hungary</td>\n",
       "      <td>OWID_AUH</td>\n",
       "      <td>2023</td>\n",
       "      <td>NaN</td>\n",
       "      <td>NaN</td>\n",
       "      <td>NaN</td>\n",
       "      <td>Europe</td>\n",
       "    </tr>\n",
       "    <tr>\n",
       "      <th>7515</th>\n",
       "      <td>British Indian Ocean Territory</td>\n",
       "      <td>IOT</td>\n",
       "      <td>2023</td>\n",
       "      <td>NaN</td>\n",
       "      <td>NaN</td>\n",
       "      <td>NaN</td>\n",
       "      <td>Asia</td>\n",
       "    </tr>\n",
       "    <tr>\n",
       "      <th>10785</th>\n",
       "      <td>Christmas Island</td>\n",
       "      <td>CXR</td>\n",
       "      <td>2023</td>\n",
       "      <td>NaN</td>\n",
       "      <td>NaN</td>\n",
       "      <td>NaN</td>\n",
       "      <td>Asia</td>\n",
       "    </tr>\n",
       "    <tr>\n",
       "      <th>10786</th>\n",
       "      <td>Cocos Islands</td>\n",
       "      <td>CCK</td>\n",
       "      <td>2023</td>\n",
       "      <td>NaN</td>\n",
       "      <td>NaN</td>\n",
       "      <td>NaN</td>\n",
       "      <td>Asia</td>\n",
       "    </tr>\n",
       "    <tr>\n",
       "      <th>13362</th>\n",
       "      <td>Czechoslovakia</td>\n",
       "      <td>OWID_CZS</td>\n",
       "      <td>2023</td>\n",
       "      <td>NaN</td>\n",
       "      <td>NaN</td>\n",
       "      <td>NaN</td>\n",
       "      <td>Europe</td>\n",
       "    </tr>\n",
       "    <tr>\n",
       "      <th>13624</th>\n",
       "      <td>Democratic Republic of Vietnam</td>\n",
       "      <td>NaN</td>\n",
       "      <td>2023</td>\n",
       "      <td>NaN</td>\n",
       "      <td>NaN</td>\n",
       "      <td>NaN</td>\n",
       "      <td>Asia</td>\n",
       "    </tr>\n",
       "    <tr>\n",
       "      <th>14664</th>\n",
       "      <td>Duchy of Modena and Reggio</td>\n",
       "      <td>NaN</td>\n",
       "      <td>2023</td>\n",
       "      <td>NaN</td>\n",
       "      <td>NaN</td>\n",
       "      <td>NaN</td>\n",
       "      <td>Europe</td>\n",
       "    </tr>\n",
       "    <tr>\n",
       "      <th>14665</th>\n",
       "      <td>Duchy of Parma and Piacenza</td>\n",
       "      <td>NaN</td>\n",
       "      <td>2023</td>\n",
       "      <td>NaN</td>\n",
       "      <td>NaN</td>\n",
       "      <td>NaN</td>\n",
       "      <td>Europe</td>\n",
       "    </tr>\n",
       "    <tr>\n",
       "      <th>14674</th>\n",
       "      <td>East Germany</td>\n",
       "      <td>OWID_GDR</td>\n",
       "      <td>2023</td>\n",
       "      <td>NaN</td>\n",
       "      <td>NaN</td>\n",
       "      <td>NaN</td>\n",
       "      <td>Europe</td>\n",
       "    </tr>\n",
       "    <tr>\n",
       "      <th>17072</th>\n",
       "      <td>Ethiopia (former)</td>\n",
       "      <td>OWID_ERE</td>\n",
       "      <td>2023</td>\n",
       "      <td>NaN</td>\n",
       "      <td>NaN</td>\n",
       "      <td>NaN</td>\n",
       "      <td>Africa</td>\n",
       "    </tr>\n",
       "    <tr>\n",
       "      <th>17896</th>\n",
       "      <td>Federal Republic of Central America</td>\n",
       "      <td>NaN</td>\n",
       "      <td>2023</td>\n",
       "      <td>NaN</td>\n",
       "      <td>NaN</td>\n",
       "      <td>NaN</td>\n",
       "      <td>North America</td>\n",
       "    </tr>\n",
       "    <tr>\n",
       "      <th>20259</th>\n",
       "      <td>Grand Duchy of Baden</td>\n",
       "      <td>NaN</td>\n",
       "      <td>2023</td>\n",
       "      <td>NaN</td>\n",
       "      <td>NaN</td>\n",
       "      <td>NaN</td>\n",
       "      <td>Europe</td>\n",
       "    </tr>\n",
       "    <tr>\n",
       "      <th>20260</th>\n",
       "      <td>Grand Duchy of Tuscany</td>\n",
       "      <td>NaN</td>\n",
       "      <td>2023</td>\n",
       "      <td>NaN</td>\n",
       "      <td>NaN</td>\n",
       "      <td>NaN</td>\n",
       "      <td>Europe</td>\n",
       "    </tr>\n",
       "    <tr>\n",
       "      <th>20261</th>\n",
       "      <td>Great Colombia</td>\n",
       "      <td>NaN</td>\n",
       "      <td>2023</td>\n",
       "      <td>NaN</td>\n",
       "      <td>NaN</td>\n",
       "      <td>NaN</td>\n",
       "      <td>South America</td>\n",
       "    </tr>\n",
       "    <tr>\n",
       "      <th>26994</th>\n",
       "      <td>Kingdom of Bavaria</td>\n",
       "      <td>NaN</td>\n",
       "      <td>2023</td>\n",
       "      <td>NaN</td>\n",
       "      <td>NaN</td>\n",
       "      <td>NaN</td>\n",
       "      <td>Europe</td>\n",
       "    </tr>\n",
       "    <tr>\n",
       "      <th>26995</th>\n",
       "      <td>Kingdom of Sardinia</td>\n",
       "      <td>NaN</td>\n",
       "      <td>2023</td>\n",
       "      <td>NaN</td>\n",
       "      <td>NaN</td>\n",
       "      <td>NaN</td>\n",
       "      <td>Europe</td>\n",
       "    </tr>\n",
       "    <tr>\n",
       "      <th>26996</th>\n",
       "      <td>Kingdom of Saxony</td>\n",
       "      <td>NaN</td>\n",
       "      <td>2023</td>\n",
       "      <td>NaN</td>\n",
       "      <td>NaN</td>\n",
       "      <td>NaN</td>\n",
       "      <td>Europe</td>\n",
       "    </tr>\n",
       "    <tr>\n",
       "      <th>26997</th>\n",
       "      <td>Kingdom of Wurttemberg</td>\n",
       "      <td>NaN</td>\n",
       "      <td>2023</td>\n",
       "      <td>NaN</td>\n",
       "      <td>NaN</td>\n",
       "      <td>NaN</td>\n",
       "      <td>Europe</td>\n",
       "    </tr>\n",
       "    <tr>\n",
       "      <th>26998</th>\n",
       "      <td>Kingdom of the Two Sicilies</td>\n",
       "      <td>NaN</td>\n",
       "      <td>2023</td>\n",
       "      <td>NaN</td>\n",
       "      <td>NaN</td>\n",
       "      <td>NaN</td>\n",
       "      <td>Europe</td>\n",
       "    </tr>\n",
       "    <tr>\n",
       "      <th>27223</th>\n",
       "      <td>Korea (former)</td>\n",
       "      <td>OWID_KRU</td>\n",
       "      <td>2023</td>\n",
       "      <td>NaN</td>\n",
       "      <td>NaN</td>\n",
       "      <td>NaN</td>\n",
       "      <td>Asia</td>\n",
       "    </tr>\n",
       "    <tr>\n",
       "      <th>36768</th>\n",
       "      <td>Netherlands Antilles</td>\n",
       "      <td>ANT</td>\n",
       "      <td>2023</td>\n",
       "      <td>NaN</td>\n",
       "      <td>NaN</td>\n",
       "      <td>NaN</td>\n",
       "      <td>North America</td>\n",
       "    </tr>\n",
       "    <tr>\n",
       "      <th>37991</th>\n",
       "      <td>Norfolk Island</td>\n",
       "      <td>NFK</td>\n",
       "      <td>2023</td>\n",
       "      <td>NaN</td>\n",
       "      <td>NaN</td>\n",
       "      <td>NaN</td>\n",
       "      <td>Oceania</td>\n",
       "    </tr>\n",
       "    <tr>\n",
       "      <th>39782</th>\n",
       "      <td>Orange Free State</td>\n",
       "      <td>NaN</td>\n",
       "      <td>2023</td>\n",
       "      <td>NaN</td>\n",
       "      <td>NaN</td>\n",
       "      <td>NaN</td>\n",
       "      <td>Africa</td>\n",
       "    </tr>\n",
       "    <tr>\n",
       "      <th>40044</th>\n",
       "      <td>Pakistan (former)</td>\n",
       "      <td>NaN</td>\n",
       "      <td>2023</td>\n",
       "      <td>NaN</td>\n",
       "      <td>NaN</td>\n",
       "      <td>NaN</td>\n",
       "      <td>Asia</td>\n",
       "    </tr>\n",
       "    <tr>\n",
       "      <th>41798</th>\n",
       "      <td>Pitcairn</td>\n",
       "      <td>PCN</td>\n",
       "      <td>2023</td>\n",
       "      <td>NaN</td>\n",
       "      <td>NaN</td>\n",
       "      <td>NaN</td>\n",
       "      <td>Oceania</td>\n",
       "    </tr>\n",
       "    <tr>\n",
       "      <th>42701</th>\n",
       "      <td>Republic of Vietnam</td>\n",
       "      <td>OWID_RVN</td>\n",
       "      <td>2023</td>\n",
       "      <td>NaN</td>\n",
       "      <td>NaN</td>\n",
       "      <td>NaN</td>\n",
       "      <td>Asia</td>\n",
       "    </tr>\n",
       "    <tr>\n",
       "      <th>46282</th>\n",
       "      <td>Serbia and Montenegro</td>\n",
       "      <td>OWID_SRM</td>\n",
       "      <td>2023</td>\n",
       "      <td>NaN</td>\n",
       "      <td>NaN</td>\n",
       "      <td>NaN</td>\n",
       "      <td>Europe</td>\n",
       "    </tr>\n",
       "    <tr>\n",
       "      <th>48654</th>\n",
       "      <td>South Georgia and the South Sandwich Islands</td>\n",
       "      <td>SGS</td>\n",
       "      <td>2023</td>\n",
       "      <td>NaN</td>\n",
       "      <td>NaN</td>\n",
       "      <td>NaN</td>\n",
       "      <td>South America</td>\n",
       "    </tr>\n",
       "    <tr>\n",
       "      <th>49925</th>\n",
       "      <td>Sudan (former)</td>\n",
       "      <td>NaN</td>\n",
       "      <td>2023</td>\n",
       "      <td>NaN</td>\n",
       "      <td>NaN</td>\n",
       "      <td>NaN</td>\n",
       "      <td>Africa</td>\n",
       "    </tr>\n",
       "    <tr>\n",
       "      <th>54292</th>\n",
       "      <td>USSR</td>\n",
       "      <td>OWID_USS</td>\n",
       "      <td>2023</td>\n",
       "      <td>NaN</td>\n",
       "      <td>NaN</td>\n",
       "      <td>NaN</td>\n",
       "      <td>Europe</td>\n",
       "    </tr>\n",
       "    <tr>\n",
       "      <th>57573</th>\n",
       "      <td>West Germany</td>\n",
       "      <td>OWID_GFR</td>\n",
       "      <td>2023</td>\n",
       "      <td>NaN</td>\n",
       "      <td>NaN</td>\n",
       "      <td>NaN</td>\n",
       "      <td>Europe</td>\n",
       "    </tr>\n",
       "    <tr>\n",
       "      <th>58234</th>\n",
       "      <td>Yemen Arab Republic</td>\n",
       "      <td>OWID_YAR</td>\n",
       "      <td>2023</td>\n",
       "      <td>NaN</td>\n",
       "      <td>NaN</td>\n",
       "      <td>NaN</td>\n",
       "      <td>Asia</td>\n",
       "    </tr>\n",
       "    <tr>\n",
       "      <th>58258</th>\n",
       "      <td>Yemen People's Republic</td>\n",
       "      <td>OWID_YPR</td>\n",
       "      <td>2023</td>\n",
       "      <td>NaN</td>\n",
       "      <td>NaN</td>\n",
       "      <td>NaN</td>\n",
       "      <td>Asia</td>\n",
       "    </tr>\n",
       "    <tr>\n",
       "      <th>58336</th>\n",
       "      <td>Yugoslavia</td>\n",
       "      <td>OWID_YGS</td>\n",
       "      <td>2023</td>\n",
       "      <td>NaN</td>\n",
       "      <td>NaN</td>\n",
       "      <td>NaN</td>\n",
       "      <td>Europe</td>\n",
       "    </tr>\n",
       "  </tbody>\n",
       "</table>\n",
       "</div>"
      ],
      "text/plain": [
       "                                             Entity      Code  Year  avh  \\\n",
       "599                                   Aland Islands       ALA  2023  NaN   \n",
       "3705                                Austria-Hungary  OWID_AUH  2023  NaN   \n",
       "7515                 British Indian Ocean Territory       IOT  2023  NaN   \n",
       "10785                              Christmas Island       CXR  2023  NaN   \n",
       "10786                                 Cocos Islands       CCK  2023  NaN   \n",
       "13362                                Czechoslovakia  OWID_CZS  2023  NaN   \n",
       "13624                Democratic Republic of Vietnam       NaN  2023  NaN   \n",
       "14664                    Duchy of Modena and Reggio       NaN  2023  NaN   \n",
       "14665                   Duchy of Parma and Piacenza       NaN  2023  NaN   \n",
       "14674                                  East Germany  OWID_GDR  2023  NaN   \n",
       "17072                             Ethiopia (former)  OWID_ERE  2023  NaN   \n",
       "17896           Federal Republic of Central America       NaN  2023  NaN   \n",
       "20259                          Grand Duchy of Baden       NaN  2023  NaN   \n",
       "20260                        Grand Duchy of Tuscany       NaN  2023  NaN   \n",
       "20261                                Great Colombia       NaN  2023  NaN   \n",
       "26994                            Kingdom of Bavaria       NaN  2023  NaN   \n",
       "26995                           Kingdom of Sardinia       NaN  2023  NaN   \n",
       "26996                             Kingdom of Saxony       NaN  2023  NaN   \n",
       "26997                        Kingdom of Wurttemberg       NaN  2023  NaN   \n",
       "26998                   Kingdom of the Two Sicilies       NaN  2023  NaN   \n",
       "27223                                Korea (former)  OWID_KRU  2023  NaN   \n",
       "36768                          Netherlands Antilles       ANT  2023  NaN   \n",
       "37991                                Norfolk Island       NFK  2023  NaN   \n",
       "39782                             Orange Free State       NaN  2023  NaN   \n",
       "40044                             Pakistan (former)       NaN  2023  NaN   \n",
       "41798                                      Pitcairn       PCN  2023  NaN   \n",
       "42701                           Republic of Vietnam  OWID_RVN  2023  NaN   \n",
       "46282                         Serbia and Montenegro  OWID_SRM  2023  NaN   \n",
       "48654  South Georgia and the South Sandwich Islands       SGS  2023  NaN   \n",
       "49925                                Sudan (former)       NaN  2023  NaN   \n",
       "54292                                          USSR  OWID_USS  2023  NaN   \n",
       "57573                                  West Germany  OWID_GFR  2023  NaN   \n",
       "58234                           Yemen Arab Republic  OWID_YAR  2023  NaN   \n",
       "58258                       Yemen People's Republic  OWID_YPR  2023  NaN   \n",
       "58336                                    Yugoslavia  OWID_YGS  2023  NaN   \n",
       "\n",
       "       productivity  population_historical    owid_region  \n",
       "599             NaN                    NaN         Europe  \n",
       "3705            NaN                    NaN         Europe  \n",
       "7515            NaN                    NaN           Asia  \n",
       "10785           NaN                    NaN           Asia  \n",
       "10786           NaN                    NaN           Asia  \n",
       "13362           NaN                    NaN         Europe  \n",
       "13624           NaN                    NaN           Asia  \n",
       "14664           NaN                    NaN         Europe  \n",
       "14665           NaN                    NaN         Europe  \n",
       "14674           NaN                    NaN         Europe  \n",
       "17072           NaN                    NaN         Africa  \n",
       "17896           NaN                    NaN  North America  \n",
       "20259           NaN                    NaN         Europe  \n",
       "20260           NaN                    NaN         Europe  \n",
       "20261           NaN                    NaN  South America  \n",
       "26994           NaN                    NaN         Europe  \n",
       "26995           NaN                    NaN         Europe  \n",
       "26996           NaN                    NaN         Europe  \n",
       "26997           NaN                    NaN         Europe  \n",
       "26998           NaN                    NaN         Europe  \n",
       "27223           NaN                    NaN           Asia  \n",
       "36768           NaN                    NaN  North America  \n",
       "37991           NaN                    NaN        Oceania  \n",
       "39782           NaN                    NaN         Africa  \n",
       "40044           NaN                    NaN           Asia  \n",
       "41798           NaN                    NaN        Oceania  \n",
       "42701           NaN                    NaN           Asia  \n",
       "46282           NaN                    NaN         Europe  \n",
       "48654           NaN                    NaN  South America  \n",
       "49925           NaN                    NaN         Africa  \n",
       "54292           NaN                    NaN         Europe  \n",
       "57573           NaN                    NaN         Europe  \n",
       "58234           NaN                    NaN           Asia  \n",
       "58258           NaN                    NaN           Asia  \n",
       "58336           NaN                    NaN         Europe  "
      ]
     },
     "execution_count": 29,
     "metadata": {},
     "output_type": "execute_result"
    }
   ],
   "source": [
    "df[df['population_historical'].isnull()]"
   ]
  },
  {
   "cell_type": "markdown",
   "metadata": {
    "id": "k3G3-d_6nA-m"
   },
   "source": [
    "2. Use `df[df['column']==value]` to only display rows where the entity has the value 'Germany'."
   ]
  },
  {
   "cell_type": "code",
   "execution_count": 30,
   "metadata": {},
   "outputs": [
    {
     "data": {
      "application/vnd.microsoft.datawrangler.viewer.v0+json": {
       "columns": [
        {
         "name": "index",
         "rawType": "int64",
         "type": "integer"
        },
        {
         "name": "Entity",
         "rawType": "object",
         "type": "string"
        },
        {
         "name": "Code",
         "rawType": "object",
         "type": "string"
        },
        {
         "name": "Year",
         "rawType": "int64",
         "type": "integer"
        },
        {
         "name": "avh",
         "rawType": "float64",
         "type": "float"
        },
        {
         "name": "productivity",
         "rawType": "float64",
         "type": "float"
        },
        {
         "name": "population_historical",
         "rawType": "float64",
         "type": "float"
        },
        {
         "name": "owid_region",
         "rawType": "object",
         "type": "unknown"
        }
       ],
       "ref": "4a7639d1-df01-4cd4-a699-434245e14734",
       "rows": [
        [
         "19661",
         "Germany",
         "DEU",
         "1950",
         "2427.4",
         "5.398649",
         "69847778.0",
         null
        ],
        [
         "19662",
         "Germany",
         "DEU",
         "1951",
         "2401.56",
         "5.926178",
         "69782050.0",
         null
        ],
        [
         "19663",
         "Germany",
         "DEU",
         "1952",
         "2376.01",
         "6.420325",
         "69826948.0",
         null
        ],
        [
         "19664",
         "Germany",
         "DEU",
         "1953",
         "2350.72",
         "6.8780117",
         "69935116.0",
         null
        ],
        [
         "19665",
         "Germany",
         "DEU",
         "1954",
         "2325.7",
         "7.326603",
         "70104621.0",
         null
        ],
        [
         "19666",
         "Germany",
         "DEU",
         "1955",
         "2300.95",
         "8.156726",
         "70334149.0",
         null
        ],
        [
         "19667",
         "Germany",
         "DEU",
         "1956",
         "2276.47",
         "8.709182",
         "70613897.0",
         null
        ],
        [
         "19668",
         "Germany",
         "DEU",
         "1957",
         "2252.24",
         "9.135589",
         "71088145.0",
         null
        ],
        [
         "19669",
         "Germany",
         "DEU",
         "1958",
         "2228.27",
         "9.47551",
         "71694674.0",
         null
        ],
        [
         "19670",
         "Germany",
         "DEU",
         "1959",
         "2204.56",
         "10.272338",
         "72241718.0",
         null
        ],
        [
         "19671",
         "Germany",
         "DEU",
         "1960",
         "2181.09",
         "11.210408",
         "72811635.0",
         null
        ],
        [
         "19672",
         "Germany",
         "DEU",
         "1961",
         "2154.48",
         "11.691195",
         "73376114.0",
         null
        ],
        [
         "19673",
         "Germany",
         "DEU",
         "1962",
         "2117.37",
         "12.299276",
         "73997000.0",
         null
        ],
        [
         "19674",
         "Germany",
         "DEU",
         "1963",
         "2086.93",
         "12.750291",
         "74698003.0",
         null
        ],
        [
         "19675",
         "Germany",
         "DEU",
         "1964",
         "2098.42",
         "13.600448",
         "75313480.0",
         null
        ],
        [
         "19676",
         "Germany",
         "DEU",
         "1965",
         "2084.2",
         "14.331905",
         "75966968.0",
         null
        ],
        [
         "19677",
         "Germany",
         "DEU",
         "1966",
         "2057.89",
         "14.96189",
         "76611025.0",
         null
        ],
        [
         "19678",
         "Germany",
         "DEU",
         "1967",
         "2020.18",
         "15.444134",
         "76970794.0",
         null
        ],
        [
         "19679",
         "Germany",
         "DEU",
         "1968",
         "2007.68",
         "16.38126",
         "77321280.0",
         null
        ],
        [
         "19680",
         "Germany",
         "DEU",
         "1969",
         "1987.92",
         "17.604475",
         "77944022.0",
         null
        ],
        [
         "19681",
         "Germany",
         "DEU",
         "1970",
         "1972.49",
         "18.499783",
         "78205103.0",
         null
        ],
        [
         "19682",
         "Germany",
         "DEU",
         "1971",
         "1940.53",
         "19.4526",
         "78345876.0",
         null
        ],
        [
         "19683",
         "Germany",
         "DEU",
         "1972",
         "1915.43",
         "20.601288",
         "78719924.0",
         null
        ],
        [
         "19684",
         "Germany",
         "DEU",
         "1973",
         "1884.88",
         "21.908606",
         "78966975.0",
         null
        ],
        [
         "19685",
         "Germany",
         "DEU",
         "1974",
         "1851.61",
         "22.856144",
         "78996691.0",
         null
        ],
        [
         "19686",
         "Germany",
         "DEU",
         "1975",
         "1811.88",
         "23.842072",
         "78701861.0",
         null
        ],
        [
         "19687",
         "Germany",
         "DEU",
         "1976",
         "1824.28",
         "24.980808",
         "78364503.0",
         null
        ],
        [
         "19688",
         "Germany",
         "DEU",
         "1977",
         "1806.23",
         "26.130478",
         "78185560.0",
         null
        ],
        [
         "19689",
         "Germany",
         "DEU",
         "1978",
         "1787.18",
         "27.097204",
         "78115357.0",
         null
        ],
        [
         "19690",
         "Germany",
         "DEU",
         "1979",
         "1775.14",
         "28.111506",
         "78147898.0",
         null
        ],
        [
         "19691",
         "Germany",
         "DEU",
         "1980",
         "1756.09",
         "28.47507",
         "78315373.0",
         null
        ],
        [
         "19692",
         "Germany",
         "DEU",
         "1981",
         "1734.02",
         "28.204489",
         "78448044.0",
         null
        ],
        [
         "19693",
         "Germany",
         "DEU",
         "1982",
         "1722.99",
         "27.91856",
         "78393670.0",
         null
        ],
        [
         "19694",
         "Germany",
         "DEU",
         "1983",
         "1709.95",
         "28.313047",
         "78224137.0",
         null
        ],
        [
         "19695",
         "Germany",
         "DEU",
         "1984",
         "1698.92",
         "28.651363",
         "77998197.0",
         null
        ],
        [
         "19696",
         "Germany",
         "DEU",
         "1985",
         "1675.85",
         "28.875738",
         "77863423.0",
         null
        ],
        [
         "19697",
         "Germany",
         "DEU",
         "1986",
         "1656.8",
         "31.190838",
         "77923806.0",
         null
        ],
        [
         "19698",
         "Germany",
         "DEU",
         "1987",
         "1633.73",
         "32.78944",
         "78062321.0",
         null
        ],
        [
         "19699",
         "Germany",
         "DEU",
         "1988",
         "1628.72",
         "34.410908",
         "78385992.0",
         null
        ],
        [
         "19700",
         "Germany",
         "DEU",
         "1989",
         "1605.65",
         "36.066418",
         "79007062.0",
         null
        ],
        [
         "19701",
         "Germany",
         "DEU",
         "1990",
         "1582.58",
         "39.499382",
         "79707963.0",
         null
        ],
        [
         "19702",
         "Germany",
         "DEU",
         "1991",
         "1553.5",
         "43.37597",
         "80303190.0",
         null
        ],
        [
         "19703",
         "Germany",
         "DEU",
         "1992",
         "1564.87",
         "45.187477",
         "80934901.0",
         null
        ],
        [
         "19704",
         "Germany",
         "DEU",
         "1993",
         "1538.69",
         "47.030697",
         "81486771.0",
         null
        ],
        [
         "19705",
         "Germany",
         "DEU",
         "1994",
         "1534.25",
         "49.049942",
         "81773613.0",
         null
        ],
        [
         "19706",
         "Germany",
         "DEU",
         "1995",
         "1528.9",
         "50.687958",
         "82019890.0",
         null
        ],
        [
         "19707",
         "Germany",
         "DEU",
         "1996",
         "1515.5",
         "51.823856",
         "82263195.0",
         null
        ],
        [
         "19708",
         "Germany",
         "DEU",
         "1997",
         "1506.16",
         "53.603516",
         "82389631.0",
         null
        ],
        [
         "19709",
         "Germany",
         "DEU",
         "1998",
         "1503.01",
         "54.964676",
         "82011933.0",
         null
        ],
        [
         "19710",
         "Germany",
         "DEU",
         "1999",
         "1490.27",
         "57.002277",
         "81678279.0",
         null
        ]
       ],
       "shape": {
        "columns": 7,
        "rows": 261
       }
      },
      "text/html": [
       "<div>\n",
       "<style scoped>\n",
       "    .dataframe tbody tr th:only-of-type {\n",
       "        vertical-align: middle;\n",
       "    }\n",
       "\n",
       "    .dataframe tbody tr th {\n",
       "        vertical-align: top;\n",
       "    }\n",
       "\n",
       "    .dataframe thead th {\n",
       "        text-align: right;\n",
       "    }\n",
       "</style>\n",
       "<table border=\"1\" class=\"dataframe\">\n",
       "  <thead>\n",
       "    <tr style=\"text-align: right;\">\n",
       "      <th></th>\n",
       "      <th>Entity</th>\n",
       "      <th>Code</th>\n",
       "      <th>Year</th>\n",
       "      <th>avh</th>\n",
       "      <th>productivity</th>\n",
       "      <th>population_historical</th>\n",
       "      <th>owid_region</th>\n",
       "    </tr>\n",
       "  </thead>\n",
       "  <tbody>\n",
       "    <tr>\n",
       "      <th>19661</th>\n",
       "      <td>Germany</td>\n",
       "      <td>DEU</td>\n",
       "      <td>1950</td>\n",
       "      <td>2427.40</td>\n",
       "      <td>5.398649</td>\n",
       "      <td>69847778.0</td>\n",
       "      <td>NaN</td>\n",
       "    </tr>\n",
       "    <tr>\n",
       "      <th>19662</th>\n",
       "      <td>Germany</td>\n",
       "      <td>DEU</td>\n",
       "      <td>1951</td>\n",
       "      <td>2401.56</td>\n",
       "      <td>5.926178</td>\n",
       "      <td>69782050.0</td>\n",
       "      <td>NaN</td>\n",
       "    </tr>\n",
       "    <tr>\n",
       "      <th>19663</th>\n",
       "      <td>Germany</td>\n",
       "      <td>DEU</td>\n",
       "      <td>1952</td>\n",
       "      <td>2376.01</td>\n",
       "      <td>6.420325</td>\n",
       "      <td>69826948.0</td>\n",
       "      <td>NaN</td>\n",
       "    </tr>\n",
       "    <tr>\n",
       "      <th>19664</th>\n",
       "      <td>Germany</td>\n",
       "      <td>DEU</td>\n",
       "      <td>1953</td>\n",
       "      <td>2350.72</td>\n",
       "      <td>6.878012</td>\n",
       "      <td>69935116.0</td>\n",
       "      <td>NaN</td>\n",
       "    </tr>\n",
       "    <tr>\n",
       "      <th>19665</th>\n",
       "      <td>Germany</td>\n",
       "      <td>DEU</td>\n",
       "      <td>1954</td>\n",
       "      <td>2325.70</td>\n",
       "      <td>7.326603</td>\n",
       "      <td>70104621.0</td>\n",
       "      <td>NaN</td>\n",
       "    </tr>\n",
       "    <tr>\n",
       "      <th>...</th>\n",
       "      <td>...</td>\n",
       "      <td>...</td>\n",
       "      <td>...</td>\n",
       "      <td>...</td>\n",
       "      <td>...</td>\n",
       "      <td>...</td>\n",
       "      <td>...</td>\n",
       "    </tr>\n",
       "    <tr>\n",
       "      <th>19917</th>\n",
       "      <td>Germany</td>\n",
       "      <td>DEU</td>\n",
       "      <td>1945</td>\n",
       "      <td>NaN</td>\n",
       "      <td>NaN</td>\n",
       "      <td>71376625.0</td>\n",
       "      <td>NaN</td>\n",
       "    </tr>\n",
       "    <tr>\n",
       "      <th>19918</th>\n",
       "      <td>Germany</td>\n",
       "      <td>DEU</td>\n",
       "      <td>1946</td>\n",
       "      <td>NaN</td>\n",
       "      <td>NaN</td>\n",
       "      <td>71225935.0</td>\n",
       "      <td>NaN</td>\n",
       "    </tr>\n",
       "    <tr>\n",
       "      <th>19919</th>\n",
       "      <td>Germany</td>\n",
       "      <td>DEU</td>\n",
       "      <td>1947</td>\n",
       "      <td>NaN</td>\n",
       "      <td>NaN</td>\n",
       "      <td>71075562.0</td>\n",
       "      <td>NaN</td>\n",
       "    </tr>\n",
       "    <tr>\n",
       "      <th>19920</th>\n",
       "      <td>Germany</td>\n",
       "      <td>DEU</td>\n",
       "      <td>1948</td>\n",
       "      <td>NaN</td>\n",
       "      <td>NaN</td>\n",
       "      <td>70925507.0</td>\n",
       "      <td>NaN</td>\n",
       "    </tr>\n",
       "    <tr>\n",
       "      <th>19921</th>\n",
       "      <td>Germany</td>\n",
       "      <td>DEU</td>\n",
       "      <td>1949</td>\n",
       "      <td>NaN</td>\n",
       "      <td>NaN</td>\n",
       "      <td>70888212.0</td>\n",
       "      <td>NaN</td>\n",
       "    </tr>\n",
       "  </tbody>\n",
       "</table>\n",
       "<p>261 rows × 7 columns</p>\n",
       "</div>"
      ],
      "text/plain": [
       "        Entity Code  Year      avh  productivity  population_historical  \\\n",
       "19661  Germany  DEU  1950  2427.40      5.398649             69847778.0   \n",
       "19662  Germany  DEU  1951  2401.56      5.926178             69782050.0   \n",
       "19663  Germany  DEU  1952  2376.01      6.420325             69826948.0   \n",
       "19664  Germany  DEU  1953  2350.72      6.878012             69935116.0   \n",
       "19665  Germany  DEU  1954  2325.70      7.326603             70104621.0   \n",
       "...        ...  ...   ...      ...           ...                    ...   \n",
       "19917  Germany  DEU  1945      NaN           NaN             71376625.0   \n",
       "19918  Germany  DEU  1946      NaN           NaN             71225935.0   \n",
       "19919  Germany  DEU  1947      NaN           NaN             71075562.0   \n",
       "19920  Germany  DEU  1948      NaN           NaN             70925507.0   \n",
       "19921  Germany  DEU  1949      NaN           NaN             70888212.0   \n",
       "\n",
       "      owid_region  \n",
       "19661         NaN  \n",
       "19662         NaN  \n",
       "19663         NaN  \n",
       "19664         NaN  \n",
       "19665         NaN  \n",
       "...           ...  \n",
       "19917         NaN  \n",
       "19918         NaN  \n",
       "19919         NaN  \n",
       "19920         NaN  \n",
       "19921         NaN  \n",
       "\n",
       "[261 rows x 7 columns]"
      ]
     },
     "execution_count": 30,
     "metadata": {},
     "output_type": "execute_result"
    }
   ],
   "source": [
    "df[df['Entity']==\"Germany\"]"
   ]
  },
  {
   "cell_type": "markdown",
   "metadata": {
    "id": "SLjjCtkrnA-m"
   },
   "source": [
    "3. Use `df[(condition1)&(condition2)]` to apply two conditions that are linked with an 'and' (`&`) to  display rows where the entity is `Germany` and the productivity was higher than `50`."
   ]
  },
  {
   "cell_type": "code",
   "execution_count": 31,
   "metadata": {},
   "outputs": [
    {
     "data": {
      "application/vnd.microsoft.datawrangler.viewer.v0+json": {
       "columns": [
        {
         "name": "index",
         "rawType": "int64",
         "type": "integer"
        },
        {
         "name": "Entity",
         "rawType": "object",
         "type": "string"
        },
        {
         "name": "Code",
         "rawType": "object",
         "type": "string"
        },
        {
         "name": "Year",
         "rawType": "int64",
         "type": "integer"
        },
        {
         "name": "avh",
         "rawType": "float64",
         "type": "float"
        },
        {
         "name": "productivity",
         "rawType": "float64",
         "type": "float"
        },
        {
         "name": "population_historical",
         "rawType": "float64",
         "type": "float"
        },
        {
         "name": "owid_region",
         "rawType": "object",
         "type": "unknown"
        }
       ],
       "ref": "77d8fe5a-e6df-43fd-81cf-53d03a91683c",
       "rows": [
        [
         "19706",
         "Germany",
         "DEU",
         "1995",
         "1528.9",
         "50.687958",
         "82019890.0",
         null
        ],
        [
         "19707",
         "Germany",
         "DEU",
         "1996",
         "1515.5",
         "51.823856",
         "82263195.0",
         null
        ],
        [
         "19708",
         "Germany",
         "DEU",
         "1997",
         "1506.16",
         "53.603516",
         "82389631.0",
         null
        ],
        [
         "19709",
         "Germany",
         "DEU",
         "1998",
         "1503.01",
         "54.964676",
         "82011933.0",
         null
        ],
        [
         "19710",
         "Germany",
         "DEU",
         "1999",
         "1490.27",
         "57.002277",
         "81678279.0",
         null
        ],
        [
         "19711",
         "Germany",
         "DEU",
         "2000",
         "1464.53",
         "58.083973",
         "81797255.0",
         null
        ],
        [
         "19712",
         "Germany",
         "DEU",
         "2001",
         "1457.35",
         "59.583893",
         "81933882.0",
         null
        ],
        [
         "19713",
         "Germany",
         "DEU",
         "2002",
         "1448.34",
         "60.345882",
         "82068328.0",
         null
        ],
        [
         "19714",
         "Germany",
         "DEU",
         "2003",
         "1443.07",
         "62.53588",
         "82111619.0",
         null
        ],
        [
         "19715",
         "Germany",
         "DEU",
         "2004",
         "1442.65",
         "63.894978",
         "82092706.0",
         null
        ],
        [
         "19716",
         "Germany",
         "DEU",
         "2005",
         "1431.89",
         "67.481415",
         "82046733.0",
         null
        ],
        [
         "19717",
         "Germany",
         "DEU",
         "2006",
         "1452.42",
         "67.91674",
         "81701971.0",
         null
        ],
        [
         "19718",
         "Germany",
         "DEU",
         "2007",
         "1453.86",
         "70.65134",
         "81298546.0",
         null
        ],
        [
         "19719",
         "Germany",
         "DEU",
         "2008",
         "1446.89",
         "71.66557",
         "81110780.0",
         null
        ],
        [
         "19720",
         "Germany",
         "DEU",
         "2009",
         "1406.77",
         "68.88706",
         "80935276.0",
         null
        ],
        [
         "19721",
         "Germany",
         "DEU",
         "2010",
         "1425.37",
         "70.99874",
         "80830916.0",
         null
        ],
        [
         "19722",
         "Germany",
         "DEU",
         "2011",
         "1427.18",
         "74.035706",
         "80857877.0",
         null
        ],
        [
         "19723",
         "Germany",
         "DEU",
         "2012",
         "1406.0",
         "73.76013",
         "80916391.0",
         null
        ],
        [
         "19724",
         "Germany",
         "DEU",
         "2013",
         "1395.73",
         "73.892365",
         "81041581.0",
         null
        ],
        [
         "19725",
         "Germany",
         "DEU",
         "2014",
         "1400.01",
         "75.67106",
         "81376078.0",
         null
        ],
        [
         "19726",
         "Germany",
         "DEU",
         "2015",
         "1401.59",
         "74.099724",
         "82077546.0",
         null
        ],
        [
         "19727",
         "Germany",
         "DEU",
         "2016",
         "1395.83",
         "76.02909",
         "82760102.0",
         null
        ],
        [
         "19728",
         "Germany",
         "DEU",
         "2017",
         "1388.21",
         "78.19524",
         "83104010.0",
         null
        ],
        [
         "19729",
         "Germany",
         "DEU",
         "2018",
         "1380.72",
         "78.59967",
         "83368507.0",
         null
        ],
        [
         "19730",
         "Germany",
         "DEU",
         "2019",
         "1372.04",
         "81.118675",
         "83559184.0",
         null
        ],
        [
         "19731",
         "Germany",
         "DEU",
         "2020",
         "1313.57",
         "82.04048",
         "83628711.0",
         null
        ],
        [
         "19732",
         "Germany",
         "DEU",
         "2021",
         "1341.88",
         "82.90917",
         "83697080.0",
         null
        ],
        [
         "19733",
         "Germany",
         "DEU",
         "2022",
         "1340.14",
         "82.74721",
         "84086227.0",
         null
        ],
        [
         "19734",
         "Germany",
         "DEU",
         "2023",
         "1335.27",
         "82.501175",
         "84548233.0",
         "Europe"
        ]
       ],
       "shape": {
        "columns": 7,
        "rows": 29
       }
      },
      "text/html": [
       "<div>\n",
       "<style scoped>\n",
       "    .dataframe tbody tr th:only-of-type {\n",
       "        vertical-align: middle;\n",
       "    }\n",
       "\n",
       "    .dataframe tbody tr th {\n",
       "        vertical-align: top;\n",
       "    }\n",
       "\n",
       "    .dataframe thead th {\n",
       "        text-align: right;\n",
       "    }\n",
       "</style>\n",
       "<table border=\"1\" class=\"dataframe\">\n",
       "  <thead>\n",
       "    <tr style=\"text-align: right;\">\n",
       "      <th></th>\n",
       "      <th>Entity</th>\n",
       "      <th>Code</th>\n",
       "      <th>Year</th>\n",
       "      <th>avh</th>\n",
       "      <th>productivity</th>\n",
       "      <th>population_historical</th>\n",
       "      <th>owid_region</th>\n",
       "    </tr>\n",
       "  </thead>\n",
       "  <tbody>\n",
       "    <tr>\n",
       "      <th>19706</th>\n",
       "      <td>Germany</td>\n",
       "      <td>DEU</td>\n",
       "      <td>1995</td>\n",
       "      <td>1528.90</td>\n",
       "      <td>50.687958</td>\n",
       "      <td>82019890.0</td>\n",
       "      <td>NaN</td>\n",
       "    </tr>\n",
       "    <tr>\n",
       "      <th>19707</th>\n",
       "      <td>Germany</td>\n",
       "      <td>DEU</td>\n",
       "      <td>1996</td>\n",
       "      <td>1515.50</td>\n",
       "      <td>51.823856</td>\n",
       "      <td>82263195.0</td>\n",
       "      <td>NaN</td>\n",
       "    </tr>\n",
       "    <tr>\n",
       "      <th>19708</th>\n",
       "      <td>Germany</td>\n",
       "      <td>DEU</td>\n",
       "      <td>1997</td>\n",
       "      <td>1506.16</td>\n",
       "      <td>53.603516</td>\n",
       "      <td>82389631.0</td>\n",
       "      <td>NaN</td>\n",
       "    </tr>\n",
       "    <tr>\n",
       "      <th>19709</th>\n",
       "      <td>Germany</td>\n",
       "      <td>DEU</td>\n",
       "      <td>1998</td>\n",
       "      <td>1503.01</td>\n",
       "      <td>54.964676</td>\n",
       "      <td>82011933.0</td>\n",
       "      <td>NaN</td>\n",
       "    </tr>\n",
       "    <tr>\n",
       "      <th>19710</th>\n",
       "      <td>Germany</td>\n",
       "      <td>DEU</td>\n",
       "      <td>1999</td>\n",
       "      <td>1490.27</td>\n",
       "      <td>57.002277</td>\n",
       "      <td>81678279.0</td>\n",
       "      <td>NaN</td>\n",
       "    </tr>\n",
       "    <tr>\n",
       "      <th>19711</th>\n",
       "      <td>Germany</td>\n",
       "      <td>DEU</td>\n",
       "      <td>2000</td>\n",
       "      <td>1464.53</td>\n",
       "      <td>58.083973</td>\n",
       "      <td>81797255.0</td>\n",
       "      <td>NaN</td>\n",
       "    </tr>\n",
       "    <tr>\n",
       "      <th>19712</th>\n",
       "      <td>Germany</td>\n",
       "      <td>DEU</td>\n",
       "      <td>2001</td>\n",
       "      <td>1457.35</td>\n",
       "      <td>59.583893</td>\n",
       "      <td>81933882.0</td>\n",
       "      <td>NaN</td>\n",
       "    </tr>\n",
       "    <tr>\n",
       "      <th>19713</th>\n",
       "      <td>Germany</td>\n",
       "      <td>DEU</td>\n",
       "      <td>2002</td>\n",
       "      <td>1448.34</td>\n",
       "      <td>60.345882</td>\n",
       "      <td>82068328.0</td>\n",
       "      <td>NaN</td>\n",
       "    </tr>\n",
       "    <tr>\n",
       "      <th>19714</th>\n",
       "      <td>Germany</td>\n",
       "      <td>DEU</td>\n",
       "      <td>2003</td>\n",
       "      <td>1443.07</td>\n",
       "      <td>62.535880</td>\n",
       "      <td>82111619.0</td>\n",
       "      <td>NaN</td>\n",
       "    </tr>\n",
       "    <tr>\n",
       "      <th>19715</th>\n",
       "      <td>Germany</td>\n",
       "      <td>DEU</td>\n",
       "      <td>2004</td>\n",
       "      <td>1442.65</td>\n",
       "      <td>63.894978</td>\n",
       "      <td>82092706.0</td>\n",
       "      <td>NaN</td>\n",
       "    </tr>\n",
       "    <tr>\n",
       "      <th>19716</th>\n",
       "      <td>Germany</td>\n",
       "      <td>DEU</td>\n",
       "      <td>2005</td>\n",
       "      <td>1431.89</td>\n",
       "      <td>67.481415</td>\n",
       "      <td>82046733.0</td>\n",
       "      <td>NaN</td>\n",
       "    </tr>\n",
       "    <tr>\n",
       "      <th>19717</th>\n",
       "      <td>Germany</td>\n",
       "      <td>DEU</td>\n",
       "      <td>2006</td>\n",
       "      <td>1452.42</td>\n",
       "      <td>67.916740</td>\n",
       "      <td>81701971.0</td>\n",
       "      <td>NaN</td>\n",
       "    </tr>\n",
       "    <tr>\n",
       "      <th>19718</th>\n",
       "      <td>Germany</td>\n",
       "      <td>DEU</td>\n",
       "      <td>2007</td>\n",
       "      <td>1453.86</td>\n",
       "      <td>70.651340</td>\n",
       "      <td>81298546.0</td>\n",
       "      <td>NaN</td>\n",
       "    </tr>\n",
       "    <tr>\n",
       "      <th>19719</th>\n",
       "      <td>Germany</td>\n",
       "      <td>DEU</td>\n",
       "      <td>2008</td>\n",
       "      <td>1446.89</td>\n",
       "      <td>71.665570</td>\n",
       "      <td>81110780.0</td>\n",
       "      <td>NaN</td>\n",
       "    </tr>\n",
       "    <tr>\n",
       "      <th>19720</th>\n",
       "      <td>Germany</td>\n",
       "      <td>DEU</td>\n",
       "      <td>2009</td>\n",
       "      <td>1406.77</td>\n",
       "      <td>68.887060</td>\n",
       "      <td>80935276.0</td>\n",
       "      <td>NaN</td>\n",
       "    </tr>\n",
       "    <tr>\n",
       "      <th>19721</th>\n",
       "      <td>Germany</td>\n",
       "      <td>DEU</td>\n",
       "      <td>2010</td>\n",
       "      <td>1425.37</td>\n",
       "      <td>70.998740</td>\n",
       "      <td>80830916.0</td>\n",
       "      <td>NaN</td>\n",
       "    </tr>\n",
       "    <tr>\n",
       "      <th>19722</th>\n",
       "      <td>Germany</td>\n",
       "      <td>DEU</td>\n",
       "      <td>2011</td>\n",
       "      <td>1427.18</td>\n",
       "      <td>74.035706</td>\n",
       "      <td>80857877.0</td>\n",
       "      <td>NaN</td>\n",
       "    </tr>\n",
       "    <tr>\n",
       "      <th>19723</th>\n",
       "      <td>Germany</td>\n",
       "      <td>DEU</td>\n",
       "      <td>2012</td>\n",
       "      <td>1406.00</td>\n",
       "      <td>73.760130</td>\n",
       "      <td>80916391.0</td>\n",
       "      <td>NaN</td>\n",
       "    </tr>\n",
       "    <tr>\n",
       "      <th>19724</th>\n",
       "      <td>Germany</td>\n",
       "      <td>DEU</td>\n",
       "      <td>2013</td>\n",
       "      <td>1395.73</td>\n",
       "      <td>73.892365</td>\n",
       "      <td>81041581.0</td>\n",
       "      <td>NaN</td>\n",
       "    </tr>\n",
       "    <tr>\n",
       "      <th>19725</th>\n",
       "      <td>Germany</td>\n",
       "      <td>DEU</td>\n",
       "      <td>2014</td>\n",
       "      <td>1400.01</td>\n",
       "      <td>75.671060</td>\n",
       "      <td>81376078.0</td>\n",
       "      <td>NaN</td>\n",
       "    </tr>\n",
       "    <tr>\n",
       "      <th>19726</th>\n",
       "      <td>Germany</td>\n",
       "      <td>DEU</td>\n",
       "      <td>2015</td>\n",
       "      <td>1401.59</td>\n",
       "      <td>74.099724</td>\n",
       "      <td>82077546.0</td>\n",
       "      <td>NaN</td>\n",
       "    </tr>\n",
       "    <tr>\n",
       "      <th>19727</th>\n",
       "      <td>Germany</td>\n",
       "      <td>DEU</td>\n",
       "      <td>2016</td>\n",
       "      <td>1395.83</td>\n",
       "      <td>76.029090</td>\n",
       "      <td>82760102.0</td>\n",
       "      <td>NaN</td>\n",
       "    </tr>\n",
       "    <tr>\n",
       "      <th>19728</th>\n",
       "      <td>Germany</td>\n",
       "      <td>DEU</td>\n",
       "      <td>2017</td>\n",
       "      <td>1388.21</td>\n",
       "      <td>78.195240</td>\n",
       "      <td>83104010.0</td>\n",
       "      <td>NaN</td>\n",
       "    </tr>\n",
       "    <tr>\n",
       "      <th>19729</th>\n",
       "      <td>Germany</td>\n",
       "      <td>DEU</td>\n",
       "      <td>2018</td>\n",
       "      <td>1380.72</td>\n",
       "      <td>78.599670</td>\n",
       "      <td>83368507.0</td>\n",
       "      <td>NaN</td>\n",
       "    </tr>\n",
       "    <tr>\n",
       "      <th>19730</th>\n",
       "      <td>Germany</td>\n",
       "      <td>DEU</td>\n",
       "      <td>2019</td>\n",
       "      <td>1372.04</td>\n",
       "      <td>81.118675</td>\n",
       "      <td>83559184.0</td>\n",
       "      <td>NaN</td>\n",
       "    </tr>\n",
       "    <tr>\n",
       "      <th>19731</th>\n",
       "      <td>Germany</td>\n",
       "      <td>DEU</td>\n",
       "      <td>2020</td>\n",
       "      <td>1313.57</td>\n",
       "      <td>82.040480</td>\n",
       "      <td>83628711.0</td>\n",
       "      <td>NaN</td>\n",
       "    </tr>\n",
       "    <tr>\n",
       "      <th>19732</th>\n",
       "      <td>Germany</td>\n",
       "      <td>DEU</td>\n",
       "      <td>2021</td>\n",
       "      <td>1341.88</td>\n",
       "      <td>82.909170</td>\n",
       "      <td>83697080.0</td>\n",
       "      <td>NaN</td>\n",
       "    </tr>\n",
       "    <tr>\n",
       "      <th>19733</th>\n",
       "      <td>Germany</td>\n",
       "      <td>DEU</td>\n",
       "      <td>2022</td>\n",
       "      <td>1340.14</td>\n",
       "      <td>82.747210</td>\n",
       "      <td>84086227.0</td>\n",
       "      <td>NaN</td>\n",
       "    </tr>\n",
       "    <tr>\n",
       "      <th>19734</th>\n",
       "      <td>Germany</td>\n",
       "      <td>DEU</td>\n",
       "      <td>2023</td>\n",
       "      <td>1335.27</td>\n",
       "      <td>82.501175</td>\n",
       "      <td>84548233.0</td>\n",
       "      <td>Europe</td>\n",
       "    </tr>\n",
       "  </tbody>\n",
       "</table>\n",
       "</div>"
      ],
      "text/plain": [
       "        Entity Code  Year      avh  productivity  population_historical  \\\n",
       "19706  Germany  DEU  1995  1528.90     50.687958             82019890.0   \n",
       "19707  Germany  DEU  1996  1515.50     51.823856             82263195.0   \n",
       "19708  Germany  DEU  1997  1506.16     53.603516             82389631.0   \n",
       "19709  Germany  DEU  1998  1503.01     54.964676             82011933.0   \n",
       "19710  Germany  DEU  1999  1490.27     57.002277             81678279.0   \n",
       "19711  Germany  DEU  2000  1464.53     58.083973             81797255.0   \n",
       "19712  Germany  DEU  2001  1457.35     59.583893             81933882.0   \n",
       "19713  Germany  DEU  2002  1448.34     60.345882             82068328.0   \n",
       "19714  Germany  DEU  2003  1443.07     62.535880             82111619.0   \n",
       "19715  Germany  DEU  2004  1442.65     63.894978             82092706.0   \n",
       "19716  Germany  DEU  2005  1431.89     67.481415             82046733.0   \n",
       "19717  Germany  DEU  2006  1452.42     67.916740             81701971.0   \n",
       "19718  Germany  DEU  2007  1453.86     70.651340             81298546.0   \n",
       "19719  Germany  DEU  2008  1446.89     71.665570             81110780.0   \n",
       "19720  Germany  DEU  2009  1406.77     68.887060             80935276.0   \n",
       "19721  Germany  DEU  2010  1425.37     70.998740             80830916.0   \n",
       "19722  Germany  DEU  2011  1427.18     74.035706             80857877.0   \n",
       "19723  Germany  DEU  2012  1406.00     73.760130             80916391.0   \n",
       "19724  Germany  DEU  2013  1395.73     73.892365             81041581.0   \n",
       "19725  Germany  DEU  2014  1400.01     75.671060             81376078.0   \n",
       "19726  Germany  DEU  2015  1401.59     74.099724             82077546.0   \n",
       "19727  Germany  DEU  2016  1395.83     76.029090             82760102.0   \n",
       "19728  Germany  DEU  2017  1388.21     78.195240             83104010.0   \n",
       "19729  Germany  DEU  2018  1380.72     78.599670             83368507.0   \n",
       "19730  Germany  DEU  2019  1372.04     81.118675             83559184.0   \n",
       "19731  Germany  DEU  2020  1313.57     82.040480             83628711.0   \n",
       "19732  Germany  DEU  2021  1341.88     82.909170             83697080.0   \n",
       "19733  Germany  DEU  2022  1340.14     82.747210             84086227.0   \n",
       "19734  Germany  DEU  2023  1335.27     82.501175             84548233.0   \n",
       "\n",
       "      owid_region  \n",
       "19706         NaN  \n",
       "19707         NaN  \n",
       "19708         NaN  \n",
       "19709         NaN  \n",
       "19710         NaN  \n",
       "19711         NaN  \n",
       "19712         NaN  \n",
       "19713         NaN  \n",
       "19714         NaN  \n",
       "19715         NaN  \n",
       "19716         NaN  \n",
       "19717         NaN  \n",
       "19718         NaN  \n",
       "19719         NaN  \n",
       "19720         NaN  \n",
       "19721         NaN  \n",
       "19722         NaN  \n",
       "19723         NaN  \n",
       "19724         NaN  \n",
       "19725         NaN  \n",
       "19726         NaN  \n",
       "19727         NaN  \n",
       "19728         NaN  \n",
       "19729         NaN  \n",
       "19730         NaN  \n",
       "19731         NaN  \n",
       "19732         NaN  \n",
       "19733         NaN  \n",
       "19734      Europe  "
      ]
     },
     "execution_count": 31,
     "metadata": {},
     "output_type": "execute_result"
    }
   ],
   "source": [
    "df[(df['Entity']==\"Germany\") & (df[\"productivity\"]>50)]"
   ]
  },
  {
   "cell_type": "markdown",
   "metadata": {
    "id": "gduYuQ7KnA-m"
   },
   "source": [
    "4. Use `df.loc[(condition1)&(condition2), ['column1', 'column2', ...]]` to show the same selection of the DataFrame, but only displaying the year, the productivity and the population."
   ]
  },
  {
   "cell_type": "code",
   "execution_count": 32,
   "metadata": {},
   "outputs": [
    {
     "data": {
      "text/plain": [
       "(        Entity Code  Year      avh  productivity  population_historical  \\\n",
       " 19706  Germany  DEU  1995  1528.90     50.687958             82019890.0   \n",
       " 19707  Germany  DEU  1996  1515.50     51.823856             82263195.0   \n",
       " 19708  Germany  DEU  1997  1506.16     53.603516             82389631.0   \n",
       " 19709  Germany  DEU  1998  1503.01     54.964676             82011933.0   \n",
       " 19710  Germany  DEU  1999  1490.27     57.002277             81678279.0   \n",
       " 19711  Germany  DEU  2000  1464.53     58.083973             81797255.0   \n",
       " 19712  Germany  DEU  2001  1457.35     59.583893             81933882.0   \n",
       " 19713  Germany  DEU  2002  1448.34     60.345882             82068328.0   \n",
       " 19714  Germany  DEU  2003  1443.07     62.535880             82111619.0   \n",
       " 19715  Germany  DEU  2004  1442.65     63.894978             82092706.0   \n",
       " 19716  Germany  DEU  2005  1431.89     67.481415             82046733.0   \n",
       " 19717  Germany  DEU  2006  1452.42     67.916740             81701971.0   \n",
       " 19718  Germany  DEU  2007  1453.86     70.651340             81298546.0   \n",
       " 19719  Germany  DEU  2008  1446.89     71.665570             81110780.0   \n",
       " 19720  Germany  DEU  2009  1406.77     68.887060             80935276.0   \n",
       " 19721  Germany  DEU  2010  1425.37     70.998740             80830916.0   \n",
       " 19722  Germany  DEU  2011  1427.18     74.035706             80857877.0   \n",
       " 19723  Germany  DEU  2012  1406.00     73.760130             80916391.0   \n",
       " 19724  Germany  DEU  2013  1395.73     73.892365             81041581.0   \n",
       " 19725  Germany  DEU  2014  1400.01     75.671060             81376078.0   \n",
       " 19726  Germany  DEU  2015  1401.59     74.099724             82077546.0   \n",
       " 19727  Germany  DEU  2016  1395.83     76.029090             82760102.0   \n",
       " 19728  Germany  DEU  2017  1388.21     78.195240             83104010.0   \n",
       " 19729  Germany  DEU  2018  1380.72     78.599670             83368507.0   \n",
       " 19730  Germany  DEU  2019  1372.04     81.118675             83559184.0   \n",
       " 19731  Germany  DEU  2020  1313.57     82.040480             83628711.0   \n",
       " 19732  Germany  DEU  2021  1341.88     82.909170             83697080.0   \n",
       " 19733  Germany  DEU  2022  1340.14     82.747210             84086227.0   \n",
       " 19734  Germany  DEU  2023  1335.27     82.501175             84548233.0   \n",
       " \n",
       "       owid_region  \n",
       " 19706         NaN  \n",
       " 19707         NaN  \n",
       " 19708         NaN  \n",
       " 19709         NaN  \n",
       " 19710         NaN  \n",
       " 19711         NaN  \n",
       " 19712         NaN  \n",
       " 19713         NaN  \n",
       " 19714         NaN  \n",
       " 19715         NaN  \n",
       " 19716         NaN  \n",
       " 19717         NaN  \n",
       " 19718         NaN  \n",
       " 19719         NaN  \n",
       " 19720         NaN  \n",
       " 19721         NaN  \n",
       " 19722         NaN  \n",
       " 19723         NaN  \n",
       " 19724         NaN  \n",
       " 19725         NaN  \n",
       " 19726         NaN  \n",
       " 19727         NaN  \n",
       " 19728         NaN  \n",
       " 19729         NaN  \n",
       " 19730         NaN  \n",
       " 19731         NaN  \n",
       " 19732         NaN  \n",
       " 19733         NaN  \n",
       " 19734      Europe  ,\n",
       " ['year', 'productivity', 'population'])"
      ]
     },
     "execution_count": 32,
     "metadata": {},
     "output_type": "execute_result"
    }
   ],
   "source": [
    "df.loc[(df['Entity']==\"Germany\") & (df[\"productivity\"]>50)],[\"year\",\"productivity\",\"population\"]"
   ]
  },
  {
   "cell_type": "markdown",
   "metadata": {
    "id": "wyl3g8MpnA-m"
   },
   "source": [
    "5. Finally, display only the rows in which the 'United States' had a population of over 300 million, and of those, only the columns for the year and population."
   ]
  },
  {
   "cell_type": "code",
   "execution_count": 33,
   "metadata": {},
   "outputs": [
    {
     "data": {
      "text/plain": [
       "(              Entity Code  Year      avh  productivity  population_historical  \\\n",
       " 55394  United States  USA  2007  1828.84     68.141170            301844223.0   \n",
       " 55395  United States  USA  2008  1808.99     68.959710            304970325.0   \n",
       " 55396  United States  USA  2009  1764.89     71.023650            308023452.0   \n",
       " 55397  United States  USA  2010  1773.37     72.943100            311062785.0   \n",
       " 55398  United States  USA  2011  1782.51     72.994804            314105075.0   \n",
       " 55399  United States  USA  2012  1784.70     73.444336            317115349.0   \n",
       " 55400  United States  USA  2013  1791.31     74.135895            320110752.0   \n",
       " 55401  United States  USA  2014  1797.12     74.585940            323115377.0   \n",
       " 55402  United States  USA  2015  1808.72     74.986916            326126496.0   \n",
       " 55403  United States  USA  2016  1802.60     75.294950            329179423.0   \n",
       " 55404  United States  USA  2017  1795.58     76.112910            332204657.0   \n",
       " 55405  United States  USA  2018  1804.19     76.830710            335056492.0   \n",
       " 55406  United States  USA  2019  1796.65     77.742090            337790069.0   \n",
       " 55407  United States  USA  2020  1777.88     81.082470            339436156.0   \n",
       " 55408  United States  USA  2021  1788.70     82.302800            340161438.0   \n",
       " 55409  United States  USA  2022  1789.59     81.948240            341534041.0   \n",
       " 55410  United States  USA  2023  1788.88     83.531105            343477330.0   \n",
       " \n",
       "          owid_region  \n",
       " 55394            NaN  \n",
       " 55395            NaN  \n",
       " 55396            NaN  \n",
       " 55397            NaN  \n",
       " 55398            NaN  \n",
       " 55399            NaN  \n",
       " 55400            NaN  \n",
       " 55401            NaN  \n",
       " 55402            NaN  \n",
       " 55403            NaN  \n",
       " 55404            NaN  \n",
       " 55405            NaN  \n",
       " 55406            NaN  \n",
       " 55407            NaN  \n",
       " 55408            NaN  \n",
       " 55409            NaN  \n",
       " 55410  North America  ,\n",
       " ['year', 'population_historical'])"
      ]
     },
     "execution_count": 33,
     "metadata": {},
     "output_type": "execute_result"
    }
   ],
   "source": [
    "df.loc[(df['Entity']==\"United States\") & (df[\"population_historical\"]>300000000)],[\"year\",\"population_historical\"]"
   ]
  },
  {
   "cell_type": "markdown",
   "metadata": {
    "id": "MiWNCKnqnA-m"
   },
   "source": [
    "## Statistical Investigation"
   ]
  },
  {
   "cell_type": "markdown",
   "metadata": {
    "id": "RG5gyoISnA-m"
   },
   "source": [
    "Let's do some basic statistics. DataFrames come with additional functions that we can use to calculate summarizing values, e.g.:  \n",
    "`.describe()`, `.mean()`, `.median()`, `.mode()`, `.std()`, `.min()`, `.max()`, etc."
   ]
  },
  {
   "cell_type": "markdown",
   "metadata": {
    "id": "ju9Ss0xhnA-n"
   },
   "source": [
    "**Tasks:**\n",
    "1. Use `df.describe()` function to get a first overview over the DataFrame."
   ]
  },
  {
   "cell_type": "code",
   "execution_count": 34,
   "metadata": {},
   "outputs": [
    {
     "data": {
      "application/vnd.microsoft.datawrangler.viewer.v0+json": {
       "columns": [
        {
         "name": "index",
         "rawType": "object",
         "type": "string"
        },
        {
         "name": "Year",
         "rawType": "float64",
         "type": "float"
        },
        {
         "name": "avh",
         "rawType": "float64",
         "type": "float"
        },
        {
         "name": "productivity",
         "rawType": "float64",
         "type": "float"
        },
        {
         "name": "population_historical",
         "rawType": "float64",
         "type": "float"
        }
       ],
       "ref": "99110e2b-c880-475d-9199-b496ccf11978",
       "rows": [
        [
         "count",
         "58859.0",
         "4965.0",
         "4965.0",
         "58824.0"
        ],
        [
         "mean",
         "1614.1518374420225",
         "1995.1581268882173",
         "25.975766847075526",
         "50889518.12731198"
        ],
        [
         "std",
         "1399.7126137780585",
         "320.84268050350045",
         "22.514651818880342",
         "300392691.0347582"
        ],
        [
         "min",
         "-10000.0",
         "1313.57",
         "0.50352126",
         "1.0"
        ],
        [
         "25%",
         "1833.0",
         "1742.45",
         "8.010024",
         "147993.75"
        ],
        [
         "50%",
         "1902.0",
         "1979.93",
         "19.862648",
         "1409324.0"
        ],
        [
         "75%",
         "1967.0",
         "2232.0",
         "38.193",
         "6787372.25"
        ],
        [
         "max",
         "2023.0",
         "3039.79",
         "175.47858",
         "8091734933.0"
        ]
       ],
       "shape": {
        "columns": 4,
        "rows": 8
       }
      },
      "text/html": [
       "<div>\n",
       "<style scoped>\n",
       "    .dataframe tbody tr th:only-of-type {\n",
       "        vertical-align: middle;\n",
       "    }\n",
       "\n",
       "    .dataframe tbody tr th {\n",
       "        vertical-align: top;\n",
       "    }\n",
       "\n",
       "    .dataframe thead th {\n",
       "        text-align: right;\n",
       "    }\n",
       "</style>\n",
       "<table border=\"1\" class=\"dataframe\">\n",
       "  <thead>\n",
       "    <tr style=\"text-align: right;\">\n",
       "      <th></th>\n",
       "      <th>Year</th>\n",
       "      <th>avh</th>\n",
       "      <th>productivity</th>\n",
       "      <th>population_historical</th>\n",
       "    </tr>\n",
       "  </thead>\n",
       "  <tbody>\n",
       "    <tr>\n",
       "      <th>count</th>\n",
       "      <td>58859.000000</td>\n",
       "      <td>4965.000000</td>\n",
       "      <td>4965.000000</td>\n",
       "      <td>5.882400e+04</td>\n",
       "    </tr>\n",
       "    <tr>\n",
       "      <th>mean</th>\n",
       "      <td>1614.151837</td>\n",
       "      <td>1995.158127</td>\n",
       "      <td>25.975767</td>\n",
       "      <td>5.088952e+07</td>\n",
       "    </tr>\n",
       "    <tr>\n",
       "      <th>std</th>\n",
       "      <td>1399.712614</td>\n",
       "      <td>320.842681</td>\n",
       "      <td>22.514652</td>\n",
       "      <td>3.003927e+08</td>\n",
       "    </tr>\n",
       "    <tr>\n",
       "      <th>min</th>\n",
       "      <td>-10000.000000</td>\n",
       "      <td>1313.570000</td>\n",
       "      <td>0.503521</td>\n",
       "      <td>1.000000e+00</td>\n",
       "    </tr>\n",
       "    <tr>\n",
       "      <th>25%</th>\n",
       "      <td>1833.000000</td>\n",
       "      <td>1742.450000</td>\n",
       "      <td>8.010024</td>\n",
       "      <td>1.479938e+05</td>\n",
       "    </tr>\n",
       "    <tr>\n",
       "      <th>50%</th>\n",
       "      <td>1902.000000</td>\n",
       "      <td>1979.930000</td>\n",
       "      <td>19.862648</td>\n",
       "      <td>1.409324e+06</td>\n",
       "    </tr>\n",
       "    <tr>\n",
       "      <th>75%</th>\n",
       "      <td>1967.000000</td>\n",
       "      <td>2232.000000</td>\n",
       "      <td>38.193000</td>\n",
       "      <td>6.787372e+06</td>\n",
       "    </tr>\n",
       "    <tr>\n",
       "      <th>max</th>\n",
       "      <td>2023.000000</td>\n",
       "      <td>3039.790000</td>\n",
       "      <td>175.478580</td>\n",
       "      <td>8.091735e+09</td>\n",
       "    </tr>\n",
       "  </tbody>\n",
       "</table>\n",
       "</div>"
      ],
      "text/plain": [
       "               Year          avh  productivity  population_historical\n",
       "count  58859.000000  4965.000000   4965.000000           5.882400e+04\n",
       "mean    1614.151837  1995.158127     25.975767           5.088952e+07\n",
       "std     1399.712614   320.842681     22.514652           3.003927e+08\n",
       "min   -10000.000000  1313.570000      0.503521           1.000000e+00\n",
       "25%     1833.000000  1742.450000      8.010024           1.479938e+05\n",
       "50%     1902.000000  1979.930000     19.862648           1.409324e+06\n",
       "75%     1967.000000  2232.000000     38.193000           6.787372e+06\n",
       "max     2023.000000  3039.790000    175.478580           8.091735e+09"
      ]
     },
     "execution_count": 34,
     "metadata": {},
     "output_type": "execute_result"
    }
   ],
   "source": [
    "df.describe()"
   ]
  },
  {
   "cell_type": "markdown",
   "metadata": {
    "id": "LcI23w_pnA-n"
   },
   "source": [
    "2. I often like to use `df.describe().T.apply(lambda x: x.apply('{0:g}'.format))`. It's a bit more complicated, but try it out. Which differences do you notice?"
   ]
  },
  {
   "cell_type": "code",
   "execution_count": 35,
   "metadata": {},
   "outputs": [
    {
     "data": {
      "application/vnd.microsoft.datawrangler.viewer.v0+json": {
       "columns": [
        {
         "name": "index",
         "rawType": "object",
         "type": "string"
        },
        {
         "name": "count",
         "rawType": "object",
         "type": "string"
        },
        {
         "name": "mean",
         "rawType": "object",
         "type": "string"
        },
        {
         "name": "std",
         "rawType": "object",
         "type": "string"
        },
        {
         "name": "min",
         "rawType": "object",
         "type": "string"
        },
        {
         "name": "25%",
         "rawType": "object",
         "type": "string"
        },
        {
         "name": "50%",
         "rawType": "object",
         "type": "string"
        },
        {
         "name": "75%",
         "rawType": "object",
         "type": "string"
        },
        {
         "name": "max",
         "rawType": "object",
         "type": "string"
        }
       ],
       "ref": "c4207012-3fd2-4107-9f89-159cf5942e24",
       "rows": [
        [
         "Year",
         "58859",
         "1614.15",
         "1399.71",
         "-10000",
         "1833",
         "1902",
         "1967",
         "2023"
        ],
        [
         "avh",
         "4965",
         "1995.16",
         "320.843",
         "1313.57",
         "1742.45",
         "1979.93",
         "2232",
         "3039.79"
        ],
        [
         "productivity",
         "4965",
         "25.9758",
         "22.5147",
         "0.503521",
         "8.01002",
         "19.8626",
         "38.193",
         "175.479"
        ],
        [
         "population_historical",
         "58824",
         "5.08895e+07",
         "3.00393e+08",
         "1",
         "147994",
         "1.40932e+06",
         "6.78737e+06",
         "8.09173e+09"
        ]
       ],
       "shape": {
        "columns": 8,
        "rows": 4
       }
      },
      "text/html": [
       "<div>\n",
       "<style scoped>\n",
       "    .dataframe tbody tr th:only-of-type {\n",
       "        vertical-align: middle;\n",
       "    }\n",
       "\n",
       "    .dataframe tbody tr th {\n",
       "        vertical-align: top;\n",
       "    }\n",
       "\n",
       "    .dataframe thead th {\n",
       "        text-align: right;\n",
       "    }\n",
       "</style>\n",
       "<table border=\"1\" class=\"dataframe\">\n",
       "  <thead>\n",
       "    <tr style=\"text-align: right;\">\n",
       "      <th></th>\n",
       "      <th>count</th>\n",
       "      <th>mean</th>\n",
       "      <th>std</th>\n",
       "      <th>min</th>\n",
       "      <th>25%</th>\n",
       "      <th>50%</th>\n",
       "      <th>75%</th>\n",
       "      <th>max</th>\n",
       "    </tr>\n",
       "  </thead>\n",
       "  <tbody>\n",
       "    <tr>\n",
       "      <th>Year</th>\n",
       "      <td>58859</td>\n",
       "      <td>1614.15</td>\n",
       "      <td>1399.71</td>\n",
       "      <td>-10000</td>\n",
       "      <td>1833</td>\n",
       "      <td>1902</td>\n",
       "      <td>1967</td>\n",
       "      <td>2023</td>\n",
       "    </tr>\n",
       "    <tr>\n",
       "      <th>avh</th>\n",
       "      <td>4965</td>\n",
       "      <td>1995.16</td>\n",
       "      <td>320.843</td>\n",
       "      <td>1313.57</td>\n",
       "      <td>1742.45</td>\n",
       "      <td>1979.93</td>\n",
       "      <td>2232</td>\n",
       "      <td>3039.79</td>\n",
       "    </tr>\n",
       "    <tr>\n",
       "      <th>productivity</th>\n",
       "      <td>4965</td>\n",
       "      <td>25.9758</td>\n",
       "      <td>22.5147</td>\n",
       "      <td>0.503521</td>\n",
       "      <td>8.01002</td>\n",
       "      <td>19.8626</td>\n",
       "      <td>38.193</td>\n",
       "      <td>175.479</td>\n",
       "    </tr>\n",
       "    <tr>\n",
       "      <th>population_historical</th>\n",
       "      <td>58824</td>\n",
       "      <td>5.08895e+07</td>\n",
       "      <td>3.00393e+08</td>\n",
       "      <td>1</td>\n",
       "      <td>147994</td>\n",
       "      <td>1.40932e+06</td>\n",
       "      <td>6.78737e+06</td>\n",
       "      <td>8.09173e+09</td>\n",
       "    </tr>\n",
       "  </tbody>\n",
       "</table>\n",
       "</div>"
      ],
      "text/plain": [
       "                       count         mean          std       min      25%  \\\n",
       "Year                   58859      1614.15      1399.71    -10000     1833   \n",
       "avh                     4965      1995.16      320.843   1313.57  1742.45   \n",
       "productivity            4965      25.9758      22.5147  0.503521  8.01002   \n",
       "population_historical  58824  5.08895e+07  3.00393e+08         1   147994   \n",
       "\n",
       "                               50%          75%          max  \n",
       "Year                          1902         1967         2023  \n",
       "avh                        1979.93         2232      3039.79  \n",
       "productivity               19.8626       38.193      175.479  \n",
       "population_historical  1.40932e+06  6.78737e+06  8.09173e+09  "
      ]
     },
     "execution_count": 35,
     "metadata": {},
     "output_type": "execute_result"
    }
   ],
   "source": [
    "df.describe().T.apply(lambda x: x.apply('{0:g}'.format))"
   ]
  },
  {
   "cell_type": "markdown",
   "metadata": {
    "id": "0MKgcOISnA-n"
   },
   "source": [
    "3. We can also apply summarizing functions to filtered DataFrames. For that first use `df.loc[condition, ['column1', 'column2', ...]]` to filter the DataFrame for rows where the entity is Germany and for  the columns `Productivity: output per hour worked` and `Population (historical)`. Then calculate the `.mean()` of the resulting DataFrame."
   ]
  },
  {
   "cell_type": "code",
   "execution_count": 36,
   "metadata": {},
   "outputs": [
    {
     "data": {
      "application/vnd.microsoft.datawrangler.viewer.v0+json": {
       "columns": [
        {
         "name": "index",
         "rawType": "object",
         "type": "string"
        },
        {
         "name": "0",
         "rawType": "float64",
         "type": "float"
        }
       ],
       "ref": "e27277bb-1cb7-4182-84eb-c3831425f9e6",
       "rows": [
        [
         "productivity",
         "40.354346901351356"
        ],
        [
         "population_historical",
         "48994371.06896552"
        ]
       ],
       "shape": {
        "columns": 1,
        "rows": 2
       }
      },
      "text/plain": [
       "productivity             4.035435e+01\n",
       "population_historical    4.899437e+07\n",
       "dtype: float64"
      ]
     },
     "execution_count": 36,
     "metadata": {},
     "output_type": "execute_result"
    }
   ],
   "source": [
    "df.loc[(df['Entity']==\"Germany\"),[\"productivity\",\"population_historical\"]].mean()\n"
   ]
  },
  {
   "cell_type": "markdown",
   "metadata": {
    "id": "5ThP6gsPnA-n"
   },
   "source": [
    "4. In a similar way, find the first (i.e., 'minimum') year where Germany had a population over 80 million.  "
   ]
  },
  {
   "cell_type": "code",
   "execution_count": 37,
   "metadata": {},
   "outputs": [
    {
     "data": {
      "text/plain": [
       "np.int64(1991)"
      ]
     },
     "execution_count": 37,
     "metadata": {},
     "output_type": "execute_result"
    }
   ],
   "source": [
    "df.loc[(df['Entity'] == 'Germany') & (df['population_historical'] > 80000000),'Year'].min()"
   ]
  },
  {
   "cell_type": "markdown",
   "metadata": {
    "id": "rR_ycSOjnA-n"
   },
   "source": [
    "5. Lastly, find the entity and year with the largest population in the DataFrame."
   ]
  },
  {
   "cell_type": "code",
   "execution_count": 38,
   "metadata": {},
   "outputs": [
    {
     "data": {
      "text/plain": [
       "np.int64(2023)"
      ]
     },
     "execution_count": 38,
     "metadata": {},
     "output_type": "execute_result"
    }
   ],
   "source": [
    "df.loc[(df['Entity'] == 'Germany') & (df['population_historical']),'Year'].max()"
   ]
  },
  {
   "cell_type": "markdown",
   "metadata": {
    "id": "TqvPxEeVnA-n"
   },
   "source": [
    "---\n",
    "*Hint:* Filter for the row where the population is equal to the maximum population.\n",
    "\n",
    "---"
   ]
  },
  {
   "cell_type": "markdown",
   "metadata": {
    "id": "BrxpHUPKnA-n"
   },
   "source": [
    "## Investigating Categorical Features: Value Counts, (N)Unique"
   ]
  },
  {
   "cell_type": "markdown",
   "metadata": {
    "id": "jFl9IGgxnA-n"
   },
   "source": [
    "To investigate categorical features, we have a couple of useful functions."
   ]
  },
  {
   "cell_type": "markdown",
   "metadata": {
    "id": "mfuMzR94nA-n"
   },
   "source": [
    "**Tasks**:\n",
    "1. Use `df['column'].value_counts()` on the `Entity` column of the DataFrame. What does this show you?"
   ]
  },
  {
   "cell_type": "code",
   "execution_count": 39,
   "metadata": {},
   "outputs": [
    {
     "data": {
      "application/vnd.microsoft.datawrangler.viewer.v0+json": {
       "columns": [
        {
         "name": "Entity",
         "rawType": "object",
         "type": "string"
        },
        {
         "name": "count",
         "rawType": "int64",
         "type": "integer"
        }
       ],
       "ref": "26f9cf8d-97e8-4f35-b349-0d95b60c26c3",
       "rows": [
        [
         "Afghanistan",
         "261"
        ],
        [
         "Mongolia",
         "261"
        ],
        [
         "Lithuania",
         "261"
        ],
        [
         "Low-income countries",
         "261"
        ],
        [
         "Lower-middle-income countries",
         "261"
        ],
        [
         "Luxembourg",
         "261"
        ],
        [
         "Madagascar",
         "261"
        ],
        [
         "Malawi",
         "261"
        ],
        [
         "Malaysia",
         "261"
        ],
        [
         "Mali",
         "261"
        ],
        [
         "Mauritania",
         "261"
        ],
        [
         "Mexico",
         "261"
        ],
        [
         "Moldova",
         "261"
        ],
        [
         "Morocco",
         "261"
        ],
        [
         "Guatemala",
         "261"
        ],
        [
         "Mozambique",
         "261"
        ],
        [
         "Myanmar",
         "261"
        ],
        [
         "Namibia",
         "261"
        ],
        [
         "Nepal",
         "261"
        ],
        [
         "Netherlands",
         "261"
        ],
        [
         "Nicaragua",
         "261"
        ],
        [
         "Niger",
         "261"
        ],
        [
         "Nigeria",
         "261"
        ],
        [
         "North America",
         "261"
        ],
        [
         "North Korea",
         "261"
        ],
        [
         "North Macedonia",
         "261"
        ],
        [
         "Liechtenstein",
         "261"
        ],
        [
         "Libya",
         "261"
        ],
        [
         "Liberia",
         "261"
        ],
        [
         "Lesotho",
         "261"
        ],
        [
         "Guinea-Bissau",
         "261"
        ],
        [
         "Guyana",
         "261"
        ],
        [
         "High-income countries",
         "261"
        ],
        [
         "Honduras",
         "261"
        ],
        [
         "Hong Kong",
         "261"
        ],
        [
         "Hungary",
         "261"
        ],
        [
         "Iceland",
         "261"
        ],
        [
         "India",
         "261"
        ],
        [
         "Indonesia",
         "261"
        ],
        [
         "Iran",
         "261"
        ],
        [
         "Iraq",
         "261"
        ],
        [
         "Israel",
         "261"
        ],
        [
         "Italy",
         "261"
        ],
        [
         "Japan",
         "261"
        ],
        [
         "Jordan",
         "261"
        ],
        [
         "Kazakhstan",
         "261"
        ],
        [
         "Kenya",
         "261"
        ],
        [
         "Kuwait",
         "261"
        ],
        [
         "Kyrgyzstan",
         "261"
        ],
        [
         "Laos",
         "261"
        ]
       ],
       "shape": {
        "columns": 1,
        "rows": 294
       }
      },
      "text/plain": [
       "Entity\n",
       "Afghanistan                       261\n",
       "Mongolia                          261\n",
       "Lithuania                         261\n",
       "Low-income countries              261\n",
       "Lower-middle-income countries     261\n",
       "                                 ... \n",
       "Pitcairn                            1\n",
       "Republic of Vietnam                 1\n",
       "British Indian Ocean Territory      1\n",
       "Austria-Hungary                     1\n",
       "Orange Free State                   1\n",
       "Name: count, Length: 294, dtype: int64"
      ]
     },
     "execution_count": 39,
     "metadata": {},
     "output_type": "execute_result"
    }
   ],
   "source": [
    "df['Entity'].value_counts()\n",
    "# it shows me the value counts "
   ]
  },
  {
   "cell_type": "markdown",
   "metadata": {
    "id": "GPs19fMonA-o"
   },
   "source": [
    "2. Use `df['column'].unique()` and `df['column'].nunique()` on the same column of the DataFrame. What do these show you?"
   ]
  },
  {
   "cell_type": "code",
   "execution_count": 40,
   "metadata": {},
   "outputs": [
    {
     "data": {
      "text/plain": [
       "294"
      ]
     },
     "execution_count": 40,
     "metadata": {},
     "output_type": "execute_result"
    }
   ],
   "source": [
    "df['Entity'].nunique()\n",
    "# it tells us the total"
   ]
  },
  {
   "cell_type": "code",
   "execution_count": 41,
   "metadata": {},
   "outputs": [
    {
     "data": {
      "text/plain": [
       "array(['Afghanistan', 'Africa', 'Africa (UN)', 'Akrotiri and Dhekelia',\n",
       "       'Aland Islands', 'Albania', 'Algeria', 'American Samoa',\n",
       "       'Americas (UN)', 'Andorra', 'Angola', 'Anguilla',\n",
       "       'Antigua and Barbuda', 'Argentina', 'Armenia', 'Aruba', 'Asia',\n",
       "       'Asia (UN)', 'Australia', 'Austria', 'Austria-Hungary',\n",
       "       'Azerbaijan', 'Bahamas', 'Bahrain', 'Bangladesh', 'Barbados',\n",
       "       'Belarus', 'Belgium', 'Belize', 'Benin', 'Bermuda', 'Bhutan',\n",
       "       'Bolivia', 'Bonaire Sint Eustatius and Saba',\n",
       "       'Bosnia and Herzegovina', 'Botswana', 'Brazil',\n",
       "       'British Indian Ocean Territory', 'British Virgin Islands',\n",
       "       'Brunei', 'Bulgaria', 'Burkina Faso', 'Burundi', 'Cambodia',\n",
       "       'Cameroon', 'Canada', 'Cape Verde', 'Cayman Islands',\n",
       "       'Central African Republic', 'Chad', 'Chile', 'China',\n",
       "       'Christmas Island', 'Cocos Islands', 'Colombia', 'Comoros',\n",
       "       'Congo', 'Cook Islands', 'Costa Rica', \"Cote d'Ivoire\", 'Croatia',\n",
       "       'Cuba', 'Curacao', 'Cyprus', 'Czechia', 'Czechoslovakia',\n",
       "       'Democratic Republic of Congo', 'Democratic Republic of Vietnam',\n",
       "       'Denmark', 'Djibouti', 'Dominica', 'Dominican Republic',\n",
       "       'Duchy of Modena and Reggio', 'Duchy of Parma and Piacenza',\n",
       "       'East Germany', 'East Timor', 'Ecuador', 'Egypt', 'El Salvador',\n",
       "       'Equatorial Guinea', 'Eritrea', 'Estonia', 'Eswatini', 'Ethiopia',\n",
       "       'Ethiopia (former)', 'Europe', 'Europe (UN)',\n",
       "       'European Union (27)', 'Falkland Islands', 'Faroe Islands',\n",
       "       'Federal Republic of Central America', 'Fiji', 'Finland', 'France',\n",
       "       'French Guiana', 'French Polynesia', 'Gabon', 'Gambia', 'Georgia',\n",
       "       'Germany', 'Ghana', 'Gibraltar', 'Grand Duchy of Baden',\n",
       "       'Grand Duchy of Tuscany', 'Great Colombia', 'Greece', 'Greenland',\n",
       "       'Grenada', 'Guadeloupe', 'Guam', 'Guatemala', 'Guernsey', 'Guinea',\n",
       "       'Guinea-Bissau', 'Guyana', 'Haiti', 'High-income countries',\n",
       "       'Honduras', 'Hong Kong', 'Hungary', 'Iceland', 'India',\n",
       "       'Indonesia', 'Iran', 'Iraq', 'Ireland', 'Ireland (whole island)',\n",
       "       'Isle of Man', 'Israel', 'Italy', 'Jamaica', 'Japan', 'Jersey',\n",
       "       'Jordan', 'Kazakhstan', 'Kenya', 'Kingdom of Bavaria',\n",
       "       'Kingdom of Sardinia', 'Kingdom of Saxony',\n",
       "       'Kingdom of Wurttemberg', 'Kingdom of the Two Sicilies',\n",
       "       'Kiribati', 'Korea (former)', 'Kosovo', 'Kuwait', 'Kyrgyzstan',\n",
       "       'Laos', 'Latin America and the Caribbean (UN)', 'Latvia',\n",
       "       'Lebanon', 'Lesotho', 'Liberia', 'Libya', 'Liechtenstein',\n",
       "       'Lithuania', 'Low-income countries',\n",
       "       'Lower-middle-income countries', 'Luxembourg', 'Macao',\n",
       "       'Madagascar', 'Malawi', 'Malaysia', 'Maldives', 'Mali', 'Malta',\n",
       "       'Marshall Islands', 'Martinique', 'Mauritania', 'Mauritius',\n",
       "       'Mayotte', 'Mexico', 'Micronesia (country)', 'Moldova', 'Monaco',\n",
       "       'Mongolia', 'Montenegro', 'Montserrat', 'Morocco', 'Mozambique',\n",
       "       'Myanmar', 'Namibia', 'Nauru', 'Nepal', 'Netherlands',\n",
       "       'Netherlands Antilles', 'New Caledonia', 'New Zealand',\n",
       "       'Nicaragua', 'Niger', 'Nigeria', 'Niue', 'Norfolk Island',\n",
       "       'North America', 'North Korea', 'North Macedonia',\n",
       "       'Northern America (UN)', 'Northern Mariana Islands', 'Norway',\n",
       "       'Oceania', 'Oceania (UN)', 'Oman', 'Orange Free State', 'Pakistan',\n",
       "       'Pakistan (former)', 'Palau', 'Palestine', 'Panama',\n",
       "       'Papua New Guinea', 'Paraguay', 'Peru', 'Philippines', 'Pitcairn',\n",
       "       'Poland', 'Portugal', 'Puerto Rico', 'Qatar',\n",
       "       'Republic of Vietnam', 'Reunion', 'Romania', 'Russia', 'Rwanda',\n",
       "       'Saint Barthelemy', 'Saint Helena', 'Saint Kitts and Nevis',\n",
       "       'Saint Lucia', 'Saint Martin (French part)',\n",
       "       'Saint Pierre and Miquelon', 'Saint Vincent and the Grenadines',\n",
       "       'Samoa', 'San Marino', 'Sao Tome and Principe', 'Saudi Arabia',\n",
       "       'Senegal', 'Serbia', 'Serbia and Montenegro', 'Seychelles',\n",
       "       'Sierra Leone', 'Singapore', 'Sint Maarten (Dutch part)',\n",
       "       'Slovakia', 'Slovenia', 'Solomon Islands', 'Somalia',\n",
       "       'South Africa', 'South America',\n",
       "       'South Georgia and the South Sandwich Islands', 'South Korea',\n",
       "       'South Sudan', 'Spain', 'Sri Lanka', 'Sudan', 'Sudan (former)',\n",
       "       'Suriname', 'Svalbard and Jan Mayen', 'Sweden', 'Switzerland',\n",
       "       'Syria', 'Taiwan', 'Tajikistan', 'Tanzania', 'Thailand', 'Togo',\n",
       "       'Tokelau', 'Tonga', 'Trinidad and Tobago', 'Tunisia', 'Turkey',\n",
       "       'Turkmenistan', 'Turks and Caicos Islands', 'Tuvalu', 'USSR',\n",
       "       'Uganda', 'Ukraine', 'United Arab Emirates', 'United Kingdom',\n",
       "       'United States', 'United States Virgin Islands',\n",
       "       'Upper-middle-income countries', 'Uruguay', 'Uzbekistan',\n",
       "       'Vanuatu', 'Vatican', 'Venezuela', 'Vietnam', 'Wallis and Futuna',\n",
       "       'West Germany', 'Western Sahara', 'World', 'Yemen',\n",
       "       'Yemen Arab Republic', \"Yemen People's Republic\", 'Yugoslavia',\n",
       "       'Zambia', 'Zimbabwe'], dtype=object)"
      ]
     },
     "execution_count": 41,
     "metadata": {},
     "output_type": "execute_result"
    }
   ],
   "source": [
    "df['Entity'].unique()\n",
    "#this tells the countries"
   ]
  },
  {
   "cell_type": "markdown",
   "metadata": {},
   "source": [
    "3. Find out how many different years of data you have in the DataFrame."
   ]
  },
  {
   "cell_type": "code",
   "execution_count": 42,
   "metadata": {},
   "outputs": [
    {
     "data": {
      "text/plain": [
       "265"
      ]
     },
     "execution_count": 42,
     "metadata": {},
     "output_type": "execute_result"
    }
   ],
   "source": [
    "df['Year'].nunique()"
   ]
  },
  {
   "cell_type": "markdown",
   "metadata": {
    "id": "MdcfAeVLnA-o"
   },
   "source": [
    "4. For which year do you have the most data, and for which years do you have the least?"
   ]
  },
  {
   "cell_type": "code",
   "execution_count": 43,
   "metadata": {},
   "outputs": [
    {
     "name": "stdout",
     "output_type": "stream",
     "text": [
      "Year with the most data: 2023 (292 records)\n",
      "Year(s) with the least data: [1788, 1555, 1640, 1785] (1 records each)\n"
     ]
    }
   ],
   "source": [
    "# Count number of rows per year\n",
    "year_counts = df['Year'].value_counts()\n",
    "\n",
    "# Year with the most data\n",
    "most_data_year = year_counts.idxmax()\n",
    "most_data_count = year_counts.max()\n",
    "\n",
    "# Year(s) with the least data (there could be ties)\n",
    "least_data_count = year_counts.min()\n",
    "least_data_years = year_counts[year_counts == least_data_count].index.tolist()\n",
    "\n",
    "print(f\"Year with the most data: {most_data_year} ({most_data_count} records)\")\n",
    "print(f\"Year(s) with the least data: {least_data_years} ({least_data_count} records each)\")\n"
   ]
  },
  {
   "cell_type": "markdown",
   "metadata": {
    "id": "ODbjkawonA-o"
   },
   "source": [
    "5. How many different years of data do you have from Germany?"
   ]
  },
  {
   "cell_type": "code",
   "execution_count": 44,
   "metadata": {},
   "outputs": [
    {
     "name": "stdout",
     "output_type": "stream",
     "text": [
      "Number of different years of data from Germany: 261\n"
     ]
    }
   ],
   "source": [
    "# Filter data for Germany\n",
    "germany_data = df.loc[df[\"Entity\"] == \"Germany\"]\n",
    "\n",
    "# Count unique years in the filtered data\n",
    "num_years_germany = germany_data['Year'].nunique()\n",
    "\n",
    "print(f\"Number of different years of data from Germany: {num_years_germany}\")\n",
    "\n",
    "# Short version\n",
    "# df.loc[df['Entity'] == 'Germany', 'Year'].nunique()\n"
   ]
  },
  {
   "cell_type": "markdown",
   "metadata": {
    "id": "xpXVkISlnA-o"
   },
   "source": [
    "6. Filter for rows in which the column ‘World regions according to OWID’ has the entry ‘Europe’ and use `.unique()` to find which states belong to Europe. Save the result in a variable called `states_europe`."
   ]
  },
  {
   "cell_type": "code",
   "execution_count": 45,
   "metadata": {},
   "outputs": [
    {
     "name": "stdout",
     "output_type": "stream",
     "text": [
      "['Aland Islands' 'Albania' 'Andorra' 'Austria' 'Austria-Hungary' 'Belarus'\n",
      " 'Belgium' 'Bosnia and Herzegovina' 'Bulgaria' 'Croatia' 'Cyprus'\n",
      " 'Czechia' 'Czechoslovakia' 'Denmark' 'Duchy of Modena and Reggio'\n",
      " 'Duchy of Parma and Piacenza' 'East Germany' 'Estonia' 'Faroe Islands'\n",
      " 'Finland' 'France' 'Germany' 'Gibraltar' 'Grand Duchy of Baden'\n",
      " 'Grand Duchy of Tuscany' 'Greece' 'Guernsey' 'Hungary' 'Iceland'\n",
      " 'Ireland' 'Isle of Man' 'Italy' 'Jersey' 'Kingdom of Bavaria'\n",
      " 'Kingdom of Sardinia' 'Kingdom of Saxony' 'Kingdom of Wurttemberg'\n",
      " 'Kingdom of the Two Sicilies' 'Kosovo' 'Latvia' 'Liechtenstein'\n",
      " 'Lithuania' 'Luxembourg' 'Malta' 'Moldova' 'Monaco' 'Montenegro'\n",
      " 'Netherlands' 'North Macedonia' 'Norway' 'Poland' 'Portugal' 'Romania'\n",
      " 'Russia' 'San Marino' 'Serbia' 'Serbia and Montenegro' 'Slovakia'\n",
      " 'Slovenia' 'Spain' 'Sweden' 'Switzerland' 'USSR' 'Ukraine'\n",
      " 'United Kingdom' 'Vatican' 'West Germany' 'Yugoslavia']\n"
     ]
    }
   ],
   "source": [
    "states_europe = df.loc[df['owid_region'] == 'Europe', 'Entity'].unique()\n",
    "print(states_europe)\n"
   ]
  },
  {
   "cell_type": "markdown",
   "metadata": {
    "id": "j5Edw8sVnA-o"
   },
   "source": [
    "## GroupBy"
   ]
  },
  {
   "cell_type": "markdown",
   "metadata": {
    "id": "cmEUNgWdnA-o"
   },
   "source": [
    "To create more advanced aggregated statistics, we can use the `.groupby()` function. It looks like this: `df.groupby('column1')['column2'].statistical_function()`, which means: \"For each unique value in column1 calculate the statistical_function with regard to column2.\".\n",
    "\n",
    "For example, to get the mean productivity per entity, we can use:  \n",
    "`df.groupby('Entity')['Productivity: output per hour worked'].mean()`"
   ]
  },
  {
   "cell_type": "markdown",
   "metadata": {
    "id": "jkRdWwamnA-o"
   },
   "source": [
    "**Task:**\n",
    "1. Calculate the maximum population per entity."
   ]
  },
  {
   "cell_type": "code",
   "execution_count": 46,
   "metadata": {},
   "outputs": [
    {
     "data": {
      "application/vnd.microsoft.datawrangler.viewer.v0+json": {
       "columns": [
        {
         "name": "Entity",
         "rawType": "object",
         "type": "string"
        },
        {
         "name": "population_historical",
         "rawType": "float64",
         "type": "float"
        }
       ],
       "ref": "6ca97e81-342f-4f38-aea5-7b273e3b0e0a",
       "rows": [
        [
         "Afghanistan",
         "41454762.0"
        ],
        [
         "Africa",
         "1480770747.0"
        ],
        [
         "Africa (UN)",
         "1480770518.0"
        ],
        [
         "Akrotiri and Dhekelia",
         "15700.0"
        ],
        [
         "Aland Islands",
         null
        ],
        [
         "Albania",
         "3282608.0"
        ],
        [
         "Algeria",
         "46164222.0"
        ],
        [
         "American Samoa",
         "57081.0"
        ],
        [
         "Americas (UN)",
         "1041794257.0"
        ],
        [
         "Andorra",
         "83907.0"
        ],
        [
         "Angola",
         "36749909.0"
        ],
        [
         "Anguilla",
         "14864.0"
        ],
        [
         "Antigua and Barbuda",
         "93331.0"
        ],
        [
         "Argentina",
         "45538402.0"
        ],
        [
         "Armenia",
         "3613978.0"
        ],
        [
         "Aruba",
         "107946.0"
        ],
        [
         "Asia",
         "4776659631.0"
        ],
        [
         "Asia (UN)",
         "4778004486.0"
        ],
        [
         "Australia",
         "26451126.0"
        ],
        [
         "Austria",
         "9130434.0"
        ],
        [
         "Austria-Hungary",
         null
        ],
        [
         "Azerbaijan",
         "10318209.0"
        ],
        [
         "Bahamas",
         "399452.0"
        ],
        [
         "Bahrain",
         "1569674.0"
        ],
        [
         "Bangladesh",
         "171466986.0"
        ],
        [
         "Barbados",
         "282347.0"
        ],
        [
         "Belarus",
         "10241320.0"
        ],
        [
         "Belgium",
         "11712891.0"
        ],
        [
         "Belize",
         "411112.0"
        ],
        [
         "Benin",
         "14111035.0"
        ],
        [
         "Bermuda",
         "64772.0"
        ],
        [
         "Bhutan",
         "786386.0"
        ],
        [
         "Bolivia",
         "12244161.0"
        ],
        [
         "Bonaire Sint Eustatius and Saba",
         "29920.0"
        ],
        [
         "Bosnia and Herzegovina",
         "4458350.0"
        ],
        [
         "Botswana",
         "2480242.0"
        ],
        [
         "Brazil",
         "211140731.0"
        ],
        [
         "British Indian Ocean Territory",
         null
        ],
        [
         "British Virgin Islands",
         "39009.0"
        ],
        [
         "Brunei",
         "458959.0"
        ],
        [
         "Bulgaria",
         "8985721.0"
        ],
        [
         "Burkina Faso",
         "23025777.0"
        ],
        [
         "Burundi",
         "13689455.0"
        ],
        [
         "Cambodia",
         "17423884.0"
        ],
        [
         "Cameroon",
         "28372690.0"
        ],
        [
         "Canada",
         "39299098.0"
        ],
        [
         "Cape Verde",
         "522335.0"
        ],
        [
         "Cayman Islands",
         "73055.0"
        ],
        [
         "Central African Republic",
         "5152415.0"
        ],
        [
         "Chad",
         "19319075.0"
        ]
       ],
       "shape": {
        "columns": 1,
        "rows": 294
       }
      },
      "text/plain": [
       "Entity\n",
       "Afghanistan                4.145476e+07\n",
       "Africa                     1.480771e+09\n",
       "Africa (UN)                1.480771e+09\n",
       "Akrotiri and Dhekelia      1.570000e+04\n",
       "Aland Islands                       NaN\n",
       "                               ...     \n",
       "Yemen Arab Republic        9.632000e+06\n",
       "Yemen People's Republic    2.681000e+06\n",
       "Yugoslavia                 2.309000e+07\n",
       "Zambia                     2.072397e+07\n",
       "Zimbabwe                   1.634083e+07\n",
       "Name: population_historical, Length: 294, dtype: float64"
      ]
     },
     "execution_count": 46,
     "metadata": {},
     "output_type": "execute_result"
    }
   ],
   "source": [
    "df.groupby(\"Entity\")[\"population_historical\"].max()"
   ]
  },
  {
   "cell_type": "markdown",
   "metadata": {
    "id": "2-obG3QmnA-o"
   },
   "source": [
    "2. Calculate the average population for each year."
   ]
  },
  {
   "cell_type": "code",
   "execution_count": 47,
   "metadata": {},
   "outputs": [
    {
     "data": {
      "application/vnd.microsoft.datawrangler.viewer.v0+json": {
       "columns": [
        {
         "name": "Entity",
         "rawType": "object",
         "type": "string"
        },
        {
         "name": "population_historical",
         "rawType": "float64",
         "type": "float"
        }
       ],
       "ref": "86c6b948-9f62-4910-936e-45e38f1d87ac",
       "rows": [
        [
         "Afghanistan",
         "8085437.593869732"
        ],
        [
         "Africa",
         "269349625.62835246"
        ],
        [
         "Africa (UN)",
         "672221139.7972972"
        ],
        [
         "Akrotiri and Dhekelia",
         "11703.333333333334"
        ],
        [
         "Aland Islands",
         null
        ],
        [
         "Albania",
         "1154657.264367816"
        ],
        [
         "Algeria",
         "9509359.69348659"
        ],
        [
         "American Samoa",
         "26103.189655172413"
        ],
        [
         "Americas (UN)",
         "688966265.527027"
        ],
        [
         "Andorra",
         "15266.39846743295"
        ],
        [
         "Angola",
         "5508933.590038314"
        ],
        [
         "Anguilla",
         "6075.308943089431"
        ],
        [
         "Antigua and Barbuda",
         "40960.01915708812"
        ],
        [
         "Argentina",
         "11426296.704980843"
        ],
        [
         "Armenia",
         "1223646.9272030653"
        ],
        [
         "Aruba",
         "51599.62962962963"
        ],
        [
         "Asia",
         "1415919170.0689654"
        ],
        [
         "Asia (UN)",
         "3028059927.743243"
        ],
        [
         "Australia",
         "6286414.1455938695"
        ],
        [
         "Austria",
         "5205429.134099617"
        ],
        [
         "Austria-Hungary",
         null
        ],
        [
         "Azerbaijan",
         "2920225.375478927"
        ],
        [
         "Bahamas",
         "99344.76153846153"
        ],
        [
         "Bahrain",
         "219840.60536398468"
        ],
        [
         "Bangladesh",
         "45212696.36781609"
        ],
        [
         "Barbados",
         "165261.81818181818"
        ],
        [
         "Belarus",
         "5157292.126436782"
        ],
        [
         "Belgium",
         "6204811.360153257"
        ],
        [
         "Belize",
         "77071.4061302682"
        ],
        [
         "Benin",
         "2581358.9195402297"
        ],
        [
         "Bermuda",
         "47767.933333333334"
        ],
        [
         "Bhutan",
         "316818.17624521075"
        ],
        [
         "Bolivia",
         "3020889.471264368"
        ],
        [
         "Bonaire Sint Eustatius and Saba",
         "14128.486486486487"
        ],
        [
         "Bosnia and Herzegovina",
         "1949100.2988505748"
        ],
        [
         "Botswana",
         "460471.3218390805"
        ],
        [
         "Brazil",
         "48768630.08429119"
        ],
        [
         "British Indian Ocean Territory",
         null
        ],
        [
         "British Virgin Islands",
         "16095.987951807228"
        ],
        [
         "Brunei",
         "77065.55172413793"
        ],
        [
         "Bulgaria",
         "4431224.892720306"
        ],
        [
         "Burkina Faso",
         "4299730.578544062"
        ],
        [
         "Burundi",
         "2550140.0268199234"
        ],
        [
         "Cambodia",
         "4227944.0344827585"
        ],
        [
         "Cameroon",
         "5202360.191570881"
        ],
        [
         "Canada",
         "10320725.678160919"
        ],
        [
         "Cape Verde",
         "190718.13617021276"
        ],
        [
         "Cayman Islands",
         "27681.975"
        ],
        [
         "Central African Republic",
         "1407187.122605364"
        ],
        [
         "Chad",
         "3184321.0881226053"
        ]
       ],
       "shape": {
        "columns": 1,
        "rows": 294
       }
      },
      "text/plain": [
       "Entity\n",
       "Afghanistan                8.085438e+06\n",
       "Africa                     2.693496e+08\n",
       "Africa (UN)                6.722211e+08\n",
       "Akrotiri and Dhekelia      1.170333e+04\n",
       "Aland Islands                       NaN\n",
       "                               ...     \n",
       "Yemen Arab Republic        6.326913e+06\n",
       "Yemen People's Republic    1.845426e+06\n",
       "Yugoslavia                 1.669473e+07\n",
       "Zambia                     3.261771e+06\n",
       "Zimbabwe                   3.251376e+06\n",
       "Name: population_historical, Length: 294, dtype: float64"
      ]
     },
     "execution_count": 47,
     "metadata": {},
     "output_type": "execute_result"
    }
   ],
   "source": [
    "df.groupby(\"Entity\")[\"population_historical\"].mean()"
   ]
  },
  {
   "cell_type": "markdown",
   "metadata": {
    "id": "s8H5aDCdnA-o"
   },
   "source": [
    "3. Calculate the average population of Europe for each year."
   ]
  },
  {
   "cell_type": "code",
   "execution_count": 59,
   "metadata": {},
   "outputs": [
    {
     "name": "stdout",
     "output_type": "stream",
     "text": [
      "Year\n",
      "-10000    2.947624e+04\n",
      "-9000     3.505859e+04\n",
      "-8000     4.193759e+04\n",
      "-7000     4.934317e+04\n",
      "-6000     6.092983e+04\n",
      "              ...     \n",
      " 2019     1.472139e+07\n",
      " 2020     1.472209e+07\n",
      " 2021     1.470453e+07\n",
      " 2022     1.467247e+07\n",
      " 2023     1.464604e+07\n",
      "Name: population_historical, Length: 261, dtype: float64\n"
     ]
    }
   ],
   "source": [
    "europe_df = df[df['Entity'].isin(states_europe)]\n",
    "# Group the filtered European data by 'Year'.\n",
    "# Then, select the 'population_historical' column and calculate the mean for each year.\n",
    "avg_population_per_year = europe_df.groupby('Year')['population_historical'].mean()\n",
    "\n",
    "print(avg_population_per_year)"
   ]
  },
  {
   "cell_type": "markdown",
   "metadata": {
    "id": "nxHjV6oVnA-o"
   },
   "source": [
    "---\n",
    "*Hint:* Use the previously saved list `states_europe` and the function `.isin()`, e.g. `df['column'].isin(my_list)`, to filter.\n",
    "\n",
    "---"
   ]
  },
  {
   "cell_type": "markdown",
   "metadata": {
    "id": "8VQmKhO3nA-p"
   },
   "source": [
    "## Sorting"
   ]
  },
  {
   "cell_type": "markdown",
   "metadata": {
    "id": "WTTh9rUWnA-p"
   },
   "source": [
    "We can sort a DataFrame by specific columns using the `.sort_values(by='column', ascending=True/False)` function or based on the index using the `.sort_index(ascending=True/False)` function and can display the top n by using `.head(n)` or the bottom n by using `.tail(n)`."
   ]
  },
  {
   "cell_type": "markdown",
   "metadata": {
    "id": "9zKjNH7dnA-p"
   },
   "source": [
    "Hi"
   ]
  },
  {
   "cell_type": "markdown",
   "metadata": {},
   "source": [
    "**Tasks:**\n",
    "1. Display the whole DataFrame sorted by population, descending. From that result only display the top 5 entries."
   ]
  },
  {
   "cell_type": "code",
   "execution_count": 49,
   "metadata": {},
   "outputs": [
    {
     "data": {
      "application/vnd.microsoft.datawrangler.viewer.v0+json": {
       "columns": [
        {
         "name": "index",
         "rawType": "int64",
         "type": "integer"
        },
        {
         "name": "Entity",
         "rawType": "object",
         "type": "string"
        },
        {
         "name": "Code",
         "rawType": "object",
         "type": "unknown"
        },
        {
         "name": "Year",
         "rawType": "int64",
         "type": "integer"
        },
        {
         "name": "avh",
         "rawType": "float64",
         "type": "float"
        },
        {
         "name": "productivity",
         "rawType": "float64",
         "type": "float"
        },
        {
         "name": "population_historical",
         "rawType": "float64",
         "type": "float"
        },
        {
         "name": "owid_region",
         "rawType": "object",
         "type": "unknown"
        }
       ],
       "ref": "dd47c510-b1bf-4b66-8e80-b11c43f15e53",
       "rows": [
        [
         "0",
         "Afghanistan",
         "AFG",
         "-10000",
         null,
         null,
         "14737.0",
         null
        ],
        [
         "1",
         "Afghanistan",
         "AFG",
         "-9000",
         null,
         null,
         "20405.0",
         null
        ],
        [
         "2",
         "Afghanistan",
         "AFG",
         "-8000",
         null,
         null,
         "28253.0",
         null
        ],
        [
         "3",
         "Afghanistan",
         "AFG",
         "-7000",
         null,
         null,
         "39120.0",
         null
        ],
        [
         "4",
         "Afghanistan",
         "AFG",
         "-6000",
         null,
         null,
         "54166.0",
         null
        ],
        [
         "5",
         "Afghanistan",
         "AFG",
         "-5000",
         null,
         null,
         "75000.0",
         null
        ],
        [
         "6",
         "Afghanistan",
         "AFG",
         "-4000",
         null,
         null,
         "306250.0",
         null
        ],
        [
         "7",
         "Afghanistan",
         "AFG",
         "-3000",
         null,
         null,
         "537500.0",
         null
        ],
        [
         "8",
         "Afghanistan",
         "AFG",
         "-2000",
         null,
         null,
         "768750.0",
         null
        ],
        [
         "9",
         "Afghanistan",
         "AFG",
         "-1000",
         null,
         null,
         "1000000.0",
         null
        ],
        [
         "10",
         "Afghanistan",
         "AFG",
         "0",
         null,
         null,
         "2000000.0",
         null
        ],
        [
         "11",
         "Afghanistan",
         "AFG",
         "100",
         null,
         null,
         "2250000.0",
         null
        ],
        [
         "12",
         "Afghanistan",
         "AFG",
         "200",
         null,
         null,
         "2500000.0",
         null
        ],
        [
         "13",
         "Afghanistan",
         "AFG",
         "300",
         null,
         null,
         "2500000.0",
         null
        ],
        [
         "14",
         "Afghanistan",
         "AFG",
         "400",
         null,
         null,
         "2500000.0",
         null
        ],
        [
         "15",
         "Afghanistan",
         "AFG",
         "500",
         null,
         null,
         "2500000.0",
         null
        ],
        [
         "16",
         "Afghanistan",
         "AFG",
         "600",
         null,
         null,
         "2500000.0",
         null
        ],
        [
         "17",
         "Afghanistan",
         "AFG",
         "700",
         null,
         null,
         "2425000.0",
         null
        ],
        [
         "18",
         "Afghanistan",
         "AFG",
         "800",
         null,
         null,
         "2350000.0",
         null
        ],
        [
         "19",
         "Afghanistan",
         "AFG",
         "900",
         null,
         null,
         "2300000.0",
         null
        ],
        [
         "20",
         "Afghanistan",
         "AFG",
         "1000",
         null,
         null,
         "2250000.0",
         null
        ],
        [
         "21",
         "Afghanistan",
         "AFG",
         "1100",
         null,
         null,
         "2375000.0",
         null
        ],
        [
         "22",
         "Afghanistan",
         "AFG",
         "1200",
         null,
         null,
         "2500000.0",
         null
        ],
        [
         "23",
         "Afghanistan",
         "AFG",
         "1300",
         null,
         null,
         "1750000.0",
         null
        ],
        [
         "24",
         "Afghanistan",
         "AFG",
         "1400",
         null,
         null,
         "1875000.0",
         null
        ],
        [
         "25",
         "Afghanistan",
         "AFG",
         "1500",
         null,
         null,
         "2000000.0",
         null
        ],
        [
         "26",
         "Afghanistan",
         "AFG",
         "1600",
         null,
         null,
         "2500000.0",
         null
        ],
        [
         "27",
         "Afghanistan",
         "AFG",
         "1700",
         null,
         null,
         "2500000.0",
         null
        ],
        [
         "28",
         "Afghanistan",
         "AFG",
         "1710",
         null,
         null,
         "2561625.0",
         null
        ],
        [
         "29",
         "Afghanistan",
         "AFG",
         "1720",
         null,
         null,
         "2619844.0",
         null
        ],
        [
         "30",
         "Afghanistan",
         "AFG",
         "1730",
         null,
         null,
         "2679386.0",
         null
        ],
        [
         "31",
         "Afghanistan",
         "AFG",
         "1740",
         null,
         null,
         "2740281.0",
         null
        ],
        [
         "32",
         "Afghanistan",
         "AFG",
         "1750",
         null,
         null,
         "2802560.0",
         null
        ],
        [
         "33",
         "Afghanistan",
         "AFG",
         "1760",
         null,
         null,
         "2866255.0",
         null
        ],
        [
         "34",
         "Afghanistan",
         "AFG",
         "1770",
         null,
         null,
         "2931397.0",
         null
        ],
        [
         "35",
         "Afghanistan",
         "AFG",
         "1780",
         null,
         null,
         "2998019.0",
         null
        ],
        [
         "36",
         "Afghanistan",
         "AFG",
         "1790",
         null,
         null,
         "3066156.0",
         null
        ],
        [
         "37",
         "Afghanistan",
         "AFG",
         "1800",
         null,
         null,
         "3280000.0",
         null
        ],
        [
         "38",
         "Afghanistan",
         "AFG",
         "1801",
         null,
         null,
         "3280000.0",
         null
        ],
        [
         "39",
         "Afghanistan",
         "AFG",
         "1802",
         null,
         null,
         "3280000.0",
         null
        ],
        [
         "40",
         "Afghanistan",
         "AFG",
         "1803",
         null,
         null,
         "3280000.0",
         null
        ],
        [
         "41",
         "Afghanistan",
         "AFG",
         "1804",
         null,
         null,
         "3280000.0",
         null
        ],
        [
         "42",
         "Afghanistan",
         "AFG",
         "1805",
         null,
         null,
         "3280000.0",
         null
        ],
        [
         "43",
         "Afghanistan",
         "AFG",
         "1806",
         null,
         null,
         "3280000.0",
         null
        ],
        [
         "44",
         "Afghanistan",
         "AFG",
         "1807",
         null,
         null,
         "3280000.0",
         null
        ],
        [
         "45",
         "Afghanistan",
         "AFG",
         "1808",
         null,
         null,
         "3280000.0",
         null
        ],
        [
         "46",
         "Afghanistan",
         "AFG",
         "1809",
         null,
         null,
         "3280000.0",
         null
        ],
        [
         "47",
         "Afghanistan",
         "AFG",
         "1810",
         null,
         null,
         "3280000.0",
         null
        ],
        [
         "48",
         "Afghanistan",
         "AFG",
         "1811",
         null,
         null,
         "3280000.0",
         null
        ],
        [
         "49",
         "Afghanistan",
         "AFG",
         "1812",
         null,
         null,
         "3280000.0",
         null
        ]
       ],
       "shape": {
        "columns": 7,
        "rows": 58859
       }
      },
      "text/html": [
       "<div>\n",
       "<style scoped>\n",
       "    .dataframe tbody tr th:only-of-type {\n",
       "        vertical-align: middle;\n",
       "    }\n",
       "\n",
       "    .dataframe tbody tr th {\n",
       "        vertical-align: top;\n",
       "    }\n",
       "\n",
       "    .dataframe thead th {\n",
       "        text-align: right;\n",
       "    }\n",
       "</style>\n",
       "<table border=\"1\" class=\"dataframe\">\n",
       "  <thead>\n",
       "    <tr style=\"text-align: right;\">\n",
       "      <th></th>\n",
       "      <th>Entity</th>\n",
       "      <th>Code</th>\n",
       "      <th>Year</th>\n",
       "      <th>avh</th>\n",
       "      <th>productivity</th>\n",
       "      <th>population_historical</th>\n",
       "      <th>owid_region</th>\n",
       "    </tr>\n",
       "  </thead>\n",
       "  <tbody>\n",
       "    <tr>\n",
       "      <th>0</th>\n",
       "      <td>Afghanistan</td>\n",
       "      <td>AFG</td>\n",
       "      <td>-10000</td>\n",
       "      <td>NaN</td>\n",
       "      <td>NaN</td>\n",
       "      <td>14737.0</td>\n",
       "      <td>NaN</td>\n",
       "    </tr>\n",
       "    <tr>\n",
       "      <th>1</th>\n",
       "      <td>Afghanistan</td>\n",
       "      <td>AFG</td>\n",
       "      <td>-9000</td>\n",
       "      <td>NaN</td>\n",
       "      <td>NaN</td>\n",
       "      <td>20405.0</td>\n",
       "      <td>NaN</td>\n",
       "    </tr>\n",
       "    <tr>\n",
       "      <th>2</th>\n",
       "      <td>Afghanistan</td>\n",
       "      <td>AFG</td>\n",
       "      <td>-8000</td>\n",
       "      <td>NaN</td>\n",
       "      <td>NaN</td>\n",
       "      <td>28253.0</td>\n",
       "      <td>NaN</td>\n",
       "    </tr>\n",
       "    <tr>\n",
       "      <th>3</th>\n",
       "      <td>Afghanistan</td>\n",
       "      <td>AFG</td>\n",
       "      <td>-7000</td>\n",
       "      <td>NaN</td>\n",
       "      <td>NaN</td>\n",
       "      <td>39120.0</td>\n",
       "      <td>NaN</td>\n",
       "    </tr>\n",
       "    <tr>\n",
       "      <th>4</th>\n",
       "      <td>Afghanistan</td>\n",
       "      <td>AFG</td>\n",
       "      <td>-6000</td>\n",
       "      <td>NaN</td>\n",
       "      <td>NaN</td>\n",
       "      <td>54166.0</td>\n",
       "      <td>NaN</td>\n",
       "    </tr>\n",
       "    <tr>\n",
       "      <th>...</th>\n",
       "      <td>...</td>\n",
       "      <td>...</td>\n",
       "      <td>...</td>\n",
       "      <td>...</td>\n",
       "      <td>...</td>\n",
       "      <td>...</td>\n",
       "      <td>...</td>\n",
       "    </tr>\n",
       "    <tr>\n",
       "      <th>58854</th>\n",
       "      <td>Zimbabwe</td>\n",
       "      <td>ZWE</td>\n",
       "      <td>2000</td>\n",
       "      <td>NaN</td>\n",
       "      <td>NaN</td>\n",
       "      <td>11892055.0</td>\n",
       "      <td>NaN</td>\n",
       "    </tr>\n",
       "    <tr>\n",
       "      <th>58855</th>\n",
       "      <td>Zimbabwe</td>\n",
       "      <td>ZWE</td>\n",
       "      <td>2001</td>\n",
       "      <td>NaN</td>\n",
       "      <td>NaN</td>\n",
       "      <td>11971904.0</td>\n",
       "      <td>NaN</td>\n",
       "    </tr>\n",
       "    <tr>\n",
       "      <th>58856</th>\n",
       "      <td>Zimbabwe</td>\n",
       "      <td>ZWE</td>\n",
       "      <td>2002</td>\n",
       "      <td>NaN</td>\n",
       "      <td>NaN</td>\n",
       "      <td>12087661.0</td>\n",
       "      <td>NaN</td>\n",
       "    </tr>\n",
       "    <tr>\n",
       "      <th>58857</th>\n",
       "      <td>Zimbabwe</td>\n",
       "      <td>ZWE</td>\n",
       "      <td>2003</td>\n",
       "      <td>NaN</td>\n",
       "      <td>NaN</td>\n",
       "      <td>12232324.0</td>\n",
       "      <td>NaN</td>\n",
       "    </tr>\n",
       "    <tr>\n",
       "      <th>58858</th>\n",
       "      <td>Zimbabwe</td>\n",
       "      <td>ZWE</td>\n",
       "      <td>2004</td>\n",
       "      <td>NaN</td>\n",
       "      <td>NaN</td>\n",
       "      <td>12365901.0</td>\n",
       "      <td>NaN</td>\n",
       "    </tr>\n",
       "  </tbody>\n",
       "</table>\n",
       "<p>58859 rows × 7 columns</p>\n",
       "</div>"
      ],
      "text/plain": [
       "            Entity Code   Year  avh  productivity  population_historical  \\\n",
       "0      Afghanistan  AFG -10000  NaN           NaN                14737.0   \n",
       "1      Afghanistan  AFG  -9000  NaN           NaN                20405.0   \n",
       "2      Afghanistan  AFG  -8000  NaN           NaN                28253.0   \n",
       "3      Afghanistan  AFG  -7000  NaN           NaN                39120.0   \n",
       "4      Afghanistan  AFG  -6000  NaN           NaN                54166.0   \n",
       "...            ...  ...    ...  ...           ...                    ...   \n",
       "58854     Zimbabwe  ZWE   2000  NaN           NaN             11892055.0   \n",
       "58855     Zimbabwe  ZWE   2001  NaN           NaN             11971904.0   \n",
       "58856     Zimbabwe  ZWE   2002  NaN           NaN             12087661.0   \n",
       "58857     Zimbabwe  ZWE   2003  NaN           NaN             12232324.0   \n",
       "58858     Zimbabwe  ZWE   2004  NaN           NaN             12365901.0   \n",
       "\n",
       "      owid_region  \n",
       "0             NaN  \n",
       "1             NaN  \n",
       "2             NaN  \n",
       "3             NaN  \n",
       "4             NaN  \n",
       "...           ...  \n",
       "58854         NaN  \n",
       "58855         NaN  \n",
       "58856         NaN  \n",
       "58857         NaN  \n",
       "58858         NaN  \n",
       "\n",
       "[58859 rows x 7 columns]"
      ]
     },
     "execution_count": 49,
     "metadata": {},
     "output_type": "execute_result"
    }
   ],
   "source": [
    "df"
   ]
  },
  {
   "cell_type": "code",
   "execution_count": 50,
   "metadata": {},
   "outputs": [
    {
     "data": {
      "application/vnd.microsoft.datawrangler.viewer.v0+json": {
       "columns": [
        {
         "name": "index",
         "rawType": "int64",
         "type": "integer"
        },
        {
         "name": "Entity",
         "rawType": "object",
         "type": "string"
        },
        {
         "name": "Code",
         "rawType": "object",
         "type": "string"
        },
        {
         "name": "Year",
         "rawType": "int64",
         "type": "integer"
        },
        {
         "name": "avh",
         "rawType": "float64",
         "type": "float"
        },
        {
         "name": "productivity",
         "rawType": "float64",
         "type": "float"
        },
        {
         "name": "population_historical",
         "rawType": "float64",
         "type": "float"
        },
        {
         "name": "owid_region",
         "rawType": "object",
         "type": "unknown"
        }
       ],
       "ref": "cea0b4ea-f76b-4b14-9a87-8752741eaada",
       "rows": [
        [
         "57949",
         "World",
         "OWID_WRL",
         "2023",
         null,
         null,
         "8091734933.0",
         null
        ],
        [
         "57948",
         "World",
         "OWID_WRL",
         "2022",
         null,
         null,
         "8021407196.0",
         null
        ],
        [
         "57947",
         "World",
         "OWID_WRL",
         "2021",
         null,
         null,
         "7954448387.0",
         null
        ],
        [
         "57946",
         "World",
         "OWID_WRL",
         "2020",
         null,
         null,
         "7887001289.0",
         null
        ],
        [
         "57945",
         "World",
         "OWID_WRL",
         "2019",
         null,
         null,
         "7811293699.0",
         null
        ]
       ],
       "shape": {
        "columns": 7,
        "rows": 5
       }
      },
      "text/html": [
       "<div>\n",
       "<style scoped>\n",
       "    .dataframe tbody tr th:only-of-type {\n",
       "        vertical-align: middle;\n",
       "    }\n",
       "\n",
       "    .dataframe tbody tr th {\n",
       "        vertical-align: top;\n",
       "    }\n",
       "\n",
       "    .dataframe thead th {\n",
       "        text-align: right;\n",
       "    }\n",
       "</style>\n",
       "<table border=\"1\" class=\"dataframe\">\n",
       "  <thead>\n",
       "    <tr style=\"text-align: right;\">\n",
       "      <th></th>\n",
       "      <th>Entity</th>\n",
       "      <th>Code</th>\n",
       "      <th>Year</th>\n",
       "      <th>avh</th>\n",
       "      <th>productivity</th>\n",
       "      <th>population_historical</th>\n",
       "      <th>owid_region</th>\n",
       "    </tr>\n",
       "  </thead>\n",
       "  <tbody>\n",
       "    <tr>\n",
       "      <th>57949</th>\n",
       "      <td>World</td>\n",
       "      <td>OWID_WRL</td>\n",
       "      <td>2023</td>\n",
       "      <td>NaN</td>\n",
       "      <td>NaN</td>\n",
       "      <td>8.091735e+09</td>\n",
       "      <td>NaN</td>\n",
       "    </tr>\n",
       "    <tr>\n",
       "      <th>57948</th>\n",
       "      <td>World</td>\n",
       "      <td>OWID_WRL</td>\n",
       "      <td>2022</td>\n",
       "      <td>NaN</td>\n",
       "      <td>NaN</td>\n",
       "      <td>8.021407e+09</td>\n",
       "      <td>NaN</td>\n",
       "    </tr>\n",
       "    <tr>\n",
       "      <th>57947</th>\n",
       "      <td>World</td>\n",
       "      <td>OWID_WRL</td>\n",
       "      <td>2021</td>\n",
       "      <td>NaN</td>\n",
       "      <td>NaN</td>\n",
       "      <td>7.954448e+09</td>\n",
       "      <td>NaN</td>\n",
       "    </tr>\n",
       "    <tr>\n",
       "      <th>57946</th>\n",
       "      <td>World</td>\n",
       "      <td>OWID_WRL</td>\n",
       "      <td>2020</td>\n",
       "      <td>NaN</td>\n",
       "      <td>NaN</td>\n",
       "      <td>7.887001e+09</td>\n",
       "      <td>NaN</td>\n",
       "    </tr>\n",
       "    <tr>\n",
       "      <th>57945</th>\n",
       "      <td>World</td>\n",
       "      <td>OWID_WRL</td>\n",
       "      <td>2019</td>\n",
       "      <td>NaN</td>\n",
       "      <td>NaN</td>\n",
       "      <td>7.811294e+09</td>\n",
       "      <td>NaN</td>\n",
       "    </tr>\n",
       "  </tbody>\n",
       "</table>\n",
       "</div>"
      ],
      "text/plain": [
       "      Entity      Code  Year  avh  productivity  population_historical  \\\n",
       "57949  World  OWID_WRL  2023  NaN           NaN           8.091735e+09   \n",
       "57948  World  OWID_WRL  2022  NaN           NaN           8.021407e+09   \n",
       "57947  World  OWID_WRL  2021  NaN           NaN           7.954448e+09   \n",
       "57946  World  OWID_WRL  2020  NaN           NaN           7.887001e+09   \n",
       "57945  World  OWID_WRL  2019  NaN           NaN           7.811294e+09   \n",
       "\n",
       "      owid_region  \n",
       "57949         NaN  \n",
       "57948         NaN  \n",
       "57947         NaN  \n",
       "57946         NaN  \n",
       "57945         NaN  "
      ]
     },
     "execution_count": 50,
     "metadata": {},
     "output_type": "execute_result"
    }
   ],
   "source": [
    "sorted_five = df.sort_values(by=['population_historical'], ascending=False)\n",
    "sorted_five.head(5)\n"
   ]
  },
  {
   "cell_type": "markdown",
   "metadata": {
    "id": "7Q2q8p5RnA-p"
   },
   "source": [
    "2. Using the results of `.groupby()` function from before, show the top 20 entities in terms of population."
   ]
  },
  {
   "cell_type": "code",
   "execution_count": 57,
   "metadata": {},
   "outputs": [
    {
     "data": {
      "application/vnd.microsoft.datawrangler.viewer.v0+json": {
       "columns": [
        {
         "name": "Year",
         "rawType": "int64",
         "type": "integer"
        },
        {
         "name": "population_historical",
         "rawType": "float64",
         "type": "float"
        }
       ],
       "ref": "2dfabfb9-1606-4cc1-869c-6d43bf88133c",
       "rows": [
        [
         "-10000",
         "29476.243902439026"
        ],
        [
         "-9000",
         "35058.58536585366"
        ],
        [
         "-8000",
         "41937.58536585366"
        ],
        [
         "-7000",
         "49343.166666666664"
        ],
        [
         "-6000",
         "60929.833333333336"
        ],
        [
         "-5000",
         "75663.69047619047"
        ],
        [
         "-4000",
         "99737.38095238095"
        ],
        [
         "-3000",
         "138057.59523809524"
        ],
        [
         "-2000",
         "229960.5"
        ],
        [
         "-1000",
         "380576.38095238095"
        ],
        [
         "0",
         "845818.119047619"
        ],
        [
         "100",
         "888364.0952380953"
        ],
        [
         "200",
         "929675.9285714285"
        ],
        [
         "300",
         "904954.9761904762"
        ],
        [
         "400",
         "880771.5"
        ],
        [
         "500",
         "795242.0476190476"
        ],
        [
         "600",
         "706778.3571428572"
        ],
        [
         "700",
         "771139.5476190476"
        ],
        [
         "800",
         "843762.4761904762"
        ],
        [
         "900",
         "930853.119047619"
        ],
        [
         "1000",
         "1022059.4047619047"
        ],
        [
         "1100",
         "1270864.9285714286"
        ],
        [
         "1200",
         "1752520.7142857143"
        ],
        [
         "1300",
         "2274515.619047619"
        ],
        [
         "1400",
         "1742247.4285714286"
        ],
        [
         "1500",
         "2238345.3095238097"
        ],
        [
         "1600",
         "2892235.4545454546"
        ],
        [
         "1700",
         "3260515.590909091"
        ],
        [
         "1710",
         "3512640.9523809524"
        ],
        [
         "1720",
         "3756274.785714286"
        ],
        [
         "1730",
         "4006390.476190476"
        ],
        [
         "1740",
         "4259055.357142857"
        ],
        [
         "1750",
         "4515082.880952381"
        ],
        [
         "1760",
         "4777939.571428572"
        ],
        [
         "1770",
         "5044919.80952381"
        ],
        [
         "1780",
         "5316213.095238095"
        ],
        [
         "1790",
         "5593582.238095238"
        ],
        [
         "1800",
         "4980086.464285715"
        ],
        [
         "1801",
         "5452078.311111111"
        ],
        [
         "1802",
         "5470888.622222222"
        ],
        [
         "1803",
         "5489899.066666666"
        ],
        [
         "1804",
         "5509112.333333333"
        ],
        [
         "1805",
         "5528531.0"
        ],
        [
         "1806",
         "5548157.755555555"
        ],
        [
         "1807",
         "5567995.466666667"
        ],
        [
         "1808",
         "5588046.666666667"
        ],
        [
         "1809",
         "5608314.311111111"
        ],
        [
         "1810",
         "5434975.212765957"
        ],
        [
         "1811",
         "5668049.044444445"
        ],
        [
         "1812",
         "5702657.711111112"
        ]
       ],
       "shape": {
        "columns": 1,
        "rows": 261
       }
      },
      "text/plain": [
       "Year\n",
       "-10000    2.947624e+04\n",
       "-9000     3.505859e+04\n",
       "-8000     4.193759e+04\n",
       "-7000     4.934317e+04\n",
       "-6000     6.092983e+04\n",
       "              ...     \n",
       " 2019     1.472139e+07\n",
       " 2020     1.472209e+07\n",
       " 2021     1.470453e+07\n",
       " 2022     1.467247e+07\n",
       " 2023     1.464604e+07\n",
       "Name: population_historical, Length: 261, dtype: float64"
      ]
     },
     "execution_count": 57,
     "metadata": {},
     "output_type": "execute_result"
    }
   ],
   "source": [
    "avg_population_per_year"
   ]
  },
  {
   "cell_type": "code",
   "execution_count": 70,
   "metadata": {},
   "outputs": [
    {
     "data": {
      "application/vnd.microsoft.datawrangler.viewer.v0+json": {
       "columns": [
        {
         "name": "Year",
         "rawType": "int64",
         "type": "integer"
        },
        {
         "name": "population_historical",
         "rawType": "float64",
         "type": "float"
        }
       ],
       "ref": "d293b9a9-3862-4390-95db-23b59dd82854",
       "rows": [
        [
         "1990",
         "20064028.333333332"
        ],
        [
         "1991",
         "19430858.745454546"
        ],
        [
         "1989",
         "19262780.818181816"
        ],
        [
         "1988",
         "19159204.854545455"
        ],
        [
         "1987",
         "19044520.472727273"
        ],
        [
         "1986",
         "18928570.76363636"
        ],
        [
         "1985",
         "18817194.345454544"
        ],
        [
         "1984",
         "18713537.0"
        ],
        [
         "1983",
         "18610307.98181818"
        ],
        [
         "1982",
         "18507435.8"
        ],
        [
         "1981",
         "18408102.8"
        ],
        [
         "1980",
         "18303844.09090909"
        ],
        [
         "1973",
         "18276107.89473684"
        ],
        [
         "1979",
         "18195680.527272727"
        ],
        [
         "1978",
         "18086989.70909091"
        ],
        [
         "1977",
         "17973054.0"
        ],
        [
         "1976",
         "17855581.563636363"
        ],
        [
         "1975",
         "17741083.927272726"
        ],
        [
         "1974",
         "17626659.545454547"
        ],
        [
         "1972",
         "17381310.29090909"
        ]
       ],
       "shape": {
        "columns": 1,
        "rows": 20
       }
      },
      "text/plain": [
       "Year\n",
       "1990    2.006403e+07\n",
       "1991    1.943086e+07\n",
       "1989    1.926278e+07\n",
       "1988    1.915920e+07\n",
       "1987    1.904452e+07\n",
       "1986    1.892857e+07\n",
       "1985    1.881719e+07\n",
       "1984    1.871354e+07\n",
       "1983    1.861031e+07\n",
       "1982    1.850744e+07\n",
       "1981    1.840810e+07\n",
       "1980    1.830384e+07\n",
       "1973    1.827611e+07\n",
       "1979    1.819568e+07\n",
       "1978    1.808699e+07\n",
       "1977    1.797305e+07\n",
       "1976    1.785558e+07\n",
       "1975    1.774108e+07\n",
       "1974    1.762666e+07\n",
       "1972    1.738131e+07\n",
       "Name: population_historical, dtype: float64"
      ]
     },
     "execution_count": 70,
     "metadata": {},
     "output_type": "execute_result"
    }
   ],
   "source": [
    "avgs = avg_population_per_year.sort_values(ascending=False)\n",
    "\n",
    "avgs.head(20)\n"
   ]
  },
  {
   "cell_type": "markdown",
   "metadata": {
    "id": "HpNnQ_4onA-p"
   },
   "source": [
    "3. Finally, display how the average population in Europe has changed over the last 30 years."
   ]
  },
  {
   "cell_type": "code",
   "execution_count": 71,
   "metadata": {},
   "outputs": [
    {
     "data": {
      "application/vnd.microsoft.datawrangler.viewer.v0+json": {
       "columns": [
        {
         "name": "Year",
         "rawType": "int64",
         "type": "integer"
        },
        {
         "name": "population_historical",
         "rawType": "float64",
         "type": "float"
        }
       ],
       "ref": "974ef1be-6f3c-4c5e-96c8-95b9e2e66ce3",
       "rows": [
        [
         "1994",
         "14232286.884615384"
        ],
        [
         "1995",
         "14242598.461538462"
        ],
        [
         "1996",
         "14242179.25"
        ],
        [
         "1997",
         "14242187.865384616"
        ],
        [
         "1998",
         "14229806.826923076"
        ],
        [
         "1999",
         "14215690.903846154"
        ],
        [
         "2000",
         "14213214.76923077"
        ],
        [
         "2001",
         "14213518.576923076"
        ],
        [
         "2002",
         "14229776.057692308"
        ],
        [
         "2003",
         "14253202.461538462"
        ],
        [
         "2004",
         "14269423.826923076"
        ],
        [
         "2005",
         "14284333.076923076"
        ],
        [
         "2006",
         "14296143.692307692"
        ],
        [
         "2007",
         "14411163.607843136"
        ],
        [
         "2008",
         "14443935.725490196"
        ],
        [
         "2009",
         "14471477.25490196"
        ],
        [
         "2010",
         "14495556.529411765"
        ],
        [
         "2011",
         "14519723.843137255"
        ],
        [
         "2012",
         "14541657.0"
        ],
        [
         "2013",
         "14561860.56862745"
        ],
        [
         "2014",
         "14585151.352941176"
        ],
        [
         "2015",
         "14616799.529411765"
        ],
        [
         "2016",
         "14651773.078431373"
        ],
        [
         "2017",
         "14680073.274509804"
        ],
        [
         "2018",
         "14702663.62745098"
        ],
        [
         "2019",
         "14721392.43137255"
        ],
        [
         "2020",
         "14722087.921568627"
        ],
        [
         "2021",
         "14704529.960784314"
        ],
        [
         "2022",
         "14672473.88235294"
        ],
        [
         "2023",
         "14646041.352941176"
        ]
       ],
       "shape": {
        "columns": 1,
        "rows": 30
       }
      },
      "text/plain": [
       "Year\n",
       "1994    1.423229e+07\n",
       "1995    1.424260e+07\n",
       "1996    1.424218e+07\n",
       "1997    1.424219e+07\n",
       "1998    1.422981e+07\n",
       "1999    1.421569e+07\n",
       "2000    1.421321e+07\n",
       "2001    1.421352e+07\n",
       "2002    1.422978e+07\n",
       "2003    1.425320e+07\n",
       "2004    1.426942e+07\n",
       "2005    1.428433e+07\n",
       "2006    1.429614e+07\n",
       "2007    1.441116e+07\n",
       "2008    1.444394e+07\n",
       "2009    1.447148e+07\n",
       "2010    1.449556e+07\n",
       "2011    1.451972e+07\n",
       "2012    1.454166e+07\n",
       "2013    1.456186e+07\n",
       "2014    1.458515e+07\n",
       "2015    1.461680e+07\n",
       "2016    1.465177e+07\n",
       "2017    1.468007e+07\n",
       "2018    1.470266e+07\n",
       "2019    1.472139e+07\n",
       "2020    1.472209e+07\n",
       "2021    1.470453e+07\n",
       "2022    1.467247e+07\n",
       "2023    1.464604e+07\n",
       "Name: population_historical, dtype: float64"
      ]
     },
     "execution_count": 71,
     "metadata": {},
     "output_type": "execute_result"
    }
   ],
   "source": [
    "avg_population_per_year.tail(30)"
   ]
  }
 ],
 "metadata": {
  "colab": {
   "provenance": []
  },
  "kernelspec": {
   "display_name": "venv (3.12.12)",
   "language": "python",
   "name": "python3"
  },
  "language_info": {
   "codemirror_mode": {
    "name": "ipython",
    "version": 3
   },
   "file_extension": ".py",
   "mimetype": "text/x-python",
   "name": "python",
   "nbconvert_exporter": "python",
   "pygments_lexer": "ipython3",
   "version": "3.12.12"
  },
  "toc-autonumbering": true,
  "toc-showmarkdowntxt": false
 },
 "nbformat": 4,
 "nbformat_minor": 4
}
