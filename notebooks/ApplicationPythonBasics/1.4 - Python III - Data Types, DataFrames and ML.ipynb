{
 "cells": [
  {
   "cell_type": "markdown",
   "metadata": {
    "tags": []
   },
   "source": [
    "#  Introduction to Python: Data types"
   ]
  },
  {
   "cell_type": "markdown",
   "metadata": {},
   "source": [
    "## Finding out data types"
   ]
  },
  {
   "cell_type": "markdown",
   "metadata": {},
   "source": [
    "So far we have worked with texts and numeric values. These are two of the possible data types in Python. We can use the `type()` function to output the data type of a value."
   ]
  },
  {
   "cell_type": "markdown",
   "metadata": {},
   "source": [
    "**Task:**"
   ]
  },
  {
   "cell_type": "markdown",
   "metadata": {},
   "source": [
    "1. Display the data type of the following values:\n",
    "    - 5\n",
    "    - 5.3\n",
    "    - 'Hello'\n",
    "    - True\n",
    "    - None\n",
    "    - \\('Apples', 5\\)\n",
    "    - \\['Bananas', 7\\]\n",
    "    - \\{'Apples': 5, 'Bananen': 7\\}\n",
    "\n",
    "Note the three different types of brackets: '()', '[]' and '{}' and where commas and colons are used.\n"
   ]
  },
  {
   "cell_type": "code",
   "execution_count": 1,
   "metadata": {},
   "outputs": [
    {
     "name": "stdout",
     "output_type": "stream",
     "text": [
      "5 -> <class 'int'>\n",
      "5.3 -> <class 'float'>\n",
      "hello -> <class 'str'>\n",
      "True -> <class 'bool'>\n",
      "None -> <class 'NoneType'>\n",
      "('Apples', 5) -> <class 'tuple'>\n",
      "['Bananas', 7] -> <class 'list'>\n",
      "{'Apples': 5, 'Bananen': 7} -> <class 'dict'>\n"
     ]
    }
   ],
   "source": [
    "values = [5, 5.3, \"hello\", True, None, ('Apples', 5), ['Bananas', 7], {'Apples': 5, 'Bananen': 7}]\n",
    "for value in values:\n",
    "    print(f\"{value} -> {type(value)}\")"
   ]
  },
  {
   "cell_type": "code",
   "execution_count": 2,
   "metadata": {},
   "outputs": [
    {
     "name": "stdout",
     "output_type": "stream",
     "text": [
      "<class 'int'>\n",
      "<class 'float'>\n",
      "<class 'str'>\n",
      "<class 'bool'>\n",
      "<class 'NoneType'>\n",
      "<class 'tuple'>\n",
      "<class 'list'>\n",
      "<class 'dict'>\n"
     ]
    }
   ],
   "source": [
    "print(type(5))\n",
    "print(type(5.3))\n",
    "print(type(\"hello\"))\n",
    "print(type(True))\n",
    "print(type(None))\n",
    "print(type(('Apples', 5)))\n",
    "print(type(['Bananas', 7]))\n",
    "print(type({'Apples': 5, 'Bananen': 7}))"
   ]
  },
  {
   "cell_type": "markdown",
   "metadata": {},
   "source": [
    "2. Assign the number `5` to the variable `my_number` and output the data type of the variable."
   ]
  },
  {
   "cell_type": "code",
   "execution_count": 3,
   "metadata": {},
   "outputs": [
    {
     "name": "stdout",
     "output_type": "stream",
     "text": [
      "5\n"
     ]
    }
   ],
   "source": [
    "my_number = 5\n",
    "print(my_number)"
   ]
  },
  {
   "cell_type": "markdown",
   "metadata": {},
   "source": [
    "3. Now divide the value stored in the variable by `2` and output the data type again."
   ]
  },
  {
   "cell_type": "code",
   "execution_count": 4,
   "metadata": {},
   "outputs": [
    {
     "data": {
      "text/plain": [
       "2.5"
      ]
     },
     "execution_count": 4,
     "metadata": {},
     "output_type": "execute_result"
    }
   ],
   "source": [
    "my_number /= 2\n",
    "my_number"
   ]
  },
  {
   "cell_type": "markdown",
   "metadata": {},
   "source": [
    "4. Use the command `my_number = str(my_number)`. What type do you expect now? Display the content and the type of the variable."
   ]
  },
  {
   "cell_type": "code",
   "execution_count": 10,
   "metadata": {},
   "outputs": [
    {
     "name": "stdout",
     "output_type": "stream",
     "text": [
      "2.5\n"
     ]
    },
    {
     "data": {
      "text/plain": [
       "str"
      ]
     },
     "execution_count": 10,
     "metadata": {},
     "output_type": "execute_result"
    }
   ],
   "source": [
    "my_number = str(my_number)\n",
    "print(my_number)\n",
    "type(my_number)"
   ]
  },
  {
   "cell_type": "markdown",
   "metadata": {},
   "source": [
    "the data type of the variable changed to string because we used the function str to change the value of the argument called."
   ]
  },
  {
   "cell_type": "markdown",
   "metadata": {},
   "source": [
    "*Note:* What you see here is a case of dynamic typing, i.e., the data type of a variable changes dynamically depending on its content. Since some operations only work with some data types (e.g., you cannot add an integer to a string) it is important to pay attention to those data types."
   ]
  },
  {
   "cell_type": "markdown",
   "metadata": {},
   "source": [
    "## Integer"
   ]
  },
  {
   "cell_type": "markdown",
   "metadata": {},
   "source": [
    "Integers are whole numbers (... -2, -1, 0, 1, 2, ...). In principle, they can be as large as you want (as long as enough computer memory is available)."
   ]
  },
  {
   "cell_type": "markdown",
   "metadata": {},
   "source": [
    "**Task:** Calculate the number of nanoseconds since the Big Bang (approximately) and store it in a variable called `bb_secs`."
   ]
  },
  {
   "cell_type": "code",
   "execution_count": 15,
   "metadata": {},
   "outputs": [],
   "source": [
    "bb_secs = 13.8e+9"
   ]
  },
  {
   "cell_type": "code",
   "execution_count": 16,
   "metadata": {},
   "outputs": [
    {
     "name": "stdout",
     "output_type": "stream",
     "text": [
      "13800000000.0\n"
     ]
    }
   ],
   "source": [
    "print(bb_secs)"
   ]
  },
  {
   "cell_type": "markdown",
   "metadata": {},
   "source": [
    "*Note:* For better readability, python allows for underscores `_` in numbers, such that, e.g., 13.8 billion can be written as 13800000000 or more readable as 13_800_000_000. Another option is to use the scientific notation `13.8e+9`, which is a shortcut for `13.8 * 10^9`."
   ]
  },
  {
   "cell_type": "markdown",
   "metadata": {},
   "source": [
    "## Float"
   ]
  },
  {
   "cell_type": "markdown",
   "metadata": {},
   "source": [
    "Floats are floating point numbers and only have finite precision. Often we do not see the inaccuracies caused by the limited precision because the values are still accurate to many decimal places and Python displays a rounded value by default. However, when calculating with numbers that are many orders of magnitude apart, numerical errors can quickly occur."
   ]
  },
  {
   "cell_type": "markdown",
   "metadata": {},
   "source": [
    "1. Use the `format()` function to display the number `0.1` with 20 decimal places (how Python 'sees' this number). Use `'.20f'` for the function argument `format_spec`.  \n",
    "(Remember that you can use *Shift + Tab* to display the function documentation.)"
   ]
  },
  {
   "cell_type": "code",
   "execution_count": 26,
   "metadata": {},
   "outputs": [
    {
     "data": {
      "text/plain": [
       "'0.10000000000000000555'"
      ]
     },
     "execution_count": 26,
     "metadata": {},
     "output_type": "execute_result"
    }
   ],
   "source": [
    "format(0.1, '.20f')"
   ]
  },
  {
   "cell_type": "markdown",
   "metadata": {},
   "source": [
    "2. What do you think will be the result of the following two calculations? Try it out and see what happens.\n",
    "```python\n",
    "a) 10**(-20)\n",
    "b) 10**(-20) + 1 - 1\n",
    "```"
   ]
  },
  {
   "cell_type": "code",
   "execution_count": 28,
   "metadata": {},
   "outputs": [
    {
     "data": {
      "text/plain": [
       "'0.00000000000000000001'"
      ]
     },
     "execution_count": 28,
     "metadata": {},
     "output_type": "execute_result"
    }
   ],
   "source": [
    "format(10**(-20), \".20f\")"
   ]
  },
  {
   "cell_type": "code",
   "execution_count": 29,
   "metadata": {},
   "outputs": [
    {
     "data": {
      "text/plain": [
       "'0.00000000000000000000'"
      ]
     },
     "execution_count": 29,
     "metadata": {},
     "output_type": "execute_result"
    }
   ],
   "source": [
    "format(10**(-20) + 1 - 1 , \".20f\")"
   ]
  },
  {
   "cell_type": "markdown",
   "metadata": {},
   "source": [
    "## String"
   ]
  },
  {
   "cell_type": "markdown",
   "metadata": {},
   "source": [
    "Strings are texts. These come with a whole set of their own string manipulation functions:https://docs.python.org/3/library/stdtypes.html#string-methods<br>\n",
    "Strings can be enclosed either with double quotes (`\"my text\")` or with single quotes (`'my text')`. Note that you cannot use the quotes used to enclose a string in the string itself (`\"my \"nice\" text\"` is not a valid expression, `'my \"nice\" text'` or `\"my 'nice' text\"` are allowed)."
   ]
  },
  {
   "cell_type": "markdown",
   "metadata": {},
   "source": [
    "1. Have Python output the following sentences:\n",
    "    - My cat is called 'Bruno'.\n",
    "    - My dog is called \"Alfred\".\n",
    "    - Bruno's playmate is called \"Alfred\"."
   ]
  },
  {
   "cell_type": "markdown",
   "metadata": {},
   "source": [
    "2. Find and use a string function to replace 'Bruno' with 'Max' and 'Alfred' with 'Moritz'."
   ]
  },
  {
   "cell_type": "markdown",
   "metadata": {},
   "source": [
    "## List"
   ]
  },
  {
   "cell_type": "markdown",
   "metadata": {},
   "source": [
    "In Python several values can be combined in a list. The values may even be of different data types. Lists are enclosed with square brackets and the elements of a list are separated with commas, e.g. `[5, 7, 9]`."
   ]
  },
  {
   "cell_type": "markdown",
   "metadata": {},
   "source": [
    "1. Create a list containing the following values and store it in a variable named `my_list`:\n",
    "    - 5\n",
    "    - 3,7\n",
    "    - 'Hello'   "
   ]
  },
  {
   "cell_type": "markdown",
   "metadata": {},
   "source": [
    "2. With square brackets and a number for the index, the individual elements of the list can be accessed, where the first element has index 0, the second index 1, etc., e.g.:<br>\n",
    "    `numbers = [3, 7, 9]`<br>\n",
    "    `numbers[0]` results in `3`<br>\n",
    "    `numbers[1]` results in `7`<br>\n",
    "    `numbers[2]` results in `9`<br>\n",
    "Have the entry 'Hello' output from `my_list`. What happens if you choose an index that is too large?"
   ]
  },
  {
   "cell_type": "markdown",
   "metadata": {},
   "source": [
    "3. Change the first entry in `my_list` (the `5`) to a `4` without having to redefine the entire list."
   ]
  },
  {
   "cell_type": "markdown",
   "metadata": {},
   "source": [
    "4. Append another entry `'World'` to `my_list`.<br>\n",
    "*Note:* You can join multiple *lists* with `+`, or use the `.append()` function (for single values) or the `.extend()` function (for lists)."
   ]
  },
  {
   "cell_type": "markdown",
   "metadata": {},
   "source": [
    "5. You can access multiple entries of a list by using *slices*. Check out this stackoverflow post about slices: https://stackoverflow.com/questions/509211/how-slicing-in-python-works  \n",
    "Try out different ways to retrieve the last two entries stored in `my_list`."
   ]
  },
  {
   "cell_type": "markdown",
   "metadata": {},
   "source": [
    "## Tuple"
   ]
  },
  {
   "cell_type": "markdown",
   "metadata": {},
   "source": [
    "Tuples are very similar to lists, except that they use round brackets (e.g. `(3, 7, 9)`) instead of square ones. Unlike lists, entries in a tuple cannot be changed (they are *immutable*). To change entries in a tuple, it must be completely redefined."
   ]
  },
  {
   "cell_type": "markdown",
   "metadata": {},
   "source": [
    "**Task:**\n",
    "Try to repeat the above list tasks with tuples.<br>\n",
    "*Note:* Tuples with only one entry must be written with a comma after the entry, e.g. `(3,)`. If you would write e.g. `(3)` this would otherwise be interpreted as the number `3` (as integer)."
   ]
  },
  {
   "cell_type": "markdown",
   "metadata": {},
   "source": [
    "## Dictionary"
   ]
  },
  {
   "cell_type": "markdown",
   "metadata": {},
   "source": [
    "Dictionaries are similar to lists, except that each value has a key. While lists are defined with square brackets, dictionaries use curly brackets as follows:\n",
    "```python\n",
    "personal_data = {'age': 20, 'first_name': 'Max', 'last_name': 'Mustermann', ...}\n",
    "```\n",
    "The entries in the dictionary can be accessed via the 'keys', e.g.: `personal_data['age']` would result in `20` here.<br>\n",
    "*Note:* Unlike variable names, keys in dictionaries can be named arbitrarily and can even contain spaces."
   ]
  },
  {
   "cell_type": "markdown",
   "metadata": {},
   "source": [
    "1. Create a dictionary named 'fruits' with the Key:Value pairs from the following table:\n",
    "| Key | Value |\n",
    "| ----------- | ----------- |\n",
    "| 'Apples'  | 5 |\n",
    "| 'Bananas' | 7 | \n",
    "| 'Pears' | 'three' |"
   ]
  },
  {
   "cell_type": "markdown",
   "metadata": {},
   "source": [
    "2. Add the stored number of apples and bananas in your dictionary and store it under a new key named 'Total' in your dictionary. Can the pears also be added?"
   ]
  },
  {
   "cell_type": "markdown",
   "metadata": {},
   "source": [
    "3. Change the value for the pears to a numeric value and try again."
   ]
  },
  {
   "cell_type": "markdown",
   "metadata": {},
   "source": [
    "## DataFrame"
   ]
  },
  {
   "cell_type": "markdown",
   "metadata": {},
   "source": [
    "In data analysis, `DataFrames` are used most frequently. These are available via the `pandas` library.  \n",
    "**Task:** Execute the following cells and observe the result."
   ]
  },
  {
   "cell_type": "code",
   "execution_count": 5,
   "metadata": {},
   "outputs": [
    {
     "ename": "ModuleNotFoundError",
     "evalue": "No module named 'pandas'",
     "output_type": "error",
     "traceback": [
      "\u001b[31m---------------------------------------------------------------------------\u001b[39m",
      "\u001b[31mModuleNotFoundError\u001b[39m                       Traceback (most recent call last)",
      "\u001b[36mCell\u001b[39m\u001b[36m \u001b[39m\u001b[32mIn[5]\u001b[39m\u001b[32m, line 2\u001b[39m\n\u001b[32m      1\u001b[39m \u001b[38;5;66;03m# First, pandas is imported and renamed to 'pd'. This is common to save typing.\u001b[39;00m\n\u001b[32m----> \u001b[39m\u001b[32m2\u001b[39m \u001b[38;5;28;01mimport\u001b[39;00m\u001b[38;5;250m \u001b[39m\u001b[34;01mpandas\u001b[39;00m\u001b[38;5;250m \u001b[39m\u001b[38;5;28;01mas\u001b[39;00m\u001b[38;5;250m \u001b[39m\u001b[34;01mpd\u001b[39;00m\n\u001b[32m      4\u001b[39m \u001b[38;5;66;03m# Now a two-dimensional list is created and stored in X\u001b[39;00m\n\u001b[32m      5\u001b[39m X = [[\u001b[32m0\u001b[39m, \u001b[32m1\u001b[39m, \u001b[32m2\u001b[39m, \u001b[32m3\u001b[39m], [\u001b[32m4\u001b[39m, \u001b[32m5\u001b[39m, \u001b[32m6\u001b[39m, \u001b[32m7\u001b[39m], [\u001b[32m8\u001b[39m, \u001b[32m9\u001b[39m, \u001b[32m10\u001b[39m, \u001b[32m11\u001b[39m]]\n",
      "\u001b[31mModuleNotFoundError\u001b[39m: No module named 'pandas'"
     ]
    }
   ],
   "source": [
    "# First, pandas is imported and renamed to 'pd'. This is common to save typing.\n",
    "import pandas as pd\n",
    "\n",
    "# Now a two-dimensional list is created and stored in X\n",
    "X = [[0, 1, 2, 3], [4, 5, 6, 7], [8, 9, 10, 11]]\n",
    "\n",
    "# And finally, the two-dimensional list is converted into a DataFrame.\n",
    "df = pd.DataFrame(X, columns=[\"first column \", \"second column\", \"third column\", \"fourth column\"])\n",
    "\n",
    "df"
   ]
  },
  {
   "cell_type": "markdown",
   "metadata": {},
   "source": [
    "We can also add new data to the DataFrame:"
   ]
  },
  {
   "cell_type": "code",
   "execution_count": null,
   "metadata": {
    "tags": []
   },
   "outputs": [],
   "source": [
    "# insert new row with index '3'\n",
    "df.loc[3] = ([12, 13, 14, 15])\n",
    "df"
   ]
  },
  {
   "cell_type": "code",
   "execution_count": null,
   "metadata": {},
   "outputs": [],
   "source": [
    "# insert new column with name 'fifth column'\n",
    "df['fifth column'] = [16, 17, 18, 19]\n",
    "df"
   ]
  },
  {
   "cell_type": "markdown",
   "metadata": {},
   "source": [
    "**Task:**"
   ]
  },
  {
   "cell_type": "markdown",
   "metadata": {},
   "source": [
    "1. Add another row and column to the DataFrame `df` with the numbers 20 to 24 as content."
   ]
  },
  {
   "cell_type": "markdown",
   "metadata": {},
   "source": [
    "2. DataFrames are actually `classes`, which means that they can not only store values but also have a bunch of functions attached to them. Try it out by executing `df.plot()`. Since this function is using the `matplotlib` library, you will have to `import` that library first."
   ]
  },
  {
   "cell_type": "markdown",
   "metadata": {},
   "source": [
    "3. You can also pass function arguments to the `df.plot()` function, e.g. `df.plot(title='My title')`. Try it out to give your plot a title."
   ]
  },
  {
   "cell_type": "markdown",
   "metadata": {},
   "source": [
    "4. Find the documentation for pandas' `plot()` functions and look up how to plot the data as a bar plot."
   ]
  },
  {
   "cell_type": "markdown",
   "metadata": {
    "tags": []
   },
   "source": [
    "## A first real data set"
   ]
  },
  {
   "cell_type": "markdown",
   "metadata": {},
   "source": [
    "We now have a look at a real dataset from the `sklearn` library, which we can transform into a pandas DataFrame. The dataset consists of 150 readings of 4 attributes of 3 different iris species (flowers).  \n",
    "You can read more about this dataset here: https://en.wikipedia.org/wiki/Iris_flower_data_set"
   ]
  },
  {
   "cell_type": "code",
   "execution_count": null,
   "metadata": {},
   "outputs": [],
   "source": [
    "# Import the load_iris function from the sklearn.datasets library\n",
    "from sklearn.datasets import load_iris\n",
    "\n",
    "# The data is loaded as a dictionary with the keys 'data', 'feature_names' and 'target'.\n",
    "iris = load_iris()\n",
    "\n",
    "# Load the data in a DataFrame\n",
    "df_iris = pd.DataFrame(iris.data, columns=iris.feature_names)\n",
    "df_iris['target'] = iris.target"
   ]
  },
  {
   "cell_type": "markdown",
   "metadata": {},
   "source": [
    "1. Display the `iris` *dictionary* loaded in the first step."
   ]
  },
  {
   "cell_type": "markdown",
   "metadata": {},
   "source": [
    "2. Now have the same data displayed in the tabular form of your *DataFrame*."
   ]
  },
  {
   "cell_type": "markdown",
   "metadata": {},
   "source": [
    "3. Plot the data of your DataFrame."
   ]
  },
  {
   "cell_type": "markdown",
   "metadata": {},
   "source": [
    "Now you probably realize why DataFrames are so popular among data scientists. 😉"
   ]
  },
  {
   "cell_type": "markdown",
   "metadata": {},
   "source": [
    "## Let's build a classifier!"
   ]
  },
  {
   "cell_type": "code",
   "execution_count": null,
   "metadata": {},
   "outputs": [],
   "source": [
    "from sklearn.model_selection import train_test_split\n",
    "from sklearn.neural_network import MLPClassifier\n",
    "\n",
    "# We split the data into train data (80%) and test data (20%):\n",
    "# x_train and x_test is holding the features (sepal length, sepal width, etc.)\n",
    "# y_train and y_test is holding the targets (which kind of flower it is, given by the class indices 0, 1, 2, 3)\n",
    "features = df_iris.drop('target', axis=1)  # all columns except for the target are used as features for the classification\n",
    "targets = df_iris['target']\n",
    "x_train, x_test, y_train, y_test = train_test_split(features, targets, test_size=0.2)\n",
    "\n",
    "# Now we define a Neural Network Classifier (MLP stands for 'Multi-Layer-Perceptron') and fit it to the training data\n",
    "model = MLPClassifier(max_iter=1000)\n",
    "model.fit(x_train, y_train)"
   ]
  },
  {
   "cell_type": "code",
   "execution_count": null,
   "metadata": {},
   "outputs": [],
   "source": [
    "# Let's check the accuracy of our classifier via our test set:\n",
    "score = model.score(x_test, y_test)\n",
    "print(f'Accuracy of the model: {score*100:.0f}%')"
   ]
  },
  {
   "cell_type": "markdown",
   "metadata": {},
   "source": [
    "**Task:** Rerun the training and test steps and see if the accuracy changes."
   ]
  },
  {
   "cell_type": "code",
   "execution_count": null,
   "metadata": {},
   "outputs": [],
   "source": []
  }
 ],
 "metadata": {
  "kernelspec": {
   "display_name": "Python 3 (ipykernel)",
   "language": "python",
   "name": "python3"
  },
  "language_info": {
   "codemirror_mode": {
    "name": "ipython",
    "version": 3
   },
   "file_extension": ".py",
   "mimetype": "text/x-python",
   "name": "python",
   "nbconvert_exporter": "python",
   "pygments_lexer": "ipython3",
   "version": "3.12.12"
  },
  "toc-autonumbering": true,
  "toc-showmarkdowntxt": false,
  "widgets": {
   "application/vnd.jupyter.widget-state+json": {
    "state": {},
    "version_major": 2,
    "version_minor": 0
   }
  }
 },
 "nbformat": 4,
 "nbformat_minor": 4
}
