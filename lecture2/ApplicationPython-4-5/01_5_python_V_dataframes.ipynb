{
 "cells": [
  {
   "cell_type": "markdown",
   "metadata": {
    "id": "pR75B1eunA-g",
    "tags": []
   },
   "source": [
    "# Python: pandas DataFrames"
   ]
  },
  {
   "cell_type": "markdown",
   "metadata": {
    "id": "JfEGslpNnA-h"
   },
   "source": [
    "## The pandas DataFrame"
   ]
  },
  {
   "cell_type": "markdown",
   "metadata": {
    "id": "GeLt0BNGnA-i"
   },
   "source": [
    "In data analysis, `DataFrames` are used most frequently. These are available via the `pandas` library.  \n",
    "**Task:** Execute the following cells and observe the result."
   ]
  },
  {
   "cell_type": "code",
   "execution_count": 1,
   "metadata": {
    "id": "6aV9IxFYnA-i"
   },
   "outputs": [
    {
     "data": {
      "text/html": [
       "<div>\n",
       "<style scoped>\n",
       "    .dataframe tbody tr th:only-of-type {\n",
       "        vertical-align: middle;\n",
       "    }\n",
       "\n",
       "    .dataframe tbody tr th {\n",
       "        vertical-align: top;\n",
       "    }\n",
       "\n",
       "    .dataframe thead th {\n",
       "        text-align: right;\n",
       "    }\n",
       "</style>\n",
       "<table border=\"1\" class=\"dataframe\">\n",
       "  <thead>\n",
       "    <tr style=\"text-align: right;\">\n",
       "      <th></th>\n",
       "      <th>zeroth_column</th>\n",
       "      <th>first_column</th>\n",
       "      <th>second_column</th>\n",
       "      <th>third_column</th>\n",
       "    </tr>\n",
       "  </thead>\n",
       "  <tbody>\n",
       "    <tr>\n",
       "      <th>0</th>\n",
       "      <td>0</td>\n",
       "      <td>1</td>\n",
       "      <td>2</td>\n",
       "      <td>3</td>\n",
       "    </tr>\n",
       "    <tr>\n",
       "      <th>1</th>\n",
       "      <td>4</td>\n",
       "      <td>5</td>\n",
       "      <td>6</td>\n",
       "      <td>7</td>\n",
       "    </tr>\n",
       "    <tr>\n",
       "      <th>2</th>\n",
       "      <td>8</td>\n",
       "      <td>9</td>\n",
       "      <td>10</td>\n",
       "      <td>11</td>\n",
       "    </tr>\n",
       "  </tbody>\n",
       "</table>\n",
       "</div>"
      ],
      "text/plain": [
       "   zeroth_column  first_column  second_column  third_column\n",
       "0              0             1              2             3\n",
       "1              4             5              6             7\n",
       "2              8             9             10            11"
      ]
     },
     "execution_count": 1,
     "metadata": {},
     "output_type": "execute_result"
    }
   ],
   "source": [
    "# First, pandas is imported and renamed to 'pd'. This is common to save typing.\n",
    "import pandas as pd\n",
    "\n",
    "# Then a two-dimensional list is created and assigned to the variable X\n",
    "X = [[0, 1, 2, 3], [4, 5, 6, 7], [8, 9, 10, 11]]\n",
    "\n",
    "# Finally, the two-dimensional list is converted into a DataFrame.\n",
    "df = pd.DataFrame(X, columns=['zeroth_column', 'first_column', 'second_column', 'third_column'])\n",
    "\n",
    "df"
   ]
  },
  {
   "cell_type": "markdown",
   "metadata": {
    "id": "JYUhkVCvnA-j"
   },
   "source": [
    "We can also add a new row or a new column to the DataFrame:"
   ]
  },
  {
   "cell_type": "code",
   "execution_count": 2,
   "metadata": {
    "id": "LSDFlQaRnA-j"
   },
   "outputs": [
    {
     "data": {
      "text/html": [
       "<div>\n",
       "<style scoped>\n",
       "    .dataframe tbody tr th:only-of-type {\n",
       "        vertical-align: middle;\n",
       "    }\n",
       "\n",
       "    .dataframe tbody tr th {\n",
       "        vertical-align: top;\n",
       "    }\n",
       "\n",
       "    .dataframe thead th {\n",
       "        text-align: right;\n",
       "    }\n",
       "</style>\n",
       "<table border=\"1\" class=\"dataframe\">\n",
       "  <thead>\n",
       "    <tr style=\"text-align: right;\">\n",
       "      <th></th>\n",
       "      <th>zeroth_column</th>\n",
       "      <th>first_column</th>\n",
       "      <th>second_column</th>\n",
       "      <th>third_column</th>\n",
       "    </tr>\n",
       "  </thead>\n",
       "  <tbody>\n",
       "    <tr>\n",
       "      <th>0</th>\n",
       "      <td>0</td>\n",
       "      <td>1</td>\n",
       "      <td>2</td>\n",
       "      <td>3</td>\n",
       "    </tr>\n",
       "    <tr>\n",
       "      <th>1</th>\n",
       "      <td>4</td>\n",
       "      <td>5</td>\n",
       "      <td>6</td>\n",
       "      <td>7</td>\n",
       "    </tr>\n",
       "    <tr>\n",
       "      <th>2</th>\n",
       "      <td>8</td>\n",
       "      <td>9</td>\n",
       "      <td>10</td>\n",
       "      <td>11</td>\n",
       "    </tr>\n",
       "    <tr>\n",
       "      <th>3</th>\n",
       "      <td>12</td>\n",
       "      <td>13</td>\n",
       "      <td>14</td>\n",
       "      <td>15</td>\n",
       "    </tr>\n",
       "  </tbody>\n",
       "</table>\n",
       "</div>"
      ],
      "text/plain": [
       "   zeroth_column  first_column  second_column  third_column\n",
       "0              0             1              2             3\n",
       "1              4             5              6             7\n",
       "2              8             9             10            11\n",
       "3             12            13             14            15"
      ]
     },
     "execution_count": 2,
     "metadata": {},
     "output_type": "execute_result"
    }
   ],
   "source": [
    "# insert new row with index '3'\n",
    "df.loc[3] = [12, 13, 14, 15]\n",
    "df"
   ]
  },
  {
   "cell_type": "code",
   "execution_count": 3,
   "metadata": {
    "id": "GasUAWHrnA-j"
   },
   "outputs": [
    {
     "data": {
      "text/html": [
       "<div>\n",
       "<style scoped>\n",
       "    .dataframe tbody tr th:only-of-type {\n",
       "        vertical-align: middle;\n",
       "    }\n",
       "\n",
       "    .dataframe tbody tr th {\n",
       "        vertical-align: top;\n",
       "    }\n",
       "\n",
       "    .dataframe thead th {\n",
       "        text-align: right;\n",
       "    }\n",
       "</style>\n",
       "<table border=\"1\" class=\"dataframe\">\n",
       "  <thead>\n",
       "    <tr style=\"text-align: right;\">\n",
       "      <th></th>\n",
       "      <th>zeroth_column</th>\n",
       "      <th>first_column</th>\n",
       "      <th>second_column</th>\n",
       "      <th>third_column</th>\n",
       "      <th>fourth_column</th>\n",
       "    </tr>\n",
       "  </thead>\n",
       "  <tbody>\n",
       "    <tr>\n",
       "      <th>0</th>\n",
       "      <td>0</td>\n",
       "      <td>1</td>\n",
       "      <td>2</td>\n",
       "      <td>3</td>\n",
       "      <td>16</td>\n",
       "    </tr>\n",
       "    <tr>\n",
       "      <th>1</th>\n",
       "      <td>4</td>\n",
       "      <td>5</td>\n",
       "      <td>6</td>\n",
       "      <td>7</td>\n",
       "      <td>17</td>\n",
       "    </tr>\n",
       "    <tr>\n",
       "      <th>2</th>\n",
       "      <td>8</td>\n",
       "      <td>9</td>\n",
       "      <td>10</td>\n",
       "      <td>11</td>\n",
       "      <td>18</td>\n",
       "    </tr>\n",
       "    <tr>\n",
       "      <th>3</th>\n",
       "      <td>12</td>\n",
       "      <td>13</td>\n",
       "      <td>14</td>\n",
       "      <td>15</td>\n",
       "      <td>19</td>\n",
       "    </tr>\n",
       "  </tbody>\n",
       "</table>\n",
       "</div>"
      ],
      "text/plain": [
       "   zeroth_column  first_column  second_column  third_column  fourth_column\n",
       "0              0             1              2             3             16\n",
       "1              4             5              6             7             17\n",
       "2              8             9             10            11             18\n",
       "3             12            13             14            15             19"
      ]
     },
     "execution_count": 3,
     "metadata": {},
     "output_type": "execute_result"
    }
   ],
   "source": [
    "# insert new column with name 'fourth_column'\n",
    "df['fourth_column'] = [16, 17, 18, 19]\n",
    "df"
   ]
  },
  {
   "cell_type": "markdown",
   "metadata": {
    "id": "BBDBCt6qnA-j"
   },
   "source": [
    "**Task:**"
   ]
  },
  {
   "cell_type": "markdown",
   "metadata": {
    "id": "IDI2kpO1nA-j"
   },
   "source": [
    "1. Add another row to the DataFrame `df` with the numbers 20 to 24 as values. Display the resulting DataFrame afterwards."
   ]
  },
  {
   "cell_type": "code",
   "execution_count": 4,
   "metadata": {},
   "outputs": [
    {
     "data": {
      "text/html": [
       "<div>\n",
       "<style scoped>\n",
       "    .dataframe tbody tr th:only-of-type {\n",
       "        vertical-align: middle;\n",
       "    }\n",
       "\n",
       "    .dataframe tbody tr th {\n",
       "        vertical-align: top;\n",
       "    }\n",
       "\n",
       "    .dataframe thead th {\n",
       "        text-align: right;\n",
       "    }\n",
       "</style>\n",
       "<table border=\"1\" class=\"dataframe\">\n",
       "  <thead>\n",
       "    <tr style=\"text-align: right;\">\n",
       "      <th></th>\n",
       "      <th>zeroth_column</th>\n",
       "      <th>first_column</th>\n",
       "      <th>second_column</th>\n",
       "      <th>third_column</th>\n",
       "      <th>fourth_column</th>\n",
       "    </tr>\n",
       "  </thead>\n",
       "  <tbody>\n",
       "    <tr>\n",
       "      <th>0</th>\n",
       "      <td>0</td>\n",
       "      <td>1</td>\n",
       "      <td>2</td>\n",
       "      <td>3</td>\n",
       "      <td>16</td>\n",
       "    </tr>\n",
       "    <tr>\n",
       "      <th>1</th>\n",
       "      <td>4</td>\n",
       "      <td>5</td>\n",
       "      <td>6</td>\n",
       "      <td>7</td>\n",
       "      <td>17</td>\n",
       "    </tr>\n",
       "    <tr>\n",
       "      <th>2</th>\n",
       "      <td>8</td>\n",
       "      <td>9</td>\n",
       "      <td>10</td>\n",
       "      <td>11</td>\n",
       "      <td>18</td>\n",
       "    </tr>\n",
       "    <tr>\n",
       "      <th>3</th>\n",
       "      <td>12</td>\n",
       "      <td>13</td>\n",
       "      <td>14</td>\n",
       "      <td>15</td>\n",
       "      <td>19</td>\n",
       "    </tr>\n",
       "    <tr>\n",
       "      <th>4</th>\n",
       "      <td>20</td>\n",
       "      <td>21</td>\n",
       "      <td>22</td>\n",
       "      <td>23</td>\n",
       "      <td>24</td>\n",
       "    </tr>\n",
       "  </tbody>\n",
       "</table>\n",
       "</div>"
      ],
      "text/plain": [
       "   zeroth_column  first_column  second_column  third_column  fourth_column\n",
       "0              0             1              2             3             16\n",
       "1              4             5              6             7             17\n",
       "2              8             9             10            11             18\n",
       "3             12            13             14            15             19\n",
       "4             20            21             22            23             24"
      ]
     },
     "execution_count": 4,
     "metadata": {},
     "output_type": "execute_result"
    }
   ],
   "source": [
    "df.loc[4] = [20, 21, 22 ,23 ,24]\n",
    "df"
   ]
  },
  {
   "cell_type": "markdown",
   "metadata": {
    "id": "n4xc9iQDnA-k"
   },
   "source": [
    "2. Add another column to the DataFrame `df` with the numbers 25 to 29 as values. Display the resulting DataFrame afterwards."
   ]
  },
  {
   "cell_type": "code",
   "execution_count": 5,
   "metadata": {},
   "outputs": [
    {
     "data": {
      "text/html": [
       "<div>\n",
       "<style scoped>\n",
       "    .dataframe tbody tr th:only-of-type {\n",
       "        vertical-align: middle;\n",
       "    }\n",
       "\n",
       "    .dataframe tbody tr th {\n",
       "        vertical-align: top;\n",
       "    }\n",
       "\n",
       "    .dataframe thead th {\n",
       "        text-align: right;\n",
       "    }\n",
       "</style>\n",
       "<table border=\"1\" class=\"dataframe\">\n",
       "  <thead>\n",
       "    <tr style=\"text-align: right;\">\n",
       "      <th></th>\n",
       "      <th>zeroth_column</th>\n",
       "      <th>first_column</th>\n",
       "      <th>second_column</th>\n",
       "      <th>third_column</th>\n",
       "      <th>fourth_column</th>\n",
       "      <th>fifth_column</th>\n",
       "    </tr>\n",
       "  </thead>\n",
       "  <tbody>\n",
       "    <tr>\n",
       "      <th>0</th>\n",
       "      <td>0</td>\n",
       "      <td>1</td>\n",
       "      <td>2</td>\n",
       "      <td>3</td>\n",
       "      <td>16</td>\n",
       "      <td>25</td>\n",
       "    </tr>\n",
       "    <tr>\n",
       "      <th>1</th>\n",
       "      <td>4</td>\n",
       "      <td>5</td>\n",
       "      <td>6</td>\n",
       "      <td>7</td>\n",
       "      <td>17</td>\n",
       "      <td>26</td>\n",
       "    </tr>\n",
       "    <tr>\n",
       "      <th>2</th>\n",
       "      <td>8</td>\n",
       "      <td>9</td>\n",
       "      <td>10</td>\n",
       "      <td>11</td>\n",
       "      <td>18</td>\n",
       "      <td>27</td>\n",
       "    </tr>\n",
       "    <tr>\n",
       "      <th>3</th>\n",
       "      <td>12</td>\n",
       "      <td>13</td>\n",
       "      <td>14</td>\n",
       "      <td>15</td>\n",
       "      <td>19</td>\n",
       "      <td>28</td>\n",
       "    </tr>\n",
       "    <tr>\n",
       "      <th>4</th>\n",
       "      <td>20</td>\n",
       "      <td>21</td>\n",
       "      <td>22</td>\n",
       "      <td>23</td>\n",
       "      <td>24</td>\n",
       "      <td>29</td>\n",
       "    </tr>\n",
       "  </tbody>\n",
       "</table>\n",
       "</div>"
      ],
      "text/plain": [
       "   zeroth_column  first_column  second_column  third_column  fourth_column  \\\n",
       "0              0             1              2             3             16   \n",
       "1              4             5              6             7             17   \n",
       "2              8             9             10            11             18   \n",
       "3             12            13             14            15             19   \n",
       "4             20            21             22            23             24   \n",
       "\n",
       "   fifth_column  \n",
       "0            25  \n",
       "1            26  \n",
       "2            27  \n",
       "3            28  \n",
       "4            29  "
      ]
     },
     "execution_count": 5,
     "metadata": {},
     "output_type": "execute_result"
    }
   ],
   "source": [
    "df['fifth_column'] = [25, 26, 27, 28,29]\n",
    "df"
   ]
  },
  {
   "cell_type": "markdown",
   "metadata": {
    "id": "bMXSMcZ8nA-k"
   },
   "source": [
    "## The .loc[...] property"
   ]
  },
  {
   "cell_type": "markdown",
   "metadata": {
    "id": "7WvT0Ij1nA-k"
   },
   "source": [
    "The `.loc[...]` property is a highly useful tool to access specific parts of a DataFrame. We use it all the time!\n",
    "\n",
    "`.loc[...]` has two parts: `.loc[row_selection, column_selection]`, where the second part is optional. `row_selection` and `column_selection` can be all kinds of different ways of telling python which rows or columns we want to select.\n",
    "\n",
    "**Tasks:**\n",
    "1. Read through the `pandas.DataFrame.loc` documentation to understand how `.loc` works:  \n",
    "   https://pandas.pydata.org/docs/reference/api/pandas.DataFrame.loc.html"
   ]
  },
  {
   "cell_type": "markdown",
   "metadata": {
    "id": "0mG4bBcenA-k"
   },
   "source": [
    "2. Use `.loc[start_index:end_index]` to display row number 1 until (including) row number 3 of the DataFrame.  \n",
    "   *Careful:* When slicing a `list` the `end_index` is not included in the result. When slicing a `DataFrame` it is."
   ]
  },
  {
   "cell_type": "code",
   "execution_count": 6,
   "metadata": {},
   "outputs": [
    {
     "data": {
      "text/html": [
       "<div>\n",
       "<style scoped>\n",
       "    .dataframe tbody tr th:only-of-type {\n",
       "        vertical-align: middle;\n",
       "    }\n",
       "\n",
       "    .dataframe tbody tr th {\n",
       "        vertical-align: top;\n",
       "    }\n",
       "\n",
       "    .dataframe thead th {\n",
       "        text-align: right;\n",
       "    }\n",
       "</style>\n",
       "<table border=\"1\" class=\"dataframe\">\n",
       "  <thead>\n",
       "    <tr style=\"text-align: right;\">\n",
       "      <th></th>\n",
       "      <th>zeroth_column</th>\n",
       "      <th>first_column</th>\n",
       "      <th>second_column</th>\n",
       "      <th>third_column</th>\n",
       "      <th>fourth_column</th>\n",
       "      <th>fifth_column</th>\n",
       "    </tr>\n",
       "  </thead>\n",
       "  <tbody>\n",
       "    <tr>\n",
       "      <th>1</th>\n",
       "      <td>4</td>\n",
       "      <td>5</td>\n",
       "      <td>6</td>\n",
       "      <td>7</td>\n",
       "      <td>17</td>\n",
       "      <td>26</td>\n",
       "    </tr>\n",
       "    <tr>\n",
       "      <th>3</th>\n",
       "      <td>12</td>\n",
       "      <td>13</td>\n",
       "      <td>14</td>\n",
       "      <td>15</td>\n",
       "      <td>19</td>\n",
       "      <td>28</td>\n",
       "    </tr>\n",
       "  </tbody>\n",
       "</table>\n",
       "</div>"
      ],
      "text/plain": [
       "   zeroth_column  first_column  second_column  third_column  fourth_column  \\\n",
       "1              4             5              6             7             17   \n",
       "3             12            13             14            15             19   \n",
       "\n",
       "   fifth_column  \n",
       "1            26  \n",
       "3            28  "
      ]
     },
     "execution_count": 6,
     "metadata": {},
     "output_type": "execute_result"
    }
   ],
   "source": [
    "df.loc[[1,3]]\n"
   ]
  },
  {
   "cell_type": "markdown",
   "metadata": {
    "id": "pLvpJDAKnA-k"
   },
   "source": [
    "3. Use `.loc[start_index:]` to display row number 2 until the last row number of the DataFrame."
   ]
  },
  {
   "cell_type": "code",
   "execution_count": 7,
   "metadata": {},
   "outputs": [
    {
     "data": {
      "text/html": [
       "<div>\n",
       "<style scoped>\n",
       "    .dataframe tbody tr th:only-of-type {\n",
       "        vertical-align: middle;\n",
       "    }\n",
       "\n",
       "    .dataframe tbody tr th {\n",
       "        vertical-align: top;\n",
       "    }\n",
       "\n",
       "    .dataframe thead th {\n",
       "        text-align: right;\n",
       "    }\n",
       "</style>\n",
       "<table border=\"1\" class=\"dataframe\">\n",
       "  <thead>\n",
       "    <tr style=\"text-align: right;\">\n",
       "      <th></th>\n",
       "      <th>zeroth_column</th>\n",
       "      <th>first_column</th>\n",
       "      <th>second_column</th>\n",
       "      <th>third_column</th>\n",
       "      <th>fourth_column</th>\n",
       "      <th>fifth_column</th>\n",
       "    </tr>\n",
       "  </thead>\n",
       "  <tbody>\n",
       "    <tr>\n",
       "      <th>2</th>\n",
       "      <td>8</td>\n",
       "      <td>9</td>\n",
       "      <td>10</td>\n",
       "      <td>11</td>\n",
       "      <td>18</td>\n",
       "      <td>27</td>\n",
       "    </tr>\n",
       "    <tr>\n",
       "      <th>3</th>\n",
       "      <td>12</td>\n",
       "      <td>13</td>\n",
       "      <td>14</td>\n",
       "      <td>15</td>\n",
       "      <td>19</td>\n",
       "      <td>28</td>\n",
       "    </tr>\n",
       "    <tr>\n",
       "      <th>4</th>\n",
       "      <td>20</td>\n",
       "      <td>21</td>\n",
       "      <td>22</td>\n",
       "      <td>23</td>\n",
       "      <td>24</td>\n",
       "      <td>29</td>\n",
       "    </tr>\n",
       "  </tbody>\n",
       "</table>\n",
       "</div>"
      ],
      "text/plain": [
       "   zeroth_column  first_column  second_column  third_column  fourth_column  \\\n",
       "2              8             9             10            11             18   \n",
       "3             12            13             14            15             19   \n",
       "4             20            21             22            23             24   \n",
       "\n",
       "   fifth_column  \n",
       "2            27  \n",
       "3            28  \n",
       "4            29  "
      ]
     },
     "execution_count": 7,
     "metadata": {},
     "output_type": "execute_result"
    }
   ],
   "source": [
    "df.loc[2:]"
   ]
  },
  {
   "cell_type": "markdown",
   "metadata": {
    "id": "rmpGojW-nA-k"
   },
   "source": [
    "4. Use `.loc[:end_index]` to display all rows until (including) row number 3 of the DataFrame"
   ]
  },
  {
   "cell_type": "code",
   "execution_count": 8,
   "metadata": {},
   "outputs": [
    {
     "data": {
      "text/html": [
       "<div>\n",
       "<style scoped>\n",
       "    .dataframe tbody tr th:only-of-type {\n",
       "        vertical-align: middle;\n",
       "    }\n",
       "\n",
       "    .dataframe tbody tr th {\n",
       "        vertical-align: top;\n",
       "    }\n",
       "\n",
       "    .dataframe thead th {\n",
       "        text-align: right;\n",
       "    }\n",
       "</style>\n",
       "<table border=\"1\" class=\"dataframe\">\n",
       "  <thead>\n",
       "    <tr style=\"text-align: right;\">\n",
       "      <th></th>\n",
       "      <th>zeroth_column</th>\n",
       "      <th>first_column</th>\n",
       "      <th>second_column</th>\n",
       "      <th>third_column</th>\n",
       "      <th>fourth_column</th>\n",
       "      <th>fifth_column</th>\n",
       "    </tr>\n",
       "  </thead>\n",
       "  <tbody>\n",
       "    <tr>\n",
       "      <th>0</th>\n",
       "      <td>0</td>\n",
       "      <td>1</td>\n",
       "      <td>2</td>\n",
       "      <td>3</td>\n",
       "      <td>16</td>\n",
       "      <td>25</td>\n",
       "    </tr>\n",
       "    <tr>\n",
       "      <th>1</th>\n",
       "      <td>4</td>\n",
       "      <td>5</td>\n",
       "      <td>6</td>\n",
       "      <td>7</td>\n",
       "      <td>17</td>\n",
       "      <td>26</td>\n",
       "    </tr>\n",
       "    <tr>\n",
       "      <th>2</th>\n",
       "      <td>8</td>\n",
       "      <td>9</td>\n",
       "      <td>10</td>\n",
       "      <td>11</td>\n",
       "      <td>18</td>\n",
       "      <td>27</td>\n",
       "    </tr>\n",
       "    <tr>\n",
       "      <th>3</th>\n",
       "      <td>12</td>\n",
       "      <td>13</td>\n",
       "      <td>14</td>\n",
       "      <td>15</td>\n",
       "      <td>19</td>\n",
       "      <td>28</td>\n",
       "    </tr>\n",
       "  </tbody>\n",
       "</table>\n",
       "</div>"
      ],
      "text/plain": [
       "   zeroth_column  first_column  second_column  third_column  fourth_column  \\\n",
       "0              0             1              2             3             16   \n",
       "1              4             5              6             7             17   \n",
       "2              8             9             10            11             18   \n",
       "3             12            13             14            15             19   \n",
       "\n",
       "   fifth_column  \n",
       "0            25  \n",
       "1            26  \n",
       "2            27  \n",
       "3            28  "
      ]
     },
     "execution_count": 8,
     "metadata": {},
     "output_type": "execute_result"
    }
   ],
   "source": [
    "df.loc[:3]"
   ]
  },
  {
   "cell_type": "markdown",
   "metadata": {
    "id": "mGbaBAejnA-k"
   },
   "source": [
    "5. Use `.loc[[row_index_1, row_index_2, ...]]` to display rows number 0, 3 and 4 of the DataFrame"
   ]
  },
  {
   "cell_type": "code",
   "execution_count": 9,
   "metadata": {},
   "outputs": [
    {
     "data": {
      "text/html": [
       "<div>\n",
       "<style scoped>\n",
       "    .dataframe tbody tr th:only-of-type {\n",
       "        vertical-align: middle;\n",
       "    }\n",
       "\n",
       "    .dataframe tbody tr th {\n",
       "        vertical-align: top;\n",
       "    }\n",
       "\n",
       "    .dataframe thead th {\n",
       "        text-align: right;\n",
       "    }\n",
       "</style>\n",
       "<table border=\"1\" class=\"dataframe\">\n",
       "  <thead>\n",
       "    <tr style=\"text-align: right;\">\n",
       "      <th></th>\n",
       "      <th>zeroth_column</th>\n",
       "      <th>first_column</th>\n",
       "      <th>second_column</th>\n",
       "      <th>third_column</th>\n",
       "      <th>fourth_column</th>\n",
       "      <th>fifth_column</th>\n",
       "    </tr>\n",
       "  </thead>\n",
       "  <tbody>\n",
       "    <tr>\n",
       "      <th>0</th>\n",
       "      <td>0</td>\n",
       "      <td>1</td>\n",
       "      <td>2</td>\n",
       "      <td>3</td>\n",
       "      <td>16</td>\n",
       "      <td>25</td>\n",
       "    </tr>\n",
       "    <tr>\n",
       "      <th>3</th>\n",
       "      <td>12</td>\n",
       "      <td>13</td>\n",
       "      <td>14</td>\n",
       "      <td>15</td>\n",
       "      <td>19</td>\n",
       "      <td>28</td>\n",
       "    </tr>\n",
       "    <tr>\n",
       "      <th>4</th>\n",
       "      <td>20</td>\n",
       "      <td>21</td>\n",
       "      <td>22</td>\n",
       "      <td>23</td>\n",
       "      <td>24</td>\n",
       "      <td>29</td>\n",
       "    </tr>\n",
       "  </tbody>\n",
       "</table>\n",
       "</div>"
      ],
      "text/plain": [
       "   zeroth_column  first_column  second_column  third_column  fourth_column  \\\n",
       "0              0             1              2             3             16   \n",
       "3             12            13             14            15             19   \n",
       "4             20            21             22            23             24   \n",
       "\n",
       "   fifth_column  \n",
       "0            25  \n",
       "3            28  \n",
       "4            29  "
      ]
     },
     "execution_count": 9,
     "metadata": {},
     "output_type": "execute_result"
    }
   ],
   "source": [
    "df.loc[[0,3,4]]"
   ]
  },
  {
   "cell_type": "markdown",
   "metadata": {
    "id": "-MeMcdRlnA-k"
   },
   "source": [
    "6. Use `.loc[:, start_column:end_column]` to display all rows of the second_column to fourth_column of the DataFrame.  \n",
    "   *Note:* Column names are given as strings and hence must be written in quotation marks."
   ]
  },
  {
   "cell_type": "code",
   "execution_count": 10,
   "metadata": {},
   "outputs": [
    {
     "data": {
      "text/html": [
       "<div>\n",
       "<style scoped>\n",
       "    .dataframe tbody tr th:only-of-type {\n",
       "        vertical-align: middle;\n",
       "    }\n",
       "\n",
       "    .dataframe tbody tr th {\n",
       "        vertical-align: top;\n",
       "    }\n",
       "\n",
       "    .dataframe thead th {\n",
       "        text-align: right;\n",
       "    }\n",
       "</style>\n",
       "<table border=\"1\" class=\"dataframe\">\n",
       "  <thead>\n",
       "    <tr style=\"text-align: right;\">\n",
       "      <th></th>\n",
       "      <th>second_column</th>\n",
       "      <th>third_column</th>\n",
       "      <th>fourth_column</th>\n",
       "    </tr>\n",
       "  </thead>\n",
       "  <tbody>\n",
       "    <tr>\n",
       "      <th>0</th>\n",
       "      <td>2</td>\n",
       "      <td>3</td>\n",
       "      <td>16</td>\n",
       "    </tr>\n",
       "    <tr>\n",
       "      <th>1</th>\n",
       "      <td>6</td>\n",
       "      <td>7</td>\n",
       "      <td>17</td>\n",
       "    </tr>\n",
       "    <tr>\n",
       "      <th>2</th>\n",
       "      <td>10</td>\n",
       "      <td>11</td>\n",
       "      <td>18</td>\n",
       "    </tr>\n",
       "    <tr>\n",
       "      <th>3</th>\n",
       "      <td>14</td>\n",
       "      <td>15</td>\n",
       "      <td>19</td>\n",
       "    </tr>\n",
       "    <tr>\n",
       "      <th>4</th>\n",
       "      <td>22</td>\n",
       "      <td>23</td>\n",
       "      <td>24</td>\n",
       "    </tr>\n",
       "  </tbody>\n",
       "</table>\n",
       "</div>"
      ],
      "text/plain": [
       "   second_column  third_column  fourth_column\n",
       "0              2             3             16\n",
       "1              6             7             17\n",
       "2             10            11             18\n",
       "3             14            15             19\n",
       "4             22            23             24"
      ]
     },
     "execution_count": 10,
     "metadata": {},
     "output_type": "execute_result"
    }
   ],
   "source": [
    "df.loc[:,\"second_column\":\"fourth_column\"]"
   ]
  },
  {
   "cell_type": "markdown",
   "metadata": {
    "id": "KFnXXQ9hnA-k"
   },
   "source": [
    "7. Use `.iloc[:, start_column_index:end_column_index]` to do the same giving not the column names but column indices as numbers.  \n",
    "   *Note:* `.loc` is for using column names, `.iloc` is for using column indices.  \n",
    "   *Careful:* Slicing in `.iloc[...]` works differently from slicing in `.loc[...]`: like in `lists` the `end_index` is not included."
   ]
  },
  {
   "cell_type": "code",
   "execution_count": 11,
   "metadata": {},
   "outputs": [
    {
     "data": {
      "text/html": [
       "<div>\n",
       "<style scoped>\n",
       "    .dataframe tbody tr th:only-of-type {\n",
       "        vertical-align: middle;\n",
       "    }\n",
       "\n",
       "    .dataframe tbody tr th {\n",
       "        vertical-align: top;\n",
       "    }\n",
       "\n",
       "    .dataframe thead th {\n",
       "        text-align: right;\n",
       "    }\n",
       "</style>\n",
       "<table border=\"1\" class=\"dataframe\">\n",
       "  <thead>\n",
       "    <tr style=\"text-align: right;\">\n",
       "      <th></th>\n",
       "      <th>third_column</th>\n",
       "      <th>fourth_column</th>\n",
       "    </tr>\n",
       "  </thead>\n",
       "  <tbody>\n",
       "    <tr>\n",
       "      <th>0</th>\n",
       "      <td>3</td>\n",
       "      <td>16</td>\n",
       "    </tr>\n",
       "    <tr>\n",
       "      <th>1</th>\n",
       "      <td>7</td>\n",
       "      <td>17</td>\n",
       "    </tr>\n",
       "    <tr>\n",
       "      <th>2</th>\n",
       "      <td>11</td>\n",
       "      <td>18</td>\n",
       "    </tr>\n",
       "    <tr>\n",
       "      <th>3</th>\n",
       "      <td>15</td>\n",
       "      <td>19</td>\n",
       "    </tr>\n",
       "    <tr>\n",
       "      <th>4</th>\n",
       "      <td>23</td>\n",
       "      <td>24</td>\n",
       "    </tr>\n",
       "  </tbody>\n",
       "</table>\n",
       "</div>"
      ],
      "text/plain": [
       "   third_column  fourth_column\n",
       "0             3             16\n",
       "1             7             17\n",
       "2            11             18\n",
       "3            15             19\n",
       "4            23             24"
      ]
     },
     "execution_count": 11,
     "metadata": {},
     "output_type": "execute_result"
    }
   ],
   "source": [
    "# info\n",
    "df.iloc[:,3:5]"
   ]
  },
  {
   "cell_type": "code",
   "execution_count": 12,
   "metadata": {},
   "outputs": [
    {
     "data": {
      "text/html": [
       "<div>\n",
       "<style scoped>\n",
       "    .dataframe tbody tr th:only-of-type {\n",
       "        vertical-align: middle;\n",
       "    }\n",
       "\n",
       "    .dataframe tbody tr th {\n",
       "        vertical-align: top;\n",
       "    }\n",
       "\n",
       "    .dataframe thead th {\n",
       "        text-align: right;\n",
       "    }\n",
       "</style>\n",
       "<table border=\"1\" class=\"dataframe\">\n",
       "  <thead>\n",
       "    <tr style=\"text-align: right;\">\n",
       "      <th></th>\n",
       "      <th>zeroth_column</th>\n",
       "      <th>first_column</th>\n",
       "      <th>second_column</th>\n",
       "      <th>third_column</th>\n",
       "      <th>fourth_column</th>\n",
       "      <th>fifth_column</th>\n",
       "    </tr>\n",
       "  </thead>\n",
       "  <tbody>\n",
       "    <tr>\n",
       "      <th>0</th>\n",
       "      <td>0</td>\n",
       "      <td>1</td>\n",
       "      <td>2</td>\n",
       "      <td>3</td>\n",
       "      <td>16</td>\n",
       "      <td>25</td>\n",
       "    </tr>\n",
       "    <tr>\n",
       "      <th>1</th>\n",
       "      <td>4</td>\n",
       "      <td>5</td>\n",
       "      <td>6</td>\n",
       "      <td>7</td>\n",
       "      <td>17</td>\n",
       "      <td>26</td>\n",
       "    </tr>\n",
       "    <tr>\n",
       "      <th>2</th>\n",
       "      <td>8</td>\n",
       "      <td>9</td>\n",
       "      <td>10</td>\n",
       "      <td>11</td>\n",
       "      <td>18</td>\n",
       "      <td>27</td>\n",
       "    </tr>\n",
       "    <tr>\n",
       "      <th>3</th>\n",
       "      <td>12</td>\n",
       "      <td>13</td>\n",
       "      <td>14</td>\n",
       "      <td>15</td>\n",
       "      <td>19</td>\n",
       "      <td>28</td>\n",
       "    </tr>\n",
       "    <tr>\n",
       "      <th>4</th>\n",
       "      <td>20</td>\n",
       "      <td>21</td>\n",
       "      <td>22</td>\n",
       "      <td>23</td>\n",
       "      <td>24</td>\n",
       "      <td>29</td>\n",
       "    </tr>\n",
       "  </tbody>\n",
       "</table>\n",
       "</div>"
      ],
      "text/plain": [
       "   zeroth_column  first_column  second_column  third_column  fourth_column  \\\n",
       "0              0             1              2             3             16   \n",
       "1              4             5              6             7             17   \n",
       "2              8             9             10            11             18   \n",
       "3             12            13             14            15             19   \n",
       "4             20            21             22            23             24   \n",
       "\n",
       "   fifth_column  \n",
       "0            25  \n",
       "1            26  \n",
       "2            27  \n",
       "3            28  \n",
       "4            29  "
      ]
     },
     "execution_count": 12,
     "metadata": {},
     "output_type": "execute_result"
    }
   ],
   "source": [
    "df.iloc[:]"
   ]
  },
  {
   "cell_type": "markdown",
   "metadata": {
    "id": "3uj7xCyjnA-k"
   },
   "source": [
    "8. Use `.loc[...]` and `.iloc[...]` to display from the third_column until the last column of the DataFrame."
   ]
  },
  {
   "cell_type": "code",
   "execution_count": 13,
   "metadata": {},
   "outputs": [
    {
     "data": {
      "text/html": [
       "<div>\n",
       "<style scoped>\n",
       "    .dataframe tbody tr th:only-of-type {\n",
       "        vertical-align: middle;\n",
       "    }\n",
       "\n",
       "    .dataframe tbody tr th {\n",
       "        vertical-align: top;\n",
       "    }\n",
       "\n",
       "    .dataframe thead th {\n",
       "        text-align: right;\n",
       "    }\n",
       "</style>\n",
       "<table border=\"1\" class=\"dataframe\">\n",
       "  <thead>\n",
       "    <tr style=\"text-align: right;\">\n",
       "      <th></th>\n",
       "      <th>third_column</th>\n",
       "      <th>fourth_column</th>\n",
       "      <th>fifth_column</th>\n",
       "    </tr>\n",
       "  </thead>\n",
       "  <tbody>\n",
       "    <tr>\n",
       "      <th>0</th>\n",
       "      <td>3</td>\n",
       "      <td>16</td>\n",
       "      <td>25</td>\n",
       "    </tr>\n",
       "    <tr>\n",
       "      <th>1</th>\n",
       "      <td>7</td>\n",
       "      <td>17</td>\n",
       "      <td>26</td>\n",
       "    </tr>\n",
       "    <tr>\n",
       "      <th>2</th>\n",
       "      <td>11</td>\n",
       "      <td>18</td>\n",
       "      <td>27</td>\n",
       "    </tr>\n",
       "    <tr>\n",
       "      <th>3</th>\n",
       "      <td>15</td>\n",
       "      <td>19</td>\n",
       "      <td>28</td>\n",
       "    </tr>\n",
       "    <tr>\n",
       "      <th>4</th>\n",
       "      <td>23</td>\n",
       "      <td>24</td>\n",
       "      <td>29</td>\n",
       "    </tr>\n",
       "  </tbody>\n",
       "</table>\n",
       "</div>"
      ],
      "text/plain": [
       "   third_column  fourth_column  fifth_column\n",
       "0             3             16            25\n",
       "1             7             17            26\n",
       "2            11             18            27\n",
       "3            15             19            28\n",
       "4            23             24            29"
      ]
     },
     "execution_count": 13,
     "metadata": {},
     "output_type": "execute_result"
    }
   ],
   "source": [
    "df.loc[:,\"third_column\":]"
   ]
  },
  {
   "cell_type": "code",
   "execution_count": 14,
   "metadata": {},
   "outputs": [
    {
     "data": {
      "text/html": [
       "<div>\n",
       "<style scoped>\n",
       "    .dataframe tbody tr th:only-of-type {\n",
       "        vertical-align: middle;\n",
       "    }\n",
       "\n",
       "    .dataframe tbody tr th {\n",
       "        vertical-align: top;\n",
       "    }\n",
       "\n",
       "    .dataframe thead th {\n",
       "        text-align: right;\n",
       "    }\n",
       "</style>\n",
       "<table border=\"1\" class=\"dataframe\">\n",
       "  <thead>\n",
       "    <tr style=\"text-align: right;\">\n",
       "      <th></th>\n",
       "      <th>zeroth_column</th>\n",
       "      <th>first_column</th>\n",
       "      <th>second_column</th>\n",
       "    </tr>\n",
       "  </thead>\n",
       "  <tbody>\n",
       "    <tr>\n",
       "      <th>0</th>\n",
       "      <td>0</td>\n",
       "      <td>1</td>\n",
       "      <td>2</td>\n",
       "    </tr>\n",
       "    <tr>\n",
       "      <th>1</th>\n",
       "      <td>4</td>\n",
       "      <td>5</td>\n",
       "      <td>6</td>\n",
       "    </tr>\n",
       "    <tr>\n",
       "      <th>2</th>\n",
       "      <td>8</td>\n",
       "      <td>9</td>\n",
       "      <td>10</td>\n",
       "    </tr>\n",
       "    <tr>\n",
       "      <th>3</th>\n",
       "      <td>12</td>\n",
       "      <td>13</td>\n",
       "      <td>14</td>\n",
       "    </tr>\n",
       "    <tr>\n",
       "      <th>4</th>\n",
       "      <td>20</td>\n",
       "      <td>21</td>\n",
       "      <td>22</td>\n",
       "    </tr>\n",
       "  </tbody>\n",
       "</table>\n",
       "</div>"
      ],
      "text/plain": [
       "   zeroth_column  first_column  second_column\n",
       "0              0             1              2\n",
       "1              4             5              6\n",
       "2              8             9             10\n",
       "3             12            13             14\n",
       "4             20            21             22"
      ]
     },
     "execution_count": 14,
     "metadata": {},
     "output_type": "execute_result"
    }
   ],
   "source": [
    "df.iloc[:,:3]"
   ]
  },
  {
   "cell_type": "markdown",
   "metadata": {
    "id": "Rvavz4xbnA-k"
   },
   "source": [
    "9. Use `.loc[...]` and `.iloc[...]` to display all columns until (including) the fourth_column of the DataFrame."
   ]
  },
  {
   "cell_type": "code",
   "execution_count": 15,
   "metadata": {},
   "outputs": [
    {
     "data": {
      "text/html": [
       "<div>\n",
       "<style scoped>\n",
       "    .dataframe tbody tr th:only-of-type {\n",
       "        vertical-align: middle;\n",
       "    }\n",
       "\n",
       "    .dataframe tbody tr th {\n",
       "        vertical-align: top;\n",
       "    }\n",
       "\n",
       "    .dataframe thead th {\n",
       "        text-align: right;\n",
       "    }\n",
       "</style>\n",
       "<table border=\"1\" class=\"dataframe\">\n",
       "  <thead>\n",
       "    <tr style=\"text-align: right;\">\n",
       "      <th></th>\n",
       "      <th>zeroth_column</th>\n",
       "      <th>first_column</th>\n",
       "      <th>second_column</th>\n",
       "      <th>third_column</th>\n",
       "      <th>fourth_column</th>\n",
       "      <th>fifth_column</th>\n",
       "    </tr>\n",
       "  </thead>\n",
       "  <tbody>\n",
       "    <tr>\n",
       "      <th>0</th>\n",
       "      <td>0</td>\n",
       "      <td>1</td>\n",
       "      <td>2</td>\n",
       "      <td>3</td>\n",
       "      <td>16</td>\n",
       "      <td>25</td>\n",
       "    </tr>\n",
       "    <tr>\n",
       "      <th>1</th>\n",
       "      <td>4</td>\n",
       "      <td>5</td>\n",
       "      <td>6</td>\n",
       "      <td>7</td>\n",
       "      <td>17</td>\n",
       "      <td>26</td>\n",
       "    </tr>\n",
       "    <tr>\n",
       "      <th>2</th>\n",
       "      <td>8</td>\n",
       "      <td>9</td>\n",
       "      <td>10</td>\n",
       "      <td>11</td>\n",
       "      <td>18</td>\n",
       "      <td>27</td>\n",
       "    </tr>\n",
       "    <tr>\n",
       "      <th>3</th>\n",
       "      <td>12</td>\n",
       "      <td>13</td>\n",
       "      <td>14</td>\n",
       "      <td>15</td>\n",
       "      <td>19</td>\n",
       "      <td>28</td>\n",
       "    </tr>\n",
       "    <tr>\n",
       "      <th>4</th>\n",
       "      <td>20</td>\n",
       "      <td>21</td>\n",
       "      <td>22</td>\n",
       "      <td>23</td>\n",
       "      <td>24</td>\n",
       "      <td>29</td>\n",
       "    </tr>\n",
       "  </tbody>\n",
       "</table>\n",
       "</div>"
      ],
      "text/plain": [
       "   zeroth_column  first_column  second_column  third_column  fourth_column  \\\n",
       "0              0             1              2             3             16   \n",
       "1              4             5              6             7             17   \n",
       "2              8             9             10            11             18   \n",
       "3             12            13             14            15             19   \n",
       "4             20            21             22            23             24   \n",
       "\n",
       "   fifth_column  \n",
       "0            25  \n",
       "1            26  \n",
       "2            27  \n",
       "3            28  \n",
       "4            29  "
      ]
     },
     "execution_count": 15,
     "metadata": {},
     "output_type": "execute_result"
    }
   ],
   "source": [
    "df.loc[:,:\"fifth_column\"]"
   ]
  },
  {
   "cell_type": "code",
   "execution_count": 16,
   "metadata": {},
   "outputs": [
    {
     "data": {
      "text/html": [
       "<div>\n",
       "<style scoped>\n",
       "    .dataframe tbody tr th:only-of-type {\n",
       "        vertical-align: middle;\n",
       "    }\n",
       "\n",
       "    .dataframe tbody tr th {\n",
       "        vertical-align: top;\n",
       "    }\n",
       "\n",
       "    .dataframe thead th {\n",
       "        text-align: right;\n",
       "    }\n",
       "</style>\n",
       "<table border=\"1\" class=\"dataframe\">\n",
       "  <thead>\n",
       "    <tr style=\"text-align: right;\">\n",
       "      <th></th>\n",
       "      <th>zeroth_column</th>\n",
       "      <th>first_column</th>\n",
       "      <th>second_column</th>\n",
       "      <th>third_column</th>\n",
       "      <th>fourth_column</th>\n",
       "    </tr>\n",
       "  </thead>\n",
       "  <tbody>\n",
       "    <tr>\n",
       "      <th>0</th>\n",
       "      <td>0</td>\n",
       "      <td>1</td>\n",
       "      <td>2</td>\n",
       "      <td>3</td>\n",
       "      <td>16</td>\n",
       "    </tr>\n",
       "    <tr>\n",
       "      <th>1</th>\n",
       "      <td>4</td>\n",
       "      <td>5</td>\n",
       "      <td>6</td>\n",
       "      <td>7</td>\n",
       "      <td>17</td>\n",
       "    </tr>\n",
       "    <tr>\n",
       "      <th>2</th>\n",
       "      <td>8</td>\n",
       "      <td>9</td>\n",
       "      <td>10</td>\n",
       "      <td>11</td>\n",
       "      <td>18</td>\n",
       "    </tr>\n",
       "    <tr>\n",
       "      <th>3</th>\n",
       "      <td>12</td>\n",
       "      <td>13</td>\n",
       "      <td>14</td>\n",
       "      <td>15</td>\n",
       "      <td>19</td>\n",
       "    </tr>\n",
       "    <tr>\n",
       "      <th>4</th>\n",
       "      <td>20</td>\n",
       "      <td>21</td>\n",
       "      <td>22</td>\n",
       "      <td>23</td>\n",
       "      <td>24</td>\n",
       "    </tr>\n",
       "  </tbody>\n",
       "</table>\n",
       "</div>"
      ],
      "text/plain": [
       "   zeroth_column  first_column  second_column  third_column  fourth_column\n",
       "0              0             1              2             3             16\n",
       "1              4             5              6             7             17\n",
       "2              8             9             10            11             18\n",
       "3             12            13             14            15             19\n",
       "4             20            21             22            23             24"
      ]
     },
     "execution_count": 16,
     "metadata": {},
     "output_type": "execute_result"
    }
   ],
   "source": [
    "df.iloc[:,:5]"
   ]
  },
  {
   "cell_type": "markdown",
   "metadata": {
    "id": "9oFEqAt5nA-k"
   },
   "source": [
    "10. Use `.loc[...]` and `.iloc[...]` to display the zeroth_column, the third_column and the fourth_column of the DataFrame."
   ]
  },
  {
   "cell_type": "code",
   "execution_count": 17,
   "metadata": {},
   "outputs": [
    {
     "data": {
      "text/html": [
       "<div>\n",
       "<style scoped>\n",
       "    .dataframe tbody tr th:only-of-type {\n",
       "        vertical-align: middle;\n",
       "    }\n",
       "\n",
       "    .dataframe tbody tr th {\n",
       "        vertical-align: top;\n",
       "    }\n",
       "\n",
       "    .dataframe thead th {\n",
       "        text-align: right;\n",
       "    }\n",
       "</style>\n",
       "<table border=\"1\" class=\"dataframe\">\n",
       "  <thead>\n",
       "    <tr style=\"text-align: right;\">\n",
       "      <th></th>\n",
       "      <th>zeroth_column</th>\n",
       "      <th>third_column</th>\n",
       "      <th>fourth_column</th>\n",
       "    </tr>\n",
       "  </thead>\n",
       "  <tbody>\n",
       "    <tr>\n",
       "      <th>0</th>\n",
       "      <td>0</td>\n",
       "      <td>3</td>\n",
       "      <td>16</td>\n",
       "    </tr>\n",
       "    <tr>\n",
       "      <th>1</th>\n",
       "      <td>4</td>\n",
       "      <td>7</td>\n",
       "      <td>17</td>\n",
       "    </tr>\n",
       "    <tr>\n",
       "      <th>2</th>\n",
       "      <td>8</td>\n",
       "      <td>11</td>\n",
       "      <td>18</td>\n",
       "    </tr>\n",
       "    <tr>\n",
       "      <th>3</th>\n",
       "      <td>12</td>\n",
       "      <td>15</td>\n",
       "      <td>19</td>\n",
       "    </tr>\n",
       "    <tr>\n",
       "      <th>4</th>\n",
       "      <td>20</td>\n",
       "      <td>23</td>\n",
       "      <td>24</td>\n",
       "    </tr>\n",
       "  </tbody>\n",
       "</table>\n",
       "</div>"
      ],
      "text/plain": [
       "   zeroth_column  third_column  fourth_column\n",
       "0              0             3             16\n",
       "1              4             7             17\n",
       "2              8            11             18\n",
       "3             12            15             19\n",
       "4             20            23             24"
      ]
     },
     "execution_count": 17,
     "metadata": {},
     "output_type": "execute_result"
    }
   ],
   "source": [
    "df.loc[:, [\"zeroth_column\", \"third_column\", \"fourth_column\"]]"
   ]
  },
  {
   "cell_type": "code",
   "execution_count": 18,
   "metadata": {},
   "outputs": [
    {
     "data": {
      "text/html": [
       "<div>\n",
       "<style scoped>\n",
       "    .dataframe tbody tr th:only-of-type {\n",
       "        vertical-align: middle;\n",
       "    }\n",
       "\n",
       "    .dataframe tbody tr th {\n",
       "        vertical-align: top;\n",
       "    }\n",
       "\n",
       "    .dataframe thead th {\n",
       "        text-align: right;\n",
       "    }\n",
       "</style>\n",
       "<table border=\"1\" class=\"dataframe\">\n",
       "  <thead>\n",
       "    <tr style=\"text-align: right;\">\n",
       "      <th></th>\n",
       "      <th>first_column</th>\n",
       "      <th>fourth_column</th>\n",
       "      <th>fifth_column</th>\n",
       "    </tr>\n",
       "  </thead>\n",
       "  <tbody>\n",
       "    <tr>\n",
       "      <th>0</th>\n",
       "      <td>1</td>\n",
       "      <td>16</td>\n",
       "      <td>25</td>\n",
       "    </tr>\n",
       "    <tr>\n",
       "      <th>1</th>\n",
       "      <td>5</td>\n",
       "      <td>17</td>\n",
       "      <td>26</td>\n",
       "    </tr>\n",
       "    <tr>\n",
       "      <th>2</th>\n",
       "      <td>9</td>\n",
       "      <td>18</td>\n",
       "      <td>27</td>\n",
       "    </tr>\n",
       "    <tr>\n",
       "      <th>3</th>\n",
       "      <td>13</td>\n",
       "      <td>19</td>\n",
       "      <td>28</td>\n",
       "    </tr>\n",
       "    <tr>\n",
       "      <th>4</th>\n",
       "      <td>21</td>\n",
       "      <td>24</td>\n",
       "      <td>29</td>\n",
       "    </tr>\n",
       "  </tbody>\n",
       "</table>\n",
       "</div>"
      ],
      "text/plain": [
       "   first_column  fourth_column  fifth_column\n",
       "0             1             16            25\n",
       "1             5             17            26\n",
       "2             9             18            27\n",
       "3            13             19            28\n",
       "4            21             24            29"
      ]
     },
     "execution_count": 18,
     "metadata": {},
     "output_type": "execute_result"
    }
   ],
   "source": [
    "df.iloc[:,[1,4,5]]"
   ]
  },
  {
   "cell_type": "markdown",
   "metadata": {
    "id": "Ckb3hPuFnA-l"
   },
   "source": [
    "11. Use `.loc[...]` to display row number 2 to 4 of the first_column and fourth_column of the DataFrame"
   ]
  },
  {
   "cell_type": "code",
   "execution_count": 19,
   "metadata": {},
   "outputs": [
    {
     "data": {
      "text/html": [
       "<div>\n",
       "<style scoped>\n",
       "    .dataframe tbody tr th:only-of-type {\n",
       "        vertical-align: middle;\n",
       "    }\n",
       "\n",
       "    .dataframe tbody tr th {\n",
       "        vertical-align: top;\n",
       "    }\n",
       "\n",
       "    .dataframe thead th {\n",
       "        text-align: right;\n",
       "    }\n",
       "</style>\n",
       "<table border=\"1\" class=\"dataframe\">\n",
       "  <thead>\n",
       "    <tr style=\"text-align: right;\">\n",
       "      <th></th>\n",
       "      <th>first_column</th>\n",
       "      <th>fourth_column</th>\n",
       "    </tr>\n",
       "  </thead>\n",
       "  <tbody>\n",
       "    <tr>\n",
       "      <th>2</th>\n",
       "      <td>9</td>\n",
       "      <td>18</td>\n",
       "    </tr>\n",
       "    <tr>\n",
       "      <th>3</th>\n",
       "      <td>13</td>\n",
       "      <td>19</td>\n",
       "    </tr>\n",
       "    <tr>\n",
       "      <th>4</th>\n",
       "      <td>21</td>\n",
       "      <td>24</td>\n",
       "    </tr>\n",
       "  </tbody>\n",
       "</table>\n",
       "</div>"
      ],
      "text/plain": [
       "   first_column  fourth_column\n",
       "2             9             18\n",
       "3            13             19\n",
       "4            21             24"
      ]
     },
     "execution_count": 19,
     "metadata": {},
     "output_type": "execute_result"
    }
   ],
   "source": [
    "df.loc[2:4,[\"first_column\",\"fourth_column\"]]"
   ]
  },
  {
   "cell_type": "markdown",
   "metadata": {
    "id": "0TRWZ9_tnA-l"
   },
   "source": [
    "## A First Real Dataset"
   ]
  },
  {
   "cell_type": "markdown",
   "metadata": {
    "id": "KhSZeWhYnA-l"
   },
   "source": [
    "Using test data is a bit boring. Let's use a real-world dataset to explore!  \n",
    "We'll be looking at the 'Annual working hours vs. productivity, 2019' from https://ourworldindata.org/grapher/productivity-vs-annual-hours-worked.  \n"
   ]
  },
  {
   "cell_type": "markdown",
   "metadata": {
    "id": "mA-ms8NWnA-l"
   },
   "source": [
    "**Task**:\n",
    "To load the data directly into pandas, click on the 'Download' button below the chart, then on the 'Data' tab and scroll down to the 'Code examples' to find 'Python with Pandas'. Copy and execute the code to load the data into a DataFrame. If this produces an error (e.g., because the host is unreachable), download the data manually, upload the csv file here and use `df = pd.read_csv(...)` to load the data into a DataFrame. Afterwards display the DataFrame `df`."
   ]
  },
  {
   "cell_type": "code",
   "execution_count": 20,
   "metadata": {},
   "outputs": [],
   "source": [
    "import pandas as pd\n",
    "import requests\n",
    "\n",
    "# Fetch the data.\n",
    "df = pd.read_csv(\"https://ourworldindata.org/grapher/productivity-vs-annual-hours-worked.csv?v=1&csvType=full&useColumnShortNames=true\", storage_options = {'User-Agent': 'Our World In Data data fetch/1.0'})\n",
    "\n",
    "# Fetch the metadata\n",
    "metadata = requests.get(\"https://ourworldindata.org/grapher/productivity-vs-annual-hours-worked.metadata.json?v=1&csvType=full&useColumnShortNames=true\").json()"
   ]
  },
  {
   "cell_type": "code",
   "execution_count": 21,
   "metadata": {},
   "outputs": [
    {
     "data": {
      "text/html": [
       "<div>\n",
       "<style scoped>\n",
       "    .dataframe tbody tr th:only-of-type {\n",
       "        vertical-align: middle;\n",
       "    }\n",
       "\n",
       "    .dataframe tbody tr th {\n",
       "        vertical-align: top;\n",
       "    }\n",
       "\n",
       "    .dataframe thead th {\n",
       "        text-align: right;\n",
       "    }\n",
       "</style>\n",
       "<table border=\"1\" class=\"dataframe\">\n",
       "  <thead>\n",
       "    <tr style=\"text-align: right;\">\n",
       "      <th></th>\n",
       "      <th>Entity</th>\n",
       "      <th>Code</th>\n",
       "      <th>Year</th>\n",
       "      <th>avh</th>\n",
       "      <th>productivity</th>\n",
       "      <th>population_historical</th>\n",
       "      <th>owid_region</th>\n",
       "    </tr>\n",
       "  </thead>\n",
       "  <tbody>\n",
       "    <tr>\n",
       "      <th>0</th>\n",
       "      <td>Afghanistan</td>\n",
       "      <td>AFG</td>\n",
       "      <td>-10000</td>\n",
       "      <td>NaN</td>\n",
       "      <td>NaN</td>\n",
       "      <td>14737.0</td>\n",
       "      <td>NaN</td>\n",
       "    </tr>\n",
       "    <tr>\n",
       "      <th>1</th>\n",
       "      <td>Afghanistan</td>\n",
       "      <td>AFG</td>\n",
       "      <td>-9000</td>\n",
       "      <td>NaN</td>\n",
       "      <td>NaN</td>\n",
       "      <td>20405.0</td>\n",
       "      <td>NaN</td>\n",
       "    </tr>\n",
       "    <tr>\n",
       "      <th>2</th>\n",
       "      <td>Afghanistan</td>\n",
       "      <td>AFG</td>\n",
       "      <td>-8000</td>\n",
       "      <td>NaN</td>\n",
       "      <td>NaN</td>\n",
       "      <td>28253.0</td>\n",
       "      <td>NaN</td>\n",
       "    </tr>\n",
       "    <tr>\n",
       "      <th>3</th>\n",
       "      <td>Afghanistan</td>\n",
       "      <td>AFG</td>\n",
       "      <td>-7000</td>\n",
       "      <td>NaN</td>\n",
       "      <td>NaN</td>\n",
       "      <td>39120.0</td>\n",
       "      <td>NaN</td>\n",
       "    </tr>\n",
       "    <tr>\n",
       "      <th>4</th>\n",
       "      <td>Afghanistan</td>\n",
       "      <td>AFG</td>\n",
       "      <td>-6000</td>\n",
       "      <td>NaN</td>\n",
       "      <td>NaN</td>\n",
       "      <td>54166.0</td>\n",
       "      <td>NaN</td>\n",
       "    </tr>\n",
       "    <tr>\n",
       "      <th>...</th>\n",
       "      <td>...</td>\n",
       "      <td>...</td>\n",
       "      <td>...</td>\n",
       "      <td>...</td>\n",
       "      <td>...</td>\n",
       "      <td>...</td>\n",
       "      <td>...</td>\n",
       "    </tr>\n",
       "    <tr>\n",
       "      <th>58854</th>\n",
       "      <td>Zimbabwe</td>\n",
       "      <td>ZWE</td>\n",
       "      <td>2000</td>\n",
       "      <td>NaN</td>\n",
       "      <td>NaN</td>\n",
       "      <td>11892055.0</td>\n",
       "      <td>NaN</td>\n",
       "    </tr>\n",
       "    <tr>\n",
       "      <th>58855</th>\n",
       "      <td>Zimbabwe</td>\n",
       "      <td>ZWE</td>\n",
       "      <td>2001</td>\n",
       "      <td>NaN</td>\n",
       "      <td>NaN</td>\n",
       "      <td>11971904.0</td>\n",
       "      <td>NaN</td>\n",
       "    </tr>\n",
       "    <tr>\n",
       "      <th>58856</th>\n",
       "      <td>Zimbabwe</td>\n",
       "      <td>ZWE</td>\n",
       "      <td>2002</td>\n",
       "      <td>NaN</td>\n",
       "      <td>NaN</td>\n",
       "      <td>12087661.0</td>\n",
       "      <td>NaN</td>\n",
       "    </tr>\n",
       "    <tr>\n",
       "      <th>58857</th>\n",
       "      <td>Zimbabwe</td>\n",
       "      <td>ZWE</td>\n",
       "      <td>2003</td>\n",
       "      <td>NaN</td>\n",
       "      <td>NaN</td>\n",
       "      <td>12232324.0</td>\n",
       "      <td>NaN</td>\n",
       "    </tr>\n",
       "    <tr>\n",
       "      <th>58858</th>\n",
       "      <td>Zimbabwe</td>\n",
       "      <td>ZWE</td>\n",
       "      <td>2004</td>\n",
       "      <td>NaN</td>\n",
       "      <td>NaN</td>\n",
       "      <td>12365901.0</td>\n",
       "      <td>NaN</td>\n",
       "    </tr>\n",
       "  </tbody>\n",
       "</table>\n",
       "<p>58859 rows × 7 columns</p>\n",
       "</div>"
      ],
      "text/plain": [
       "            Entity Code   Year  avh  productivity  population_historical  \\\n",
       "0      Afghanistan  AFG -10000  NaN           NaN                14737.0   \n",
       "1      Afghanistan  AFG  -9000  NaN           NaN                20405.0   \n",
       "2      Afghanistan  AFG  -8000  NaN           NaN                28253.0   \n",
       "3      Afghanistan  AFG  -7000  NaN           NaN                39120.0   \n",
       "4      Afghanistan  AFG  -6000  NaN           NaN                54166.0   \n",
       "...            ...  ...    ...  ...           ...                    ...   \n",
       "58854     Zimbabwe  ZWE   2000  NaN           NaN             11892055.0   \n",
       "58855     Zimbabwe  ZWE   2001  NaN           NaN             11971904.0   \n",
       "58856     Zimbabwe  ZWE   2002  NaN           NaN             12087661.0   \n",
       "58857     Zimbabwe  ZWE   2003  NaN           NaN             12232324.0   \n",
       "58858     Zimbabwe  ZWE   2004  NaN           NaN             12365901.0   \n",
       "\n",
       "      owid_region  \n",
       "0             NaN  \n",
       "1             NaN  \n",
       "2             NaN  \n",
       "3             NaN  \n",
       "4             NaN  \n",
       "...           ...  \n",
       "58854         NaN  \n",
       "58855         NaN  \n",
       "58856         NaN  \n",
       "58857         NaN  \n",
       "58858         NaN  \n",
       "\n",
       "[58859 rows x 7 columns]"
      ]
     },
     "execution_count": 21,
     "metadata": {},
     "output_type": "execute_result"
    }
   ],
   "source": [
    "df"
   ]
  },
  {
   "cell_type": "markdown",
   "metadata": {
    "id": "tll6pX_OnA-l"
   },
   "source": [
    "## Check Data Types"
   ]
  },
  {
   "cell_type": "markdown",
   "metadata": {
    "id": "5QQ1tX5PnA-l"
   },
   "source": [
    "Different columns can have different data types. We most commonly have `int64` for whole numbers, `float64` for floating point numbers and `object` for texts, but other data types are possible as well.\n",
    "\n",
    "**Task:** Check the data types of the columns by using `df.dtypes`."
   ]
  },
  {
   "cell_type": "code",
   "execution_count": 22,
   "metadata": {},
   "outputs": [
    {
     "data": {
      "text/plain": [
       "Entity                    object\n",
       "Code                      object\n",
       "Year                       int64\n",
       "avh                      float64\n",
       "productivity             float64\n",
       "population_historical    float64\n",
       "owid_region               object\n",
       "dtype: object"
      ]
     },
     "execution_count": 22,
     "metadata": {},
     "output_type": "execute_result"
    }
   ],
   "source": [
    "df.dtypes"
   ]
  },
  {
   "cell_type": "markdown",
   "metadata": {
    "id": "PKuNkurmnA-l"
   },
   "source": [
    "## Check for Missing Values and Duplicates"
   ]
  },
  {
   "cell_type": "markdown",
   "metadata": {
    "id": "5ZW26RXknA-l"
   },
   "source": [
    "Especially with real-world data, we often have missing or duplicated values, that we should check for before further investigating the data."
   ]
  },
  {
   "cell_type": "markdown",
   "metadata": {
    "id": "AjHBIpEBnA-l"
   },
   "source": [
    "**Tasks:**  \n",
    "1. Check for missing values using first `df.isnull()` and then `df.isnull().sum()`. What do you think the `.sum()` is summing up?"
   ]
  },
  {
   "cell_type": "code",
   "execution_count": 23,
   "metadata": {},
   "outputs": [
    {
     "data": {
      "text/html": [
       "<div>\n",
       "<style scoped>\n",
       "    .dataframe tbody tr th:only-of-type {\n",
       "        vertical-align: middle;\n",
       "    }\n",
       "\n",
       "    .dataframe tbody tr th {\n",
       "        vertical-align: top;\n",
       "    }\n",
       "\n",
       "    .dataframe thead th {\n",
       "        text-align: right;\n",
       "    }\n",
       "</style>\n",
       "<table border=\"1\" class=\"dataframe\">\n",
       "  <thead>\n",
       "    <tr style=\"text-align: right;\">\n",
       "      <th></th>\n",
       "      <th>Entity</th>\n",
       "      <th>Code</th>\n",
       "      <th>Year</th>\n",
       "      <th>avh</th>\n",
       "      <th>productivity</th>\n",
       "      <th>population_historical</th>\n",
       "      <th>owid_region</th>\n",
       "    </tr>\n",
       "  </thead>\n",
       "  <tbody>\n",
       "    <tr>\n",
       "      <th>0</th>\n",
       "      <td>False</td>\n",
       "      <td>False</td>\n",
       "      <td>False</td>\n",
       "      <td>True</td>\n",
       "      <td>True</td>\n",
       "      <td>False</td>\n",
       "      <td>True</td>\n",
       "    </tr>\n",
       "    <tr>\n",
       "      <th>1</th>\n",
       "      <td>False</td>\n",
       "      <td>False</td>\n",
       "      <td>False</td>\n",
       "      <td>True</td>\n",
       "      <td>True</td>\n",
       "      <td>False</td>\n",
       "      <td>True</td>\n",
       "    </tr>\n",
       "    <tr>\n",
       "      <th>2</th>\n",
       "      <td>False</td>\n",
       "      <td>False</td>\n",
       "      <td>False</td>\n",
       "      <td>True</td>\n",
       "      <td>True</td>\n",
       "      <td>False</td>\n",
       "      <td>True</td>\n",
       "    </tr>\n",
       "    <tr>\n",
       "      <th>3</th>\n",
       "      <td>False</td>\n",
       "      <td>False</td>\n",
       "      <td>False</td>\n",
       "      <td>True</td>\n",
       "      <td>True</td>\n",
       "      <td>False</td>\n",
       "      <td>True</td>\n",
       "    </tr>\n",
       "    <tr>\n",
       "      <th>4</th>\n",
       "      <td>False</td>\n",
       "      <td>False</td>\n",
       "      <td>False</td>\n",
       "      <td>True</td>\n",
       "      <td>True</td>\n",
       "      <td>False</td>\n",
       "      <td>True</td>\n",
       "    </tr>\n",
       "    <tr>\n",
       "      <th>...</th>\n",
       "      <td>...</td>\n",
       "      <td>...</td>\n",
       "      <td>...</td>\n",
       "      <td>...</td>\n",
       "      <td>...</td>\n",
       "      <td>...</td>\n",
       "      <td>...</td>\n",
       "    </tr>\n",
       "    <tr>\n",
       "      <th>58854</th>\n",
       "      <td>False</td>\n",
       "      <td>False</td>\n",
       "      <td>False</td>\n",
       "      <td>True</td>\n",
       "      <td>True</td>\n",
       "      <td>False</td>\n",
       "      <td>True</td>\n",
       "    </tr>\n",
       "    <tr>\n",
       "      <th>58855</th>\n",
       "      <td>False</td>\n",
       "      <td>False</td>\n",
       "      <td>False</td>\n",
       "      <td>True</td>\n",
       "      <td>True</td>\n",
       "      <td>False</td>\n",
       "      <td>True</td>\n",
       "    </tr>\n",
       "    <tr>\n",
       "      <th>58856</th>\n",
       "      <td>False</td>\n",
       "      <td>False</td>\n",
       "      <td>False</td>\n",
       "      <td>True</td>\n",
       "      <td>True</td>\n",
       "      <td>False</td>\n",
       "      <td>True</td>\n",
       "    </tr>\n",
       "    <tr>\n",
       "      <th>58857</th>\n",
       "      <td>False</td>\n",
       "      <td>False</td>\n",
       "      <td>False</td>\n",
       "      <td>True</td>\n",
       "      <td>True</td>\n",
       "      <td>False</td>\n",
       "      <td>True</td>\n",
       "    </tr>\n",
       "    <tr>\n",
       "      <th>58858</th>\n",
       "      <td>False</td>\n",
       "      <td>False</td>\n",
       "      <td>False</td>\n",
       "      <td>True</td>\n",
       "      <td>True</td>\n",
       "      <td>False</td>\n",
       "      <td>True</td>\n",
       "    </tr>\n",
       "  </tbody>\n",
       "</table>\n",
       "<p>58859 rows × 7 columns</p>\n",
       "</div>"
      ],
      "text/plain": [
       "       Entity   Code   Year   avh  productivity  population_historical  \\\n",
       "0       False  False  False  True          True                  False   \n",
       "1       False  False  False  True          True                  False   \n",
       "2       False  False  False  True          True                  False   \n",
       "3       False  False  False  True          True                  False   \n",
       "4       False  False  False  True          True                  False   \n",
       "...       ...    ...    ...   ...           ...                    ...   \n",
       "58854   False  False  False  True          True                  False   \n",
       "58855   False  False  False  True          True                  False   \n",
       "58856   False  False  False  True          True                  False   \n",
       "58857   False  False  False  True          True                  False   \n",
       "58858   False  False  False  True          True                  False   \n",
       "\n",
       "       owid_region  \n",
       "0             True  \n",
       "1             True  \n",
       "2             True  \n",
       "3             True  \n",
       "4             True  \n",
       "...            ...  \n",
       "58854         True  \n",
       "58855         True  \n",
       "58856         True  \n",
       "58857         True  \n",
       "58858         True  \n",
       "\n",
       "[58859 rows x 7 columns]"
      ]
     },
     "execution_count": 23,
     "metadata": {},
     "output_type": "execute_result"
    }
   ],
   "source": [
    "df.isnull()"
   ]
  },
  {
   "cell_type": "code",
   "execution_count": 24,
   "metadata": {},
   "outputs": [
    {
     "data": {
      "text/plain": [
       "Entity                       0\n",
       "Code                      3525\n",
       "Year                         0\n",
       "avh                      53894\n",
       "productivity             53894\n",
       "population_historical       35\n",
       "owid_region              58587\n",
       "dtype: int64"
      ]
     },
     "execution_count": 24,
     "metadata": {},
     "output_type": "execute_result"
    }
   ],
   "source": [
    "df.isnull().sum()\n",
    "#  is summing up the header values"
   ]
  },
  {
   "cell_type": "markdown",
   "metadata": {
    "id": "qzeivDDLnA-l"
   },
   "source": [
    "2. Use `df.info()` to display both the data types and the missing value counts at once."
   ]
  },
  {
   "cell_type": "code",
   "execution_count": 25,
   "metadata": {},
   "outputs": [
    {
     "name": "stdout",
     "output_type": "stream",
     "text": [
      "<class 'pandas.core.frame.DataFrame'>\n",
      "RangeIndex: 58859 entries, 0 to 58858\n",
      "Data columns (total 7 columns):\n",
      " #   Column                 Non-Null Count  Dtype  \n",
      "---  ------                 --------------  -----  \n",
      " 0   Entity                 58859 non-null  object \n",
      " 1   Code                   55334 non-null  object \n",
      " 2   Year                   58859 non-null  int64  \n",
      " 3   avh                    4965 non-null   float64\n",
      " 4   productivity           4965 non-null   float64\n",
      " 5   population_historical  58824 non-null  float64\n",
      " 6   owid_region            272 non-null    object \n",
      "dtypes: float64(3), int64(1), object(3)\n",
      "memory usage: 3.1+ MB\n"
     ]
    }
   ],
   "source": [
    "df.info()"
   ]
  },
  {
   "cell_type": "markdown",
   "metadata": {
    "id": "Ph4L4Gb7nA-l"
   },
   "source": [
    "3. Check if there are duplicated rows using `df[df.duplicated(keep=False)]`."
   ]
  },
  {
   "cell_type": "code",
   "execution_count": 26,
   "metadata": {},
   "outputs": [
    {
     "data": {
      "text/html": [
       "<div>\n",
       "<style scoped>\n",
       "    .dataframe tbody tr th:only-of-type {\n",
       "        vertical-align: middle;\n",
       "    }\n",
       "\n",
       "    .dataframe tbody tr th {\n",
       "        vertical-align: top;\n",
       "    }\n",
       "\n",
       "    .dataframe thead th {\n",
       "        text-align: right;\n",
       "    }\n",
       "</style>\n",
       "<table border=\"1\" class=\"dataframe\">\n",
       "  <thead>\n",
       "    <tr style=\"text-align: right;\">\n",
       "      <th></th>\n",
       "      <th>Entity</th>\n",
       "      <th>Code</th>\n",
       "      <th>Year</th>\n",
       "      <th>avh</th>\n",
       "      <th>productivity</th>\n",
       "      <th>population_historical</th>\n",
       "      <th>owid_region</th>\n",
       "    </tr>\n",
       "  </thead>\n",
       "  <tbody>\n",
       "  </tbody>\n",
       "</table>\n",
       "</div>"
      ],
      "text/plain": [
       "Empty DataFrame\n",
       "Columns: [Entity, Code, Year, avh, productivity, population_historical, owid_region]\n",
       "Index: []"
      ]
     },
     "execution_count": 26,
     "metadata": {},
     "output_type": "execute_result"
    }
   ],
   "source": [
    "df[df.duplicated(keep=False)]"
   ]
  },
  {
   "cell_type": "markdown",
   "metadata": {
    "id": "40OJUhgenA-m"
   },
   "source": [
    "4. Check if you have more than one entry per entity using `df[df.duplicated(subset=[\"column1\", \"column2\", ...], keep=False)]`."
   ]
  },
  {
   "cell_type": "code",
   "execution_count": 27,
   "metadata": {},
   "outputs": [
    {
     "data": {
      "text/html": [
       "<div>\n",
       "<style scoped>\n",
       "    .dataframe tbody tr th:only-of-type {\n",
       "        vertical-align: middle;\n",
       "    }\n",
       "\n",
       "    .dataframe tbody tr th {\n",
       "        vertical-align: top;\n",
       "    }\n",
       "\n",
       "    .dataframe thead th {\n",
       "        text-align: right;\n",
       "    }\n",
       "</style>\n",
       "<table border=\"1\" class=\"dataframe\">\n",
       "  <thead>\n",
       "    <tr style=\"text-align: right;\">\n",
       "      <th></th>\n",
       "      <th>Entity</th>\n",
       "      <th>Code</th>\n",
       "      <th>Year</th>\n",
       "      <th>avh</th>\n",
       "      <th>productivity</th>\n",
       "      <th>population_historical</th>\n",
       "      <th>owid_region</th>\n",
       "    </tr>\n",
       "  </thead>\n",
       "  <tbody>\n",
       "  </tbody>\n",
       "</table>\n",
       "</div>"
      ],
      "text/plain": [
       "Empty DataFrame\n",
       "Columns: [Entity, Code, Year, avh, productivity, population_historical, owid_region]\n",
       "Index: []"
      ]
     },
     "execution_count": 27,
     "metadata": {},
     "output_type": "execute_result"
    }
   ],
   "source": [
    "df[df.duplicated(subset=[\"Entity\",\"Code\",\"Year\",\"avh\",\"productivity\",\"population_historical\",\"owid_region\"], keep=False)]"
   ]
  },
  {
   "cell_type": "markdown",
   "metadata": {
    "id": "foz4x6KLnA-m"
   },
   "source": [
    "5. Check if you have more than one entry per entity per year."
   ]
  },
  {
   "cell_type": "code",
   "execution_count": 28,
   "metadata": {},
   "outputs": [
    {
     "data": {
      "text/html": [
       "<div>\n",
       "<style scoped>\n",
       "    .dataframe tbody tr th:only-of-type {\n",
       "        vertical-align: middle;\n",
       "    }\n",
       "\n",
       "    .dataframe tbody tr th {\n",
       "        vertical-align: top;\n",
       "    }\n",
       "\n",
       "    .dataframe thead th {\n",
       "        text-align: right;\n",
       "    }\n",
       "</style>\n",
       "<table border=\"1\" class=\"dataframe\">\n",
       "  <thead>\n",
       "    <tr style=\"text-align: right;\">\n",
       "      <th></th>\n",
       "      <th>Entity</th>\n",
       "      <th>Code</th>\n",
       "      <th>Year</th>\n",
       "      <th>avh</th>\n",
       "      <th>productivity</th>\n",
       "      <th>population_historical</th>\n",
       "      <th>owid_region</th>\n",
       "    </tr>\n",
       "  </thead>\n",
       "  <tbody>\n",
       "    <tr>\n",
       "      <th>0</th>\n",
       "      <td>Afghanistan</td>\n",
       "      <td>AFG</td>\n",
       "      <td>-10000</td>\n",
       "      <td>NaN</td>\n",
       "      <td>NaN</td>\n",
       "      <td>14737.0</td>\n",
       "      <td>NaN</td>\n",
       "    </tr>\n",
       "    <tr>\n",
       "      <th>1</th>\n",
       "      <td>Afghanistan</td>\n",
       "      <td>AFG</td>\n",
       "      <td>-9000</td>\n",
       "      <td>NaN</td>\n",
       "      <td>NaN</td>\n",
       "      <td>20405.0</td>\n",
       "      <td>NaN</td>\n",
       "    </tr>\n",
       "    <tr>\n",
       "      <th>2</th>\n",
       "      <td>Afghanistan</td>\n",
       "      <td>AFG</td>\n",
       "      <td>-8000</td>\n",
       "      <td>NaN</td>\n",
       "      <td>NaN</td>\n",
       "      <td>28253.0</td>\n",
       "      <td>NaN</td>\n",
       "    </tr>\n",
       "    <tr>\n",
       "      <th>3</th>\n",
       "      <td>Afghanistan</td>\n",
       "      <td>AFG</td>\n",
       "      <td>-7000</td>\n",
       "      <td>NaN</td>\n",
       "      <td>NaN</td>\n",
       "      <td>39120.0</td>\n",
       "      <td>NaN</td>\n",
       "    </tr>\n",
       "    <tr>\n",
       "      <th>4</th>\n",
       "      <td>Afghanistan</td>\n",
       "      <td>AFG</td>\n",
       "      <td>-6000</td>\n",
       "      <td>NaN</td>\n",
       "      <td>NaN</td>\n",
       "      <td>54166.0</td>\n",
       "      <td>NaN</td>\n",
       "    </tr>\n",
       "    <tr>\n",
       "      <th>...</th>\n",
       "      <td>...</td>\n",
       "      <td>...</td>\n",
       "      <td>...</td>\n",
       "      <td>...</td>\n",
       "      <td>...</td>\n",
       "      <td>...</td>\n",
       "      <td>...</td>\n",
       "    </tr>\n",
       "    <tr>\n",
       "      <th>58854</th>\n",
       "      <td>Zimbabwe</td>\n",
       "      <td>ZWE</td>\n",
       "      <td>2000</td>\n",
       "      <td>NaN</td>\n",
       "      <td>NaN</td>\n",
       "      <td>11892055.0</td>\n",
       "      <td>NaN</td>\n",
       "    </tr>\n",
       "    <tr>\n",
       "      <th>58855</th>\n",
       "      <td>Zimbabwe</td>\n",
       "      <td>ZWE</td>\n",
       "      <td>2001</td>\n",
       "      <td>NaN</td>\n",
       "      <td>NaN</td>\n",
       "      <td>11971904.0</td>\n",
       "      <td>NaN</td>\n",
       "    </tr>\n",
       "    <tr>\n",
       "      <th>58856</th>\n",
       "      <td>Zimbabwe</td>\n",
       "      <td>ZWE</td>\n",
       "      <td>2002</td>\n",
       "      <td>NaN</td>\n",
       "      <td>NaN</td>\n",
       "      <td>12087661.0</td>\n",
       "      <td>NaN</td>\n",
       "    </tr>\n",
       "    <tr>\n",
       "      <th>58857</th>\n",
       "      <td>Zimbabwe</td>\n",
       "      <td>ZWE</td>\n",
       "      <td>2003</td>\n",
       "      <td>NaN</td>\n",
       "      <td>NaN</td>\n",
       "      <td>12232324.0</td>\n",
       "      <td>NaN</td>\n",
       "    </tr>\n",
       "    <tr>\n",
       "      <th>58858</th>\n",
       "      <td>Zimbabwe</td>\n",
       "      <td>ZWE</td>\n",
       "      <td>2004</td>\n",
       "      <td>NaN</td>\n",
       "      <td>NaN</td>\n",
       "      <td>12365901.0</td>\n",
       "      <td>NaN</td>\n",
       "    </tr>\n",
       "  </tbody>\n",
       "</table>\n",
       "<p>58855 rows × 7 columns</p>\n",
       "</div>"
      ],
      "text/plain": [
       "            Entity Code   Year  avh  productivity  population_historical  \\\n",
       "0      Afghanistan  AFG -10000  NaN           NaN                14737.0   \n",
       "1      Afghanistan  AFG  -9000  NaN           NaN                20405.0   \n",
       "2      Afghanistan  AFG  -8000  NaN           NaN                28253.0   \n",
       "3      Afghanistan  AFG  -7000  NaN           NaN                39120.0   \n",
       "4      Afghanistan  AFG  -6000  NaN           NaN                54166.0   \n",
       "...            ...  ...    ...  ...           ...                    ...   \n",
       "58854     Zimbabwe  ZWE   2000  NaN           NaN             11892055.0   \n",
       "58855     Zimbabwe  ZWE   2001  NaN           NaN             11971904.0   \n",
       "58856     Zimbabwe  ZWE   2002  NaN           NaN             12087661.0   \n",
       "58857     Zimbabwe  ZWE   2003  NaN           NaN             12232324.0   \n",
       "58858     Zimbabwe  ZWE   2004  NaN           NaN             12365901.0   \n",
       "\n",
       "      owid_region  \n",
       "0             NaN  \n",
       "1             NaN  \n",
       "2             NaN  \n",
       "3             NaN  \n",
       "4             NaN  \n",
       "...           ...  \n",
       "58854         NaN  \n",
       "58855         NaN  \n",
       "58856         NaN  \n",
       "58857         NaN  \n",
       "58858         NaN  \n",
       "\n",
       "[58855 rows x 7 columns]"
      ]
     },
     "execution_count": 28,
     "metadata": {},
     "output_type": "execute_result"
    }
   ],
   "source": [
    "df[df.duplicated(subset=[\"Year\"],keep=False)]"
   ]
  },
  {
   "cell_type": "markdown",
   "metadata": {
    "id": "stQ4i_H_nA-m"
   },
   "source": [
    "## Filtering"
   ]
  },
  {
   "cell_type": "markdown",
   "metadata": {
    "id": "6DgL2sJPnA-m"
   },
   "source": [
    "Often times we want to filter a DataFrame to only display rows and columns with specific values. This is done by using masks consisting of `True` and `False` for each entry in the DataFrame, as e.g. produced by `df.isnull()`, `df.duplicated()` or by using comparison operators `<`, `<=`, `==`, `>=`, `>`."
   ]
  },
  {
   "cell_type": "markdown",
   "metadata": {
    "id": "W3n_5kcMnA-m"
   },
   "source": [
    "**Tasks:**  \n",
    "1. There are some records in `Population (historical)` column missing. Use `df[df['column'].isnull()]` to display only rows with missing values in that column. Check which years these missing values are from.  "
   ]
  },
  {
   "cell_type": "code",
   "execution_count": 29,
   "metadata": {},
   "outputs": [
    {
     "data": {
      "text/html": [
       "<div>\n",
       "<style scoped>\n",
       "    .dataframe tbody tr th:only-of-type {\n",
       "        vertical-align: middle;\n",
       "    }\n",
       "\n",
       "    .dataframe tbody tr th {\n",
       "        vertical-align: top;\n",
       "    }\n",
       "\n",
       "    .dataframe thead th {\n",
       "        text-align: right;\n",
       "    }\n",
       "</style>\n",
       "<table border=\"1\" class=\"dataframe\">\n",
       "  <thead>\n",
       "    <tr style=\"text-align: right;\">\n",
       "      <th></th>\n",
       "      <th>Entity</th>\n",
       "      <th>Code</th>\n",
       "      <th>Year</th>\n",
       "      <th>avh</th>\n",
       "      <th>productivity</th>\n",
       "      <th>population_historical</th>\n",
       "      <th>owid_region</th>\n",
       "    </tr>\n",
       "  </thead>\n",
       "  <tbody>\n",
       "    <tr>\n",
       "      <th>599</th>\n",
       "      <td>Aland Islands</td>\n",
       "      <td>ALA</td>\n",
       "      <td>2023</td>\n",
       "      <td>NaN</td>\n",
       "      <td>NaN</td>\n",
       "      <td>NaN</td>\n",
       "      <td>Europe</td>\n",
       "    </tr>\n",
       "    <tr>\n",
       "      <th>3705</th>\n",
       "      <td>Austria-Hungary</td>\n",
       "      <td>OWID_AUH</td>\n",
       "      <td>2023</td>\n",
       "      <td>NaN</td>\n",
       "      <td>NaN</td>\n",
       "      <td>NaN</td>\n",
       "      <td>Europe</td>\n",
       "    </tr>\n",
       "    <tr>\n",
       "      <th>7515</th>\n",
       "      <td>British Indian Ocean Territory</td>\n",
       "      <td>IOT</td>\n",
       "      <td>2023</td>\n",
       "      <td>NaN</td>\n",
       "      <td>NaN</td>\n",
       "      <td>NaN</td>\n",
       "      <td>Asia</td>\n",
       "    </tr>\n",
       "    <tr>\n",
       "      <th>10785</th>\n",
       "      <td>Christmas Island</td>\n",
       "      <td>CXR</td>\n",
       "      <td>2023</td>\n",
       "      <td>NaN</td>\n",
       "      <td>NaN</td>\n",
       "      <td>NaN</td>\n",
       "      <td>Asia</td>\n",
       "    </tr>\n",
       "    <tr>\n",
       "      <th>10786</th>\n",
       "      <td>Cocos Islands</td>\n",
       "      <td>CCK</td>\n",
       "      <td>2023</td>\n",
       "      <td>NaN</td>\n",
       "      <td>NaN</td>\n",
       "      <td>NaN</td>\n",
       "      <td>Asia</td>\n",
       "    </tr>\n",
       "    <tr>\n",
       "      <th>13362</th>\n",
       "      <td>Czechoslovakia</td>\n",
       "      <td>OWID_CZS</td>\n",
       "      <td>2023</td>\n",
       "      <td>NaN</td>\n",
       "      <td>NaN</td>\n",
       "      <td>NaN</td>\n",
       "      <td>Europe</td>\n",
       "    </tr>\n",
       "    <tr>\n",
       "      <th>13624</th>\n",
       "      <td>Democratic Republic of Vietnam</td>\n",
       "      <td>NaN</td>\n",
       "      <td>2023</td>\n",
       "      <td>NaN</td>\n",
       "      <td>NaN</td>\n",
       "      <td>NaN</td>\n",
       "      <td>Asia</td>\n",
       "    </tr>\n",
       "    <tr>\n",
       "      <th>14664</th>\n",
       "      <td>Duchy of Modena and Reggio</td>\n",
       "      <td>NaN</td>\n",
       "      <td>2023</td>\n",
       "      <td>NaN</td>\n",
       "      <td>NaN</td>\n",
       "      <td>NaN</td>\n",
       "      <td>Europe</td>\n",
       "    </tr>\n",
       "    <tr>\n",
       "      <th>14665</th>\n",
       "      <td>Duchy of Parma and Piacenza</td>\n",
       "      <td>NaN</td>\n",
       "      <td>2023</td>\n",
       "      <td>NaN</td>\n",
       "      <td>NaN</td>\n",
       "      <td>NaN</td>\n",
       "      <td>Europe</td>\n",
       "    </tr>\n",
       "    <tr>\n",
       "      <th>14674</th>\n",
       "      <td>East Germany</td>\n",
       "      <td>OWID_GDR</td>\n",
       "      <td>2023</td>\n",
       "      <td>NaN</td>\n",
       "      <td>NaN</td>\n",
       "      <td>NaN</td>\n",
       "      <td>Europe</td>\n",
       "    </tr>\n",
       "    <tr>\n",
       "      <th>17072</th>\n",
       "      <td>Ethiopia (former)</td>\n",
       "      <td>OWID_ERE</td>\n",
       "      <td>2023</td>\n",
       "      <td>NaN</td>\n",
       "      <td>NaN</td>\n",
       "      <td>NaN</td>\n",
       "      <td>Africa</td>\n",
       "    </tr>\n",
       "    <tr>\n",
       "      <th>17896</th>\n",
       "      <td>Federal Republic of Central America</td>\n",
       "      <td>NaN</td>\n",
       "      <td>2023</td>\n",
       "      <td>NaN</td>\n",
       "      <td>NaN</td>\n",
       "      <td>NaN</td>\n",
       "      <td>North America</td>\n",
       "    </tr>\n",
       "    <tr>\n",
       "      <th>20259</th>\n",
       "      <td>Grand Duchy of Baden</td>\n",
       "      <td>NaN</td>\n",
       "      <td>2023</td>\n",
       "      <td>NaN</td>\n",
       "      <td>NaN</td>\n",
       "      <td>NaN</td>\n",
       "      <td>Europe</td>\n",
       "    </tr>\n",
       "    <tr>\n",
       "      <th>20260</th>\n",
       "      <td>Grand Duchy of Tuscany</td>\n",
       "      <td>NaN</td>\n",
       "      <td>2023</td>\n",
       "      <td>NaN</td>\n",
       "      <td>NaN</td>\n",
       "      <td>NaN</td>\n",
       "      <td>Europe</td>\n",
       "    </tr>\n",
       "    <tr>\n",
       "      <th>20261</th>\n",
       "      <td>Great Colombia</td>\n",
       "      <td>NaN</td>\n",
       "      <td>2023</td>\n",
       "      <td>NaN</td>\n",
       "      <td>NaN</td>\n",
       "      <td>NaN</td>\n",
       "      <td>South America</td>\n",
       "    </tr>\n",
       "    <tr>\n",
       "      <th>26994</th>\n",
       "      <td>Kingdom of Bavaria</td>\n",
       "      <td>NaN</td>\n",
       "      <td>2023</td>\n",
       "      <td>NaN</td>\n",
       "      <td>NaN</td>\n",
       "      <td>NaN</td>\n",
       "      <td>Europe</td>\n",
       "    </tr>\n",
       "    <tr>\n",
       "      <th>26995</th>\n",
       "      <td>Kingdom of Sardinia</td>\n",
       "      <td>NaN</td>\n",
       "      <td>2023</td>\n",
       "      <td>NaN</td>\n",
       "      <td>NaN</td>\n",
       "      <td>NaN</td>\n",
       "      <td>Europe</td>\n",
       "    </tr>\n",
       "    <tr>\n",
       "      <th>26996</th>\n",
       "      <td>Kingdom of Saxony</td>\n",
       "      <td>NaN</td>\n",
       "      <td>2023</td>\n",
       "      <td>NaN</td>\n",
       "      <td>NaN</td>\n",
       "      <td>NaN</td>\n",
       "      <td>Europe</td>\n",
       "    </tr>\n",
       "    <tr>\n",
       "      <th>26997</th>\n",
       "      <td>Kingdom of Wurttemberg</td>\n",
       "      <td>NaN</td>\n",
       "      <td>2023</td>\n",
       "      <td>NaN</td>\n",
       "      <td>NaN</td>\n",
       "      <td>NaN</td>\n",
       "      <td>Europe</td>\n",
       "    </tr>\n",
       "    <tr>\n",
       "      <th>26998</th>\n",
       "      <td>Kingdom of the Two Sicilies</td>\n",
       "      <td>NaN</td>\n",
       "      <td>2023</td>\n",
       "      <td>NaN</td>\n",
       "      <td>NaN</td>\n",
       "      <td>NaN</td>\n",
       "      <td>Europe</td>\n",
       "    </tr>\n",
       "    <tr>\n",
       "      <th>27223</th>\n",
       "      <td>Korea (former)</td>\n",
       "      <td>OWID_KRU</td>\n",
       "      <td>2023</td>\n",
       "      <td>NaN</td>\n",
       "      <td>NaN</td>\n",
       "      <td>NaN</td>\n",
       "      <td>Asia</td>\n",
       "    </tr>\n",
       "    <tr>\n",
       "      <th>36768</th>\n",
       "      <td>Netherlands Antilles</td>\n",
       "      <td>ANT</td>\n",
       "      <td>2023</td>\n",
       "      <td>NaN</td>\n",
       "      <td>NaN</td>\n",
       "      <td>NaN</td>\n",
       "      <td>North America</td>\n",
       "    </tr>\n",
       "    <tr>\n",
       "      <th>37991</th>\n",
       "      <td>Norfolk Island</td>\n",
       "      <td>NFK</td>\n",
       "      <td>2023</td>\n",
       "      <td>NaN</td>\n",
       "      <td>NaN</td>\n",
       "      <td>NaN</td>\n",
       "      <td>Oceania</td>\n",
       "    </tr>\n",
       "    <tr>\n",
       "      <th>39782</th>\n",
       "      <td>Orange Free State</td>\n",
       "      <td>NaN</td>\n",
       "      <td>2023</td>\n",
       "      <td>NaN</td>\n",
       "      <td>NaN</td>\n",
       "      <td>NaN</td>\n",
       "      <td>Africa</td>\n",
       "    </tr>\n",
       "    <tr>\n",
       "      <th>40044</th>\n",
       "      <td>Pakistan (former)</td>\n",
       "      <td>NaN</td>\n",
       "      <td>2023</td>\n",
       "      <td>NaN</td>\n",
       "      <td>NaN</td>\n",
       "      <td>NaN</td>\n",
       "      <td>Asia</td>\n",
       "    </tr>\n",
       "    <tr>\n",
       "      <th>41798</th>\n",
       "      <td>Pitcairn</td>\n",
       "      <td>PCN</td>\n",
       "      <td>2023</td>\n",
       "      <td>NaN</td>\n",
       "      <td>NaN</td>\n",
       "      <td>NaN</td>\n",
       "      <td>Oceania</td>\n",
       "    </tr>\n",
       "    <tr>\n",
       "      <th>42701</th>\n",
       "      <td>Republic of Vietnam</td>\n",
       "      <td>OWID_RVN</td>\n",
       "      <td>2023</td>\n",
       "      <td>NaN</td>\n",
       "      <td>NaN</td>\n",
       "      <td>NaN</td>\n",
       "      <td>Asia</td>\n",
       "    </tr>\n",
       "    <tr>\n",
       "      <th>46282</th>\n",
       "      <td>Serbia and Montenegro</td>\n",
       "      <td>OWID_SRM</td>\n",
       "      <td>2023</td>\n",
       "      <td>NaN</td>\n",
       "      <td>NaN</td>\n",
       "      <td>NaN</td>\n",
       "      <td>Europe</td>\n",
       "    </tr>\n",
       "    <tr>\n",
       "      <th>48654</th>\n",
       "      <td>South Georgia and the South Sandwich Islands</td>\n",
       "      <td>SGS</td>\n",
       "      <td>2023</td>\n",
       "      <td>NaN</td>\n",
       "      <td>NaN</td>\n",
       "      <td>NaN</td>\n",
       "      <td>South America</td>\n",
       "    </tr>\n",
       "    <tr>\n",
       "      <th>49925</th>\n",
       "      <td>Sudan (former)</td>\n",
       "      <td>NaN</td>\n",
       "      <td>2023</td>\n",
       "      <td>NaN</td>\n",
       "      <td>NaN</td>\n",
       "      <td>NaN</td>\n",
       "      <td>Africa</td>\n",
       "    </tr>\n",
       "    <tr>\n",
       "      <th>54292</th>\n",
       "      <td>USSR</td>\n",
       "      <td>OWID_USS</td>\n",
       "      <td>2023</td>\n",
       "      <td>NaN</td>\n",
       "      <td>NaN</td>\n",
       "      <td>NaN</td>\n",
       "      <td>Europe</td>\n",
       "    </tr>\n",
       "    <tr>\n",
       "      <th>57573</th>\n",
       "      <td>West Germany</td>\n",
       "      <td>OWID_GFR</td>\n",
       "      <td>2023</td>\n",
       "      <td>NaN</td>\n",
       "      <td>NaN</td>\n",
       "      <td>NaN</td>\n",
       "      <td>Europe</td>\n",
       "    </tr>\n",
       "    <tr>\n",
       "      <th>58234</th>\n",
       "      <td>Yemen Arab Republic</td>\n",
       "      <td>OWID_YAR</td>\n",
       "      <td>2023</td>\n",
       "      <td>NaN</td>\n",
       "      <td>NaN</td>\n",
       "      <td>NaN</td>\n",
       "      <td>Asia</td>\n",
       "    </tr>\n",
       "    <tr>\n",
       "      <th>58258</th>\n",
       "      <td>Yemen People's Republic</td>\n",
       "      <td>OWID_YPR</td>\n",
       "      <td>2023</td>\n",
       "      <td>NaN</td>\n",
       "      <td>NaN</td>\n",
       "      <td>NaN</td>\n",
       "      <td>Asia</td>\n",
       "    </tr>\n",
       "    <tr>\n",
       "      <th>58336</th>\n",
       "      <td>Yugoslavia</td>\n",
       "      <td>OWID_YGS</td>\n",
       "      <td>2023</td>\n",
       "      <td>NaN</td>\n",
       "      <td>NaN</td>\n",
       "      <td>NaN</td>\n",
       "      <td>Europe</td>\n",
       "    </tr>\n",
       "  </tbody>\n",
       "</table>\n",
       "</div>"
      ],
      "text/plain": [
       "                                             Entity      Code  Year  avh  \\\n",
       "599                                   Aland Islands       ALA  2023  NaN   \n",
       "3705                                Austria-Hungary  OWID_AUH  2023  NaN   \n",
       "7515                 British Indian Ocean Territory       IOT  2023  NaN   \n",
       "10785                              Christmas Island       CXR  2023  NaN   \n",
       "10786                                 Cocos Islands       CCK  2023  NaN   \n",
       "13362                                Czechoslovakia  OWID_CZS  2023  NaN   \n",
       "13624                Democratic Republic of Vietnam       NaN  2023  NaN   \n",
       "14664                    Duchy of Modena and Reggio       NaN  2023  NaN   \n",
       "14665                   Duchy of Parma and Piacenza       NaN  2023  NaN   \n",
       "14674                                  East Germany  OWID_GDR  2023  NaN   \n",
       "17072                             Ethiopia (former)  OWID_ERE  2023  NaN   \n",
       "17896           Federal Republic of Central America       NaN  2023  NaN   \n",
       "20259                          Grand Duchy of Baden       NaN  2023  NaN   \n",
       "20260                        Grand Duchy of Tuscany       NaN  2023  NaN   \n",
       "20261                                Great Colombia       NaN  2023  NaN   \n",
       "26994                            Kingdom of Bavaria       NaN  2023  NaN   \n",
       "26995                           Kingdom of Sardinia       NaN  2023  NaN   \n",
       "26996                             Kingdom of Saxony       NaN  2023  NaN   \n",
       "26997                        Kingdom of Wurttemberg       NaN  2023  NaN   \n",
       "26998                   Kingdom of the Two Sicilies       NaN  2023  NaN   \n",
       "27223                                Korea (former)  OWID_KRU  2023  NaN   \n",
       "36768                          Netherlands Antilles       ANT  2023  NaN   \n",
       "37991                                Norfolk Island       NFK  2023  NaN   \n",
       "39782                             Orange Free State       NaN  2023  NaN   \n",
       "40044                             Pakistan (former)       NaN  2023  NaN   \n",
       "41798                                      Pitcairn       PCN  2023  NaN   \n",
       "42701                           Republic of Vietnam  OWID_RVN  2023  NaN   \n",
       "46282                         Serbia and Montenegro  OWID_SRM  2023  NaN   \n",
       "48654  South Georgia and the South Sandwich Islands       SGS  2023  NaN   \n",
       "49925                                Sudan (former)       NaN  2023  NaN   \n",
       "54292                                          USSR  OWID_USS  2023  NaN   \n",
       "57573                                  West Germany  OWID_GFR  2023  NaN   \n",
       "58234                           Yemen Arab Republic  OWID_YAR  2023  NaN   \n",
       "58258                       Yemen People's Republic  OWID_YPR  2023  NaN   \n",
       "58336                                    Yugoslavia  OWID_YGS  2023  NaN   \n",
       "\n",
       "       productivity  population_historical    owid_region  \n",
       "599             NaN                    NaN         Europe  \n",
       "3705            NaN                    NaN         Europe  \n",
       "7515            NaN                    NaN           Asia  \n",
       "10785           NaN                    NaN           Asia  \n",
       "10786           NaN                    NaN           Asia  \n",
       "13362           NaN                    NaN         Europe  \n",
       "13624           NaN                    NaN           Asia  \n",
       "14664           NaN                    NaN         Europe  \n",
       "14665           NaN                    NaN         Europe  \n",
       "14674           NaN                    NaN         Europe  \n",
       "17072           NaN                    NaN         Africa  \n",
       "17896           NaN                    NaN  North America  \n",
       "20259           NaN                    NaN         Europe  \n",
       "20260           NaN                    NaN         Europe  \n",
       "20261           NaN                    NaN  South America  \n",
       "26994           NaN                    NaN         Europe  \n",
       "26995           NaN                    NaN         Europe  \n",
       "26996           NaN                    NaN         Europe  \n",
       "26997           NaN                    NaN         Europe  \n",
       "26998           NaN                    NaN         Europe  \n",
       "27223           NaN                    NaN           Asia  \n",
       "36768           NaN                    NaN  North America  \n",
       "37991           NaN                    NaN        Oceania  \n",
       "39782           NaN                    NaN         Africa  \n",
       "40044           NaN                    NaN           Asia  \n",
       "41798           NaN                    NaN        Oceania  \n",
       "42701           NaN                    NaN           Asia  \n",
       "46282           NaN                    NaN         Europe  \n",
       "48654           NaN                    NaN  South America  \n",
       "49925           NaN                    NaN         Africa  \n",
       "54292           NaN                    NaN         Europe  \n",
       "57573           NaN                    NaN         Europe  \n",
       "58234           NaN                    NaN           Asia  \n",
       "58258           NaN                    NaN           Asia  \n",
       "58336           NaN                    NaN         Europe  "
      ]
     },
     "execution_count": 29,
     "metadata": {},
     "output_type": "execute_result"
    }
   ],
   "source": [
    "df[df['population_historical'].isnull()]"
   ]
  },
  {
   "cell_type": "markdown",
   "metadata": {
    "id": "k3G3-d_6nA-m"
   },
   "source": [
    "2. Use `df[df['column']==value]` to only display rows where the entity has the value 'Germany'."
   ]
  },
  {
   "cell_type": "code",
   "execution_count": 30,
   "metadata": {},
   "outputs": [
    {
     "data": {
      "text/html": [
       "<div>\n",
       "<style scoped>\n",
       "    .dataframe tbody tr th:only-of-type {\n",
       "        vertical-align: middle;\n",
       "    }\n",
       "\n",
       "    .dataframe tbody tr th {\n",
       "        vertical-align: top;\n",
       "    }\n",
       "\n",
       "    .dataframe thead th {\n",
       "        text-align: right;\n",
       "    }\n",
       "</style>\n",
       "<table border=\"1\" class=\"dataframe\">\n",
       "  <thead>\n",
       "    <tr style=\"text-align: right;\">\n",
       "      <th></th>\n",
       "      <th>Entity</th>\n",
       "      <th>Code</th>\n",
       "      <th>Year</th>\n",
       "      <th>avh</th>\n",
       "      <th>productivity</th>\n",
       "      <th>population_historical</th>\n",
       "      <th>owid_region</th>\n",
       "    </tr>\n",
       "  </thead>\n",
       "  <tbody>\n",
       "    <tr>\n",
       "      <th>19661</th>\n",
       "      <td>Germany</td>\n",
       "      <td>DEU</td>\n",
       "      <td>1950</td>\n",
       "      <td>2427.40</td>\n",
       "      <td>5.398649</td>\n",
       "      <td>69847778.0</td>\n",
       "      <td>NaN</td>\n",
       "    </tr>\n",
       "    <tr>\n",
       "      <th>19662</th>\n",
       "      <td>Germany</td>\n",
       "      <td>DEU</td>\n",
       "      <td>1951</td>\n",
       "      <td>2401.56</td>\n",
       "      <td>5.926178</td>\n",
       "      <td>69782050.0</td>\n",
       "      <td>NaN</td>\n",
       "    </tr>\n",
       "    <tr>\n",
       "      <th>19663</th>\n",
       "      <td>Germany</td>\n",
       "      <td>DEU</td>\n",
       "      <td>1952</td>\n",
       "      <td>2376.01</td>\n",
       "      <td>6.420325</td>\n",
       "      <td>69826948.0</td>\n",
       "      <td>NaN</td>\n",
       "    </tr>\n",
       "    <tr>\n",
       "      <th>19664</th>\n",
       "      <td>Germany</td>\n",
       "      <td>DEU</td>\n",
       "      <td>1953</td>\n",
       "      <td>2350.72</td>\n",
       "      <td>6.878012</td>\n",
       "      <td>69935116.0</td>\n",
       "      <td>NaN</td>\n",
       "    </tr>\n",
       "    <tr>\n",
       "      <th>19665</th>\n",
       "      <td>Germany</td>\n",
       "      <td>DEU</td>\n",
       "      <td>1954</td>\n",
       "      <td>2325.70</td>\n",
       "      <td>7.326603</td>\n",
       "      <td>70104621.0</td>\n",
       "      <td>NaN</td>\n",
       "    </tr>\n",
       "    <tr>\n",
       "      <th>...</th>\n",
       "      <td>...</td>\n",
       "      <td>...</td>\n",
       "      <td>...</td>\n",
       "      <td>...</td>\n",
       "      <td>...</td>\n",
       "      <td>...</td>\n",
       "      <td>...</td>\n",
       "    </tr>\n",
       "    <tr>\n",
       "      <th>19917</th>\n",
       "      <td>Germany</td>\n",
       "      <td>DEU</td>\n",
       "      <td>1945</td>\n",
       "      <td>NaN</td>\n",
       "      <td>NaN</td>\n",
       "      <td>71376625.0</td>\n",
       "      <td>NaN</td>\n",
       "    </tr>\n",
       "    <tr>\n",
       "      <th>19918</th>\n",
       "      <td>Germany</td>\n",
       "      <td>DEU</td>\n",
       "      <td>1946</td>\n",
       "      <td>NaN</td>\n",
       "      <td>NaN</td>\n",
       "      <td>71225935.0</td>\n",
       "      <td>NaN</td>\n",
       "    </tr>\n",
       "    <tr>\n",
       "      <th>19919</th>\n",
       "      <td>Germany</td>\n",
       "      <td>DEU</td>\n",
       "      <td>1947</td>\n",
       "      <td>NaN</td>\n",
       "      <td>NaN</td>\n",
       "      <td>71075562.0</td>\n",
       "      <td>NaN</td>\n",
       "    </tr>\n",
       "    <tr>\n",
       "      <th>19920</th>\n",
       "      <td>Germany</td>\n",
       "      <td>DEU</td>\n",
       "      <td>1948</td>\n",
       "      <td>NaN</td>\n",
       "      <td>NaN</td>\n",
       "      <td>70925507.0</td>\n",
       "      <td>NaN</td>\n",
       "    </tr>\n",
       "    <tr>\n",
       "      <th>19921</th>\n",
       "      <td>Germany</td>\n",
       "      <td>DEU</td>\n",
       "      <td>1949</td>\n",
       "      <td>NaN</td>\n",
       "      <td>NaN</td>\n",
       "      <td>70888212.0</td>\n",
       "      <td>NaN</td>\n",
       "    </tr>\n",
       "  </tbody>\n",
       "</table>\n",
       "<p>261 rows × 7 columns</p>\n",
       "</div>"
      ],
      "text/plain": [
       "        Entity Code  Year      avh  productivity  population_historical  \\\n",
       "19661  Germany  DEU  1950  2427.40      5.398649             69847778.0   \n",
       "19662  Germany  DEU  1951  2401.56      5.926178             69782050.0   \n",
       "19663  Germany  DEU  1952  2376.01      6.420325             69826948.0   \n",
       "19664  Germany  DEU  1953  2350.72      6.878012             69935116.0   \n",
       "19665  Germany  DEU  1954  2325.70      7.326603             70104621.0   \n",
       "...        ...  ...   ...      ...           ...                    ...   \n",
       "19917  Germany  DEU  1945      NaN           NaN             71376625.0   \n",
       "19918  Germany  DEU  1946      NaN           NaN             71225935.0   \n",
       "19919  Germany  DEU  1947      NaN           NaN             71075562.0   \n",
       "19920  Germany  DEU  1948      NaN           NaN             70925507.0   \n",
       "19921  Germany  DEU  1949      NaN           NaN             70888212.0   \n",
       "\n",
       "      owid_region  \n",
       "19661         NaN  \n",
       "19662         NaN  \n",
       "19663         NaN  \n",
       "19664         NaN  \n",
       "19665         NaN  \n",
       "...           ...  \n",
       "19917         NaN  \n",
       "19918         NaN  \n",
       "19919         NaN  \n",
       "19920         NaN  \n",
       "19921         NaN  \n",
       "\n",
       "[261 rows x 7 columns]"
      ]
     },
     "execution_count": 30,
     "metadata": {},
     "output_type": "execute_result"
    }
   ],
   "source": [
    "df[df['Entity']==\"Germany\"]"
   ]
  },
  {
   "cell_type": "markdown",
   "metadata": {
    "id": "SLjjCtkrnA-m"
   },
   "source": [
    "3. Use `df[(condition1)&(condition2)]` to apply two conditions that are linked with an 'and' (`&`) to  display rows where the entity is `Germany` and the productivity was higher than `50`."
   ]
  },
  {
   "cell_type": "code",
   "execution_count": 31,
   "metadata": {},
   "outputs": [
    {
     "data": {
      "text/html": [
       "<div>\n",
       "<style scoped>\n",
       "    .dataframe tbody tr th:only-of-type {\n",
       "        vertical-align: middle;\n",
       "    }\n",
       "\n",
       "    .dataframe tbody tr th {\n",
       "        vertical-align: top;\n",
       "    }\n",
       "\n",
       "    .dataframe thead th {\n",
       "        text-align: right;\n",
       "    }\n",
       "</style>\n",
       "<table border=\"1\" class=\"dataframe\">\n",
       "  <thead>\n",
       "    <tr style=\"text-align: right;\">\n",
       "      <th></th>\n",
       "      <th>Entity</th>\n",
       "      <th>Code</th>\n",
       "      <th>Year</th>\n",
       "      <th>avh</th>\n",
       "      <th>productivity</th>\n",
       "      <th>population_historical</th>\n",
       "      <th>owid_region</th>\n",
       "    </tr>\n",
       "  </thead>\n",
       "  <tbody>\n",
       "    <tr>\n",
       "      <th>19706</th>\n",
       "      <td>Germany</td>\n",
       "      <td>DEU</td>\n",
       "      <td>1995</td>\n",
       "      <td>1528.90</td>\n",
       "      <td>50.687958</td>\n",
       "      <td>82019890.0</td>\n",
       "      <td>NaN</td>\n",
       "    </tr>\n",
       "    <tr>\n",
       "      <th>19707</th>\n",
       "      <td>Germany</td>\n",
       "      <td>DEU</td>\n",
       "      <td>1996</td>\n",
       "      <td>1515.50</td>\n",
       "      <td>51.823856</td>\n",
       "      <td>82263195.0</td>\n",
       "      <td>NaN</td>\n",
       "    </tr>\n",
       "    <tr>\n",
       "      <th>19708</th>\n",
       "      <td>Germany</td>\n",
       "      <td>DEU</td>\n",
       "      <td>1997</td>\n",
       "      <td>1506.16</td>\n",
       "      <td>53.603516</td>\n",
       "      <td>82389631.0</td>\n",
       "      <td>NaN</td>\n",
       "    </tr>\n",
       "    <tr>\n",
       "      <th>19709</th>\n",
       "      <td>Germany</td>\n",
       "      <td>DEU</td>\n",
       "      <td>1998</td>\n",
       "      <td>1503.01</td>\n",
       "      <td>54.964676</td>\n",
       "      <td>82011933.0</td>\n",
       "      <td>NaN</td>\n",
       "    </tr>\n",
       "    <tr>\n",
       "      <th>19710</th>\n",
       "      <td>Germany</td>\n",
       "      <td>DEU</td>\n",
       "      <td>1999</td>\n",
       "      <td>1490.27</td>\n",
       "      <td>57.002277</td>\n",
       "      <td>81678279.0</td>\n",
       "      <td>NaN</td>\n",
       "    </tr>\n",
       "    <tr>\n",
       "      <th>19711</th>\n",
       "      <td>Germany</td>\n",
       "      <td>DEU</td>\n",
       "      <td>2000</td>\n",
       "      <td>1464.53</td>\n",
       "      <td>58.083973</td>\n",
       "      <td>81797255.0</td>\n",
       "      <td>NaN</td>\n",
       "    </tr>\n",
       "    <tr>\n",
       "      <th>19712</th>\n",
       "      <td>Germany</td>\n",
       "      <td>DEU</td>\n",
       "      <td>2001</td>\n",
       "      <td>1457.35</td>\n",
       "      <td>59.583893</td>\n",
       "      <td>81933882.0</td>\n",
       "      <td>NaN</td>\n",
       "    </tr>\n",
       "    <tr>\n",
       "      <th>19713</th>\n",
       "      <td>Germany</td>\n",
       "      <td>DEU</td>\n",
       "      <td>2002</td>\n",
       "      <td>1448.34</td>\n",
       "      <td>60.345882</td>\n",
       "      <td>82068328.0</td>\n",
       "      <td>NaN</td>\n",
       "    </tr>\n",
       "    <tr>\n",
       "      <th>19714</th>\n",
       "      <td>Germany</td>\n",
       "      <td>DEU</td>\n",
       "      <td>2003</td>\n",
       "      <td>1443.07</td>\n",
       "      <td>62.535880</td>\n",
       "      <td>82111619.0</td>\n",
       "      <td>NaN</td>\n",
       "    </tr>\n",
       "    <tr>\n",
       "      <th>19715</th>\n",
       "      <td>Germany</td>\n",
       "      <td>DEU</td>\n",
       "      <td>2004</td>\n",
       "      <td>1442.65</td>\n",
       "      <td>63.894978</td>\n",
       "      <td>82092706.0</td>\n",
       "      <td>NaN</td>\n",
       "    </tr>\n",
       "    <tr>\n",
       "      <th>19716</th>\n",
       "      <td>Germany</td>\n",
       "      <td>DEU</td>\n",
       "      <td>2005</td>\n",
       "      <td>1431.89</td>\n",
       "      <td>67.481415</td>\n",
       "      <td>82046733.0</td>\n",
       "      <td>NaN</td>\n",
       "    </tr>\n",
       "    <tr>\n",
       "      <th>19717</th>\n",
       "      <td>Germany</td>\n",
       "      <td>DEU</td>\n",
       "      <td>2006</td>\n",
       "      <td>1452.42</td>\n",
       "      <td>67.916740</td>\n",
       "      <td>81701971.0</td>\n",
       "      <td>NaN</td>\n",
       "    </tr>\n",
       "    <tr>\n",
       "      <th>19718</th>\n",
       "      <td>Germany</td>\n",
       "      <td>DEU</td>\n",
       "      <td>2007</td>\n",
       "      <td>1453.86</td>\n",
       "      <td>70.651340</td>\n",
       "      <td>81298546.0</td>\n",
       "      <td>NaN</td>\n",
       "    </tr>\n",
       "    <tr>\n",
       "      <th>19719</th>\n",
       "      <td>Germany</td>\n",
       "      <td>DEU</td>\n",
       "      <td>2008</td>\n",
       "      <td>1446.89</td>\n",
       "      <td>71.665570</td>\n",
       "      <td>81110780.0</td>\n",
       "      <td>NaN</td>\n",
       "    </tr>\n",
       "    <tr>\n",
       "      <th>19720</th>\n",
       "      <td>Germany</td>\n",
       "      <td>DEU</td>\n",
       "      <td>2009</td>\n",
       "      <td>1406.77</td>\n",
       "      <td>68.887060</td>\n",
       "      <td>80935276.0</td>\n",
       "      <td>NaN</td>\n",
       "    </tr>\n",
       "    <tr>\n",
       "      <th>19721</th>\n",
       "      <td>Germany</td>\n",
       "      <td>DEU</td>\n",
       "      <td>2010</td>\n",
       "      <td>1425.37</td>\n",
       "      <td>70.998740</td>\n",
       "      <td>80830916.0</td>\n",
       "      <td>NaN</td>\n",
       "    </tr>\n",
       "    <tr>\n",
       "      <th>19722</th>\n",
       "      <td>Germany</td>\n",
       "      <td>DEU</td>\n",
       "      <td>2011</td>\n",
       "      <td>1427.18</td>\n",
       "      <td>74.035706</td>\n",
       "      <td>80857877.0</td>\n",
       "      <td>NaN</td>\n",
       "    </tr>\n",
       "    <tr>\n",
       "      <th>19723</th>\n",
       "      <td>Germany</td>\n",
       "      <td>DEU</td>\n",
       "      <td>2012</td>\n",
       "      <td>1406.00</td>\n",
       "      <td>73.760130</td>\n",
       "      <td>80916391.0</td>\n",
       "      <td>NaN</td>\n",
       "    </tr>\n",
       "    <tr>\n",
       "      <th>19724</th>\n",
       "      <td>Germany</td>\n",
       "      <td>DEU</td>\n",
       "      <td>2013</td>\n",
       "      <td>1395.73</td>\n",
       "      <td>73.892365</td>\n",
       "      <td>81041581.0</td>\n",
       "      <td>NaN</td>\n",
       "    </tr>\n",
       "    <tr>\n",
       "      <th>19725</th>\n",
       "      <td>Germany</td>\n",
       "      <td>DEU</td>\n",
       "      <td>2014</td>\n",
       "      <td>1400.01</td>\n",
       "      <td>75.671060</td>\n",
       "      <td>81376078.0</td>\n",
       "      <td>NaN</td>\n",
       "    </tr>\n",
       "    <tr>\n",
       "      <th>19726</th>\n",
       "      <td>Germany</td>\n",
       "      <td>DEU</td>\n",
       "      <td>2015</td>\n",
       "      <td>1401.59</td>\n",
       "      <td>74.099724</td>\n",
       "      <td>82077546.0</td>\n",
       "      <td>NaN</td>\n",
       "    </tr>\n",
       "    <tr>\n",
       "      <th>19727</th>\n",
       "      <td>Germany</td>\n",
       "      <td>DEU</td>\n",
       "      <td>2016</td>\n",
       "      <td>1395.83</td>\n",
       "      <td>76.029090</td>\n",
       "      <td>82760102.0</td>\n",
       "      <td>NaN</td>\n",
       "    </tr>\n",
       "    <tr>\n",
       "      <th>19728</th>\n",
       "      <td>Germany</td>\n",
       "      <td>DEU</td>\n",
       "      <td>2017</td>\n",
       "      <td>1388.21</td>\n",
       "      <td>78.195240</td>\n",
       "      <td>83104010.0</td>\n",
       "      <td>NaN</td>\n",
       "    </tr>\n",
       "    <tr>\n",
       "      <th>19729</th>\n",
       "      <td>Germany</td>\n",
       "      <td>DEU</td>\n",
       "      <td>2018</td>\n",
       "      <td>1380.72</td>\n",
       "      <td>78.599670</td>\n",
       "      <td>83368507.0</td>\n",
       "      <td>NaN</td>\n",
       "    </tr>\n",
       "    <tr>\n",
       "      <th>19730</th>\n",
       "      <td>Germany</td>\n",
       "      <td>DEU</td>\n",
       "      <td>2019</td>\n",
       "      <td>1372.04</td>\n",
       "      <td>81.118675</td>\n",
       "      <td>83559184.0</td>\n",
       "      <td>NaN</td>\n",
       "    </tr>\n",
       "    <tr>\n",
       "      <th>19731</th>\n",
       "      <td>Germany</td>\n",
       "      <td>DEU</td>\n",
       "      <td>2020</td>\n",
       "      <td>1313.57</td>\n",
       "      <td>82.040480</td>\n",
       "      <td>83628711.0</td>\n",
       "      <td>NaN</td>\n",
       "    </tr>\n",
       "    <tr>\n",
       "      <th>19732</th>\n",
       "      <td>Germany</td>\n",
       "      <td>DEU</td>\n",
       "      <td>2021</td>\n",
       "      <td>1341.88</td>\n",
       "      <td>82.909170</td>\n",
       "      <td>83697080.0</td>\n",
       "      <td>NaN</td>\n",
       "    </tr>\n",
       "    <tr>\n",
       "      <th>19733</th>\n",
       "      <td>Germany</td>\n",
       "      <td>DEU</td>\n",
       "      <td>2022</td>\n",
       "      <td>1340.14</td>\n",
       "      <td>82.747210</td>\n",
       "      <td>84086227.0</td>\n",
       "      <td>NaN</td>\n",
       "    </tr>\n",
       "    <tr>\n",
       "      <th>19734</th>\n",
       "      <td>Germany</td>\n",
       "      <td>DEU</td>\n",
       "      <td>2023</td>\n",
       "      <td>1335.27</td>\n",
       "      <td>82.501175</td>\n",
       "      <td>84548233.0</td>\n",
       "      <td>Europe</td>\n",
       "    </tr>\n",
       "  </tbody>\n",
       "</table>\n",
       "</div>"
      ],
      "text/plain": [
       "        Entity Code  Year      avh  productivity  population_historical  \\\n",
       "19706  Germany  DEU  1995  1528.90     50.687958             82019890.0   \n",
       "19707  Germany  DEU  1996  1515.50     51.823856             82263195.0   \n",
       "19708  Germany  DEU  1997  1506.16     53.603516             82389631.0   \n",
       "19709  Germany  DEU  1998  1503.01     54.964676             82011933.0   \n",
       "19710  Germany  DEU  1999  1490.27     57.002277             81678279.0   \n",
       "19711  Germany  DEU  2000  1464.53     58.083973             81797255.0   \n",
       "19712  Germany  DEU  2001  1457.35     59.583893             81933882.0   \n",
       "19713  Germany  DEU  2002  1448.34     60.345882             82068328.0   \n",
       "19714  Germany  DEU  2003  1443.07     62.535880             82111619.0   \n",
       "19715  Germany  DEU  2004  1442.65     63.894978             82092706.0   \n",
       "19716  Germany  DEU  2005  1431.89     67.481415             82046733.0   \n",
       "19717  Germany  DEU  2006  1452.42     67.916740             81701971.0   \n",
       "19718  Germany  DEU  2007  1453.86     70.651340             81298546.0   \n",
       "19719  Germany  DEU  2008  1446.89     71.665570             81110780.0   \n",
       "19720  Germany  DEU  2009  1406.77     68.887060             80935276.0   \n",
       "19721  Germany  DEU  2010  1425.37     70.998740             80830916.0   \n",
       "19722  Germany  DEU  2011  1427.18     74.035706             80857877.0   \n",
       "19723  Germany  DEU  2012  1406.00     73.760130             80916391.0   \n",
       "19724  Germany  DEU  2013  1395.73     73.892365             81041581.0   \n",
       "19725  Germany  DEU  2014  1400.01     75.671060             81376078.0   \n",
       "19726  Germany  DEU  2015  1401.59     74.099724             82077546.0   \n",
       "19727  Germany  DEU  2016  1395.83     76.029090             82760102.0   \n",
       "19728  Germany  DEU  2017  1388.21     78.195240             83104010.0   \n",
       "19729  Germany  DEU  2018  1380.72     78.599670             83368507.0   \n",
       "19730  Germany  DEU  2019  1372.04     81.118675             83559184.0   \n",
       "19731  Germany  DEU  2020  1313.57     82.040480             83628711.0   \n",
       "19732  Germany  DEU  2021  1341.88     82.909170             83697080.0   \n",
       "19733  Germany  DEU  2022  1340.14     82.747210             84086227.0   \n",
       "19734  Germany  DEU  2023  1335.27     82.501175             84548233.0   \n",
       "\n",
       "      owid_region  \n",
       "19706         NaN  \n",
       "19707         NaN  \n",
       "19708         NaN  \n",
       "19709         NaN  \n",
       "19710         NaN  \n",
       "19711         NaN  \n",
       "19712         NaN  \n",
       "19713         NaN  \n",
       "19714         NaN  \n",
       "19715         NaN  \n",
       "19716         NaN  \n",
       "19717         NaN  \n",
       "19718         NaN  \n",
       "19719         NaN  \n",
       "19720         NaN  \n",
       "19721         NaN  \n",
       "19722         NaN  \n",
       "19723         NaN  \n",
       "19724         NaN  \n",
       "19725         NaN  \n",
       "19726         NaN  \n",
       "19727         NaN  \n",
       "19728         NaN  \n",
       "19729         NaN  \n",
       "19730         NaN  \n",
       "19731         NaN  \n",
       "19732         NaN  \n",
       "19733         NaN  \n",
       "19734      Europe  "
      ]
     },
     "execution_count": 31,
     "metadata": {},
     "output_type": "execute_result"
    }
   ],
   "source": [
    "df[(df['Entity']==\"Germany\") & (df[\"productivity\"]>50)]"
   ]
  },
  {
   "cell_type": "markdown",
   "metadata": {
    "id": "gduYuQ7KnA-m"
   },
   "source": [
    "4. Use `df.loc[(condition1)&(condition2), ['column1', 'column2', ...]]` to show the same selection of the DataFrame, but only displaying the year, the productivity and the population."
   ]
  },
  {
   "cell_type": "code",
   "execution_count": 32,
   "metadata": {},
   "outputs": [
    {
     "data": {
      "text/plain": [
       "(        Entity Code  Year      avh  productivity  population_historical  \\\n",
       " 19706  Germany  DEU  1995  1528.90     50.687958             82019890.0   \n",
       " 19707  Germany  DEU  1996  1515.50     51.823856             82263195.0   \n",
       " 19708  Germany  DEU  1997  1506.16     53.603516             82389631.0   \n",
       " 19709  Germany  DEU  1998  1503.01     54.964676             82011933.0   \n",
       " 19710  Germany  DEU  1999  1490.27     57.002277             81678279.0   \n",
       " 19711  Germany  DEU  2000  1464.53     58.083973             81797255.0   \n",
       " 19712  Germany  DEU  2001  1457.35     59.583893             81933882.0   \n",
       " 19713  Germany  DEU  2002  1448.34     60.345882             82068328.0   \n",
       " 19714  Germany  DEU  2003  1443.07     62.535880             82111619.0   \n",
       " 19715  Germany  DEU  2004  1442.65     63.894978             82092706.0   \n",
       " 19716  Germany  DEU  2005  1431.89     67.481415             82046733.0   \n",
       " 19717  Germany  DEU  2006  1452.42     67.916740             81701971.0   \n",
       " 19718  Germany  DEU  2007  1453.86     70.651340             81298546.0   \n",
       " 19719  Germany  DEU  2008  1446.89     71.665570             81110780.0   \n",
       " 19720  Germany  DEU  2009  1406.77     68.887060             80935276.0   \n",
       " 19721  Germany  DEU  2010  1425.37     70.998740             80830916.0   \n",
       " 19722  Germany  DEU  2011  1427.18     74.035706             80857877.0   \n",
       " 19723  Germany  DEU  2012  1406.00     73.760130             80916391.0   \n",
       " 19724  Germany  DEU  2013  1395.73     73.892365             81041581.0   \n",
       " 19725  Germany  DEU  2014  1400.01     75.671060             81376078.0   \n",
       " 19726  Germany  DEU  2015  1401.59     74.099724             82077546.0   \n",
       " 19727  Germany  DEU  2016  1395.83     76.029090             82760102.0   \n",
       " 19728  Germany  DEU  2017  1388.21     78.195240             83104010.0   \n",
       " 19729  Germany  DEU  2018  1380.72     78.599670             83368507.0   \n",
       " 19730  Germany  DEU  2019  1372.04     81.118675             83559184.0   \n",
       " 19731  Germany  DEU  2020  1313.57     82.040480             83628711.0   \n",
       " 19732  Germany  DEU  2021  1341.88     82.909170             83697080.0   \n",
       " 19733  Germany  DEU  2022  1340.14     82.747210             84086227.0   \n",
       " 19734  Germany  DEU  2023  1335.27     82.501175             84548233.0   \n",
       " \n",
       "       owid_region  \n",
       " 19706         NaN  \n",
       " 19707         NaN  \n",
       " 19708         NaN  \n",
       " 19709         NaN  \n",
       " 19710         NaN  \n",
       " 19711         NaN  \n",
       " 19712         NaN  \n",
       " 19713         NaN  \n",
       " 19714         NaN  \n",
       " 19715         NaN  \n",
       " 19716         NaN  \n",
       " 19717         NaN  \n",
       " 19718         NaN  \n",
       " 19719         NaN  \n",
       " 19720         NaN  \n",
       " 19721         NaN  \n",
       " 19722         NaN  \n",
       " 19723         NaN  \n",
       " 19724         NaN  \n",
       " 19725         NaN  \n",
       " 19726         NaN  \n",
       " 19727         NaN  \n",
       " 19728         NaN  \n",
       " 19729         NaN  \n",
       " 19730         NaN  \n",
       " 19731         NaN  \n",
       " 19732         NaN  \n",
       " 19733         NaN  \n",
       " 19734      Europe  ,\n",
       " ['year', 'productivity', 'population'])"
      ]
     },
     "execution_count": 32,
     "metadata": {},
     "output_type": "execute_result"
    }
   ],
   "source": [
    "df.loc[(df['Entity']==\"Germany\") & (df[\"productivity\"]>50)],[\"year\",\"productivity\",\"population\"]"
   ]
  },
  {
   "cell_type": "markdown",
   "metadata": {
    "id": "wyl3g8MpnA-m"
   },
   "source": [
    "5. Finally, display only the rows in which the 'United States' had a population of over 300 million, and of those, only the columns for the year and population."
   ]
  },
  {
   "cell_type": "code",
   "execution_count": 33,
   "metadata": {},
   "outputs": [
    {
     "data": {
      "text/plain": [
       "(              Entity Code  Year      avh  productivity  population_historical  \\\n",
       " 55394  United States  USA  2007  1828.84     68.141170            301844223.0   \n",
       " 55395  United States  USA  2008  1808.99     68.959710            304970325.0   \n",
       " 55396  United States  USA  2009  1764.89     71.023650            308023452.0   \n",
       " 55397  United States  USA  2010  1773.37     72.943100            311062785.0   \n",
       " 55398  United States  USA  2011  1782.51     72.994804            314105075.0   \n",
       " 55399  United States  USA  2012  1784.70     73.444336            317115349.0   \n",
       " 55400  United States  USA  2013  1791.31     74.135895            320110752.0   \n",
       " 55401  United States  USA  2014  1797.12     74.585940            323115377.0   \n",
       " 55402  United States  USA  2015  1808.72     74.986916            326126496.0   \n",
       " 55403  United States  USA  2016  1802.60     75.294950            329179423.0   \n",
       " 55404  United States  USA  2017  1795.58     76.112910            332204657.0   \n",
       " 55405  United States  USA  2018  1804.19     76.830710            335056492.0   \n",
       " 55406  United States  USA  2019  1796.65     77.742090            337790069.0   \n",
       " 55407  United States  USA  2020  1777.88     81.082470            339436156.0   \n",
       " 55408  United States  USA  2021  1788.70     82.302800            340161438.0   \n",
       " 55409  United States  USA  2022  1789.59     81.948240            341534041.0   \n",
       " 55410  United States  USA  2023  1788.88     83.531105            343477330.0   \n",
       " \n",
       "          owid_region  \n",
       " 55394            NaN  \n",
       " 55395            NaN  \n",
       " 55396            NaN  \n",
       " 55397            NaN  \n",
       " 55398            NaN  \n",
       " 55399            NaN  \n",
       " 55400            NaN  \n",
       " 55401            NaN  \n",
       " 55402            NaN  \n",
       " 55403            NaN  \n",
       " 55404            NaN  \n",
       " 55405            NaN  \n",
       " 55406            NaN  \n",
       " 55407            NaN  \n",
       " 55408            NaN  \n",
       " 55409            NaN  \n",
       " 55410  North America  ,\n",
       " ['year', 'population_historical'])"
      ]
     },
     "execution_count": 33,
     "metadata": {},
     "output_type": "execute_result"
    }
   ],
   "source": [
    "df.loc[(df['Entity']==\"United States\") & (df[\"population_historical\"]>300000000)],[\"year\",\"population_historical\"]"
   ]
  },
  {
   "cell_type": "markdown",
   "metadata": {
    "id": "MiWNCKnqnA-m"
   },
   "source": [
    "## Statistical Investigation"
   ]
  },
  {
   "cell_type": "markdown",
   "metadata": {
    "id": "RG5gyoISnA-m"
   },
   "source": [
    "Let's do some basic statistics. DataFrames come with additional functions that we can use to calculate summarizing values, e.g.:  \n",
    "`.describe()`, `.mean()`, `.median()`, `.mode()`, `.std()`, `.min()`, `.max()`, etc."
   ]
  },
  {
   "cell_type": "markdown",
   "metadata": {
    "id": "ju9Ss0xhnA-n"
   },
   "source": [
    "**Tasks:**\n",
    "1. Use `df.describe()` function to get a first overview over the DataFrame."
   ]
  },
  {
   "cell_type": "code",
   "execution_count": 34,
   "metadata": {},
   "outputs": [
    {
     "data": {
      "text/html": [
       "<div>\n",
       "<style scoped>\n",
       "    .dataframe tbody tr th:only-of-type {\n",
       "        vertical-align: middle;\n",
       "    }\n",
       "\n",
       "    .dataframe tbody tr th {\n",
       "        vertical-align: top;\n",
       "    }\n",
       "\n",
       "    .dataframe thead th {\n",
       "        text-align: right;\n",
       "    }\n",
       "</style>\n",
       "<table border=\"1\" class=\"dataframe\">\n",
       "  <thead>\n",
       "    <tr style=\"text-align: right;\">\n",
       "      <th></th>\n",
       "      <th>Year</th>\n",
       "      <th>avh</th>\n",
       "      <th>productivity</th>\n",
       "      <th>population_historical</th>\n",
       "    </tr>\n",
       "  </thead>\n",
       "  <tbody>\n",
       "    <tr>\n",
       "      <th>count</th>\n",
       "      <td>58859.000000</td>\n",
       "      <td>4965.000000</td>\n",
       "      <td>4965.000000</td>\n",
       "      <td>5.882400e+04</td>\n",
       "    </tr>\n",
       "    <tr>\n",
       "      <th>mean</th>\n",
       "      <td>1614.151837</td>\n",
       "      <td>1995.158127</td>\n",
       "      <td>25.975767</td>\n",
       "      <td>5.088952e+07</td>\n",
       "    </tr>\n",
       "    <tr>\n",
       "      <th>std</th>\n",
       "      <td>1399.712614</td>\n",
       "      <td>320.842681</td>\n",
       "      <td>22.514652</td>\n",
       "      <td>3.003927e+08</td>\n",
       "    </tr>\n",
       "    <tr>\n",
       "      <th>min</th>\n",
       "      <td>-10000.000000</td>\n",
       "      <td>1313.570000</td>\n",
       "      <td>0.503521</td>\n",
       "      <td>1.000000e+00</td>\n",
       "    </tr>\n",
       "    <tr>\n",
       "      <th>25%</th>\n",
       "      <td>1833.000000</td>\n",
       "      <td>1742.450000</td>\n",
       "      <td>8.010024</td>\n",
       "      <td>1.479938e+05</td>\n",
       "    </tr>\n",
       "    <tr>\n",
       "      <th>50%</th>\n",
       "      <td>1902.000000</td>\n",
       "      <td>1979.930000</td>\n",
       "      <td>19.862648</td>\n",
       "      <td>1.409324e+06</td>\n",
       "    </tr>\n",
       "    <tr>\n",
       "      <th>75%</th>\n",
       "      <td>1967.000000</td>\n",
       "      <td>2232.000000</td>\n",
       "      <td>38.193000</td>\n",
       "      <td>6.787372e+06</td>\n",
       "    </tr>\n",
       "    <tr>\n",
       "      <th>max</th>\n",
       "      <td>2023.000000</td>\n",
       "      <td>3039.790000</td>\n",
       "      <td>175.478580</td>\n",
       "      <td>8.091735e+09</td>\n",
       "    </tr>\n",
       "  </tbody>\n",
       "</table>\n",
       "</div>"
      ],
      "text/plain": [
       "               Year          avh  productivity  population_historical\n",
       "count  58859.000000  4965.000000   4965.000000           5.882400e+04\n",
       "mean    1614.151837  1995.158127     25.975767           5.088952e+07\n",
       "std     1399.712614   320.842681     22.514652           3.003927e+08\n",
       "min   -10000.000000  1313.570000      0.503521           1.000000e+00\n",
       "25%     1833.000000  1742.450000      8.010024           1.479938e+05\n",
       "50%     1902.000000  1979.930000     19.862648           1.409324e+06\n",
       "75%     1967.000000  2232.000000     38.193000           6.787372e+06\n",
       "max     2023.000000  3039.790000    175.478580           8.091735e+09"
      ]
     },
     "execution_count": 34,
     "metadata": {},
     "output_type": "execute_result"
    }
   ],
   "source": [
    "df.describe()"
   ]
  },
  {
   "cell_type": "markdown",
   "metadata": {
    "id": "LcI23w_pnA-n"
   },
   "source": [
    "2. I often like to use `df.describe().T.apply(lambda x: x.apply('{0:g}'.format))`. It's a bit more complicated, but try it out. Which differences do you notice?"
   ]
  },
  {
   "cell_type": "code",
   "execution_count": 35,
   "metadata": {},
   "outputs": [
    {
     "data": {
      "text/html": [
       "<div>\n",
       "<style scoped>\n",
       "    .dataframe tbody tr th:only-of-type {\n",
       "        vertical-align: middle;\n",
       "    }\n",
       "\n",
       "    .dataframe tbody tr th {\n",
       "        vertical-align: top;\n",
       "    }\n",
       "\n",
       "    .dataframe thead th {\n",
       "        text-align: right;\n",
       "    }\n",
       "</style>\n",
       "<table border=\"1\" class=\"dataframe\">\n",
       "  <thead>\n",
       "    <tr style=\"text-align: right;\">\n",
       "      <th></th>\n",
       "      <th>count</th>\n",
       "      <th>mean</th>\n",
       "      <th>std</th>\n",
       "      <th>min</th>\n",
       "      <th>25%</th>\n",
       "      <th>50%</th>\n",
       "      <th>75%</th>\n",
       "      <th>max</th>\n",
       "    </tr>\n",
       "  </thead>\n",
       "  <tbody>\n",
       "    <tr>\n",
       "      <th>Year</th>\n",
       "      <td>58859</td>\n",
       "      <td>1614.15</td>\n",
       "      <td>1399.71</td>\n",
       "      <td>-10000</td>\n",
       "      <td>1833</td>\n",
       "      <td>1902</td>\n",
       "      <td>1967</td>\n",
       "      <td>2023</td>\n",
       "    </tr>\n",
       "    <tr>\n",
       "      <th>avh</th>\n",
       "      <td>4965</td>\n",
       "      <td>1995.16</td>\n",
       "      <td>320.843</td>\n",
       "      <td>1313.57</td>\n",
       "      <td>1742.45</td>\n",
       "      <td>1979.93</td>\n",
       "      <td>2232</td>\n",
       "      <td>3039.79</td>\n",
       "    </tr>\n",
       "    <tr>\n",
       "      <th>productivity</th>\n",
       "      <td>4965</td>\n",
       "      <td>25.9758</td>\n",
       "      <td>22.5147</td>\n",
       "      <td>0.503521</td>\n",
       "      <td>8.01002</td>\n",
       "      <td>19.8626</td>\n",
       "      <td>38.193</td>\n",
       "      <td>175.479</td>\n",
       "    </tr>\n",
       "    <tr>\n",
       "      <th>population_historical</th>\n",
       "      <td>58824</td>\n",
       "      <td>5.08895e+07</td>\n",
       "      <td>3.00393e+08</td>\n",
       "      <td>1</td>\n",
       "      <td>147994</td>\n",
       "      <td>1.40932e+06</td>\n",
       "      <td>6.78737e+06</td>\n",
       "      <td>8.09173e+09</td>\n",
       "    </tr>\n",
       "  </tbody>\n",
       "</table>\n",
       "</div>"
      ],
      "text/plain": [
       "                       count         mean          std       min      25%  \\\n",
       "Year                   58859      1614.15      1399.71    -10000     1833   \n",
       "avh                     4965      1995.16      320.843   1313.57  1742.45   \n",
       "productivity            4965      25.9758      22.5147  0.503521  8.01002   \n",
       "population_historical  58824  5.08895e+07  3.00393e+08         1   147994   \n",
       "\n",
       "                               50%          75%          max  \n",
       "Year                          1902         1967         2023  \n",
       "avh                        1979.93         2232      3039.79  \n",
       "productivity               19.8626       38.193      175.479  \n",
       "population_historical  1.40932e+06  6.78737e+06  8.09173e+09  "
      ]
     },
     "execution_count": 35,
     "metadata": {},
     "output_type": "execute_result"
    }
   ],
   "source": [
    "df.describe().T.apply(lambda x: x.apply('{0:g}'.format))"
   ]
  },
  {
   "cell_type": "markdown",
   "metadata": {
    "id": "0MKgcOISnA-n"
   },
   "source": [
    "3. We can also apply summarizing functions to filtered DataFrames. For that first use `df.loc[condition, ['column1', 'column2', ...]]` to filter the DataFrame for rows where the entity is Germany and for  the columns `Productivity: output per hour worked` and `Population (historical)`. Then calculate the `.mean()` of the resulting DataFrame."
   ]
  },
  {
   "cell_type": "code",
   "execution_count": 36,
   "metadata": {},
   "outputs": [
    {
     "data": {
      "text/plain": [
       "productivity             4.035435e+01\n",
       "population_historical    4.899437e+07\n",
       "dtype: float64"
      ]
     },
     "execution_count": 36,
     "metadata": {},
     "output_type": "execute_result"
    }
   ],
   "source": [
    "df.loc[(df['Entity']==\"Germany\"),[\"productivity\",\"population_historical\"]].mean()\n"
   ]
  },
  {
   "cell_type": "markdown",
   "metadata": {
    "id": "5ThP6gsPnA-n"
   },
   "source": [
    "4. In a similar way, find the first (i.e., 'minimum') year where Germany had a population over 80 million.  "
   ]
  },
  {
   "cell_type": "code",
   "execution_count": 37,
   "metadata": {},
   "outputs": [
    {
     "data": {
      "text/plain": [
       "np.int64(1991)"
      ]
     },
     "execution_count": 37,
     "metadata": {},
     "output_type": "execute_result"
    }
   ],
   "source": [
    "df.loc[(df['Entity'] == 'Germany') & (df['population_historical'] > 80000000),'Year'].min()"
   ]
  },
  {
   "cell_type": "markdown",
   "metadata": {
    "id": "rR_ycSOjnA-n"
   },
   "source": [
    "5. Lastly, find the entity and year with the largest population in the DataFrame."
   ]
  },
  {
   "cell_type": "code",
   "execution_count": 38,
   "metadata": {},
   "outputs": [
    {
     "data": {
      "text/plain": [
       "np.int64(2023)"
      ]
     },
     "execution_count": 38,
     "metadata": {},
     "output_type": "execute_result"
    }
   ],
   "source": [
    "df.loc[(df['Entity'] == 'Germany') & (df['population_historical']),'Year'].max()"
   ]
  },
  {
   "cell_type": "markdown",
   "metadata": {
    "id": "TqvPxEeVnA-n"
   },
   "source": [
    "---\n",
    "*Hint:* Filter for the row where the population is equal to the maximum population.\n",
    "\n",
    "---"
   ]
  },
  {
   "cell_type": "markdown",
   "metadata": {
    "id": "BrxpHUPKnA-n"
   },
   "source": [
    "## Investigating Categorical Features: Value Counts, (N)Unique"
   ]
  },
  {
   "cell_type": "markdown",
   "metadata": {
    "id": "jFl9IGgxnA-n"
   },
   "source": [
    "To investigate categorical features, we have a couple of useful functions."
   ]
  },
  {
   "cell_type": "markdown",
   "metadata": {
    "id": "mfuMzR94nA-n"
   },
   "source": [
    "**Tasks**:\n",
    "1. Use `df['column'].value_counts()` on the `Entity` column of the DataFrame. What does this show you?"
   ]
  },
  {
   "cell_type": "code",
   "execution_count": 39,
   "metadata": {},
   "outputs": [
    {
     "data": {
      "text/plain": [
       "Entity\n",
       "Afghanistan                       261\n",
       "Mongolia                          261\n",
       "Lithuania                         261\n",
       "Low-income countries              261\n",
       "Lower-middle-income countries     261\n",
       "                                 ... \n",
       "Pitcairn                            1\n",
       "Republic of Vietnam                 1\n",
       "British Indian Ocean Territory      1\n",
       "Austria-Hungary                     1\n",
       "Orange Free State                   1\n",
       "Name: count, Length: 294, dtype: int64"
      ]
     },
     "execution_count": 39,
     "metadata": {},
     "output_type": "execute_result"
    }
   ],
   "source": [
    "df['Entity'].value_counts()\n",
    "# it shows me the value counts "
   ]
  },
  {
   "cell_type": "markdown",
   "metadata": {
    "id": "GPs19fMonA-o"
   },
   "source": [
    "2. Use `df['column'].unique()` and `df['column'].nunique()` on the same column of the DataFrame. What do these show you?"
   ]
  },
  {
   "cell_type": "code",
   "execution_count": 51,
   "metadata": {},
   "outputs": [
    {
     "data": {
      "text/plain": [
       "294"
      ]
     },
     "execution_count": 51,
     "metadata": {},
     "output_type": "execute_result"
    }
   ],
   "source": [
    "df['Entity'].nunique()\n",
    "# it tells us the total"
   ]
  },
  {
   "cell_type": "code",
   "execution_count": 52,
   "metadata": {},
   "outputs": [
    {
     "data": {
      "text/plain": [
       "array(['Afghanistan', 'Africa', 'Africa (UN)', 'Akrotiri and Dhekelia',\n",
       "       'Aland Islands', 'Albania', 'Algeria', 'American Samoa',\n",
       "       'Americas (UN)', 'Andorra', 'Angola', 'Anguilla',\n",
       "       'Antigua and Barbuda', 'Argentina', 'Armenia', 'Aruba', 'Asia',\n",
       "       'Asia (UN)', 'Australia', 'Austria', 'Austria-Hungary',\n",
       "       'Azerbaijan', 'Bahamas', 'Bahrain', 'Bangladesh', 'Barbados',\n",
       "       'Belarus', 'Belgium', 'Belize', 'Benin', 'Bermuda', 'Bhutan',\n",
       "       'Bolivia', 'Bonaire Sint Eustatius and Saba',\n",
       "       'Bosnia and Herzegovina', 'Botswana', 'Brazil',\n",
       "       'British Indian Ocean Territory', 'British Virgin Islands',\n",
       "       'Brunei', 'Bulgaria', 'Burkina Faso', 'Burundi', 'Cambodia',\n",
       "       'Cameroon', 'Canada', 'Cape Verde', 'Cayman Islands',\n",
       "       'Central African Republic', 'Chad', 'Chile', 'China',\n",
       "       'Christmas Island', 'Cocos Islands', 'Colombia', 'Comoros',\n",
       "       'Congo', 'Cook Islands', 'Costa Rica', \"Cote d'Ivoire\", 'Croatia',\n",
       "       'Cuba', 'Curacao', 'Cyprus', 'Czechia', 'Czechoslovakia',\n",
       "       'Democratic Republic of Congo', 'Democratic Republic of Vietnam',\n",
       "       'Denmark', 'Djibouti', 'Dominica', 'Dominican Republic',\n",
       "       'Duchy of Modena and Reggio', 'Duchy of Parma and Piacenza',\n",
       "       'East Germany', 'East Timor', 'Ecuador', 'Egypt', 'El Salvador',\n",
       "       'Equatorial Guinea', 'Eritrea', 'Estonia', 'Eswatini', 'Ethiopia',\n",
       "       'Ethiopia (former)', 'Europe', 'Europe (UN)',\n",
       "       'European Union (27)', 'Falkland Islands', 'Faroe Islands',\n",
       "       'Federal Republic of Central America', 'Fiji', 'Finland', 'France',\n",
       "       'French Guiana', 'French Polynesia', 'Gabon', 'Gambia', 'Georgia',\n",
       "       'Germany', 'Ghana', 'Gibraltar', 'Grand Duchy of Baden',\n",
       "       'Grand Duchy of Tuscany', 'Great Colombia', 'Greece', 'Greenland',\n",
       "       'Grenada', 'Guadeloupe', 'Guam', 'Guatemala', 'Guernsey', 'Guinea',\n",
       "       'Guinea-Bissau', 'Guyana', 'Haiti', 'High-income countries',\n",
       "       'Honduras', 'Hong Kong', 'Hungary', 'Iceland', 'India',\n",
       "       'Indonesia', 'Iran', 'Iraq', 'Ireland', 'Ireland (whole island)',\n",
       "       'Isle of Man', 'Israel', 'Italy', 'Jamaica', 'Japan', 'Jersey',\n",
       "       'Jordan', 'Kazakhstan', 'Kenya', 'Kingdom of Bavaria',\n",
       "       'Kingdom of Sardinia', 'Kingdom of Saxony',\n",
       "       'Kingdom of Wurttemberg', 'Kingdom of the Two Sicilies',\n",
       "       'Kiribati', 'Korea (former)', 'Kosovo', 'Kuwait', 'Kyrgyzstan',\n",
       "       'Laos', 'Latin America and the Caribbean (UN)', 'Latvia',\n",
       "       'Lebanon', 'Lesotho', 'Liberia', 'Libya', 'Liechtenstein',\n",
       "       'Lithuania', 'Low-income countries',\n",
       "       'Lower-middle-income countries', 'Luxembourg', 'Macao',\n",
       "       'Madagascar', 'Malawi', 'Malaysia', 'Maldives', 'Mali', 'Malta',\n",
       "       'Marshall Islands', 'Martinique', 'Mauritania', 'Mauritius',\n",
       "       'Mayotte', 'Mexico', 'Micronesia (country)', 'Moldova', 'Monaco',\n",
       "       'Mongolia', 'Montenegro', 'Montserrat', 'Morocco', 'Mozambique',\n",
       "       'Myanmar', 'Namibia', 'Nauru', 'Nepal', 'Netherlands',\n",
       "       'Netherlands Antilles', 'New Caledonia', 'New Zealand',\n",
       "       'Nicaragua', 'Niger', 'Nigeria', 'Niue', 'Norfolk Island',\n",
       "       'North America', 'North Korea', 'North Macedonia',\n",
       "       'Northern America (UN)', 'Northern Mariana Islands', 'Norway',\n",
       "       'Oceania', 'Oceania (UN)', 'Oman', 'Orange Free State', 'Pakistan',\n",
       "       'Pakistan (former)', 'Palau', 'Palestine', 'Panama',\n",
       "       'Papua New Guinea', 'Paraguay', 'Peru', 'Philippines', 'Pitcairn',\n",
       "       'Poland', 'Portugal', 'Puerto Rico', 'Qatar',\n",
       "       'Republic of Vietnam', 'Reunion', 'Romania', 'Russia', 'Rwanda',\n",
       "       'Saint Barthelemy', 'Saint Helena', 'Saint Kitts and Nevis',\n",
       "       'Saint Lucia', 'Saint Martin (French part)',\n",
       "       'Saint Pierre and Miquelon', 'Saint Vincent and the Grenadines',\n",
       "       'Samoa', 'San Marino', 'Sao Tome and Principe', 'Saudi Arabia',\n",
       "       'Senegal', 'Serbia', 'Serbia and Montenegro', 'Seychelles',\n",
       "       'Sierra Leone', 'Singapore', 'Sint Maarten (Dutch part)',\n",
       "       'Slovakia', 'Slovenia', 'Solomon Islands', 'Somalia',\n",
       "       'South Africa', 'South America',\n",
       "       'South Georgia and the South Sandwich Islands', 'South Korea',\n",
       "       'South Sudan', 'Spain', 'Sri Lanka', 'Sudan', 'Sudan (former)',\n",
       "       'Suriname', 'Svalbard and Jan Mayen', 'Sweden', 'Switzerland',\n",
       "       'Syria', 'Taiwan', 'Tajikistan', 'Tanzania', 'Thailand', 'Togo',\n",
       "       'Tokelau', 'Tonga', 'Trinidad and Tobago', 'Tunisia', 'Turkey',\n",
       "       'Turkmenistan', 'Turks and Caicos Islands', 'Tuvalu', 'USSR',\n",
       "       'Uganda', 'Ukraine', 'United Arab Emirates', 'United Kingdom',\n",
       "       'United States', 'United States Virgin Islands',\n",
       "       'Upper-middle-income countries', 'Uruguay', 'Uzbekistan',\n",
       "       'Vanuatu', 'Vatican', 'Venezuela', 'Vietnam', 'Wallis and Futuna',\n",
       "       'West Germany', 'Western Sahara', 'World', 'Yemen',\n",
       "       'Yemen Arab Republic', \"Yemen People's Republic\", 'Yugoslavia',\n",
       "       'Zambia', 'Zimbabwe'], dtype=object)"
      ]
     },
     "execution_count": 52,
     "metadata": {},
     "output_type": "execute_result"
    }
   ],
   "source": [
    "df['Entity'].unique()\n",
    "#this tells the countries"
   ]
  },
  {
   "cell_type": "markdown",
   "metadata": {},
   "source": [
    "3. Find out how many different years of data you have in the DataFrame."
   ]
  },
  {
   "cell_type": "code",
   "execution_count": 65,
   "metadata": {},
   "outputs": [
    {
     "data": {
      "text/plain": [
       "265"
      ]
     },
     "execution_count": 65,
     "metadata": {},
     "output_type": "execute_result"
    }
   ],
   "source": [
    "df['Year'].nunique()"
   ]
  },
  {
   "cell_type": "markdown",
   "metadata": {
    "id": "MdcfAeVLnA-o"
   },
   "source": [
    "4. For which year do you have the most data, and for which years do you have the least?"
   ]
  },
  {
   "cell_type": "code",
   "execution_count": 66,
   "metadata": {},
   "outputs": [
    {
     "name": "stdout",
     "output_type": "stream",
     "text": [
      "Year with the most data: 2023 (292 records)\n",
      "Year(s) with the least data: [1788, 1555, 1640, 1785] (1 records each)\n"
     ]
    }
   ],
   "source": [
    "# Count number of rows per year\n",
    "year_counts = df['Year'].value_counts()\n",
    "\n",
    "# Year with the most data\n",
    "most_data_year = year_counts.idxmax()\n",
    "most_data_count = year_counts.max()\n",
    "\n",
    "# Year(s) with the least data (there could be ties)\n",
    "least_data_count = year_counts.min()\n",
    "least_data_years = year_counts[year_counts == least_data_count].index.tolist()\n",
    "\n",
    "print(f\"Year with the most data: {most_data_year} ({most_data_count} records)\")\n",
    "print(f\"Year(s) with the least data: {least_data_years} ({least_data_count} records each)\")\n"
   ]
  },
  {
   "cell_type": "markdown",
   "metadata": {
    "id": "ODbjkawonA-o"
   },
   "source": [
    "5. How many different years of data do you have from Germany?"
   ]
  },
  {
   "cell_type": "code",
   "execution_count": 74,
   "metadata": {},
   "outputs": [
    {
     "name": "stdout",
     "output_type": "stream",
     "text": [
      "Number of different years of data from Germany: 261\n"
     ]
    }
   ],
   "source": [
    "# Filter data for Germany\n",
    "germany_data = df.loc[df[\"Entity\"] == \"Germany\"]\n",
    "\n",
    "# Count unique years in the filtered data\n",
    "num_years_germany = germany_data['Year'].nunique()\n",
    "\n",
    "print(f\"Number of different years of data from Germany: {num_years_germany}\")\n",
    "\n",
    "# Short version\n",
    "# df.loc[df['Entity'] == 'Germany', 'Year'].nunique()\n"
   ]
  },
  {
   "cell_type": "markdown",
   "metadata": {
    "id": "xpXVkISlnA-o"
   },
   "source": [
    "6. Filter for rows in which the column ‘World regions according to OWID’ has the entry ‘Europe’ and use `.unique()` to find which states belong to Europe. Save the result in a variable called `states_europe`."
   ]
  },
  {
   "cell_type": "code",
   "execution_count": 83,
   "metadata": {},
   "outputs": [
    {
     "name": "stdout",
     "output_type": "stream",
     "text": [
      "['Aland Islands' 'Albania' 'Andorra' 'Austria' 'Austria-Hungary' 'Belarus'\n",
      " 'Belgium' 'Bosnia and Herzegovina' 'Bulgaria' 'Croatia' 'Cyprus'\n",
      " 'Czechia' 'Czechoslovakia' 'Denmark' 'Duchy of Modena and Reggio'\n",
      " 'Duchy of Parma and Piacenza' 'East Germany' 'Estonia' 'Faroe Islands'\n",
      " 'Finland' 'France' 'Germany' 'Gibraltar' 'Grand Duchy of Baden'\n",
      " 'Grand Duchy of Tuscany' 'Greece' 'Guernsey' 'Hungary' 'Iceland'\n",
      " 'Ireland' 'Isle of Man' 'Italy' 'Jersey' 'Kingdom of Bavaria'\n",
      " 'Kingdom of Sardinia' 'Kingdom of Saxony' 'Kingdom of Wurttemberg'\n",
      " 'Kingdom of the Two Sicilies' 'Kosovo' 'Latvia' 'Liechtenstein'\n",
      " 'Lithuania' 'Luxembourg' 'Malta' 'Moldova' 'Monaco' 'Montenegro'\n",
      " 'Netherlands' 'North Macedonia' 'Norway' 'Poland' 'Portugal' 'Romania'\n",
      " 'Russia' 'San Marino' 'Serbia' 'Serbia and Montenegro' 'Slovakia'\n",
      " 'Slovenia' 'Spain' 'Sweden' 'Switzerland' 'USSR' 'Ukraine'\n",
      " 'United Kingdom' 'Vatican' 'West Germany' 'Yugoslavia']\n"
     ]
    }
   ],
   "source": [
    "states_europe = df.loc[df['owid_region'] == 'Europe', 'Entity'].unique()\n",
    "print(states_europe)\n"
   ]
  },
  {
   "cell_type": "markdown",
   "metadata": {
    "id": "j5Edw8sVnA-o"
   },
   "source": [
    "## GroupBy"
   ]
  },
  {
   "cell_type": "markdown",
   "metadata": {
    "id": "cmEUNgWdnA-o"
   },
   "source": [
    "To create more advanced aggregated statistics, we can use the `.groupby()` function. It looks like this: `df.groupby('column1')['column2'].statistical_function()`, which means: \"For each unique value in column1 calculate the statistical_function with regard to column2.\".\n",
    "\n",
    "For example, to get the mean productivity per entity, we can use:  \n",
    "`df.groupby('Entity')['Productivity: output per hour worked'].mean()`"
   ]
  },
  {
   "cell_type": "markdown",
   "metadata": {
    "id": "jkRdWwamnA-o"
   },
   "source": [
    "**Task:**\n",
    "1. Calculate the maximum population per entity."
   ]
  },
  {
   "cell_type": "markdown",
   "metadata": {
    "id": "2-obG3QmnA-o"
   },
   "source": [
    "2. Calculate the average population for each year."
   ]
  },
  {
   "cell_type": "markdown",
   "metadata": {
    "id": "s8H5aDCdnA-o"
   },
   "source": [
    "3. Calculate the average population of Europe for each year."
   ]
  },
  {
   "cell_type": "markdown",
   "metadata": {
    "id": "nxHjV6oVnA-o"
   },
   "source": [
    "---\n",
    "*Hint:* Use the previously saved list `states_europe` and the function `.isin()`, e.g. `df['column'].isin(my_list)`, to filter.\n",
    "\n",
    "---"
   ]
  },
  {
   "cell_type": "markdown",
   "metadata": {
    "id": "8VQmKhO3nA-p"
   },
   "source": [
    "## Sorting"
   ]
  },
  {
   "cell_type": "markdown",
   "metadata": {
    "id": "WTTh9rUWnA-p"
   },
   "source": [
    "We can sort a DataFrame by specific columns using the `.sort_values(by='column', ascending=True/False)` function or based on the index using the `.sort_index(ascending=True/False)` function and can display the top n by using `.head(n)` or the bottom n by using `.tail(n)`."
   ]
  },
  {
   "cell_type": "markdown",
   "metadata": {
    "id": "9zKjNH7dnA-p"
   },
   "source": [
    "**Tasks:**\n",
    "1. Display the whole DataFrame sorted by population, descending. From that result only display the top 5 entries."
   ]
  },
  {
   "cell_type": "markdown",
   "metadata": {
    "id": "7Q2q8p5RnA-p"
   },
   "source": [
    "2. Using the results of `.groupby()` function from before, show the top 20 entities in terms of population."
   ]
  },
  {
   "cell_type": "markdown",
   "metadata": {
    "id": "HpNnQ_4onA-p"
   },
   "source": [
    "3. Finally, display how the average population in Europe has changed over the last 30 years."
   ]
  }
 ],
 "metadata": {
  "colab": {
   "provenance": []
  },
  "kernelspec": {
   "display_name": "Python 3 (ipykernel)",
   "language": "python",
   "name": "python3"
  },
  "language_info": {
   "codemirror_mode": {
    "name": "ipython",
    "version": 3
   },
   "file_extension": ".py",
   "mimetype": "text/x-python",
   "name": "python",
   "nbconvert_exporter": "python",
   "pygments_lexer": "ipython3",
   "version": "3.12.12"
  },
  "toc-autonumbering": true,
  "toc-showmarkdowntxt": false
 },
 "nbformat": 4,
 "nbformat_minor": 4
}
