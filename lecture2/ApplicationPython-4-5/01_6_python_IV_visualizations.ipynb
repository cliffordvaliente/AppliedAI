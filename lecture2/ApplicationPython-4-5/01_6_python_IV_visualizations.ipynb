{
  "metadata": {
    "kernelspec": {
      "name": "python3",
      "display_name": "Python 3"
    },
    "language_info": {
      "name": "python"
    },
    "colab": {
      "provenance": []
    }
  },
  "nbformat_minor": 0,
  "nbformat": 4,
  "cells": [
    {
      "cell_type": "markdown",
      "source": [
        "# Visualizations"
      ],
      "metadata": {
        "id": "SPydASzhmdZT"
      }
    },
    {
      "cell_type": "markdown",
      "source": [
        "The three most popular visualization libraries in Python are:\n",
        "- `matplotlib`: old, but powerful, not the most convenient to use\n",
        "- `seaborn`: very nice plots out of the box, often used for pulications, built upon `matplotlib`\n",
        "- `plotly`: newest library, interactive plots, easy syntax, often used for analytics\n",
        "\n",
        "We will be using `plotly` in this course, more specifically `plotly.express` as the most convenient option."
      ],
      "metadata": {
        "id": "qkzMB0IYmdZW"
      }
    },
    {
      "cell_type": "code",
      "source": [
        "import plotly.express as px\n",
        "import pandas as pd\n",
        "import plotly.figure_factory as ff\n",
        "import plotly.graph_objects as go\n",
        "from plotly.colors import n_colors\n",
        "import numpy as np"
      ],
      "metadata": {
        "id": "OXI-z1BjImDU",
        "trusted": true
      },
      "outputs": [],
      "execution_count": null
    },
    {
      "cell_type": "markdown",
      "source": [
        "## Scatter Plots"
      ],
      "metadata": {
        "id": "Cs-sUGDL8Zji"
      }
    },
    {
      "cell_type": "markdown",
      "source": [
        "Let's start with scatter plots using the `iris` dataset as example: https://en.wikipedia.org/wiki/Iris_flower_data_set  "
      ],
      "metadata": {
        "id": "7WEfp59tmdZY"
      }
    },
    {
      "cell_type": "markdown",
      "source": [
        "**Tasks:**\n",
        "1. Load the IRIS data set by executing the following cell. Then display the DataFrame by writing `df` as last (or only) line of a cell and then executing it."
      ],
      "metadata": {
        "id": "sZj3N1slmdZY"
      }
    },
    {
      "cell_type": "code",
      "source": [
        "df = px.data.iris()"
      ],
      "metadata": {
        "trusted": true,
        "id": "3oC4WRYAmdZZ"
      },
      "outputs": [],
      "execution_count": null
    },
    {
      "cell_type": "code",
      "source": [],
      "metadata": {
        "trusted": true,
        "id": "pz_PHst0mdZZ"
      },
      "outputs": [],
      "execution_count": null
    },
    {
      "cell_type": "markdown",
      "source": [
        "Sepals and petals are different leafs of the flower. What we see here are the measured lenghts and widths of different iris flowers belonging to 3 different species."
      ],
      "metadata": {
        "id": "nE-9C6tUmdZZ"
      }
    },
    {
      "cell_type": "markdown",
      "source": [
        "2. Visualize the `sepal_width` on the x-axis and the `sepal_length` on the y-axis, by completing the following code:"
      ],
      "metadata": {
        "id": "vgLFNs7XmdZZ"
      }
    },
    {
      "cell_type": "code",
      "source": [
        "px.scatter(\n",
        "    df,\n",
        "    x=\"...\",  # column name that gives the x-values\n",
        "    y=\"...\",  # column name that gives the y-values\n",
        ")"
      ],
      "metadata": {
        "trusted": true,
        "id": "pQeNLeDQmdZZ"
      },
      "outputs": [],
      "execution_count": null
    },
    {
      "cell_type": "markdown",
      "source": [
        "3. Add a color template and adjust the width and the height of the plot:"
      ],
      "metadata": {
        "id": "hQRu8Zz1mdZZ"
      }
    },
    {
      "cell_type": "code",
      "source": [
        "px.scatter(\n",
        "    df,\n",
        "    x=\"sepal_width\",\n",
        "    y=\"sepal_length\",\n",
        "    template=\"simple_white\",  # a simple color template without grid lines; you could e.g. also use \"plotly_white\" if you prefer grid lines\n",
        "    width=...,  # the width in pixel; try out 800\n",
        "    height=..., # the height in pixel; try out 500\n",
        ")"
      ],
      "metadata": {
        "trusted": true,
        "id": "7TvpXtlamdZZ"
      },
      "outputs": [],
      "execution_count": null
    },
    {
      "cell_type": "markdown",
      "source": [
        "4. Color the markers by their respective iris species:"
      ],
      "metadata": {
        "id": "hXgqMbcSmdZa"
      }
    },
    {
      "cell_type": "code",
      "source": [
        "px.scatter(\n",
        "    df,\n",
        "    x=\"sepal_width\",\n",
        "    y=\"sepal_length\",\n",
        "    color=\"...\",  # column name that gives the categories to be colored\n",
        "    template=\"simple_white\",\n",
        "    width=800,\n",
        "    height=500,\n",
        ")"
      ],
      "metadata": {
        "trusted": true,
        "id": "E58iDVJqmdZa"
      },
      "outputs": [],
      "execution_count": null
    },
    {
      "cell_type": "markdown",
      "source": [
        "5. Add the `petal_length` to be displayed as marker size:"
      ],
      "metadata": {
        "id": "FOGmMjgXmdZa"
      }
    },
    {
      "cell_type": "code",
      "source": [
        "px.scatter(\n",
        "    df,\n",
        "    x=\"sepal_width\",\n",
        "    y=\"sepal_length\",\n",
        "    color=\"species\",\n",
        "    size=\"...\",  # column name that gives the values for the marker size\n",
        "    template=\"simple_white\",\n",
        "    width=800,\n",
        "    height=500,\n",
        ")"
      ],
      "metadata": {
        "trusted": true,
        "id": "kjkJQ00ImdZa"
      },
      "outputs": [],
      "execution_count": null
    },
    {
      "cell_type": "markdown",
      "source": [
        "6. There is one more property left that we didn't include into the plot so far. Include the `petal_width` to be shown as well when hovering over the data points:"
      ],
      "metadata": {
        "id": "WrsMzq-YmdZa"
      }
    },
    {
      "cell_type": "code",
      "source": [
        "px.scatter(\n",
        "    df,\n",
        "    x=\"sepal_width\",\n",
        "    y=\"sepal_length\",\n",
        "    color=\"species\",\n",
        "    size=\"petal_length\",\n",
        "    hover_data=[\"column_name1\", \"column_name2\", ...],  # list of column names to be displayed when hovering over data points, additional to those already shown\n",
        "    template=\"simple_white\",\n",
        "    width=800,\n",
        "    height=500,\n",
        ")"
      ],
      "metadata": {
        "trusted": true,
        "id": "7-9We2JimdZa"
      },
      "outputs": [],
      "execution_count": null
    },
    {
      "cell_type": "markdown",
      "source": [
        "7. Add a trendline using `\"lowess\"`, which stands for \"Locally WEighted Scatterplot Smoothing (LOWESS)\". Check out https://plotly.com/python/linear-fits/ for more trendline options."
      ],
      "metadata": {
        "id": "ZDCJpWFjmdZa"
      }
    },
    {
      "cell_type": "code",
      "source": [
        "px.scatter(\n",
        "    df,\n",
        "    x=\"sepal_width\",\n",
        "    y=\"sepal_length\",\n",
        "    color=\"species\",\n",
        "    size=\"petal_length\",\n",
        "    hover_data=[\"petal_width\"],\n",
        "    trendline=\"...\",  # add a trendline using keywords like \"ols\" (linear) or \"lowess\" (non-linear)\n",
        "    template=\"simple_white\",\n",
        "    width=800,\n",
        "    height=500,\n",
        ")"
      ],
      "metadata": {
        "trusted": true,
        "id": "ZMlDPZofmdZa"
      },
      "outputs": [],
      "execution_count": null
    },
    {
      "cell_type": "markdown",
      "source": [
        "8. Lastly, give the plot a title and adjust with which labels the columns should be displayed. Use the labels in the following table:\n",
        "| Column Name | Label |\n",
        "| ----------- | ----------- |\n",
        "| \"sepal_length\"  | \"Sepal Length [cm]\" |\n",
        "| \"sepal_width\" | \"Sepal Width [cm]\" |\n",
        "| \"petal_length\" | \"Petal Length [cm]\" |\n",
        "| \"petal_width\" | \"Petal Width [cm]\" |\n",
        "| \"species\" | \"IRIS Species\" |"
      ],
      "metadata": {
        "id": "CGvdEVHUmdZa"
      }
    },
    {
      "cell_type": "code",
      "source": [
        "px.scatter(\n",
        "    df,\n",
        "    x=\"sepal_width\",\n",
        "    y=\"sepal_length\",\n",
        "    color=\"species\",\n",
        "    size=\"petal_length\",\n",
        "    hover_data=[\"petal_width\"],\n",
        "    trendline=\"lowess\",\n",
        "    template=\"simple_white\",\n",
        "    width=800,\n",
        "    height=500,\n",
        "    title=\"...\",  # title to be displayed\n",
        "    labels={\"column_name1\": \"label1\", \"column_name2\": \"label2\", ...}  # a dictionary where you can write for each column name the label that should be displayed\n",
        ")"
      ],
      "metadata": {
        "trusted": true,
        "id": "2M7f6NbNmdZa"
      },
      "outputs": [],
      "execution_count": null
    },
    {
      "cell_type": "markdown",
      "source": [
        "## Histograms"
      ],
      "metadata": {
        "id": "HzCCe0188XnP"
      }
    },
    {
      "cell_type": "markdown",
      "source": [
        "Let's use a different data set now, that displays the recorded tip amounts, depending on different other properties."
      ],
      "metadata": {
        "id": "fBQ-mzbbmdZa"
      }
    },
    {
      "cell_type": "markdown",
      "source": [
        "**Tasks:**\n",
        "1. Load the Tips data set by executing the following cell. Then display the DataFrame by writing `df` as last (or only) line of a cell and then executing it."
      ],
      "metadata": {
        "id": "2NyD5whrmdZa"
      }
    },
    {
      "cell_type": "code",
      "source": [
        "df = px.data.tips()"
      ],
      "metadata": {
        "id": "K11JhZSi8gmp",
        "trusted": true
      },
      "outputs": [],
      "execution_count": null
    },
    {
      "cell_type": "code",
      "source": [],
      "metadata": {
        "trusted": true,
        "id": "MaYT-guYmdZb"
      },
      "outputs": [],
      "execution_count": null
    },
    {
      "cell_type": "markdown",
      "source": [
        "2. Create a histogram, that shows how often each `total_bill` occured in the dataset:  \n",
        "   *Note:* Since histograms display counts (or percentages) on the y-axis, we don't need to specify a y-axis from the dataset."
      ],
      "metadata": {
        "id": "EwnJhXTDmdZb"
      }
    },
    {
      "cell_type": "code",
      "source": [
        "px.histogram(\n",
        "    df,\n",
        "    x=\"...\",  # column name that gives the x-values\n",
        ")"
      ],
      "metadata": {
        "trusted": true,
        "id": "MsohcfggmdZb"
      },
      "outputs": [],
      "execution_count": null
    },
    {
      "cell_type": "markdown",
      "source": [
        "3. Adjust the number of bins, as well as the width, height and template to suitable values:"
      ],
      "metadata": {
        "id": "2t9EPRybmdZb"
      }
    },
    {
      "cell_type": "code",
      "source": [
        "px.histogram(\n",
        "    df,\n",
        "    x=\"total_bill\",\n",
        "    nbins=...,  # this specificies the maximum number of bins (not the exact number - plotly tries to round to nice numbers)\n",
        "    width=...,\n",
        "    height=...,\n",
        "    template=\"...\",\n",
        ")"
      ],
      "metadata": {
        "trusted": true,
        "id": "wZxmiLtdmdZb"
      },
      "outputs": [],
      "execution_count": null
    },
    {
      "cell_type": "markdown",
      "source": [
        "4. So far we can only see the distribution of a single variable. Let's add some color to see some effects. Use `color` to color the histogram by sex. Use `barmode` and try out three different options: `stack`, `group`, `overlay`. What are the use-cases for the different options?  \n",
        "*Note:* When using `overlay`, you can also add the option `opacity` and give it a value between 0 and 1 to adjust how transparent the plots are."
      ],
      "metadata": {
        "id": "w46guU6WmdZb"
      }
    },
    {
      "cell_type": "code",
      "source": [
        "px.histogram(\n",
        "    df,\n",
        "    x=\"total_bill\",\n",
        "    color=\"...\",\n",
        "    barmode=\"...\",  # choice of \"stack\", \"group\" or \"overlay\"\n",
        "    nbins=10,\n",
        "    template=\"simple_white\",\n",
        "    width=500,\n",
        "    height=400,\n",
        ")"
      ],
      "metadata": {
        "id": "UHh5HJjAuS4q",
        "trusted": true
      },
      "outputs": [],
      "execution_count": null
    },
    {
      "cell_type": "markdown",
      "source": [
        "5. Another way to display distributions are box-plots. We can easily add a box-plot to the histogram, by setting `marginal` to `box`. Feel free to try out the other options as well:"
      ],
      "metadata": {
        "id": "A2JcHWpQmdZb"
      }
    },
    {
      "cell_type": "code",
      "source": [
        "px.histogram(\n",
        "    df,\n",
        "    x=\"total_bill\",\n",
        "    color=\"sex\",\n",
        "    marginal=\"...\",  # choice of \"rug\", \"box\", \"violin\", \"histogram\"\n",
        "    barmode=\"overlay\",\n",
        "    nbins=10,\n",
        "    opacity=0.8,\n",
        "    template=\"simple_white\",\n",
        "    width=500,\n",
        "    height=400,\n",
        ")"
      ],
      "metadata": {
        "id": "dvgNPh_cu4YZ",
        "trusted": true
      },
      "outputs": [],
      "execution_count": null
    },
    {
      "cell_type": "markdown",
      "source": [
        "6. When comparing distributions we are often not only interested in absolute amounts, but also in relative differences. To visualize those better, let's create a 100% stacked histogram: Set `barnorm` (careful: not `barmode`) to `percent` and observe what changes in the histogram. Which information do you gain, which do you lose?"
      ],
      "metadata": {
        "id": "6mPZJP5QmdZc"
      }
    },
    {
      "cell_type": "code",
      "source": [
        "px.histogram(\n",
        "    df,\n",
        "    x=\"total_bill\",\n",
        "    color=\"sex\",\n",
        "    barnorm=\"...\",\n",
        "    nbins=10,\n",
        "    template=\"simple_white\",\n",
        "    width=500,\n",
        "    height=400,\n",
        ")"
      ],
      "metadata": {
        "id": "aUhsCZlFHUBm",
        "trusted": true
      },
      "outputs": [],
      "execution_count": null
    },
    {
      "cell_type": "markdown",
      "source": [
        "7. Let's check if there is a difference in smoking frequency between male- and female-identifying individuals. Add a `pattern_shape` that shows the distribution between smokers and non-smokers."
      ],
      "metadata": {
        "id": "AynwLwvhmdZc"
      }
    },
    {
      "cell_type": "code",
      "source": [
        "px.histogram(\n",
        "    df,\n",
        "    x=\"sex\",  # we are now using sex for both x and color, just to keep the colorization that we used before (consistency in your plots is important!)\n",
        "    color=\"sex\",\n",
        "    pattern_shape=\"...\",\n",
        "    template=\"simple_white\",\n",
        "    width=400,\n",
        "    height=400,\n",
        ")"
      ],
      "metadata": {
        "id": "xukPU0iIHBOT",
        "trusted": true
      },
      "outputs": [],
      "execution_count": null
    },
    {
      "cell_type": "markdown",
      "source": [
        "8. Since we have one category that is overrepresented in the data set, create a 100% stacked histogram again to come to a conclusion."
      ],
      "metadata": {
        "id": "GYqUYVYgmdZd"
      }
    },
    {
      "cell_type": "code",
      "source": [],
      "metadata": {
        "trusted": true,
        "id": "41YWOw8OmdZd"
      },
      "outputs": [],
      "execution_count": null
    },
    {
      "cell_type": "markdown",
      "source": [
        "9. How much in tips were earned per weekday?  Create a histogram that shows the sum of the tips per day."
      ],
      "metadata": {
        "id": "Dk3oPWA7mdZd"
      }
    },
    {
      "cell_type": "code",
      "source": [
        "px.histogram(\n",
        "    df,\n",
        "    x=\"...\",\n",
        "    y=\"...\",  # by adding a y-value, the histogram will not display the count but the summed values of that column\n",
        "    template=\"simple_white\",\n",
        "    width=800,\n",
        "    height=500,\n",
        ")"
      ],
      "metadata": {
        "id": "_3qIIO2-HhQn",
        "trusted": true
      },
      "outputs": [],
      "execution_count": null
    },
    {
      "cell_type": "markdown",
      "source": [
        "10. Since our days have an order, we would also like our histogram to show them in the proper order. Use `category_orders` to sort the days on your x-axis correctly."
      ],
      "metadata": {
        "id": "n9_hfxSWmdZd"
      }
    },
    {
      "cell_type": "code",
      "source": [
        "px.histogram(\n",
        "    df,\n",
        "    x=\"day\",\n",
        "    y=\"tip\",\n",
        "    category_orders={\"column_name\": [\"categorical_value1\", \"categorical_value2\", ...]},\n",
        "    template=\"simple_white\",\n",
        "    width=800,\n",
        "    height=500,\n",
        ")"
      ],
      "metadata": {
        "trusted": true,
        "id": "8Ppjbb3LmdZd"
      },
      "outputs": [],
      "execution_count": null
    },
    {
      "cell_type": "markdown",
      "source": [
        "11. We already saw one way to set a title and x- and y-axis labels. Here is another, that can be a bit easier to read:"
      ],
      "metadata": {
        "id": "AI_HNGvkmdZd"
      }
    },
    {
      "cell_type": "code",
      "source": [
        "px.histogram(\n",
        "    df,\n",
        "    x=\"day\",\n",
        "    y=\"tip\",\n",
        "    category_orders={\"day\": [\"Thur\", \"Fri\", \"Sat\", \"Sun\"]},\n",
        "    template=\"simple_white\",\n",
        "    width=800,\n",
        "    height=500,\n",
        ").update_layout(\n",
        "    title=\"...\",  # add a title\n",
        "    yaxis_title=\"...\",  # add y-axis lable\n",
        "    xaxis_title=None,  # you can use None if you don't want any axis lable\n",
        ")"
      ],
      "metadata": {
        "trusted": true,
        "id": "XdH5BSohmdZd"
      },
      "outputs": [],
      "execution_count": null
    },
    {
      "cell_type": "markdown",
      "source": [
        "12. Add again the `sex` as `color` and make it a grouped histogram."
      ],
      "metadata": {
        "id": "o1894ZXqmdZd"
      }
    },
    {
      "cell_type": "code",
      "source": [],
      "metadata": {
        "trusted": true,
        "id": "JFuqnsDfmdZd"
      },
      "outputs": [],
      "execution_count": null
    },
    {
      "cell_type": "markdown",
      "source": [
        "## Box Plots"
      ],
      "metadata": {
        "id": "snLgOLMx8Q69"
      }
    },
    {
      "cell_type": "markdown",
      "source": [
        "A box plot shows the distribution of the data around the *median*. It shows a box that reaches from the lower quartile (Q1) to the upper quartile (Q3). The \"whiskers\" reach until the last data point that is inside 1.5 times the IQR. Datapoints outside 1.5*IQR are generally considered outliers w.r.t. the distribution of this variable."
      ],
      "metadata": {
        "id": "DUCVacbYmdZe"
      }
    },
    {
      "cell_type": "markdown",
      "source": [
        "**Tasks:**:\n",
        "1. Create a box plot showing the distribution of the `total_bill`."
      ],
      "metadata": {
        "id": "R1f1zfwAmdZe"
      }
    },
    {
      "cell_type": "code",
      "source": [
        "px.box(\n",
        "    df,\n",
        "    y=\"...\",\n",
        "    template=\"...\",\n",
        "    width=...,\n",
        "    height=...,\n",
        ").update_layout(\n",
        "    yaxis_title=\"...\",\n",
        ")"
      ],
      "metadata": {
        "id": "Hhu-7YI32s9n",
        "trusted": true
      },
      "outputs": [],
      "execution_count": null
    },
    {
      "cell_type": "markdown",
      "source": [
        "2. Add the `day` as second variable, using the `color` argument. Also add again the proper `category_order`."
      ],
      "metadata": {
        "id": "zZRIssKgmdZe"
      }
    },
    {
      "cell_type": "code",
      "source": [
        "px.box(\n",
        "    df,\n",
        "    y=\"total_bill\",\n",
        "    color=...,\n",
        "    category_orders=...,\n",
        "    template=\"simple_white\",\n",
        "    width=600,\n",
        "    height=500,\n",
        ").update_layout(\n",
        "    yaxis_title=\"Total Bill\",\n",
        ")"
      ],
      "metadata": {
        "trusted": true,
        "id": "3E32qy7CmdZe"
      },
      "outputs": [],
      "execution_count": null
    },
    {
      "cell_type": "markdown",
      "source": [
        "3. Use `notched=True` to add a \"rough guide of the significance of the difference of medians\" of the box plots. For the interpreations of the notches, the plotly library refers to https://en.wikipedia.org/wiki/Box_plot#Variations  \n",
        "   The size of the notches is calculated by $\\pm \\dfrac{1.58\\times IQR}{\\sqrt{n}}$."
      ],
      "metadata": {
        "id": "BzUfjUKMmdZe"
      }
    },
    {
      "cell_type": "code",
      "source": [
        "px.box(\n",
        "    df,\n",
        "    y=\"total_bill\",\n",
        "    color=\"day\",\n",
        "    ...,\n",
        "    category_orders={\"day\": [\"Thur\", \"Fri\", \"Sat\", \"Sun\"]},\n",
        "    template=\"simple_white\",\n",
        "    width=600,\n",
        "    height=500,\n",
        ").update_layout(\n",
        "    yaxis_title=\"Total Bill\",\n",
        ")"
      ],
      "metadata": {
        "trusted": true,
        "id": "Svfd2JEFmdZf"
      },
      "outputs": [],
      "execution_count": null
    },
    {
      "cell_type": "markdown",
      "source": [
        "4. Let's see how the notches change, when we artificially increase the number of datapoints in our dataset. The following code repeats every datapoint in our dataset 10 times. Repeat the visualization with this new dataset and observe the changes."
      ],
      "metadata": {
        "id": "iG2tt8QGmdZf"
      }
    },
    {
      "cell_type": "code",
      "source": [
        "df_big = pd.concat([df] * 10, ignore_index=True)"
      ],
      "metadata": {
        "trusted": true,
        "id": "W9VcmDh6mdZf"
      },
      "outputs": [],
      "execution_count": null
    },
    {
      "cell_type": "code",
      "source": [
        "px.box(\n",
        "    ...,\n",
        "    y=\"total_bill\",\n",
        "    color=\"day\",\n",
        "    notched=True,\n",
        "    category_orders={\"day\": [\"Thur\", \"Fri\", \"Sat\", \"Sun\"]},\n",
        "    template=\"simple_white\",\n",
        "    width=600,\n",
        "    height=500,\n",
        ").update_layout(\n",
        "    yaxis_title=\"Total Bill\",\n",
        ")"
      ],
      "metadata": {
        "trusted": true,
        "id": "lNNOKp7cmdZg"
      },
      "outputs": [],
      "execution_count": null
    },
    {
      "cell_type": "markdown",
      "source": [
        "## Distribution Plots"
      ],
      "metadata": {
        "id": "zL_jSioK8UK8"
      }
    },
    {
      "cell_type": "markdown",
      "source": [
        "Box-Plots only make sense when the data is *unimodal*, i.e. it has only one peak, such that the distribution of the data around the median gives us a good idea about the data distribution, the IQR and the outliers."
      ],
      "metadata": {
        "id": "UltWtfsrmdZg"
      }
    },
    {
      "cell_type": "markdown",
      "source": [
        "**Tasks:**\n",
        "1. Create a distribution plot to check if our data is unimodal. This is a bit more complicated from the syntax, so let's start simple. Plot the distribution of the `tip` variable."
      ],
      "metadata": {
        "id": "QRc1DLsXmdZg"
      }
    },
    {
      "cell_type": "code",
      "source": [
        "# Define histogram data and the names to be shown\n",
        "hist_data = [df[\"...\"],]\n",
        "group_labels = [\"Tip\",]\n",
        "\n",
        "# Create the distplot\n",
        "ff.create_distplot(\n",
        "    hist_data,\n",
        "    group_labels,\n",
        ")"
      ],
      "metadata": {
        "id": "LKN73li41Czd",
        "trusted": true
      },
      "outputs": [],
      "execution_count": null
    },
    {
      "cell_type": "markdown",
      "source": [
        "2. Add our usual stylings using `.update_layout()`:"
      ],
      "metadata": {
        "id": "y_taDbL8mdZg"
      }
    },
    {
      "cell_type": "code",
      "source": [
        "# Define data and names\n",
        "hist_data = [df[\"tip\"],]\n",
        "group_labels = [\"Tip\",]\n",
        "\n",
        "# Create the distplot\n",
        "ff.create_distplot(\n",
        "    hist_data,\n",
        "    group_labels,\n",
        ").update_layout(\n",
        "    title=...,\n",
        "    xaxis_title=\"...\",\n",
        "    yaxis_title=\"...\",\n",
        "    template=\"...\",\n",
        "    width=...,\n",
        "    height=...\n",
        ")"
      ],
      "metadata": {
        "trusted": true,
        "id": "Y3-QLEEemdZg"
      },
      "outputs": [],
      "execution_count": null
    },
    {
      "cell_type": "markdown",
      "source": [
        "3. Disable the histogram and the \"rug\" on the bottom to only show the distribution by setting `show_hist` and `show_rug` to `False`."
      ],
      "metadata": {
        "id": "U46G0feOmdZg"
      }
    },
    {
      "cell_type": "code",
      "source": [
        "# Define histogram data and the names to be shown\n",
        "hist_data = [df[\"tip\"],]\n",
        "group_labels = [\"Tip\",]\n",
        "\n",
        "# Create the distplot\n",
        "ff.create_distplot(\n",
        "    hist_data,\n",
        "    group_labels,\n",
        "    show_hist=...,\n",
        "    show_rug=...,\n",
        ").update_layout(\n",
        "    title=None,\n",
        "    xaxis_title=\"Tip\",\n",
        "    yaxis_title=\"Density\",\n",
        "    template=\"simple_white\",\n",
        "    width=600,\n",
        "    height=500\n",
        ")"
      ],
      "metadata": {
        "trusted": true,
        "id": "C2bdPWfsmdZg"
      },
      "outputs": [],
      "execution_count": null
    },
    {
      "cell_type": "markdown",
      "source": [
        "4. Let's see if the distribution of tips changes between smokers and non-smokers. Check out the following code to do so and try to understand what's going on. Then change the code to show the distribution of the `total_bill` for each `day` to finally be able to check if the distributions are *unimodal*:"
      ],
      "metadata": {
        "id": "ySV_mYu7mdZh"
      }
    },
    {
      "cell_type": "code",
      "source": [
        "# Define histogram data and the names to be shown\n",
        "hist_data = [df.loc[df[\"smoker\"]==value, \"tip\"] for value in [\"No\", \"Yes\"]]  # creates a list of arrays, holding the data of non-smokers and smokers\n",
        "group_labels = [\"Non-Smoker\", \"Smoker\"]\n",
        "\n",
        "# Create the distplot\n",
        "ff.create_distplot(\n",
        "    hist_data,\n",
        "    group_labels,\n",
        "    show_hist=False,\n",
        "    show_rug=False\n",
        ").update_layout(\n",
        "    title=None,\n",
        "    xaxis_title=\"Tip\",\n",
        "    yaxis_title=\"Density\",\n",
        "    template=\"simple_white\",\n",
        "    width=600,\n",
        "    height=500\n",
        ")"
      ],
      "metadata": {
        "trusted": true,
        "id": "RjDoGun-mdZh"
      },
      "outputs": [],
      "execution_count": null
    },
    {
      "cell_type": "markdown",
      "source": [
        "## Knowledge Discovery"
      ],
      "metadata": {
        "id": "jEiXdY3HmdZh"
      }
    },
    {
      "cell_type": "markdown",
      "source": [
        "Assume you are a waiter/waitress at a restaurant. Who would be your favorite costumer? Also: There is one more variable, that we didn't investigate yet, which is the size of the party. Does this play a role?  \n",
        "**Task:** Create as many visualization as you need to find out the perfect guest or group of guests to serve."
      ],
      "metadata": {
        "id": "KppP8cDwmdZh"
      }
    },
    {
      "cell_type": "code",
      "source": [],
      "metadata": {
        "trusted": true,
        "id": "JK8eZ8LkmdZh"
      },
      "outputs": [],
      "execution_count": null
    },
    {
      "cell_type": "markdown",
      "source": [
        "## Extra: Map of natural disasters."
      ],
      "metadata": {
        "id": "EsBRhJAvmdZh"
      }
    },
    {
      "cell_type": "markdown",
      "source": [
        "To give you an idea, what else is possible, execute the following two code cells. The first one fetches current data from natural desasters from the EONET project of NASA (this will take a moment to run). The second code cell renders the events on an interactive globe. Have fun!"
      ],
      "metadata": {
        "id": "WFdhdQsmmdZh"
      }
    },
    {
      "cell_type": "code",
      "source": [
        "import requests\n",
        "def fetch_all_eonet():\n",
        "    BASE_URL = \"https://eonet.gsfc.nasa.gov/api/v3/events\"\n",
        "    params = {\n",
        "        \"status\": \"all\",  # open + closed events\n",
        "    }\n",
        "\n",
        "    r = requests.get(BASE_URL, params=params)\n",
        "    r.raise_for_status()\n",
        "    data = r.json()\n",
        "\n",
        "    records = []\n",
        "    for event in data[\"events\"]:\n",
        "        for category in event[\"categories\"]:\n",
        "            for geometry in event[\"geometry\"]:\n",
        "                if geometry[\"type\"] == \"Point\":\n",
        "                    record = {\n",
        "                        \"id\": event[\"id\"],\n",
        "                        \"title\": event[\"title\"],\n",
        "                        \"description\": event[\"description\"],\n",
        "                        \"category\": category[\"title\"],\n",
        "                        \"date\": geometry[\"date\"],\n",
        "                        \"latitude\": geometry[\"coordinates\"][1],\n",
        "                        \"longitude\": geometry[\"coordinates\"][0],\n",
        "                        \"magnitudeValue\": geometry[\"magnitudeValue\"],\n",
        "                        \"magnitudeUnit\": geometry[\"magnitudeUnit\"],\n",
        "                    }\n",
        "                    records.append(record)\n",
        "\n",
        "    df_records = pd.DataFrame(records)\n",
        "\n",
        "    return df_records\n",
        "\n",
        "df = fetch_all_eonet()\n",
        "df = df.loc[df.date.between(\"2024\", \"2025\")]\n",
        "print(f\"Fetched {len(df)} events — Dates: {df['date'].min()} to {df['date'].max()}\")"
      ],
      "metadata": {
        "trusted": true,
        "id": "oiv3MwDsmdZh"
      },
      "outputs": [],
      "execution_count": null
    },
    {
      "cell_type": "code",
      "source": [
        "# https://developer.mozilla.org/en-US/docs/Web/CSS/named-color\n",
        "# https://plotly.com/python/map-configuration/\n",
        "# https://plotly.com/python-api-reference/generated/plotly.express.scatter_geo\n",
        "# https://plotly.com/python/reference/layout/geo/\n",
        "\n",
        "px.scatter_geo(\n",
        "    df,\n",
        "    lat='latitude',\n",
        "    lon='longitude',\n",
        "    projection='orthographic',\n",
        "    hover_data=['category', 'date'],\n",
        "    color='category',\n",
        "    width=1200,\n",
        "    height=800,\n",
        ").update_traces(\n",
        "    #mode='markers', marker=dict(size=4, color='crimson'),\n",
        ").update_geos(\n",
        "    showland=True, landcolor='wheat',\n",
        "    showocean=True, oceancolor='dodgerblue',\n",
        "    showlakes=True, lakecolor='lightskyblue',\n",
        "    showcountries=True, countrycolor='gray',\n",
        "    showrivers=True, rivercolor='lightskyblue'\n",
        ")"
      ],
      "metadata": {
        "trusted": true,
        "id": "CdbZjssvmdZh"
      },
      "outputs": [],
      "execution_count": null
    }
  ]
}