{
  "cells": [
    {
      "cell_type": "markdown",
      "metadata": {
        "id": "SPydASzhmdZT"
      },
      "source": [
        "# Visualizations"
      ]
    },
    {
      "cell_type": "markdown",
      "metadata": {
        "id": "qkzMB0IYmdZW"
      },
      "source": [
        "The three most popular visualization libraries in Python are:\n",
        "- `matplotlib`: old, but powerful, not the most convenient to use\n",
        "- `seaborn`: very nice plots out of the box, often used for pulications, built upon `matplotlib`\n",
        "- `plotly`: newest library, interactive plots, easy syntax, often used for analytics\n",
        "\n",
        "We will be using `plotly` in this course, more specifically `plotly.express` as the most convenient option."
      ]
    },
    {
      "cell_type": "code",
      "execution_count": null,
      "metadata": {
        "id": "OXI-z1BjImDU",
        "trusted": true
      },
      "outputs": [],
      "source": [
        "import plotly.express as px\n",
        "import pandas as pd\n",
        "import plotly.figure_factory as ff\n",
        "import plotly.graph_objects as go\n",
        "from plotly.colors import n_colors\n",
        "import numpy as np"
      ]
    },
    {
      "cell_type": "markdown",
      "metadata": {
        "id": "Cs-sUGDL8Zji"
      },
      "source": [
        "## Scatter Plots"
      ]
    },
    {
      "cell_type": "markdown",
      "metadata": {
        "id": "7WEfp59tmdZY"
      },
      "source": [
        "Let's start with scatter plots using the `iris` dataset as example: https://en.wikipedia.org/wiki/Iris_flower_data_set  "
      ]
    },
    {
      "cell_type": "markdown",
      "metadata": {
        "id": "sZj3N1slmdZY"
      },
      "source": [
        "**Tasks:**\n",
        "1. Load the IRIS data set by executing the following cell. Then display the DataFrame by writing `df` as last (or only) line of a cell and then executing it."
      ]
    },
    {
      "cell_type": "code",
      "execution_count": null,
      "metadata": {
        "id": "3oC4WRYAmdZZ",
        "trusted": true
      },
      "outputs": [],
      "source": [
        "df = px.data.iris()"
      ]
    },
    {
      "cell_type": "code",
      "execution_count": null,
      "metadata": {
        "id": "pz_PHst0mdZZ",
        "trusted": true
      },
      "outputs": [],
      "source": []
    },
    {
      "cell_type": "markdown",
      "metadata": {
        "id": "nE-9C6tUmdZZ"
      },
      "source": [
        "Sepals and petals are different leafs of the flower. What we see here are the measured lenghts and widths of different iris flowers belonging to 3 different species."
      ]
    },
    {
      "cell_type": "markdown",
      "metadata": {
        "id": "vgLFNs7XmdZZ"
      },
      "source": [
        "2. Visualize the `sepal_width` on the x-axis and the `sepal_length` on the y-axis, by completing the following code:"
      ]
    },
    {
      "cell_type": "code",
      "execution_count": null,
      "metadata": {
        "id": "pQeNLeDQmdZZ",
        "trusted": true
      },
      "outputs": [],
      "source": [
        "px.scatter(\n",
        "    df,\n",
        "    x=\"...\",  # column name that gives the x-values\n",
        "    y=\"...\",  # column name that gives the y-values\n",
        ")"
      ]
    },
    {
      "cell_type": "markdown",
      "metadata": {
        "id": "hQRu8Zz1mdZZ"
      },
      "source": [
        "3. Add a color template and adjust the width and the height of the plot:"
      ]
    },
    {
      "cell_type": "code",
      "execution_count": null,
      "metadata": {
        "id": "7TvpXtlamdZZ",
        "trusted": true
      },
      "outputs": [],
      "source": [
        "px.scatter(\n",
        "    df,\n",
        "    x=\"sepal_width\",\n",
        "    y=\"sepal_length\",\n",
        "    template=\"simple_white\",  # a simple color template without grid lines; you could e.g. also use \"plotly_white\" if you prefer grid lines\n",
        "    width=...,  # the width in pixel; try out 800\n",
        "    height=..., # the height in pixel; try out 500\n",
        ")"
      ]
    },
    {
      "cell_type": "markdown",
      "metadata": {
        "id": "hXgqMbcSmdZa"
      },
      "source": [
        "4. Color the markers by their respective iris species:"
      ]
    },
    {
      "cell_type": "code",
      "execution_count": null,
      "metadata": {
        "id": "E58iDVJqmdZa",
        "trusted": true
      },
      "outputs": [],
      "source": [
        "px.scatter(\n",
        "    df,\n",
        "    x=\"sepal_width\",\n",
        "    y=\"sepal_length\",\n",
        "    color=\"...\",  # column name that gives the categories to be colored\n",
        "    template=\"simple_white\",\n",
        "    width=800,\n",
        "    height=500,\n",
        ")"
      ]
    },
    {
      "cell_type": "markdown",
      "metadata": {
        "id": "FOGmMjgXmdZa"
      },
      "source": [
        "5. Add the `petal_length` to be displayed as marker size:"
      ]
    },
    {
      "cell_type": "code",
      "execution_count": null,
      "metadata": {
        "id": "kjkJQ00ImdZa",
        "trusted": true
      },
      "outputs": [],
      "source": [
        "px.scatter(\n",
        "    df,\n",
        "    x=\"sepal_width\",\n",
        "    y=\"sepal_length\",\n",
        "    color=\"species\",\n",
        "    size=\"...\",  # column name that gives the values for the marker size\n",
        "    template=\"simple_white\",\n",
        "    width=800,\n",
        "    height=500,\n",
        ")"
      ]
    },
    {
      "cell_type": "markdown",
      "metadata": {
        "id": "WrsMzq-YmdZa"
      },
      "source": [
        "6. There is one more property left that we didn't include into the plot so far. Include the `petal_width` to be shown as well when hovering over the data points:"
      ]
    },
    {
      "cell_type": "code",
      "execution_count": null,
      "metadata": {
        "id": "7-9We2JimdZa",
        "trusted": true
      },
      "outputs": [],
      "source": [
        "px.scatter(\n",
        "    df,\n",
        "    x=\"sepal_width\",\n",
        "    y=\"sepal_length\",\n",
        "    color=\"species\",\n",
        "    size=\"petal_length\",\n",
        "    hover_data=[\"column_name1\", \"column_name2\", ...],  # list of column names to be displayed when hovering over data points, additional to those already shown\n",
        "    template=\"simple_white\",\n",
        "    width=800,\n",
        "    height=500,\n",
        ")"
      ]
    },
    {
      "cell_type": "markdown",
      "metadata": {
        "id": "ZDCJpWFjmdZa"
      },
      "source": [
        "7. Add a trendline using `\"lowess\"`, which stands for \"Locally WEighted Scatterplot Smoothing (LOWESS)\". Check out https://plotly.com/python/linear-fits/ for more trendline options."
      ]
    },
    {
      "cell_type": "code",
      "execution_count": null,
      "metadata": {
        "id": "ZMlDPZofmdZa",
        "trusted": true
      },
      "outputs": [],
      "source": [
        "px.scatter(\n",
        "    df,\n",
        "    x=\"sepal_width\",\n",
        "    y=\"sepal_length\",\n",
        "    color=\"species\",\n",
        "    size=\"petal_length\",\n",
        "    hover_data=[\"petal_width\"],\n",
        "    trendline=\"...\",  # add a trendline using keywords like \"ols\" (linear) or \"lowess\" (non-linear)\n",
        "    template=\"simple_white\",\n",
        "    width=800,\n",
        "    height=500,\n",
        ")"
      ]
    },
    {
      "cell_type": "markdown",
      "metadata": {
        "id": "CGvdEVHUmdZa"
      },
      "source": [
        "8. Lastly, give the plot a title and adjust with which labels the columns should be displayed. Use the labels in the following table:\n",
        "| Column Name | Label |\n",
        "| ----------- | ----------- |\n",
        "| \"sepal_length\"  | \"Sepal Length [cm]\" |\n",
        "| \"sepal_width\" | \"Sepal Width [cm]\" |\n",
        "| \"petal_length\" | \"Petal Length [cm]\" |\n",
        "| \"petal_width\" | \"Petal Width [cm]\" |\n",
        "| \"species\" | \"IRIS Species\" |"
      ]
    },
    {
      "cell_type": "code",
      "execution_count": null,
      "metadata": {
        "id": "2M7f6NbNmdZa",
        "trusted": true
      },
      "outputs": [],
      "source": [
        "px.scatter(\n",
        "    df,\n",
        "    x=\"sepal_width\",\n",
        "    y=\"sepal_length\",\n",
        "    color=\"species\",\n",
        "    size=\"petal_length\",\n",
        "    hover_data=[\"petal_width\"],\n",
        "    trendline=\"lowess\",\n",
        "    template=\"simple_white\",\n",
        "    width=800,\n",
        "    height=500,\n",
        "    title=\"...\",  # title to be displayed\n",
        "    labels={\"column_name1\": \"label1\", \"column_name2\": \"label2\", ...}  # a dictionary where you can write for each column name the label that should be displayed\n",
        ")"
      ]
    },
    {
      "cell_type": "markdown",
      "metadata": {
        "id": "HzCCe0188XnP"
      },
      "source": [
        "## Histograms"
      ]
    },
    {
      "cell_type": "markdown",
      "metadata": {
        "id": "fBQ-mzbbmdZa"
      },
      "source": [
        "Let's use a different data set now, that displays the recorded tip amounts, depending on different other properties."
      ]
    },
    {
      "cell_type": "markdown",
      "metadata": {
        "id": "2NyD5whrmdZa"
      },
      "source": [
        "**Tasks:**\n",
        "1. Load the Tips data set by executing the following cell. Then display the DataFrame by writing `df` as last (or only) line of a cell and then executing it."
      ]
    },
    {
      "cell_type": "code",
      "execution_count": null,
      "metadata": {
        "id": "K11JhZSi8gmp",
        "trusted": true
      },
      "outputs": [],
      "source": [
        "df = px.data.tips()"
      ]
    },
    {
      "cell_type": "code",
      "execution_count": null,
      "metadata": {
        "id": "MaYT-guYmdZb",
        "trusted": true
      },
      "outputs": [],
      "source": []
    },
    {
      "cell_type": "markdown",
      "metadata": {
        "id": "EwnJhXTDmdZb"
      },
      "source": [
        "2. Create a histogram, that shows how often each `total_bill` occured in the dataset:  \n",
        "   *Note:* Since histograms display counts (or percentages) on the y-axis, we don't need to specify a y-axis from the dataset."
      ]
    },
    {
      "cell_type": "code",
      "execution_count": null,
      "metadata": {
        "id": "MsohcfggmdZb",
        "trusted": true
      },
      "outputs": [],
      "source": [
        "px.histogram(\n",
        "    df,\n",
        "    x=\"...\",  # column name that gives the x-values\n",
        ")"
      ]
    },
    {
      "cell_type": "markdown",
      "metadata": {
        "id": "2t9EPRybmdZb"
      },
      "source": [
        "3. Adjust the number of bins, as well as the width, height and template to suitable values:"
      ]
    },
    {
      "cell_type": "code",
      "execution_count": null,
      "metadata": {
        "id": "wZxmiLtdmdZb",
        "trusted": true
      },
      "outputs": [],
      "source": [
        "px.histogram(\n",
        "    df,\n",
        "    x=\"total_bill\",\n",
        "    nbins=...,  # this specificies the maximum number of bins (not the exact number - plotly tries to round to nice numbers)\n",
        "    width=...,\n",
        "    height=...,\n",
        "    template=\"...\",\n",
        ")"
      ]
    },
    {
      "cell_type": "markdown",
      "metadata": {
        "id": "w46guU6WmdZb"
      },
      "source": [
        "4. So far we can only see the distribution of a single variable. Let's add some color to see some effects. Use `color` to color the histogram by sex. Use `barmode` and try out three different options: `stack`, `group`, `overlay`. What are the use-cases for the different options?  \n",
        "*Note:* When using `overlay`, you can also add the option `opacity` and give it a value between 0 and 1 to adjust how transparent the plots are."
      ]
    },
    {
      "cell_type": "code",
      "execution_count": null,
      "metadata": {
        "id": "UHh5HJjAuS4q",
        "trusted": true
      },
      "outputs": [],
      "source": [
        "px.histogram(\n",
        "    df,\n",
        "    x=\"total_bill\",\n",
        "    color=\"...\",\n",
        "    barmode=\"...\",  # choice of \"stack\", \"group\" or \"overlay\"\n",
        "    nbins=10,\n",
        "    template=\"simple_white\",\n",
        "    width=500,\n",
        "    height=400,\n",
        ")"
      ]
    },
    {
      "cell_type": "markdown",
      "metadata": {
        "id": "A2JcHWpQmdZb"
      },
      "source": [
        "5. Another way to display distributions are box-plots. We can easily add a box-plot to the histogram, by setting `marginal` to `box`. Feel free to try out the other options as well:"
      ]
    },
    {
      "cell_type": "code",
      "execution_count": null,
      "metadata": {
        "id": "dvgNPh_cu4YZ",
        "trusted": true
      },
      "outputs": [],
      "source": [
        "px.histogram(\n",
        "    df,\n",
        "    x=\"total_bill\",\n",
        "    color=\"sex\",\n",
        "    marginal=\"...\",  # choice of \"rug\", \"box\", \"violin\", \"histogram\"\n",
        "    barmode=\"overlay\",\n",
        "    nbins=10,\n",
        "    opacity=0.8,\n",
        "    template=\"simple_white\",\n",
        "    width=500,\n",
        "    height=400,\n",
        ")"
      ]
    },
    {
      "cell_type": "markdown",
      "metadata": {
        "id": "6mPZJP5QmdZc"
      },
      "source": [
        "6. When comparing distributions we are often not only interested in absolute amounts, but also in relative differences. To visualize those better, let's create a 100% stacked histogram: Set `barnorm` (careful: not `barmode`) to `percent` and observe what changes in the histogram. Which information do you gain, which do you lose?"
      ]
    },
    {
      "cell_type": "code",
      "execution_count": null,
      "metadata": {
        "id": "aUhsCZlFHUBm",
        "trusted": true
      },
      "outputs": [],
      "source": [
        "px.histogram(\n",
        "    df,\n",
        "    x=\"total_bill\",\n",
        "    color=\"sex\",\n",
        "    barnorm=\"...\",\n",
        "    nbins=10,\n",
        "    template=\"simple_white\",\n",
        "    width=500,\n",
        "    height=400,\n",
        ")"
      ]
    },
    {
      "cell_type": "markdown",
      "metadata": {
        "id": "AynwLwvhmdZc"
      },
      "source": [
        "7. Let's check if there is a difference in smoking frequency between male- and female-identifying individuals. Add a `pattern_shape` that shows the distribution between smokers and non-smokers."
      ]
    },
    {
      "cell_type": "code",
      "execution_count": null,
      "metadata": {
        "id": "xukPU0iIHBOT",
        "trusted": true
      },
      "outputs": [],
      "source": [
        "px.histogram(\n",
        "    df,\n",
        "    x=\"sex\",  # we are now using sex for both x and color, just to keep the colorization that we used before (consistency in your plots is important!)\n",
        "    color=\"sex\",\n",
        "    pattern_shape=\"...\",\n",
        "    template=\"simple_white\",\n",
        "    width=400,\n",
        "    height=400,\n",
        ")"
      ]
    },
    {
      "cell_type": "markdown",
      "metadata": {
        "id": "GYqUYVYgmdZd"
      },
      "source": [
        "8. Since we have one category that is overrepresented in the data set, create a 100% stacked histogram again to come to a conclusion."
      ]
    },
    {
      "cell_type": "code",
      "execution_count": null,
      "metadata": {
        "id": "41YWOw8OmdZd",
        "trusted": true
      },
      "outputs": [],
      "source": []
    },
    {
      "cell_type": "markdown",
      "metadata": {
        "id": "Dk3oPWA7mdZd"
      },
      "source": [
        "9. How much in tips were earned per weekday?  Create a histogram that shows the sum of the tips per day."
      ]
    },
    {
      "cell_type": "code",
      "execution_count": null,
      "metadata": {
        "id": "_3qIIO2-HhQn",
        "trusted": true
      },
      "outputs": [],
      "source": [
        "px.histogram(\n",
        "    df,\n",
        "    x=\"...\",\n",
        "    y=\"...\",  # by adding a y-value, the histogram will not display the count but the summed values of that column\n",
        "    template=\"simple_white\",\n",
        "    width=800,\n",
        "    height=500,\n",
        ")"
      ]
    },
    {
      "cell_type": "markdown",
      "metadata": {
        "id": "n9_hfxSWmdZd"
      },
      "source": [
        "10. Since our days have an order, we would also like our histogram to show them in the proper order. Use `category_orders` to sort the days on your x-axis correctly."
      ]
    },
    {
      "cell_type": "code",
      "execution_count": null,
      "metadata": {
        "id": "8Ppjbb3LmdZd",
        "trusted": true
      },
      "outputs": [],
      "source": [
        "px.histogram(\n",
        "    df,\n",
        "    x=\"day\",\n",
        "    y=\"tip\",\n",
        "    category_orders={\"column_name\": [\"categorical_value1\", \"categorical_value2\", ...]},\n",
        "    template=\"simple_white\",\n",
        "    width=800,\n",
        "    height=500,\n",
        ")"
      ]
    },
    {
      "cell_type": "markdown",
      "metadata": {
        "id": "AI_HNGvkmdZd"
      },
      "source": [
        "11. We already saw one way to set a title and x- and y-axis labels. Here is another, that can be a bit easier to read:"
      ]
    },
    {
      "cell_type": "code",
      "execution_count": null,
      "metadata": {
        "id": "XdH5BSohmdZd",
        "trusted": true
      },
      "outputs": [],
      "source": [
        "px.histogram(\n",
        "    df,\n",
        "    x=\"day\",\n",
        "    y=\"tip\",\n",
        "    category_orders={\"day\": [\"Thur\", \"Fri\", \"Sat\", \"Sun\"]},\n",
        "    template=\"simple_white\",\n",
        "    width=800,\n",
        "    height=500,\n",
        ").update_layout(\n",
        "    title=\"...\",  # add a title\n",
        "    yaxis_title=\"...\",  # add y-axis lable\n",
        "    xaxis_title=None,  # you can use None if you don't want any axis lable\n",
        ")"
      ]
    },
    {
      "cell_type": "markdown",
      "metadata": {
        "id": "o1894ZXqmdZd"
      },
      "source": [
        "12. Add again the `sex` as `color` and make it a grouped histogram."
      ]
    },
    {
      "cell_type": "code",
      "execution_count": null,
      "metadata": {
        "id": "JFuqnsDfmdZd",
        "trusted": true
      },
      "outputs": [],
      "source": []
    },
    {
      "cell_type": "markdown",
      "metadata": {
        "id": "snLgOLMx8Q69"
      },
      "source": [
        "## Box Plots"
      ]
    },
    {
      "cell_type": "markdown",
      "metadata": {
        "id": "DUCVacbYmdZe"
      },
      "source": [
        "A box plot shows the distribution of the data around the *median*. It shows a box that reaches from the lower quartile (Q1) to the upper quartile (Q3). The \"whiskers\" reach until the last data point that is inside 1.5 times the IQR. Datapoints outside 1.5*IQR are generally considered outliers w.r.t. the distribution of this variable."
      ]
    },
    {
      "cell_type": "markdown",
      "metadata": {
        "id": "R1f1zfwAmdZe"
      },
      "source": [
        "**Tasks:**:\n",
        "1. Create a box plot showing the distribution of the `total_bill`."
      ]
    },
    {
      "cell_type": "code",
      "execution_count": null,
      "metadata": {
        "id": "Hhu-7YI32s9n",
        "trusted": true
      },
      "outputs": [],
      "source": [
        "px.box(\n",
        "    df,\n",
        "    y=\"...\",\n",
        "    template=\"...\",\n",
        "    width=...,\n",
        "    height=...,\n",
        ").update_layout(\n",
        "    yaxis_title=\"...\",\n",
        ")"
      ]
    },
    {
      "cell_type": "markdown",
      "metadata": {
        "id": "zZRIssKgmdZe"
      },
      "source": [
        "2. Add the `day` as second variable, using the `color` argument. Also add again the proper `category_order`."
      ]
    },
    {
      "cell_type": "code",
      "execution_count": null,
      "metadata": {
        "id": "3E32qy7CmdZe",
        "trusted": true
      },
      "outputs": [],
      "source": [
        "px.box(\n",
        "    df,\n",
        "    y=\"total_bill\",\n",
        "    color=...,\n",
        "    category_orders=...,\n",
        "    template=\"simple_white\",\n",
        "    width=600,\n",
        "    height=500,\n",
        ").update_layout(\n",
        "    yaxis_title=\"Total Bill\",\n",
        ")"
      ]
    },
    {
      "cell_type": "markdown",
      "metadata": {
        "id": "BzUfjUKMmdZe"
      },
      "source": [
        "3. Use `notched=True` to add a \"rough guide of the significance of the difference of medians\" of the box plots. For the interpreations of the notches, the plotly library refers to https://en.wikipedia.org/wiki/Box_plot#Variations  \n",
        "   The size of the notches is calculated by $\\pm \\dfrac{1.58\\times IQR}{\\sqrt{n}}$."
      ]
    },
    {
      "cell_type": "code",
      "execution_count": null,
      "metadata": {
        "id": "Svfd2JEFmdZf",
        "trusted": true
      },
      "outputs": [],
      "source": [
        "px.box(\n",
        "    df,\n",
        "    y=\"total_bill\",\n",
        "    color=\"day\",\n",
        "    ...,\n",
        "    category_orders={\"day\": [\"Thur\", \"Fri\", \"Sat\", \"Sun\"]},\n",
        "    template=\"simple_white\",\n",
        "    width=600,\n",
        "    height=500,\n",
        ").update_layout(\n",
        "    yaxis_title=\"Total Bill\",\n",
        ")"
      ]
    },
    {
      "cell_type": "markdown",
      "metadata": {
        "id": "iG2tt8QGmdZf"
      },
      "source": [
        "4. Let's see how the notches change, when we artificially increase the number of datapoints in our dataset. The following code repeats every datapoint in our dataset 10 times. Repeat the visualization with this new dataset and observe the changes."
      ]
    },
    {
      "cell_type": "code",
      "execution_count": null,
      "metadata": {
        "id": "W9VcmDh6mdZf",
        "trusted": true
      },
      "outputs": [],
      "source": [
        "df_big = pd.concat([df] * 10, ignore_index=True)"
      ]
    },
    {
      "cell_type": "code",
      "execution_count": null,
      "metadata": {
        "id": "lNNOKp7cmdZg",
        "trusted": true
      },
      "outputs": [],
      "source": [
        "px.box(\n",
        "    ...,\n",
        "    y=\"total_bill\",\n",
        "    color=\"day\",\n",
        "    notched=True,\n",
        "    category_orders={\"day\": [\"Thur\", \"Fri\", \"Sat\", \"Sun\"]},\n",
        "    template=\"simple_white\",\n",
        "    width=600,\n",
        "    height=500,\n",
        ").update_layout(\n",
        "    yaxis_title=\"Total Bill\",\n",
        ")"
      ]
    },
    {
      "cell_type": "markdown",
      "metadata": {
        "id": "zL_jSioK8UK8"
      },
      "source": [
        "## Distribution Plots"
      ]
    },
    {
      "cell_type": "markdown",
      "metadata": {
        "id": "UltWtfsrmdZg"
      },
      "source": [
        "Box-Plots only make sense when the data is *unimodal*, i.e. it has only one peak, such that the distribution of the data around the median gives us a good idea about the data distribution, the IQR and the outliers."
      ]
    },
    {
      "cell_type": "markdown",
      "metadata": {
        "id": "QRc1DLsXmdZg"
      },
      "source": [
        "**Tasks:**\n",
        "1. Create a distribution plot to check if our data is unimodal. This is a bit more complicated from the syntax, so let's start simple. Plot the distribution of the `tip` variable."
      ]
    },
    {
      "cell_type": "code",
      "execution_count": null,
      "metadata": {
        "id": "LKN73li41Czd",
        "trusted": true
      },
      "outputs": [],
      "source": [
        "# Define histogram data and the names to be shown\n",
        "hist_data = [df[\"...\"],]\n",
        "group_labels = [\"Tip\",]\n",
        "\n",
        "# Create the distplot\n",
        "ff.create_distplot(\n",
        "    hist_data,\n",
        "    group_labels,\n",
        ")"
      ]
    },
    {
      "cell_type": "markdown",
      "metadata": {
        "id": "y_taDbL8mdZg"
      },
      "source": [
        "2. Add our usual stylings using `.update_layout()`:"
      ]
    },
    {
      "cell_type": "code",
      "execution_count": null,
      "metadata": {
        "id": "Y3-QLEEemdZg",
        "trusted": true
      },
      "outputs": [],
      "source": [
        "# Define data and names\n",
        "hist_data = [df[\"tip\"],]\n",
        "group_labels = [\"Tip\",]\n",
        "\n",
        "# Create the distplot\n",
        "ff.create_distplot(\n",
        "    hist_data,\n",
        "    group_labels,\n",
        ").update_layout(\n",
        "    title=...,\n",
        "    xaxis_title=\"...\",\n",
        "    yaxis_title=\"...\",\n",
        "    template=\"...\",\n",
        "    width=...,\n",
        "    height=...\n",
        ")"
      ]
    },
    {
      "cell_type": "markdown",
      "metadata": {
        "id": "U46G0feOmdZg"
      },
      "source": [
        "3. Disable the histogram and the \"rug\" on the bottom to only show the distribution by setting `show_hist` and `show_rug` to `False`."
      ]
    },
    {
      "cell_type": "code",
      "execution_count": null,
      "metadata": {
        "id": "C2bdPWfsmdZg",
        "trusted": true
      },
      "outputs": [],
      "source": [
        "# Define histogram data and the names to be shown\n",
        "hist_data = [df[\"tip\"],]\n",
        "group_labels = [\"Tip\",]\n",
        "\n",
        "# Create the distplot\n",
        "ff.create_distplot(\n",
        "    hist_data,\n",
        "    group_labels,\n",
        "    show_hist=...,\n",
        "    show_rug=...,\n",
        ").update_layout(\n",
        "    title=None,\n",
        "    xaxis_title=\"Tip\",\n",
        "    yaxis_title=\"Density\",\n",
        "    template=\"simple_white\",\n",
        "    width=600,\n",
        "    height=500\n",
        ")"
      ]
    },
    {
      "cell_type": "markdown",
      "metadata": {
        "id": "ySV_mYu7mdZh"
      },
      "source": [
        "4. Let's see if the distribution of tips changes between smokers and non-smokers. Check out the following code to do so and try to understand what's going on. Then change the code to show the distribution of the `total_bill` for each `day` to finally be able to check if the distributions are *unimodal*:"
      ]
    },
    {
      "cell_type": "code",
      "execution_count": null,
      "metadata": {
        "id": "RjDoGun-mdZh",
        "trusted": true
      },
      "outputs": [],
      "source": [
        "# Define histogram data and the names to be shown\n",
        "hist_data = [df.loc[df[\"smoker\"]==value, \"tip\"] for value in [\"No\", \"Yes\"]]  # creates a list of arrays, holding the data of non-smokers and smokers\n",
        "group_labels = [\"Non-Smoker\", \"Smoker\"]\n",
        "\n",
        "# Create the distplot\n",
        "ff.create_distplot(\n",
        "    hist_data,\n",
        "    group_labels,\n",
        "    show_hist=False,\n",
        "    show_rug=False\n",
        ").update_layout(\n",
        "    title=None,\n",
        "    xaxis_title=\"Tip\",\n",
        "    yaxis_title=\"Density\",\n",
        "    template=\"simple_white\",\n",
        "    width=600,\n",
        "    height=500\n",
        ")"
      ]
    },
    {
      "cell_type": "markdown",
      "metadata": {
        "id": "jEiXdY3HmdZh"
      },
      "source": [
        "## Knowledge Discovery"
      ]
    },
    {
      "cell_type": "markdown",
      "metadata": {
        "id": "KppP8cDwmdZh"
      },
      "source": [
        "Assume you are a waiter/waitress at a restaurant. Who would be your favorite costumer? Also: There is one more variable, that we didn't investigate yet, which is the size of the party. Does this play a role?  \n",
        "**Task:** Create as many visualization as you need to find out the perfect guest or group of guests to serve."
      ]
    },
    {
      "cell_type": "code",
      "execution_count": null,
      "metadata": {
        "id": "JK8eZ8LkmdZh",
        "trusted": true
      },
      "outputs": [],
      "source": []
    },
    {
      "cell_type": "markdown",
      "metadata": {
        "id": "EsBRhJAvmdZh"
      },
      "source": [
        "## Extra: Map of natural disasters."
      ]
    },
    {
      "cell_type": "markdown",
      "metadata": {
        "id": "WFdhdQsmmdZh"
      },
      "source": [
        "To give you an idea, what else is possible, execute the following two code cells. The first one fetches current data from natural desasters from the EONET project of NASA (this will take a moment to run). The second code cell renders the events on an interactive globe. Have fun!"
      ]
    },
    {
      "cell_type": "code",
      "execution_count": null,
      "metadata": {
        "id": "oiv3MwDsmdZh",
        "trusted": true
      },
      "outputs": [],
      "source": [
        "import requests\n",
        "def fetch_all_eonet():\n",
        "    BASE_URL = \"https://eonet.gsfc.nasa.gov/api/v3/events\"\n",
        "    params = {\n",
        "        \"status\": \"all\",  # open + closed events\n",
        "    }\n",
        "\n",
        "    r = requests.get(BASE_URL, params=params)\n",
        "    r.raise_for_status()\n",
        "    data = r.json()\n",
        "\n",
        "    records = []\n",
        "    for event in data[\"events\"]:\n",
        "        for category in event[\"categories\"]:\n",
        "            for geometry in event[\"geometry\"]:\n",
        "                if geometry[\"type\"] == \"Point\":\n",
        "                    record = {\n",
        "                        \"id\": event[\"id\"],\n",
        "                        \"title\": event[\"title\"],\n",
        "                        \"description\": event[\"description\"],\n",
        "                        \"category\": category[\"title\"],\n",
        "                        \"date\": geometry[\"date\"],\n",
        "                        \"latitude\": geometry[\"coordinates\"][1],\n",
        "                        \"longitude\": geometry[\"coordinates\"][0],\n",
        "                        \"magnitudeValue\": geometry[\"magnitudeValue\"],\n",
        "                        \"magnitudeUnit\": geometry[\"magnitudeUnit\"],\n",
        "                    }\n",
        "                    records.append(record)\n",
        "\n",
        "    df_records = pd.DataFrame(records)\n",
        "\n",
        "    return df_records\n",
        "\n",
        "df = fetch_all_eonet()\n",
        "df = df.loc[df.date.between(\"2024\", \"2025\")]\n",
        "print(f\"Fetched {len(df)} events — Dates: {df['date'].min()} to {df['date'].max()}\")"
      ]
    },
    {
      "cell_type": "code",
      "execution_count": null,
      "metadata": {
        "id": "CdbZjssvmdZh",
        "trusted": true
      },
      "outputs": [],
      "source": [
        "# https://developer.mozilla.org/en-US/docs/Web/CSS/named-color\n",
        "# https://plotly.com/python/map-configuration/\n",
        "# https://plotly.com/python-api-reference/generated/plotly.express.scatter_geo\n",
        "# https://plotly.com/python/reference/layout/geo/\n",
        "\n",
        "px.scatter_geo(\n",
        "    df,\n",
        "    lat='latitude',\n",
        "    lon='longitude',\n",
        "    projection='orthographic',\n",
        "    hover_data=['category', 'date'],\n",
        "    color='category',\n",
        "    width=1200,\n",
        "    height=800,\n",
        ").update_traces(\n",
        "    #mode='markers', marker=dict(size=4, color='crimson'),\n",
        ").update_geos(\n",
        "    showland=True, landcolor='wheat',\n",
        "    showocean=True, oceancolor='dodgerblue',\n",
        "    showlakes=True, lakecolor='lightskyblue',\n",
        "    showcountries=True, countrycolor='gray',\n",
        "    showrivers=True, rivercolor='lightskyblue'\n",
        ")"
      ]
    }
  ],
  "metadata": {
    "colab": {
      "provenance": []
    },
    "kernelspec": {
      "display_name": "venv (3.12.12)",
      "language": "python",
      "name": "python3"
    },
    "language_info": {
      "name": "python",
      "version": "3.12.12"
    }
  },
  "nbformat": 4,
  "nbformat_minor": 0
}
