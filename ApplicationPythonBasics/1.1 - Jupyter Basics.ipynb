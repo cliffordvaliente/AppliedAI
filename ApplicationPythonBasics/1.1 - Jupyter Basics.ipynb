{
 "cells": [
  {
   "cell_type": "markdown",
   "metadata": {
    "id": "Itj673koDwse",
    "tags": []
   },
   "source": [
    "# Getting Started with Jupyter Notebooks and Jupyter Lab"
   ]
  },
  {
   "cell_type": "markdown",
   "metadata": {
    "id": "zov8As5kDwsf"
   },
   "source": [
    "We are in this course using Jupyter Notebooks and Jupyter Lab to work with Python. Jupyter Notebooks are files like this one, that hold the Python code and describing texts. Jupyter Lab is the IDE ('integrated development environment'), the interface that we are using to display, edit and execute the files."
   ]
  },
  {
   "cell_type": "markdown",
   "metadata": {
    "id": "sr8_CWCtDwsg",
    "tags": []
   },
   "source": [
    "## Cell types & How to run cells"
   ]
  },
  {
   "cell_type": "markdown",
   "metadata": {
    "id": "I3sO366sDwsg"
   },
   "source": [
    "In Jupyter Notebooks, everything is organized in cells. This text is in a cell of type 'Markdown'."
   ]
  },
  {
   "cell_type": "code",
   "execution_count": 1,
   "metadata": {
    "id": "m8llBoxYDwsg"
   },
   "outputs": [
    {
     "name": "stdout",
     "output_type": "stream",
     "text": [
      "This code is in a cell of type 'Code'.\n"
     ]
    }
   ],
   "source": [
    "print(\"This code is in a cell of type 'Code'.\")"
   ]
  },
  {
   "cell_type": "markdown",
   "metadata": {
    "id": "kJdsHuMzDwsh",
    "jp-MarkdownHeadingCollapsed": true,
    "tags": []
   },
   "source": [
    "Click on the cell above and press **Shift + Enter** to execute it."
   ]
  },
  {
   "cell_type": "markdown",
   "metadata": {
    "id": "FajWQgeWDwsh",
    "tags": []
   },
   "source": [
    "*Note:*  \n",
    "Cells can be executed in different ways:\n",
    "- **Shift+Enter**: executes the cell and jumps to the next one\n",
    "- **Ctrl+Enter**: executes the cell without jumping to the next one (or click on the **single arrow** (>) in the toolbar at the top)\n",
    "- the menu item 'Runtime' ('Laufzeit') gives further options"
   ]
  },
  {
   "cell_type": "markdown",
   "metadata": {
    "id": "A5VB7K_3Dwsh",
    "tags": []
   },
   "source": [
    "## Change cell type"
   ]
  },
  {
   "cell_type": "markdown",
   "metadata": {
    "id": "bAmhnmEVDwsh"
   },
   "source": [
    "Change the type of the following cell to 'Markdown' and then run it.  \n",
    "Then change the type to 'Code' and run it again.  \n",
    "Did you notice what changed?"
   ]
  },
  {
   "cell_type": "code",
   "execution_count": 3,
   "metadata": {
    "id": "CdwlaAygDwsh"
   },
   "outputs": [
    {
     "data": {
      "text/plain": [
       "2"
      ]
     },
     "execution_count": 3,
     "metadata": {},
     "output_type": "execute_result"
    }
   ],
   "source": [
    "1+1"
   ]
  },
  {
   "cell_type": "markdown",
   "metadata": {
    "id": "sd204Ua6Dwsi"
   },
   "source": [
    "*Note:*<br>\n",
    "The type of a cell can either be changed by using the dropdown menu in the toolbar or by using the following shortcuts:\n",
    "- **Ctrl+M M**: change cell type to 'Markdown'\n",
    "- **Ctrl+M Y**: change cell type to 'Code'"
   ]
  },
  {
   "cell_type": "markdown",
   "metadata": {
    "id": "Fu3nYMmyDwsi"
   },
   "source": [
    "## Change cell content"
   ]
  },
  {
   "cell_type": "markdown",
   "metadata": {
    "id": "PU5vlpPmDwsi"
   },
   "source": [
    "Markdown is a markup language with which you can format text with some simple commands."
   ]
  },
  {
   "cell_type": "markdown",
   "metadata": {
    "id": "jO9X7WmwDwsi"
   },
   "source": [
    "Modify the text in this cell and make the following changes:  \n",
    "\n",
    "This should be an h3 ('Header 3') heading\n",
    "- *this text should be displayed in bold*\n",
    "- **this text should be displayed in italics**\n",
    "- the list should be a numbered list\n",
    "- [ ] mark this checkbox as done\n",
    "\n",
    "Remember: Execute the cell with **Shift+Enter** to execute the Markdown commands."
   ]
  },
  {
   "cell_type": "markdown",
   "metadata": {
    "id": "5lIhdV3LDwsj"
   },
   "source": [
    "*Note:*<br>\n",
    "To change the cell content you have to either **double click** into it or use the **arrow** keys to select the cell and hit **Enter** to go into the selected cell."
   ]
  },
  {
   "cell_type": "markdown",
   "metadata": {
    "id": "xFYcSgnsDwsk"
   },
   "source": [
    "*Resources:*\n",
    "- Markdown Cheatsheet: https://sqlbak.com/blog/wp-content/uploads/2020/12/Jupyter-Notebook-Markdown-Cheatsheet2.pdf"
   ]
  },
  {
   "cell_type": "markdown",
   "metadata": {
    "id": "hED9yp_LDwsk",
    "tags": []
   },
   "source": [
    "## Create cells, move cells, etc."
   ]
  },
  {
   "cell_type": "markdown",
   "metadata": {
    "id": "MiqH1ZkPDwsk"
   },
   "source": [
    "Move this cell all the way to the top of the section (under 'Create cells, move them, etc.')."
   ]
  },
  {
   "cell_type": "markdown",
   "metadata": {
    "id": "1w63jeLkDwsk"
   },
   "source": [
    "Duplicate this cell."
   ]
  },
  {
   "cell_type": "markdown",
   "metadata": {
    "id": "s_0PYJCxDwsk"
   },
   "source": [
    "Move this cell all the way down (above '*Note:*')."
   ]
  },
  {
   "cell_type": "code",
   "execution_count": null,
   "metadata": {},
   "outputs": [],
   "source": []
  },
  {
   "cell_type": "markdown",
   "metadata": {
    "id": "llrKqxipDwsk"
   },
   "source": [
    "Insert a new (empty) cell below this one and another above this one."
   ]
  },
  {
   "cell_type": "code",
   "execution_count": null,
   "metadata": {},
   "outputs": [],
   "source": []
  },
  {
   "cell_type": "markdown",
   "metadata": {
    "id": "ag8AJs9KGUyg"
   },
   "source": []
  },
  {
   "cell_type": "markdown",
   "metadata": {},
   "source": []
  },
  {
   "cell_type": "markdown",
   "metadata": {},
   "source": []
  },
  {
   "attachments": {},
   "cell_type": "markdown",
   "metadata": {
    "id": "Iv36yaw3Dwsk"
   },
   "source": [
    "*Note:*<br>\n",
    "When you select a cell, some buttons appear on the right-hand-side that allow you to easily copy the cell, move it up or down, insert new cells and delete the current cell. You can also use the toolbar buttons or the options under the 'Edit' menu item, or drag and drop cells (grabing them left of the cell).\n",
    "\n",
    "The following shortcuts are also available:\n",
    "- **Ctrl+M D**: Delete the current cell (**D**elete)\n",
    "- **Ctrl+M A**: Insert new cell above (**A**bove)\n",
    "- **Ctrl+M B**: Insert new cell below (**B**elow)\n",
    "- **Ctrl+M H**: Open keyboard shortcut options\n",
    "\n",
    "\n",
    "*Resources:*\n",
    "- JupyterLab Shortcuts: Tools->Tastenkombinationen oder **Ctrl+M H**\n",
    "\n",
    "## Conclusion\n",
    "\n",
    "You now know enough to find your way around Jupyter Notebooks in Jupyter Lab. To continue, open the next notebook and start with some Python coding!\n",
    "\n",
    "\n",
    "\n"
   ]
  }
 ],
 "metadata": {
  "colab": {
   "provenance": []
  },
  "kernelspec": {
   "display_name": "Python 3 (ipykernel)",
   "language": "python",
   "name": "python3"
  },
  "language_info": {
   "codemirror_mode": {
    "name": "ipython",
    "version": 3
   },
   "file_extension": ".py",
   "mimetype": "text/x-python",
   "name": "python",
   "nbconvert_exporter": "python",
   "pygments_lexer": "ipython3",
   "version": "3.12.12"
  },
  "toc-autonumbering": false,
  "toc-showmarkdowntxt": false
 },
 "nbformat": 4,
 "nbformat_minor": 4
}
