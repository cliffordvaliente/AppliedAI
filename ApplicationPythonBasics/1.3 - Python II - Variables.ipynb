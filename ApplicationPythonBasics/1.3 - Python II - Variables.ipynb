{
 "cells": [
  {
   "cell_type": "markdown",
   "metadata": {
    "tags": []
   },
   "source": [
    "#  Introduction to Python: Variables"
   ]
  },
  {
   "cell_type": "markdown",
   "metadata": {},
   "source": [
    "## Define variables"
   ]
  },
  {
   "cell_type": "markdown",
   "metadata": {},
   "source": [
    "Often we want to *store values* to be able to calculate further with them. For this we use *variables* in Python, to which we can assign a value with `[variable_name] = [value]`, e.g.\n",
    "```python\n",
    "my_number = 7\n",
    "```\n",
    "to assign the value `7` to a variable named `my_number`."
   ]
  },
  {
   "cell_type": "markdown",
   "metadata": {},
   "source": [
    "<div class=\"alert alert-block alert-info\">\n",
    "    <strong>Naming Conventions</strong><br>\n",
    "    Variable names are <em>lowercase</em> in Python and multiple words in the variable name are separated with an underscore `_`.<br>\n",
    "    To learn more about Python naming and formatting conventions, check out the popular <a href=\"https://peps.python.org/pep-0008/\">PEP8 – Style Guide for Python Code</a>!\n",
    "</div>"
   ]
  },
  {
   "cell_type": "markdown",
   "metadata": {},
   "source": [
    "**Task:** Create the variables `age`, `first_name` and `last_name` and assign the values given in the following table (you will learn how to display the assigned values in the next task):\n",
    "| Variable_name | Value |\n",
    "| ----------- | ----------- |\n",
    "| age  | 25 |\n",
    "| first_name | Max | \n",
    "| last_name | Mustermann | "
   ]
  },
  {
   "cell_type": "markdown",
   "metadata": {},
   "source": [
    "*Note:* To assign a *text* to a variable you have to put the value in quotation marks, e.g.: `my_text = 'Here is a text'`\n"
   ]
  },
  {
   "cell_type": "markdown",
   "metadata": {},
   "source": [
    "## Accessing variable values"
   ]
  },
  {
   "cell_type": "markdown",
   "metadata": {},
   "source": [
    "To access a variable value (e.g., in a calculation or in a function) you only need to write the name of the variable, e.g. `my_number`. To display the value you can use the `print()` function, which you already got to know in the previous chapter, and pass the variable name as argument. Alternatively, you can write the variable name in the last row of a cell without using the `print()` function to display its content."
   ]
  },
  {
   "cell_type": "markdown",
   "metadata": {},
   "source": [
    "**Task:** Output the stored values of the variables defined in the previous task...\n",
    "1. ... by writing just the variable name in the last (or only) line of code in a cell and executing it.\n",
    "2. ... by using the `print()` function.\n",
    "3. Which differences do you notice in the output?"
   ]
  },
  {
   "cell_type": "markdown",
   "metadata": {},
   "source": [
    "## Calculating with variables"
   ]
  },
  {
   "cell_type": "markdown",
   "metadata": {},
   "source": [
    "Variables are very useful if you want to store values for calculations. All the arithmetic operations and function that you already learned in the first Python exercise can be done with variables as well. For example, `print(age)` would output `25`, while `print(age + 5)` would now output `30` as the calculation is done first and the result is passed to the `print()` function.  "
   ]
  },
  {
   "cell_type": "markdown",
   "metadata": {},
   "source": [
    "**Task:**\n",
    "1. Displaying the age in years is so basic. Let's display it in seconds! Use the variable `age` and simple arithmetic operations (no function is needed).<br>\n",
    "2. Let's print our full name! Use the variables `first_name` and `last_name` and `+` to connect the two. To add a space inbetween first and last name, add a `' '` in between (i.e. a text consisting of only a space).<br>"
   ]
  },
  {
   "cell_type": "markdown",
   "metadata": {},
   "source": [
    "*Note:*\n",
    "- The `+`-operator is much more useful than to just add numbers. You can also use it do add together texts and all kinds of other data structures.\n",
    "- You can also assign calculations to variables, e.g.: `age_in_days = age * 365.24`"
   ]
  },
  {
   "cell_type": "markdown",
   "metadata": {},
   "source": [
    "## Reassigning variables"
   ]
  },
  {
   "cell_type": "markdown",
   "metadata": {},
   "source": [
    "Variables are very flexible beings. You can assign new values to already existing variables in Python at any time, e.g.: `first_name = 'Erika'` (even if `first_name = 'Max'` was set before). The previous value will be lost and forgotten and only the current value will be stored in the variable until the next reassignment.\n",
    "\n",
    "**Task:**\n",
    "1. Set the variable `age` to 20 and display the new value.\n",
    "2. Did anything change in the output of the two previous tasks ('Output variables' and 'Calculate with variables')?\n",
    "3. Now rerun the cells from the previous two tasks. Has anything changed now? (More on this in later tasks.)"
   ]
  },
  {
   "cell_type": "markdown",
   "metadata": {},
   "source": [
    "## Relating variables to their own values"
   ]
  },
  {
   "cell_type": "markdown",
   "metadata": {},
   "source": [
    "You can use the value of a variable in Python to redefine itself, e.g.: `my_number = my_number * 2` doubles the value in the variable `my_number` from `7` to `14`. In variable assignments, the right-hand-side of the equation is always evaluated first (here: `my_number * 2`), before the result (here: `14`) is written into the variable named on the left-hand-side (`my_number`).<br>"
   ]
  },
  {
   "cell_type": "markdown",
   "metadata": {},
   "source": [
    "**Task:** \n",
    "1. Increase the value of the variable `age` by one, referring to the value in the variable itself when assigning the new value, and output the new value of the variable `age` as the second command in the same cell.\n",
    "2. Now rerun the cell repeatedly and observe the output.\n",
    "3. Change the cell such that the age always increases by two and run the cell repeatedly again."
   ]
  },
  {
   "cell_type": "markdown",
   "metadata": {},
   "source": [
    "## Shortcuts"
   ]
  },
  {
   "cell_type": "markdown",
   "metadata": {},
   "source": [
    "Instead of writing `my_number = my_number * 2`, you can use the shortcut `my_number *= 2`. Likewise, shortcuts exist for `+=`, `-=` and `/=`."
   ]
  },
  {
   "cell_type": "markdown",
   "metadata": {},
   "source": [
    "**Task:** \n",
    "Try out the shortcuts by increasing the `age` by 2, then multiplying the resulting age by 3, then decreasing the age by 4 and lastly dividing it by 5."
   ]
  },
  {
   "cell_type": "markdown",
   "metadata": {},
   "source": [
    "## Deleting cells and variables"
   ]
  },
  {
   "cell_type": "markdown",
   "metadata": {},
   "source": [
    "**Task:**\n",
    "1. Define a variable `x = 10`, execute the cell and delete the cell afterwards.\n",
    "2. Now try to output the value of the variable in a new cell. Does the variable still exist?\n",
    "3. Use the command `del x`. Does the variable still exist now?"
   ]
  },
  {
   "cell_type": "markdown",
   "metadata": {},
   "source": [
    "## Back to start and always straight ahead"
   ]
  },
  {
   "cell_type": "markdown",
   "metadata": {},
   "source": [
    "What you have noticed in the last couple of tasks is that Jupyter Notebooks work *interactively*:  \n",
    "You can execute cells in any order and even multiple times. You can change, move, delete, etc. the cells between executions as you like, without loosing or deleting your variables. This can be very handy, but it also carries risks, as it is easy to lose consistency and reproducibility. Therefore, Jupyter Notebooks should always be written in such a way that the cells end up giving the desired result by executing them each once from top to bottom."
   ]
  },
  {
   "cell_type": "markdown",
   "metadata": {},
   "source": [
    "**Task:** Click once on this cell here to select it and then click on 'Kernel' in the menu (top) and select 'Restart Kernel and Run up to Selected Cell...' to restart the kernel (thus forgetting all previous cell executions and variables) and run all cells up to this one in sequence. Observe what happens and fix any errors that might occur."
   ]
  },
  {
   "cell_type": "markdown",
   "metadata": {},
   "source": [
    "*Note:* With the double arrow button in the toolbar ('>>') you can likewise restart the kernel and run the entire notebook (i.e., not just up to the selected cell) from top to bottom."
   ]
  }
 ],
 "metadata": {
  "kernelspec": {
   "display_name": "Python 3 (ipykernel)",
   "language": "python",
   "name": "python3"
  },
  "language_info": {
   "codemirror_mode": {
    "name": "ipython",
    "version": 3
   },
   "file_extension": ".py",
   "mimetype": "text/x-python",
   "name": "python",
   "nbconvert_exporter": "python",
   "pygments_lexer": "ipython3",
   "version": "3.12.12"
  },
  "toc-autonumbering": false,
  "toc-showmarkdowntxt": false,
  "widgets": {
   "application/vnd.jupyter.widget-state+json": {
    "state": {},
    "version_major": 2,
    "version_minor": 0
   }
  }
 },
 "nbformat": 4,
 "nbformat_minor": 4
}
