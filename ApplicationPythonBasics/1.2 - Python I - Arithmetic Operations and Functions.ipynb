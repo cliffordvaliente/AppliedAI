{
 "cells": [
  {
   "cell_type": "markdown",
   "metadata": {
    "tags": []
   },
   "source": [
    "# Introduction to Python: Functions"
   ]
  },
  {
   "cell_type": "markdown",
   "metadata": {},
   "source": [
    "## All beginning is 'Hello World!'"
   ]
  },
  {
   "cell_type": "markdown",
   "metadata": {},
   "source": [
    "**Task:** Write your first Python code!\n",
    "1. Insert a new cell under this one\n",
    "2. Check that the cell type is set to `Code`\n",
    "3. Edit the cell and insert a command that outputs the text `Hello World!`\n",
    "4. Execute the cell\n",
    "\n",
    "*Note:* In the previous notebook, you already got to know a code with a function that outputs a text. Closely observe the syntax and function output there and try to replicate it."
   ]
  },
  {
   "cell_type": "code",
   "execution_count": 2,
   "metadata": {},
   "outputs": [
    {
     "name": "stdout",
     "output_type": "stream",
     "text": [
      "Hello World!\n"
     ]
    }
   ],
   "source": [
    "print(\"Hello World!\")"
   ]
  },
  {
   "cell_type": "markdown",
   "metadata": {
    "tags": []
   },
   "source": [
    "## Standard calculation operations"
   ]
  },
  {
   "cell_type": "markdown",
   "metadata": {},
   "source": [
    "Congratulations on your first Python code! Python can of course do much more than to simply output text.<br>\n",
    "**Task:** Have Python calculate the following calculations for you (you won't need any special functions):\n",
    "- 1+2\n",
    "- 3-4\n",
    "- 5*6\n",
    "- 7/8\n",
    "- 9^10"
   ]
  },
  {
   "cell_type": "markdown",
   "metadata": {},
   "source": [
    "Perform each calculation in a new cell:"
   ]
  },
  {
   "cell_type": "code",
   "execution_count": 8,
   "metadata": {},
   "outputs": [
    {
     "name": "stdout",
     "output_type": "stream",
     "text": [
      "3\n"
     ]
    }
   ],
   "source": [
    "print(1+2)"
   ]
  },
  {
   "cell_type": "code",
   "execution_count": 9,
   "metadata": {},
   "outputs": [
    {
     "name": "stdout",
     "output_type": "stream",
     "text": [
      "-1\n"
     ]
    }
   ],
   "source": [
    "print(3-4)"
   ]
  },
  {
   "cell_type": "code",
   "execution_count": 10,
   "metadata": {},
   "outputs": [
    {
     "name": "stdout",
     "output_type": "stream",
     "text": [
      "30\n"
     ]
    }
   ],
   "source": [
    "print(5*6)"
   ]
  },
  {
   "cell_type": "code",
   "execution_count": 11,
   "metadata": {},
   "outputs": [
    {
     "name": "stdout",
     "output_type": "stream",
     "text": [
      "0.875\n"
     ]
    }
   ],
   "source": [
    "print(7/8)"
   ]
  },
  {
   "cell_type": "code",
   "execution_count": 12,
   "metadata": {},
   "outputs": [
    {
     "name": "stdout",
     "output_type": "stream",
     "text": [
      "3\n"
     ]
    }
   ],
   "source": [
    "print(9^10)"
   ]
  },
  {
   "cell_type": "markdown",
   "metadata": {},
   "source": [
    "*Note:*<br>\n",
    "Check the calculation of **9^10** for correctness and if in doubt, use Google to find the correct power operator."
   ]
  },
  {
   "cell_type": "markdown",
   "metadata": {},
   "source": [
    "<div class=\"alert alert-block alert-success\">Now that you know about arithmetic operations, it's time to celebrate! And what party would be complete without a cake? Unfortunately you only have an American cookbook and all temperatures are in Fahrenheit.<br>\n",
    "    <strong>Task:</strong> Can you write a formular that converts 350° Fahrenheit into Celcius?</div>\n"
   ]
  },
  {
   "cell_type": "markdown",
   "metadata": {},
   "source": [
    "## All together"
   ]
  },
  {
   "cell_type": "markdown",
   "metadata": {},
   "source": [
    "You can write several Python commands, one in each line, in the same cell in Jupyter Notebooks. These will all be executed one after another, but only the result of the command in the last row of the cell will be shown as output by JupyterLab."
   ]
  },
  {
   "cell_type": "markdown",
   "metadata": {},
   "source": [
    "**Task:**\n",
    "1. Write all calculations from the previous task in the same cell (one calculation per line!) and execute them.\n",
    "2. Duplicate the whole cell and now use the `print()` function in each row to get the result of all calculations.<br>"
   ]
  },
  {
   "cell_type": "code",
   "execution_count": 13,
   "metadata": {},
   "outputs": [
    {
     "name": "stdout",
     "output_type": "stream",
     "text": [
      "3\n",
      "-1\n",
      "30\n",
      "0.875\n",
      "3\n"
     ]
    }
   ],
   "source": [
    "print(1+2)\n",
    "print(3-4)\n",
    "print(5*6)\n",
    "print(7/8)\n",
    "print(9^10)"
   ]
  },
  {
   "cell_type": "markdown",
   "metadata": {},
   "source": [
    "*Note:* Quotation marks are in the `print()` function only needed for text output."
   ]
  },
  {
   "cell_type": "markdown",
   "metadata": {},
   "source": [
    "## Print with context"
   ]
  },
  {
   "cell_type": "markdown",
   "metadata": {},
   "source": [
    "You can combine multiple texts (a.k.a. 'strings') together using `+`. To combine texts with calculations you can use the `str()` function to make a string out of the calculated results. With this, you can print more meaningful output. For example:\n",
    "```python\n",
    "print(\"1 + 2 = \" + str(1+2))\n",
    "```"
   ]
  },
  {
   "cell_type": "markdown",
   "metadata": {},
   "source": [
    "**Task**: Rewrite your calculations from the previous tasks to give them more context, like in the above example."
   ]
  },
  {
   "cell_type": "code",
   "execution_count": 18,
   "metadata": {},
   "outputs": [
    {
     "name": "stdout",
     "output_type": "stream",
     "text": [
      "1 + 2 = 3\n",
      "3 - 2 = -1\n",
      "5 * 6 = 30\n",
      "7/8= 0.875\n",
      "p^10 = 3\n"
     ]
    }
   ],
   "source": [
    "print(\"1 + 2 = \" + str(1+2))\n",
    "print(\"3 - 2 = \" + str(3-4))\n",
    "print(\"5 * 6 = \" + str(5*6))\n",
    "print(\"7/8= \" + str(7/8))\n",
    "print(\"p^10 = \" + str(9^10))\n"
   ]
  },
  {
   "cell_type": "markdown",
   "metadata": {},
   "source": [
    "*Note*: We will later learn an even more powerful way of combining texts and calculations (or variables), called the f-strings. Stay tuned!"
   ]
  },
  {
   "cell_type": "markdown",
   "metadata": {},
   "source": [
    "## Built-In Functions"
   ]
  },
  {
   "cell_type": "markdown",
   "metadata": {},
   "source": [
    "Functions always have a *function name* followed by *round brackets* containing the *function arguments*.<br>\n",
    "You have already met two functions: `print(...)` and `str(...)` and even used the two in combination. The *function names* are `print` and `str`. The *argument* passed to the function is in the round brackets (in our case this was the text \"Hello World!\" or \"1 + 2 = \" or a calculation, e.g. 1+2, as in the last task)."
   ]
  },
  {
   "cell_type": "markdown",
   "metadata": {},
   "source": [
    "Python has a few *built-in functions* that are directly available to you: https://docs.python.org/3/library/functions.html.<br>\n",
    "**Task:** Find a function for rounding decimals and use it to round 4.73 up to 5."
   ]
  },
  {
   "cell_type": "code",
   "execution_count": 19,
   "metadata": {},
   "outputs": [
    {
     "data": {
      "text/plain": [
       "5"
      ]
     },
     "execution_count": 19,
     "metadata": {},
     "output_type": "execute_result"
    }
   ],
   "source": [
    "round(4.73)"
   ]
  },
  {
   "cell_type": "markdown",
   "metadata": {},
   "source": [
    "*Note:* The decimal separator of a number must always be represented by a dot `.` in Python, i.e., 4.73 instead of 4,73."
   ]
  },
  {
   "cell_type": "markdown",
   "metadata": {},
   "source": [
    "<div class=\"alert alert-block alert-success\">With exactly the right temperature, your cake turned out great! Now it's time to take care of the drinks. Everyone from today's exercise will be invited and you are planning for about 4 drinks per person. Unfortunately, your favorite lemonade only comes in packs of six.<br>\n",
    "    <strong>Task:</strong> Using the round function, can you calculate how many 6-packs you would need to buy, s.t. everyone invited could have about 4 drinks?</div>\n"
   ]
  },
  {
   "cell_type": "markdown",
   "metadata": {
    "tags": []
   },
   "source": [
    "## Help?!"
   ]
  },
  {
   "cell_type": "markdown",
   "metadata": {},
   "source": [
    "You are unsure about the syntax of a function? No problem! Python functions come with built-in *documentation*. Just write the function name with a question mark (`?`) behind it (i.e., without round brackets and function arguments) and execute this command."
   ]
  },
  {
   "cell_type": "markdown",
   "metadata": {},
   "source": [
    "**Task:** Get the documentation of the `abs` function."
   ]
  },
  {
   "cell_type": "code",
   "execution_count": 28,
   "metadata": {},
   "outputs": [
    {
     "data": {
      "text/plain": [
       "\u001b[31mSignature:\u001b[39m abs(x, /)\n",
       "\u001b[31mDocstring:\u001b[39m Return the absolute value of the argument.\n",
       "\u001b[31mType:\u001b[39m      builtin_function_or_method"
      ]
     },
     "metadata": {},
     "output_type": "display_data"
    }
   ],
   "source": [
    "abs?"
   ]
  },
  {
   "cell_type": "markdown",
   "metadata": {},
   "source": [
    "In JupyterLab you can also use `Shift+Tab` when your cursor (i.e., your mouse pointer when you are in write mode) is on or in a function to show the documentation.<br>"
   ]
  },
  {
   "cell_type": "markdown",
   "metadata": {},
   "source": [
    "**Task:** Have the documentation of the `round` function displayed with `Shift+Tab`."
   ]
  },
  {
   "cell_type": "code",
   "execution_count": 32,
   "metadata": {},
   "outputs": [
    {
     "data": {
      "text/plain": [
       "\u001b[31mSignature:\u001b[39m round(number, ndigits=\u001b[38;5;28;01mNone\u001b[39;00m)\n",
       "\u001b[31mDocstring:\u001b[39m\n",
       "Round a number to a given precision in decimal digits.\n",
       "\n",
       "The return value is an integer if ndigits is omitted or None.  Otherwise\n",
       "the return value has the same type as the number.  ndigits may be negative.\n",
       "\u001b[31mType:\u001b[39m      builtin_function_or_method"
      ]
     },
     "metadata": {},
     "output_type": "display_data"
    }
   ],
   "source": [
    "round?"
   ]
  },
  {
   "cell_type": "markdown",
   "metadata": {},
   "source": [
    "*Note:* The `Tab` key is located on the far left, two keys above the left `Shift` key.<br>"
   ]
  },
  {
   "cell_type": "markdown",
   "metadata": {},
   "source": [
    "## Functions with multiple arguments"
   ]
  },
  {
   "cell_type": "markdown",
   "metadata": {},
   "source": [
    "So far you have always used functions with only one argument. However, functions can also have several arguments, which are then separated by a comma `,`."
   ]
  },
  {
   "cell_type": "markdown",
   "metadata": {},
   "source": [
    "**Task:** Use the `max` function to get the maximum of the *three* numbers -3, 5 and 10.4."
   ]
  },
  {
   "cell_type": "code",
   "execution_count": 37,
   "metadata": {},
   "outputs": [
    {
     "data": {
      "text/plain": [
       "10.4"
      ]
     },
     "execution_count": 37,
     "metadata": {},
     "output_type": "execute_result"
    }
   ],
   "source": [
    "max(-3,5,10.4)"
   ]
  },
  {
   "cell_type": "markdown",
   "metadata": {},
   "source": [
    "*Note:* If 10 comes out (instead of 10.4) you probably did not represent the decimal separator as a dot `.`."
   ]
  },
  {
   "cell_type": "markdown",
   "metadata": {},
   "source": [
    "## Libraries"
   ]
  },
  {
   "cell_type": "markdown",
   "metadata": {},
   "source": [
    "You might have already noticed that the number of 'built-in functions' is quite small. But this is not a problem: so called *libraries* offer you an incredibly wide range of additional functions, constants and classes. To import libraries, use `import [name of library]` (replacing '[name of library]' by the actual name of the library without square brackets). You can then access the functions of the library with `[name of library].[name of function]`. For example:\n",
    "```python\n",
    "import foo\n",
    "foo.bar()\n",
    "```\n",
    "for a library called `foo` and a function within the foo library called `bar`."
   ]
  },
  {
   "cell_type": "markdown",
   "metadata": {},
   "source": [
    "*Note:* 'foo' and 'bar' are commonly used placeholder names in programming."
   ]
  },
  {
   "cell_type": "markdown",
   "metadata": {},
   "source": [
    "**Task:** Import the `math` library and find out how to calculate the following expressions:\n",
    "- $\\sqrt{37249}$\n",
    "- $\\log_2(8)$^\n",
    "- $\\sin(\\pi/4)$\n",
    "- $\\binom{7}{5}$ (Binomial coefficient: number of possibilities to draw $5$ objects from a set of $7$ objects)\n",
    "- $\\Gamma^2(0.5)$ (The square of the gamma function of 0.5)\n",
    "\n",
    "The documentation of the `math` library can be found here: https://docs.python.org/3/library/math.html"
   ]
  },
  {
   "cell_type": "code",
   "execution_count": 63,
   "metadata": {},
   "outputs": [],
   "source": [
    "import math"
   ]
  },
  {
   "cell_type": "code",
   "execution_count": 64,
   "metadata": {},
   "outputs": [
    {
     "data": {
      "text/plain": [
       "193"
      ]
     },
     "execution_count": 64,
     "metadata": {},
     "output_type": "execute_result"
    }
   ],
   "source": [
    "math.isqrt(37249)"
   ]
  },
  {
   "cell_type": "code",
   "execution_count": 61,
   "metadata": {},
   "outputs": [
    {
     "data": {
      "text/plain": [
       "3.0"
      ]
     },
     "execution_count": 61,
     "metadata": {},
     "output_type": "execute_result"
    }
   ],
   "source": [
    "math.log2(8)"
   ]
  },
  {
   "cell_type": "code",
   "execution_count": 69,
   "metadata": {},
   "outputs": [
    {
     "data": {
      "text/plain": [
       "0.7071067811865475"
      ]
     },
     "execution_count": 69,
     "metadata": {},
     "output_type": "execute_result"
    }
   ],
   "source": [
    "math.sin(math.pi/4)"
   ]
  },
  {
   "cell_type": "code",
   "execution_count": 70,
   "metadata": {},
   "outputs": [
    {
     "data": {
      "text/plain": [
       "21"
      ]
     },
     "execution_count": 70,
     "metadata": {},
     "output_type": "execute_result"
    }
   ],
   "source": [
    "math.comb(7, 5)"
   ]
  },
  {
   "cell_type": "code",
   "execution_count": 73,
   "metadata": {},
   "outputs": [
    {
     "data": {
      "text/plain": [
       "3.1415926535897927"
      ]
     },
     "execution_count": 73,
     "metadata": {},
     "output_type": "execute_result"
    }
   ],
   "source": [
    "math.gamma(0.5)**2"
   ]
  },
  {
   "cell_type": "markdown",
   "metadata": {},
   "source": [
    "*Note:* You need to import libraries only once to be able to use them in all following commands/cells afterwards. However, be sure to execute the cell with the `import` statement as well!"
   ]
  },
  {
   "cell_type": "markdown",
   "metadata": {},
   "source": [
    "<div class=\"alert alert-block alert-success\">Your party is a blast: cake, lemonade, all that's missing is some pizza! You order a big family pizza that arrives being cut into 6x9 square pieces.<br>\n",
    "    <strong>Task:</strong> Using the math library, calculate how many whole pieces everyone from today's exercise would get. Can you also calculate how many pieces would be remaining for sharing?</div>"
   ]
  },
  {
   "cell_type": "code",
   "execution_count": 88,
   "metadata": {},
   "outputs": [
    {
     "name": "stdout",
     "output_type": "stream",
     "text": [
      "Each person gets 13 whole pieces\n",
      "There are 2 pieces remaining for sharing\n"
     ]
    }
   ],
   "source": [
    "import math\n",
    "\n",
    "totalpiece = 6 * 9\n",
    "totalpeople = 4\n",
    "# use floor to get the nearest whole number\n",
    "piecesperpers = math.floor(totalpiece / totalpeople)\n",
    "remaining = totalpiece % totalpeople\n",
    "print(f\"Each person gets {piecesperpers} whole pieces\")\n",
    "print(f\"There are {remaining} pieces remaining for sharing\")"
   ]
  },
  {
   "cell_type": "code",
   "execution_count": null,
   "metadata": {},
   "outputs": [],
   "source": []
  }
 ],
 "metadata": {
  "kernelspec": {
   "display_name": "Python 3 (ipykernel)",
   "language": "python",
   "name": "python3"
  },
  "language_info": {
   "codemirror_mode": {
    "name": "ipython",
    "version": 3
   },
   "file_extension": ".py",
   "mimetype": "text/x-python",
   "name": "python",
   "nbconvert_exporter": "python",
   "pygments_lexer": "ipython3",
   "version": "3.12.12"
  },
  "toc-autonumbering": false,
  "toc-showmarkdowntxt": false,
  "widgets": {
   "application/vnd.jupyter.widget-state+json": {
    "state": {},
    "version_major": 2,
    "version_minor": 0
   }
  }
 },
 "nbformat": 4,
 "nbformat_minor": 4
}
